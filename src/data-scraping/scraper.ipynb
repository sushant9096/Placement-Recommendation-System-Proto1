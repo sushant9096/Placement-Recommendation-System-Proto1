{
 "cells": [
  {
   "cell_type": "code",
   "execution_count": 27,
   "id": "239e88de",
   "metadata": {},
   "outputs": [],
   "source": [
    "# !pip install selenium pandas"
   ]
  },
  {
   "cell_type": "code",
   "execution_count": 28,
   "id": "5a5c5360",
   "metadata": {},
   "outputs": [],
   "source": [
    "import pandas as pd\n",
    "from selenium import webdriver\n",
    "from selenium.common.exceptions import NoSuchElementException\n",
    "import re\n",
    "\n",
    "import warnings\n",
    "\n",
    "warnings.filterwarnings('ignore')"
   ]
  },
  {
   "cell_type": "code",
   "execution_count": 29,
   "id": "04486d36",
   "metadata": {},
   "outputs": [],
   "source": [
    "driver = webdriver.Firefox()"
   ]
  },
  {
   "cell_type": "code",
   "execution_count": 30,
   "id": "c8f8e401",
   "metadata": {},
   "outputs": [],
   "source": [
    "driver.implicitly_wait(0.5)"
   ]
  },
  {
   "cell_type": "code",
   "execution_count": 31,
   "id": "6cf56e7c",
   "metadata": {},
   "outputs": [],
   "source": [
    "# driver.get('https://www.naukri.com/jobs-in-all')"
   ]
  },
  {
   "cell_type": "code",
   "execution_count": 32,
   "id": "271a463f",
   "metadata": {},
   "outputs": [],
   "source": [
    "# # enter job role - data scientist\n",
    "# role=driver.find_element(By.XPATH,'/html/body/div/div[2]/div[3]/div/div/div[1]/div/div/div/input')\n",
    "# role.send_keys('data scientist')\n",
    "\n",
    "# # location - India\n",
    "# location=driver.find_element(By.XPATH,'/html/body/div/div[2]/div[3]/div/div/div[3]/div/div/div/input')\n",
    "# location.send_keys('india')\n",
    "\n",
    "# # click search\n",
    "# driver.find_element_by_class_name('qsbSubmit').click()"
   ]
  },
  {
   "cell_type": "code",
   "execution_count": 33,
   "id": "9ceef764",
   "metadata": {},
   "outputs": [
    {
     "name": "stderr",
     "output_type": "stream",
     "text": [
      "  0%|          | 0/500 [00:00<?, ?it/s]"
     ]
    },
    {
     "name": "stdout",
     "output_type": "stream",
     "text": [
      "1 : Not Found\n",
      "2 : Not Found\n",
      "3 : Not Found\n"
     ]
    },
    {
     "name": "stderr",
     "output_type": "stream",
     "text": [
      "  0%|          | 1/500 [00:04<37:43,  4.54s/it]"
     ]
    },
    {
     "name": "stdout",
     "output_type": "stream",
     "text": [
      "1 : Not Found\n",
      "2 : Not Found\n",
      "3 : Not Found\n",
      "4 : Not Found\n"
     ]
    },
    {
     "name": "stderr",
     "output_type": "stream",
     "text": [
      "  0%|          | 2/500 [00:08<33:56,  4.09s/it]"
     ]
    },
    {
     "name": "stdout",
     "output_type": "stream",
     "text": [
      "1 : Not Found\n",
      "2 : Not Found\n",
      "3 : Not Found\n",
      "4 : Not Found\n"
     ]
    },
    {
     "name": "stderr",
     "output_type": "stream",
     "text": [
      "  1%|          | 3/500 [00:12<32:54,  3.97s/it]"
     ]
    },
    {
     "name": "stdout",
     "output_type": "stream",
     "text": [
      "1 : Not Found\n",
      "2 : Not Found\n",
      "3 : Not Found\n",
      "4 : Not Found\n"
     ]
    },
    {
     "name": "stderr",
     "output_type": "stream",
     "text": [
      "  1%|          | 4/500 [00:15<32:04,  3.88s/it]"
     ]
    },
    {
     "name": "stdout",
     "output_type": "stream",
     "text": [
      "1 : Not Found\n",
      "2 : Not Found\n",
      "3 : Not Found\n",
      "4 : Not Found\n"
     ]
    },
    {
     "name": "stderr",
     "output_type": "stream",
     "text": [
      "  1%|          | 5/500 [00:19<32:03,  3.89s/it]"
     ]
    },
    {
     "name": "stdout",
     "output_type": "stream",
     "text": [
      "1 : Not Found\n",
      "2 : Not Found\n",
      "3 : Not Found\n",
      "4 : Not Found\n",
      "6 : Not Found\n",
      "13 : Not Found\n"
     ]
    },
    {
     "name": "stderr",
     "output_type": "stream",
     "text": [
      "  1%|          | 6/500 [00:24<34:09,  4.15s/it]"
     ]
    },
    {
     "name": "stdout",
     "output_type": "stream",
     "text": [
      "1 : Not Found\n",
      "2 : Not Found\n",
      "3 : Not Found\n",
      "13 : Not Found\n"
     ]
    },
    {
     "name": "stderr",
     "output_type": "stream",
     "text": [
      "  1%|▏         | 7/500 [00:28<35:05,  4.27s/it]"
     ]
    },
    {
     "name": "stdout",
     "output_type": "stream",
     "text": [
      "1 : Not Found\n",
      "2 : Not Found\n",
      "3 : Not Found\n",
      "4 : Not Found\n"
     ]
    },
    {
     "name": "stderr",
     "output_type": "stream",
     "text": [
      "  2%|▏         | 8/500 [00:32<34:02,  4.15s/it]"
     ]
    },
    {
     "name": "stdout",
     "output_type": "stream",
     "text": [
      "1 : Not Found\n",
      "2 : Not Found\n",
      "3 : Not Found\n"
     ]
    },
    {
     "name": "stderr",
     "output_type": "stream",
     "text": [
      "  2%|▏         | 9/500 [00:36<32:25,  3.96s/it]"
     ]
    },
    {
     "name": "stdout",
     "output_type": "stream",
     "text": [
      "1 : Not Found\n",
      "2 : Not Found\n",
      "3 : Not Found\n",
      "4 : Not Found\n",
      "8 : Not Found\n"
     ]
    },
    {
     "name": "stderr",
     "output_type": "stream",
     "text": [
      "  2%|▏         | 10/500 [00:41<34:16,  4.20s/it]"
     ]
    },
    {
     "name": "stdout",
     "output_type": "stream",
     "text": [
      "20 : Not Found\n",
      "1 : Not Found\n",
      "2 : Not Found\n",
      "3 : Not Found\n",
      "4 : Not Found\n",
      "5 : Not Found\n"
     ]
    },
    {
     "name": "stderr",
     "output_type": "stream",
     "text": [
      "  2%|▏         | 11/500 [00:45<34:51,  4.28s/it]"
     ]
    },
    {
     "name": "stdout",
     "output_type": "stream",
     "text": [
      "1 : Not Found\n",
      "2 : Not Found\n",
      "3 : Not Found\n",
      "4 : Not Found\n",
      "5 : Not Found\n",
      "6 : Not Found\n",
      "14 : Not Found\n"
     ]
    },
    {
     "name": "stderr",
     "output_type": "stream",
     "text": [
      "  2%|▏         | 12/500 [00:51<38:33,  4.74s/it]"
     ]
    },
    {
     "name": "stdout",
     "output_type": "stream",
     "text": [
      "20 : Not Found\n",
      "1 : Not Found\n",
      "2 : Not Found\n",
      "3 : Not Found\n"
     ]
    },
    {
     "name": "stderr",
     "output_type": "stream",
     "text": [
      "  3%|▎         | 13/500 [00:54<35:21,  4.36s/it]"
     ]
    },
    {
     "name": "stdout",
     "output_type": "stream",
     "text": [
      "1 : Not Found\n",
      "2 : Not Found\n",
      "3 : Not Found\n",
      "4 : Not Found\n",
      "18 : Not Found\n",
      "19 : Not Found\n"
     ]
    },
    {
     "name": "stderr",
     "output_type": "stream",
     "text": [
      "  3%|▎         | 14/500 [00:59<36:53,  4.55s/it]"
     ]
    },
    {
     "name": "stdout",
     "output_type": "stream",
     "text": [
      "20 : Not Found\n",
      "1 : Not Found\n",
      "2 : Not Found\n",
      "3 : Not Found\n",
      "4 : Not Found\n",
      "7 : Not Found\n"
     ]
    },
    {
     "name": "stderr",
     "output_type": "stream",
     "text": [
      "  3%|▎         | 15/500 [01:04<35:59,  4.45s/it]"
     ]
    },
    {
     "name": "stdout",
     "output_type": "stream",
     "text": [
      "1 : Not Found\n",
      "2 : Not Found\n",
      "3 : Not Found\n",
      "4 : Not Found\n",
      "7 : Not Found\n",
      "8 : Not Found\n"
     ]
    },
    {
     "name": "stderr",
     "output_type": "stream",
     "text": [
      "  3%|▎         | 16/500 [01:09<37:10,  4.61s/it]"
     ]
    },
    {
     "name": "stdout",
     "output_type": "stream",
     "text": [
      "1 : Not Found\n",
      "2 : Not Found\n",
      "3 : Not Found\n",
      "4 : Not Found\n"
     ]
    },
    {
     "name": "stderr",
     "output_type": "stream",
     "text": [
      "  3%|▎         | 17/500 [01:12<35:06,  4.36s/it]"
     ]
    },
    {
     "name": "stdout",
     "output_type": "stream",
     "text": [
      "1 : Not Found\n",
      "2 : Not Found\n",
      "3 : Not Found\n"
     ]
    },
    {
     "name": "stderr",
     "output_type": "stream",
     "text": [
      "  4%|▎         | 18/500 [01:16<33:58,  4.23s/it]"
     ]
    },
    {
     "name": "stdout",
     "output_type": "stream",
     "text": [
      "20 : Not Found\n",
      "1 : Not Found\n",
      "2 : Not Found\n",
      "3 : Not Found\n",
      "4 : Not Found\n"
     ]
    },
    {
     "name": "stderr",
     "output_type": "stream",
     "text": [
      "  4%|▍         | 19/500 [01:20<33:09,  4.14s/it]"
     ]
    },
    {
     "name": "stdout",
     "output_type": "stream",
     "text": [
      "1 : Not Found\n",
      "2 : Not Found\n",
      "3 : Not Found\n",
      "4 : Not Found\n"
     ]
    },
    {
     "name": "stderr",
     "output_type": "stream",
     "text": [
      "  4%|▍         | 20/500 [01:25<33:48,  4.23s/it]"
     ]
    },
    {
     "name": "stdout",
     "output_type": "stream",
     "text": [
      "20 : Not Found\n",
      "1 : Not Found\n",
      "2 : Not Found\n",
      "3 : Not Found\n",
      "5 : Not Found\n"
     ]
    },
    {
     "name": "stderr",
     "output_type": "stream",
     "text": [
      "  4%|▍         | 21/500 [01:29<33:19,  4.17s/it]"
     ]
    },
    {
     "name": "stdout",
     "output_type": "stream",
     "text": [
      "1 : Not Found\n",
      "2 : Not Found\n",
      "3 : Not Found\n",
      "4 : Not Found\n",
      "12 : Not Found\n",
      "14 : Not Found\n"
     ]
    },
    {
     "name": "stderr",
     "output_type": "stream",
     "text": [
      "  4%|▍         | 22/500 [01:33<34:11,  4.29s/it]"
     ]
    },
    {
     "name": "stdout",
     "output_type": "stream",
     "text": [
      "1 : Not Found\n",
      "2 : Not Found\n",
      "3 : Not Found\n",
      "4 : Not Found\n",
      "5 : Not Found\n",
      "10 : Not Found\n",
      "12 : Not Found\n",
      "16 : Not Found\n",
      "17 : Not Found\n"
     ]
    },
    {
     "name": "stderr",
     "output_type": "stream",
     "text": [
      "  5%|▍         | 23/500 [01:40<39:49,  5.01s/it]"
     ]
    },
    {
     "name": "stdout",
     "output_type": "stream",
     "text": [
      "20 : Not Found\n",
      "1 : Not Found\n",
      "2 : Not Found\n",
      "3 : Not Found\n",
      "4 : Not Found\n"
     ]
    },
    {
     "name": "stderr",
     "output_type": "stream",
     "text": [
      "  5%|▍         | 24/500 [01:44<36:29,  4.60s/it]"
     ]
    },
    {
     "name": "stdout",
     "output_type": "stream",
     "text": [
      "1 : Not Found\n",
      "2 : Not Found\n",
      "3 : Not Found\n",
      "4 : Not Found\n",
      "5 : Not Found\n",
      "12 : Not Found\n",
      "13 : Not Found\n",
      "14 : Not Found\n"
     ]
    },
    {
     "name": "stderr",
     "output_type": "stream",
     "text": [
      "  5%|▌         | 25/500 [01:49<38:34,  4.87s/it]"
     ]
    },
    {
     "name": "stdout",
     "output_type": "stream",
     "text": [
      "1 : Not Found\n",
      "2 : Not Found\n",
      "3 : Not Found\n",
      "4 : Not Found\n"
     ]
    },
    {
     "name": "stderr",
     "output_type": "stream",
     "text": [
      "  5%|▌         | 26/500 [01:53<35:26,  4.49s/it]"
     ]
    },
    {
     "name": "stdout",
     "output_type": "stream",
     "text": [
      "1 : Not Found\n",
      "2 : Not Found\n",
      "3 : Not Found\n",
      "4 : Not Found\n"
     ]
    },
    {
     "name": "stderr",
     "output_type": "stream",
     "text": [
      "  5%|▌         | 27/500 [01:57<34:19,  4.35s/it]"
     ]
    },
    {
     "name": "stdout",
     "output_type": "stream",
     "text": [
      "17 : Not Found\n",
      "1 : Not Found\n",
      "2 : Not Found\n",
      "3 : Not Found\n"
     ]
    },
    {
     "name": "stderr",
     "output_type": "stream",
     "text": [
      "  6%|▌         | 28/500 [02:00<32:31,  4.13s/it]"
     ]
    },
    {
     "name": "stdout",
     "output_type": "stream",
     "text": [
      "1 : Not Found\n",
      "2 : Not Found\n",
      "3 : Not Found\n",
      "4 : Not Found\n"
     ]
    },
    {
     "name": "stderr",
     "output_type": "stream",
     "text": [
      "  6%|▌         | 29/500 [02:05<32:53,  4.19s/it]"
     ]
    },
    {
     "name": "stdout",
     "output_type": "stream",
     "text": [
      "17 : Not Found\n",
      "1 : Not Found\n",
      "2 : Not Found\n",
      "3 : Not Found\n",
      "4 : Not Found\n"
     ]
    },
    {
     "name": "stderr",
     "output_type": "stream",
     "text": [
      "  6%|▌         | 30/500 [02:09<33:45,  4.31s/it]"
     ]
    },
    {
     "name": "stdout",
     "output_type": "stream",
     "text": [
      "18 : Not Found\n",
      "1 : Not Found\n",
      "2 : Not Found\n",
      "3 : Not Found\n",
      "4 : Not Found\n"
     ]
    },
    {
     "name": "stderr",
     "output_type": "stream",
     "text": [
      "  6%|▌         | 31/500 [02:14<34:17,  4.39s/it]"
     ]
    },
    {
     "name": "stdout",
     "output_type": "stream",
     "text": [
      "15 : Not Found\n",
      "1 : Not Found\n",
      "2 : Not Found\n",
      "3 : Not Found\n",
      "4 : Not Found\n"
     ]
    },
    {
     "name": "stderr",
     "output_type": "stream",
     "text": [
      "  6%|▋         | 32/500 [02:18<33:16,  4.27s/it]"
     ]
    },
    {
     "name": "stdout",
     "output_type": "stream",
     "text": [
      "1 : Not Found\n",
      "2 : Not Found\n",
      "3 : Not Found\n",
      "4 : Not Found\n",
      "5 : Not Found\n",
      "9 : Not Found\n",
      "10 : Not Found\n",
      "13 : Not Found\n",
      "14 : Not Found\n"
     ]
    },
    {
     "name": "stderr",
     "output_type": "stream",
     "text": [
      "  7%|▋         | 33/500 [02:24<37:30,  4.82s/it]"
     ]
    },
    {
     "name": "stdout",
     "output_type": "stream",
     "text": [
      "1 : Not Found\n",
      "2 : Not Found\n",
      "3 : Not Found\n",
      "4 : Not Found\n",
      "5 : Not Found\n"
     ]
    },
    {
     "name": "stderr",
     "output_type": "stream",
     "text": [
      "  7%|▋         | 34/500 [02:28<36:15,  4.67s/it]"
     ]
    },
    {
     "name": "stdout",
     "output_type": "stream",
     "text": [
      "1 : Not Found\n",
      "2 : Not Found\n",
      "3 : Not Found\n",
      "4 : Not Found\n",
      "18 : Not Found\n"
     ]
    },
    {
     "name": "stderr",
     "output_type": "stream",
     "text": [
      "  7%|▋         | 35/500 [02:33<37:06,  4.79s/it]"
     ]
    },
    {
     "name": "stdout",
     "output_type": "stream",
     "text": [
      "20 : Not Found\n",
      "1 : Not Found\n",
      "2 : Not Found\n",
      "3 : Not Found\n",
      "4 : Not Found\n"
     ]
    },
    {
     "name": "stderr",
     "output_type": "stream",
     "text": [
      "  7%|▋         | 36/500 [02:38<36:28,  4.72s/it]"
     ]
    },
    {
     "name": "stdout",
     "output_type": "stream",
     "text": [
      "19 : Not Found\n",
      "1 : Not Found\n",
      "2 : Not Found\n",
      "3 : Not Found\n",
      "4 : Not Found\n"
     ]
    },
    {
     "name": "stderr",
     "output_type": "stream",
     "text": [
      "  7%|▋         | 37/500 [02:42<34:21,  4.45s/it]"
     ]
    },
    {
     "name": "stdout",
     "output_type": "stream",
     "text": [
      "1 : Not Found\n",
      "2 : Not Found\n",
      "3 : Not Found\n",
      "4 : Not Found\n",
      "6 : Not Found\n"
     ]
    },
    {
     "name": "stderr",
     "output_type": "stream",
     "text": [
      "  8%|▊         | 38/500 [02:47<35:09,  4.57s/it]"
     ]
    },
    {
     "name": "stdout",
     "output_type": "stream",
     "text": [
      "20 : Not Found\n",
      "1 : Not Found\n",
      "2 : Not Found\n",
      "3 : Not Found\n",
      "4 : Not Found\n",
      "15 : Not Found\n"
     ]
    },
    {
     "name": "stderr",
     "output_type": "stream",
     "text": [
      "  8%|▊         | 39/500 [02:51<34:51,  4.54s/it]"
     ]
    },
    {
     "name": "stdout",
     "output_type": "stream",
     "text": [
      "1 : Not Found\n",
      "2 : Not Found\n",
      "3 : Not Found\n",
      "5 : Not Found\n",
      "7 : Not Found\n",
      "8 : Not Found\n",
      "11 : Not Found\n",
      "17 : Not Found\n"
     ]
    },
    {
     "name": "stderr",
     "output_type": "stream",
     "text": [
      "  8%|▊         | 40/500 [02:57<38:37,  5.04s/it]"
     ]
    },
    {
     "name": "stdout",
     "output_type": "stream",
     "text": [
      "20 : Not Found\n",
      "1 : Not Found\n",
      "2 : Not Found\n",
      "3 : Not Found\n",
      "4 : Not Found\n",
      "5 : Not Found\n",
      "6 : Not Found\n"
     ]
    },
    {
     "name": "stderr",
     "output_type": "stream",
     "text": [
      "  8%|▊         | 41/500 [03:02<38:39,  5.05s/it]"
     ]
    },
    {
     "name": "stdout",
     "output_type": "stream",
     "text": [
      "1 : Not Found\n",
      "2 : Not Found\n",
      "3 : Not Found\n",
      "4 : Not Found\n",
      "17 : Not Found\n",
      "18 : Not Found\n"
     ]
    },
    {
     "name": "stderr",
     "output_type": "stream",
     "text": [
      "  8%|▊         | 42/500 [03:08<39:14,  5.14s/it]"
     ]
    },
    {
     "name": "stdout",
     "output_type": "stream",
     "text": [
      "19 : Not Found\n",
      "1 : Not Found\n",
      "2 : Not Found\n",
      "3 : Not Found\n",
      "5 : Not Found\n",
      "9 : Not Found\n",
      "16 : Not Found\n"
     ]
    },
    {
     "name": "stderr",
     "output_type": "stream",
     "text": [
      "  9%|▊         | 43/500 [03:13<39:51,  5.23s/it]"
     ]
    },
    {
     "name": "stdout",
     "output_type": "stream",
     "text": [
      "20 : Not Found\n",
      "1 : Not Found\n",
      "2 : Not Found\n",
      "3 : Not Found\n",
      "4 : Not Found\n",
      "14 : Not Found\n"
     ]
    },
    {
     "name": "stderr",
     "output_type": "stream",
     "text": [
      "  9%|▉         | 44/500 [03:17<37:53,  4.99s/it]"
     ]
    },
    {
     "name": "stdout",
     "output_type": "stream",
     "text": [
      "1 : Not Found\n",
      "2 : Not Found\n",
      "3 : Not Found\n",
      "4 : Not Found\n",
      "14 : Not Found\n"
     ]
    },
    {
     "name": "stderr",
     "output_type": "stream",
     "text": [
      "  9%|▉         | 45/500 [03:22<37:40,  4.97s/it]"
     ]
    },
    {
     "name": "stdout",
     "output_type": "stream",
     "text": [
      "16 : Not Found\n",
      "1 : Not Found\n",
      "2 : Not Found\n",
      "3 : Not Found\n",
      "4 : Not Found\n"
     ]
    },
    {
     "name": "stderr",
     "output_type": "stream",
     "text": [
      "  9%|▉         | 46/500 [03:26<34:43,  4.59s/it]"
     ]
    },
    {
     "name": "stdout",
     "output_type": "stream",
     "text": [
      "1 : Not Found\n",
      "2 : Not Found\n",
      "3 : Not Found\n"
     ]
    },
    {
     "name": "stderr",
     "output_type": "stream",
     "text": [
      "  9%|▉         | 47/500 [03:30<31:59,  4.24s/it]"
     ]
    },
    {
     "name": "stdout",
     "output_type": "stream",
     "text": [
      "1 : Not Found\n",
      "2 : Not Found\n",
      "3 : Not Found\n",
      "4 : Not Found\n"
     ]
    },
    {
     "name": "stderr",
     "output_type": "stream",
     "text": [
      " 10%|▉         | 48/500 [03:33<31:05,  4.13s/it]"
     ]
    },
    {
     "name": "stdout",
     "output_type": "stream",
     "text": [
      "1 : Not Found\n",
      "2 : Not Found\n",
      "3 : Not Found\n",
      "4 : Not Found\n"
     ]
    },
    {
     "name": "stderr",
     "output_type": "stream",
     "text": [
      " 10%|▉         | 49/500 [03:37<30:42,  4.08s/it]"
     ]
    },
    {
     "name": "stdout",
     "output_type": "stream",
     "text": [
      "1 : Not Found\n",
      "2 : Not Found\n",
      "3 : Not Found\n",
      "4 : Not Found\n",
      "11 : Not Found\n",
      "13 : Not Found\n"
     ]
    },
    {
     "name": "stderr",
     "output_type": "stream",
     "text": [
      " 10%|█         | 50/500 [03:42<32:49,  4.38s/it]"
     ]
    },
    {
     "name": "stdout",
     "output_type": "stream",
     "text": [
      "16 : Not Found\n",
      "1 : Not Found\n",
      "2 : Not Found\n",
      "3 : Not Found\n",
      "4 : Not Found\n"
     ]
    },
    {
     "name": "stderr",
     "output_type": "stream",
     "text": [
      " 10%|█         | 51/500 [03:47<32:07,  4.29s/it]"
     ]
    },
    {
     "name": "stdout",
     "output_type": "stream",
     "text": [
      "1 : Not Found\n",
      "2 : Not Found\n",
      "3 : Not Found\n",
      "5 : Not Found\n",
      "17 : Not Found\n"
     ]
    },
    {
     "name": "stderr",
     "output_type": "stream",
     "text": [
      " 10%|█         | 52/500 [03:52<33:52,  4.54s/it]"
     ]
    },
    {
     "name": "stdout",
     "output_type": "stream",
     "text": [
      "19 : Not Found\n",
      "1 : Not Found\n",
      "2 : Not Found\n",
      "3 : Not Found\n",
      "4 : Not Found\n",
      "12 : Not Found\n",
      "13 : Not Found\n",
      "14 : Not Found\n",
      "16 : Not Found\n",
      "17 : Not Found\n",
      "19 : Not Found\n"
     ]
    },
    {
     "name": "stderr",
     "output_type": "stream",
     "text": [
      " 11%|█         | 53/500 [03:59<39:40,  5.32s/it]"
     ]
    },
    {
     "name": "stdout",
     "output_type": "stream",
     "text": [
      "20 : Not Found\n",
      "1 : Not Found\n",
      "2 : Not Found\n",
      "3 : Not Found\n",
      "5 : Not Found\n"
     ]
    },
    {
     "name": "stderr",
     "output_type": "stream",
     "text": [
      " 11%|█         | 54/500 [04:03<37:54,  5.10s/it]"
     ]
    },
    {
     "name": "stdout",
     "output_type": "stream",
     "text": [
      "20 : Not Found\n",
      "1 : Not Found\n",
      "2 : Not Found\n",
      "3 : Not Found\n",
      "4 : Not Found\n"
     ]
    },
    {
     "name": "stderr",
     "output_type": "stream",
     "text": [
      " 11%|█         | 55/500 [04:07<35:17,  4.76s/it]"
     ]
    },
    {
     "name": "stdout",
     "output_type": "stream",
     "text": [
      "1 : Not Found\n",
      "2 : Not Found\n",
      "3 : Not Found\n",
      "4 : Not Found\n",
      "11 : Not Found\n"
     ]
    },
    {
     "name": "stderr",
     "output_type": "stream",
     "text": [
      " 11%|█         | 56/500 [04:12<34:32,  4.67s/it]"
     ]
    },
    {
     "name": "stdout",
     "output_type": "stream",
     "text": [
      "1 : Not Found\n",
      "2 : Not Found\n",
      "3 : Not Found\n",
      "4 : Not Found\n",
      "9 : Not Found\n",
      "10 : Not Found\n",
      "11 : Not Found\n"
     ]
    },
    {
     "name": "stderr",
     "output_type": "stream",
     "text": [
      " 11%|█▏        | 57/500 [04:17<36:28,  4.94s/it]"
     ]
    },
    {
     "name": "stdout",
     "output_type": "stream",
     "text": [
      "16 : Not Found\n",
      "1 : Not Found\n",
      "2 : Not Found\n",
      "3 : Not Found\n",
      "4 : Not Found\n",
      "10 : Not Found\n"
     ]
    },
    {
     "name": "stderr",
     "output_type": "stream",
     "text": [
      " 12%|█▏        | 58/500 [04:22<35:14,  4.78s/it]"
     ]
    },
    {
     "name": "stdout",
     "output_type": "stream",
     "text": [
      "1 : Not Found\n",
      "2 : Not Found\n",
      "3 : Not Found\n",
      "4 : Not Found\n",
      "6 : Not Found\n",
      "14 : Not Found\n"
     ]
    },
    {
     "name": "stderr",
     "output_type": "stream",
     "text": [
      " 12%|█▏        | 59/500 [04:27<35:08,  4.78s/it]"
     ]
    },
    {
     "name": "stdout",
     "output_type": "stream",
     "text": [
      "1 : Not Found\n",
      "2 : Not Found\n",
      "3 : Not Found\n",
      "4 : Not Found\n"
     ]
    },
    {
     "name": "stderr",
     "output_type": "stream",
     "text": [
      " 12%|█▏        | 60/500 [04:30<32:57,  4.49s/it]"
     ]
    },
    {
     "name": "stdout",
     "output_type": "stream",
     "text": [
      "1 : Not Found\n",
      "2 : Not Found\n",
      "3 : Not Found\n",
      "4 : Not Found\n"
     ]
    },
    {
     "name": "stderr",
     "output_type": "stream",
     "text": [
      " 12%|█▏        | 61/500 [04:34<31:33,  4.31s/it]"
     ]
    },
    {
     "name": "stdout",
     "output_type": "stream",
     "text": [
      "1 : Not Found\n",
      "2 : Not Found\n",
      "3 : Not Found\n",
      "4 : Not Found\n",
      "5 : Not Found\n",
      "11 : Not Found\n",
      "14 : Not Found\n",
      "17 : Not Found\n"
     ]
    },
    {
     "name": "stderr",
     "output_type": "stream",
     "text": [
      " 12%|█▏        | 62/500 [04:40<35:33,  4.87s/it]"
     ]
    },
    {
     "name": "stdout",
     "output_type": "stream",
     "text": [
      "18 : Not Found\n",
      "1 : Not Found\n",
      "2 : Not Found\n",
      "3 : Not Found\n",
      "4 : Not Found\n"
     ]
    },
    {
     "name": "stderr",
     "output_type": "stream",
     "text": [
      " 13%|█▎        | 63/500 [04:44<32:57,  4.52s/it]"
     ]
    },
    {
     "name": "stdout",
     "output_type": "stream",
     "text": [
      "1 : Not Found\n",
      "2 : Not Found\n",
      "3 : Not Found\n",
      "4 : Not Found\n",
      "6 : Not Found\n"
     ]
    },
    {
     "name": "stderr",
     "output_type": "stream",
     "text": [
      " 13%|█▎        | 64/500 [04:48<32:08,  4.42s/it]"
     ]
    },
    {
     "name": "stdout",
     "output_type": "stream",
     "text": [
      "1 : Not Found\n",
      "2 : Not Found\n",
      "3 : Not Found\n",
      "4 : Not Found\n",
      "9 : Not Found\n",
      "11 : Not Found\n",
      "16 : Not Found\n",
      "18 : Not Found\n"
     ]
    },
    {
     "name": "stderr",
     "output_type": "stream",
     "text": [
      " 13%|█▎        | 65/500 [04:55<36:05,  4.98s/it]"
     ]
    },
    {
     "name": "stdout",
     "output_type": "stream",
     "text": [
      "20 : Not Found\n",
      "1 : Not Found\n",
      "2 : Not Found\n",
      "3 : Not Found\n",
      "4 : Not Found\n",
      "5 : Not Found\n"
     ]
    },
    {
     "name": "stderr",
     "output_type": "stream",
     "text": [
      " 13%|█▎        | 66/500 [04:59<34:24,  4.76s/it]"
     ]
    },
    {
     "name": "stdout",
     "output_type": "stream",
     "text": [
      "1 : Not Found\n",
      "2 : Not Found\n",
      "3 : Not Found\n",
      "4 : Not Found\n",
      "5 : Not Found\n",
      "8 : Not Found\n",
      "10 : Not Found\n"
     ]
    },
    {
     "name": "stderr",
     "output_type": "stream",
     "text": [
      " 13%|█▎        | 67/500 [05:04<34:59,  4.85s/it]"
     ]
    },
    {
     "name": "stdout",
     "output_type": "stream",
     "text": [
      "1 : Not Found\n",
      "2 : Not Found\n",
      "3 : Not Found\n",
      "4 : Not Found\n",
      "6 : Not Found\n",
      "9 : Not Found\n",
      "10 : Not Found\n",
      "11 : Not Found\n",
      "13 : Not Found\n",
      "17 : Not Found\n"
     ]
    },
    {
     "name": "stderr",
     "output_type": "stream",
     "text": [
      " 14%|█▎        | 68/500 [05:11<39:43,  5.52s/it]"
     ]
    },
    {
     "name": "stdout",
     "output_type": "stream",
     "text": [
      "20 : Not Found\n",
      "1 : Not Found\n",
      "2 : Not Found\n",
      "3 : Not Found\n",
      "4 : Not Found\n",
      "6 : Not Found\n",
      "10 : Not Found\n"
     ]
    },
    {
     "name": "stderr",
     "output_type": "stream",
     "text": [
      " 14%|█▍        | 69/500 [05:16<38:36,  5.38s/it]"
     ]
    },
    {
     "name": "stdout",
     "output_type": "stream",
     "text": [
      "1 : Not Found\n",
      "2 : Not Found\n",
      "3 : Not Found\n",
      "4 : Not Found\n",
      "5 : Not Found\n",
      "8 : Not Found\n"
     ]
    },
    {
     "name": "stderr",
     "output_type": "stream",
     "text": [
      " 14%|█▍        | 70/500 [05:21<37:30,  5.23s/it]"
     ]
    },
    {
     "name": "stdout",
     "output_type": "stream",
     "text": [
      "1 : Not Found\n",
      "2 : Not Found\n",
      "3 : Not Found\n",
      "4 : Not Found\n",
      "5 : Not Found\n",
      "6 : Not Found\n",
      "7 : Not Found\n",
      "15 : Not Found\n"
     ]
    },
    {
     "name": "stderr",
     "output_type": "stream",
     "text": [
      " 14%|█▍        | 71/500 [05:27<39:39,  5.55s/it]"
     ]
    },
    {
     "name": "stdout",
     "output_type": "stream",
     "text": [
      "17 : Not Found\n",
      "1 : Not Found\n",
      "2 : Not Found\n",
      "3 : Not Found\n",
      "4 : Not Found\n"
     ]
    },
    {
     "name": "stderr",
     "output_type": "stream",
     "text": [
      " 14%|█▍        | 72/500 [05:31<36:02,  5.05s/it]"
     ]
    },
    {
     "name": "stdout",
     "output_type": "stream",
     "text": [
      "1 : Not Found\n",
      "2 : Not Found\n",
      "3 : Not Found\n",
      "4 : Not Found\n"
     ]
    },
    {
     "name": "stderr",
     "output_type": "stream",
     "text": [
      " 15%|█▍        | 73/500 [05:35<33:41,  4.73s/it]"
     ]
    },
    {
     "name": "stdout",
     "output_type": "stream",
     "text": [
      "1 : Not Found\n",
      "2 : Not Found\n",
      "3 : Not Found\n",
      "4 : Not Found\n"
     ]
    },
    {
     "name": "stderr",
     "output_type": "stream",
     "text": [
      " 15%|█▍        | 74/500 [05:39<31:59,  4.51s/it]"
     ]
    },
    {
     "name": "stdout",
     "output_type": "stream",
     "text": [
      "1 : Not Found\n",
      "2 : Not Found\n",
      "3 : Not Found\n",
      "4 : Not Found\n",
      "15 : Not Found\n",
      "16 : Not Found\n"
     ]
    },
    {
     "name": "stderr",
     "output_type": "stream",
     "text": [
      " 15%|█▌        | 75/500 [05:45<33:51,  4.78s/it]"
     ]
    },
    {
     "name": "stdout",
     "output_type": "stream",
     "text": [
      "20 : Not Found\n",
      "1 : Not Found\n",
      "2 : Not Found\n",
      "3 : Not Found\n",
      "4 : Not Found\n",
      "9 : Not Found\n",
      "11 : Not Found\n"
     ]
    },
    {
     "name": "stderr",
     "output_type": "stream",
     "text": [
      " 15%|█▌        | 76/500 [05:49<33:55,  4.80s/it]"
     ]
    },
    {
     "name": "stdout",
     "output_type": "stream",
     "text": [
      "1 : Not Found\n",
      "2 : Not Found\n",
      "3 : Not Found\n",
      "4 : Not Found\n",
      "5 : Not Found\n"
     ]
    },
    {
     "name": "stderr",
     "output_type": "stream",
     "text": [
      " 15%|█▌        | 77/500 [05:54<32:32,  4.62s/it]"
     ]
    },
    {
     "name": "stdout",
     "output_type": "stream",
     "text": [
      "1 : Not Found\n",
      "2 : Not Found\n",
      "3 : Not Found\n",
      "4 : Not Found\n",
      "12 : Not Found\n",
      "13 : Not Found\n",
      "14 : Not Found\n"
     ]
    },
    {
     "name": "stderr",
     "output_type": "stream",
     "text": [
      " 16%|█▌        | 78/500 [05:59<34:07,  4.85s/it]"
     ]
    },
    {
     "name": "stdout",
     "output_type": "stream",
     "text": [
      "1 : Not Found\n",
      "2 : Not Found\n",
      "3 : Not Found\n",
      "4 : Not Found\n"
     ]
    },
    {
     "name": "stderr",
     "output_type": "stream",
     "text": [
      " 16%|█▌        | 79/500 [06:03<32:09,  4.58s/it]"
     ]
    },
    {
     "name": "stdout",
     "output_type": "stream",
     "text": [
      "1 : Not Found\n",
      "2 : Not Found\n",
      "3 : Not Found\n",
      "4 : Not Found\n",
      "17 : Not Found\n"
     ]
    },
    {
     "name": "stderr",
     "output_type": "stream",
     "text": [
      " 16%|█▌        | 80/500 [06:08<32:16,  4.61s/it]"
     ]
    },
    {
     "name": "stdout",
     "output_type": "stream",
     "text": [
      "18 : Not Found\n",
      "1 : Not Found\n",
      "2 : Not Found\n",
      "3 : Not Found\n",
      "4 : Not Found\n"
     ]
    },
    {
     "name": "stderr",
     "output_type": "stream",
     "text": [
      " 16%|█▌        | 81/500 [06:12<30:56,  4.43s/it]"
     ]
    },
    {
     "name": "stdout",
     "output_type": "stream",
     "text": [
      "1 : Not Found\n",
      "2 : Not Found\n",
      "3 : Not Found\n",
      "4 : Not Found\n"
     ]
    },
    {
     "name": "stderr",
     "output_type": "stream",
     "text": [
      " 16%|█▋        | 82/500 [06:15<29:44,  4.27s/it]"
     ]
    },
    {
     "name": "stdout",
     "output_type": "stream",
     "text": [
      "1 : Not Found\n",
      "2 : Not Found\n",
      "3 : Not Found\n",
      "4 : Not Found\n",
      "9 : Not Found\n",
      "10 : Not Found\n",
      "14 : Not Found\n",
      "17 : Not Found\n"
     ]
    },
    {
     "name": "stderr",
     "output_type": "stream",
     "text": [
      " 17%|█▋        | 83/500 [06:22<34:05,  4.90s/it]"
     ]
    },
    {
     "name": "stdout",
     "output_type": "stream",
     "text": [
      "19 : Not Found\n",
      "1 : Not Found\n",
      "2 : Not Found\n",
      "3 : Not Found\n",
      "4 : Not Found\n",
      "12 : Not Found\n",
      "16 : Not Found\n"
     ]
    },
    {
     "name": "stderr",
     "output_type": "stream",
     "text": [
      " 17%|█▋        | 84/500 [06:27<35:05,  5.06s/it]"
     ]
    },
    {
     "name": "stdout",
     "output_type": "stream",
     "text": [
      "19 : Not Found\n",
      "1 : Not Found\n",
      "2 : Not Found\n",
      "3 : Not Found\n",
      "4 : Not Found\n"
     ]
    },
    {
     "name": "stderr",
     "output_type": "stream",
     "text": [
      " 17%|█▋        | 85/500 [06:31<32:42,  4.73s/it]"
     ]
    },
    {
     "name": "stdout",
     "output_type": "stream",
     "text": [
      "1 : Not Found\n",
      "2 : Not Found\n",
      "3 : Not Found\n",
      "4 : Not Found\n"
     ]
    },
    {
     "name": "stderr",
     "output_type": "stream",
     "text": [
      " 17%|█▋        | 86/500 [06:35<31:14,  4.53s/it]"
     ]
    },
    {
     "name": "stdout",
     "output_type": "stream",
     "text": [
      "1 : Not Found\n",
      "2 : Not Found\n",
      "3 : Not Found\n",
      "4 : Not Found\n",
      "5 : Not Found\n",
      "6 : Not Found\n",
      "7 : Not Found\n"
     ]
    },
    {
     "name": "stderr",
     "output_type": "stream",
     "text": [
      " 17%|█▋        | 87/500 [06:41<33:50,  4.92s/it]"
     ]
    },
    {
     "name": "stdout",
     "output_type": "stream",
     "text": [
      "20 : Not Found\n",
      "1 : Not Found\n",
      "2 : Not Found\n",
      "3 : Not Found\n",
      "4 : Not Found\n",
      "12 : Not Found\n",
      "15 : Not Found\n"
     ]
    },
    {
     "name": "stderr",
     "output_type": "stream",
     "text": [
      " 18%|█▊        | 88/500 [06:46<34:03,  4.96s/it]"
     ]
    },
    {
     "name": "stdout",
     "output_type": "stream",
     "text": [
      "1 : Not Found\n",
      "2 : Not Found\n",
      "3 : Not Found\n",
      "4 : Not Found\n",
      "5 : Not Found\n",
      "7 : Not Found\n",
      "11 : Not Found\n"
     ]
    },
    {
     "name": "stderr",
     "output_type": "stream",
     "text": [
      " 18%|█▊        | 89/500 [06:51<34:21,  5.02s/it]"
     ]
    },
    {
     "name": "stdout",
     "output_type": "stream",
     "text": [
      "1 : Not Found\n",
      "2 : Not Found\n",
      "3 : Not Found\n",
      "4 : Not Found\n",
      "13 : Not Found\n"
     ]
    },
    {
     "name": "stderr",
     "output_type": "stream",
     "text": [
      " 18%|█▊        | 90/500 [06:56<32:37,  4.77s/it]"
     ]
    },
    {
     "name": "stdout",
     "output_type": "stream",
     "text": [
      "1 : Not Found\n",
      "2 : Not Found\n",
      "3 : Not Found\n",
      "4 : Not Found\n"
     ]
    },
    {
     "name": "stderr",
     "output_type": "stream",
     "text": [
      " 18%|█▊        | 91/500 [07:00<31:31,  4.63s/it]"
     ]
    },
    {
     "name": "stdout",
     "output_type": "stream",
     "text": [
      "1 : Not Found\n",
      "2 : Not Found\n",
      "3 : Not Found\n",
      "4 : Not Found\n",
      "16 : Not Found\n",
      "17 : Not Found\n"
     ]
    },
    {
     "name": "stderr",
     "output_type": "stream",
     "text": [
      " 18%|█▊        | 92/500 [07:05<33:22,  4.91s/it]"
     ]
    },
    {
     "name": "stdout",
     "output_type": "stream",
     "text": [
      "19 : Not Found\n",
      "1 : Not Found\n",
      "2 : Not Found\n",
      "3 : Not Found\n"
     ]
    },
    {
     "name": "stderr",
     "output_type": "stream",
     "text": [
      " 19%|█▊        | 93/500 [07:09<30:39,  4.52s/it]"
     ]
    },
    {
     "name": "stdout",
     "output_type": "stream",
     "text": [
      "1 : Not Found\n",
      "2 : Not Found\n",
      "3 : Not Found\n",
      "4 : Not Found\n"
     ]
    },
    {
     "name": "stderr",
     "output_type": "stream",
     "text": [
      " 19%|█▉        | 94/500 [07:13<29:12,  4.32s/it]"
     ]
    },
    {
     "name": "stdout",
     "output_type": "stream",
     "text": [
      "1 : Not Found\n",
      "2 : Not Found\n",
      "3 : Not Found\n",
      "4 : Not Found\n"
     ]
    },
    {
     "name": "stderr",
     "output_type": "stream",
     "text": [
      " 19%|█▉        | 95/500 [07:17<28:10,  4.17s/it]"
     ]
    },
    {
     "name": "stdout",
     "output_type": "stream",
     "text": [
      "1 : Not Found\n",
      "2 : Not Found\n",
      "3 : Not Found\n",
      "4 : Not Found\n",
      "7 : Not Found\n",
      "8 : Not Found\n",
      "11 : Not Found\n",
      "17 : Not Found\n"
     ]
    },
    {
     "name": "stderr",
     "output_type": "stream",
     "text": [
      " 19%|█▉        | 96/500 [07:23<32:21,  4.81s/it]"
     ]
    },
    {
     "name": "stdout",
     "output_type": "stream",
     "text": [
      "19 : Not Found\n",
      "1 : Not Found\n",
      "2 : Not Found\n",
      "3 : Not Found\n",
      "4 : Not Found\n",
      "6 : Not Found\n",
      "8 : Not Found\n"
     ]
    },
    {
     "name": "stderr",
     "output_type": "stream",
     "text": [
      " 19%|█▉        | 97/500 [07:28<32:53,  4.90s/it]"
     ]
    },
    {
     "name": "stdout",
     "output_type": "stream",
     "text": [
      "1 : Not Found\n",
      "2 : Not Found\n",
      "3 : Not Found\n",
      "4 : Not Found\n"
     ]
    },
    {
     "name": "stderr",
     "output_type": "stream",
     "text": [
      " 20%|█▉        | 98/500 [07:32<31:07,  4.65s/it]"
     ]
    },
    {
     "name": "stdout",
     "output_type": "stream",
     "text": [
      "1 : Not Found\n",
      "2 : Not Found\n",
      "3 : Not Found\n",
      "4 : Not Found\n",
      "18 : Not Found\n",
      "19 : Not Found\n"
     ]
    },
    {
     "name": "stderr",
     "output_type": "stream",
     "text": [
      " 20%|█▉        | 99/500 [07:38<32:53,  4.92s/it]"
     ]
    },
    {
     "name": "stdout",
     "output_type": "stream",
     "text": [
      "20 : Not Found\n",
      "1 : Not Found\n",
      "2 : Not Found\n",
      "3 : Not Found\n",
      "4 : Not Found\n",
      "12 : Not Found\n"
     ]
    },
    {
     "name": "stderr",
     "output_type": "stream",
     "text": [
      " 20%|██        | 100/500 [07:42<31:35,  4.74s/it]"
     ]
    },
    {
     "name": "stdout",
     "output_type": "stream",
     "text": [
      "1 : Not Found\n",
      "2 : Not Found\n",
      "3 : Not Found\n",
      "4 : Not Found\n"
     ]
    },
    {
     "name": "stderr",
     "output_type": "stream",
     "text": [
      " 20%|██        | 101/500 [07:46<30:12,  4.54s/it]"
     ]
    },
    {
     "name": "stdout",
     "output_type": "stream",
     "text": [
      "1 : Not Found\n",
      "2 : Not Found\n",
      "3 : Not Found\n",
      "4 : Not Found\n"
     ]
    },
    {
     "name": "stderr",
     "output_type": "stream",
     "text": [
      " 20%|██        | 102/500 [07:50<29:19,  4.42s/it]"
     ]
    },
    {
     "name": "stdout",
     "output_type": "stream",
     "text": [
      "1 : Not Found\n",
      "2 : Not Found\n",
      "3 : Not Found\n",
      "4 : Not Found\n"
     ]
    },
    {
     "name": "stderr",
     "output_type": "stream",
     "text": [
      " 21%|██        | 103/500 [07:54<28:36,  4.32s/it]"
     ]
    },
    {
     "name": "stdout",
     "output_type": "stream",
     "text": [
      "1 : Not Found\n",
      "2 : Not Found\n",
      "3 : Not Found\n",
      "4 : Not Found\n"
     ]
    },
    {
     "name": "stderr",
     "output_type": "stream",
     "text": [
      " 21%|██        | 104/500 [07:58<27:46,  4.21s/it]"
     ]
    },
    {
     "name": "stdout",
     "output_type": "stream",
     "text": [
      "1 : Not Found\n",
      "2 : Not Found\n",
      "3 : Not Found\n",
      "4 : Not Found\n",
      "7 : Not Found\n",
      "8 : Not Found\n"
     ]
    },
    {
     "name": "stderr",
     "output_type": "stream",
     "text": [
      " 21%|██        | 105/500 [08:03<29:35,  4.49s/it]"
     ]
    },
    {
     "name": "stdout",
     "output_type": "stream",
     "text": [
      "1 : Not Found\n",
      "2 : Not Found\n",
      "3 : Not Found\n",
      "4 : Not Found\n"
     ]
    },
    {
     "name": "stderr",
     "output_type": "stream",
     "text": [
      " 21%|██        | 106/500 [08:08<29:31,  4.50s/it]"
     ]
    },
    {
     "name": "stdout",
     "output_type": "stream",
     "text": [
      "17 : Not Found\n",
      "1 : Not Found\n",
      "2 : Not Found\n",
      "3 : Not Found\n",
      "4 : Not Found\n",
      "9 : Not Found\n",
      "14 : Not Found\n",
      "16 : Not Found\n"
     ]
    },
    {
     "name": "stderr",
     "output_type": "stream",
     "text": [
      " 21%|██▏       | 107/500 [08:14<31:43,  4.84s/it]"
     ]
    },
    {
     "name": "stdout",
     "output_type": "stream",
     "text": [
      "17 : Not Found\n",
      "1 : Not Found\n",
      "2 : Not Found\n",
      "3 : Not Found\n",
      "4 : Not Found\n"
     ]
    },
    {
     "name": "stderr",
     "output_type": "stream",
     "text": [
      " 22%|██▏       | 108/500 [08:18<30:47,  4.71s/it]"
     ]
    },
    {
     "name": "stdout",
     "output_type": "stream",
     "text": [
      "19 : Not Found\n",
      "1 : Not Found\n",
      "2 : Not Found\n",
      "3 : Not Found\n",
      "4 : Not Found\n"
     ]
    },
    {
     "name": "stderr",
     "output_type": "stream",
     "text": [
      " 22%|██▏       | 109/500 [08:22<29:28,  4.52s/it]"
     ]
    },
    {
     "name": "stdout",
     "output_type": "stream",
     "text": [
      "1 : Not Found\n",
      "2 : Not Found\n",
      "3 : Not Found\n",
      "4 : Not Found\n"
     ]
    },
    {
     "name": "stderr",
     "output_type": "stream",
     "text": [
      " 22%|██▏       | 110/500 [08:26<28:38,  4.41s/it]"
     ]
    },
    {
     "name": "stdout",
     "output_type": "stream",
     "text": [
      "1 : Not Found\n",
      "2 : Not Found\n",
      "3 : Not Found\n",
      "4 : Not Found\n",
      "5 : Not Found\n",
      "15 : Not Found\n"
     ]
    },
    {
     "name": "stderr",
     "output_type": "stream",
     "text": [
      " 22%|██▏       | 111/500 [08:31<28:59,  4.47s/it]"
     ]
    },
    {
     "name": "stdout",
     "output_type": "stream",
     "text": [
      "1 : Not Found\n",
      "2 : Not Found\n",
      "3 : Not Found\n",
      "4 : Not Found\n"
     ]
    },
    {
     "name": "stderr",
     "output_type": "stream",
     "text": [
      " 22%|██▏       | 112/500 [08:35<28:08,  4.35s/it]"
     ]
    },
    {
     "name": "stdout",
     "output_type": "stream",
     "text": [
      "1 : Not Found\n",
      "2 : Not Found\n",
      "3 : Not Found\n",
      "4 : Not Found\n",
      "5 : Not Found\n",
      "17 : Not Found\n"
     ]
    },
    {
     "name": "stderr",
     "output_type": "stream",
     "text": [
      " 23%|██▎       | 113/500 [08:40<29:42,  4.60s/it]"
     ]
    },
    {
     "name": "stdout",
     "output_type": "stream",
     "text": [
      "20 : Not Found\n",
      "1 : Not Found\n",
      "2 : Not Found\n",
      "3 : Not Found\n",
      "4 : Not Found\n",
      "14 : Not Found\n",
      "15 : Not Found\n"
     ]
    },
    {
     "name": "stderr",
     "output_type": "stream",
     "text": [
      " 23%|██▎       | 114/500 [08:46<31:27,  4.89s/it]"
     ]
    },
    {
     "name": "stdout",
     "output_type": "stream",
     "text": [
      "19 : Not Found\n",
      "1 : Not Found\n",
      "2 : Not Found\n",
      "3 : Not Found\n",
      "4 : Not Found\n",
      "7 : Not Found\n",
      "9 : Not Found\n",
      "13 : Not Found\n",
      "14 : Not Found\n"
     ]
    },
    {
     "name": "stderr",
     "output_type": "stream",
     "text": [
      " 23%|██▎       | 115/500 [08:51<32:47,  5.11s/it]"
     ]
    },
    {
     "name": "stdout",
     "output_type": "stream",
     "text": [
      "1 : Not Found\n",
      "2 : Not Found\n",
      "3 : Not Found\n",
      "4 : Not Found\n",
      "5 : Not Found\n",
      "16 : Not Found\n"
     ]
    },
    {
     "name": "stderr",
     "output_type": "stream",
     "text": [
      " 23%|██▎       | 116/500 [08:56<32:25,  5.07s/it]"
     ]
    },
    {
     "name": "stdout",
     "output_type": "stream",
     "text": [
      "1 : Not Found\n",
      "2 : Not Found\n",
      "3 : Not Found\n",
      "4 : Not Found\n",
      "12 : Not Found\n",
      "16 : Not Found\n"
     ]
    },
    {
     "name": "stderr",
     "output_type": "stream",
     "text": [
      " 23%|██▎       | 117/500 [09:01<32:09,  5.04s/it]"
     ]
    },
    {
     "name": "stdout",
     "output_type": "stream",
     "text": [
      "1 : Not Found\n",
      "2 : Not Found\n",
      "3 : Not Found\n",
      "4 : Not Found\n"
     ]
    },
    {
     "name": "stderr",
     "output_type": "stream",
     "text": [
      " 24%|██▎       | 118/500 [09:05<30:19,  4.76s/it]"
     ]
    },
    {
     "name": "stdout",
     "output_type": "stream",
     "text": [
      "1 : Not Found\n",
      "2 : Not Found\n",
      "3 : Not Found\n",
      "4 : Not Found\n"
     ]
    },
    {
     "name": "stderr",
     "output_type": "stream",
     "text": [
      " 24%|██▍       | 119/500 [09:09<28:49,  4.54s/it]"
     ]
    },
    {
     "name": "stdout",
     "output_type": "stream",
     "text": [
      "1 : Not Found\n",
      "2 : Not Found\n",
      "3 : Not Found\n",
      "4 : Not Found\n"
     ]
    },
    {
     "name": "stderr",
     "output_type": "stream",
     "text": [
      " 24%|██▍       | 120/500 [09:13<27:33,  4.35s/it]"
     ]
    },
    {
     "name": "stdout",
     "output_type": "stream",
     "text": [
      "1 : Not Found\n",
      "2 : Not Found\n",
      "3 : Not Found\n",
      "4 : Not Found\n"
     ]
    },
    {
     "name": "stderr",
     "output_type": "stream",
     "text": [
      " 24%|██▍       | 121/500 [09:17<27:00,  4.27s/it]"
     ]
    },
    {
     "name": "stdout",
     "output_type": "stream",
     "text": [
      "1 : Not Found\n",
      "2 : Not Found\n",
      "3 : Not Found\n",
      "4 : Not Found\n"
     ]
    },
    {
     "name": "stderr",
     "output_type": "stream",
     "text": [
      " 24%|██▍       | 122/500 [09:21<26:13,  4.16s/it]"
     ]
    },
    {
     "name": "stdout",
     "output_type": "stream",
     "text": [
      "1 : Not Found\n",
      "2 : Not Found\n",
      "3 : Not Found\n",
      "4 : Not Found\n",
      "5 : Not Found\n",
      "10 : Not Found\n",
      "15 : Not Found\n"
     ]
    },
    {
     "name": "stderr",
     "output_type": "stream",
     "text": [
      " 25%|██▍       | 123/500 [09:27<28:53,  4.60s/it]"
     ]
    },
    {
     "name": "stdout",
     "output_type": "stream",
     "text": [
      "19 : Not Found\n",
      "1 : Not Found\n",
      "2 : Not Found\n",
      "3 : Not Found\n",
      "4 : Not Found\n",
      "14 : Not Found\n"
     ]
    },
    {
     "name": "stderr",
     "output_type": "stream",
     "text": [
      " 25%|██▍       | 124/500 [09:32<28:51,  4.60s/it]"
     ]
    },
    {
     "name": "stdout",
     "output_type": "stream",
     "text": [
      "1 : Not Found\n",
      "2 : Not Found\n",
      "3 : Not Found\n",
      "4 : Not Found\n"
     ]
    },
    {
     "name": "stderr",
     "output_type": "stream",
     "text": [
      " 25%|██▌       | 125/500 [09:35<27:19,  4.37s/it]"
     ]
    },
    {
     "name": "stdout",
     "output_type": "stream",
     "text": [
      "1 : Not Found\n",
      "2 : Not Found\n",
      "3 : Not Found\n",
      "4 : Not Found\n"
     ]
    },
    {
     "name": "stderr",
     "output_type": "stream",
     "text": [
      " 25%|██▌       | 126/500 [09:39<26:47,  4.30s/it]"
     ]
    },
    {
     "name": "stdout",
     "output_type": "stream",
     "text": [
      "1 : Not Found\n",
      "2 : Not Found\n",
      "3 : Not Found\n",
      "4 : Not Found\n",
      "8 : Not Found\n",
      "12 : Not Found\n",
      "19 : Not Found\n"
     ]
    },
    {
     "name": "stderr",
     "output_type": "stream",
     "text": [
      " 25%|██▌       | 127/500 [09:45<29:45,  4.79s/it]"
     ]
    },
    {
     "name": "stdout",
     "output_type": "stream",
     "text": [
      "20 : Not Found\n",
      "1 : Not Found\n",
      "2 : Not Found\n",
      "3 : Not Found\n",
      "4 : Not Found\n",
      "6 : Not Found\n"
     ]
    },
    {
     "name": "stderr",
     "output_type": "stream",
     "text": [
      " 26%|██▌       | 128/500 [09:50<29:14,  4.72s/it]"
     ]
    },
    {
     "name": "stdout",
     "output_type": "stream",
     "text": [
      "1 : Not Found\n",
      "2 : Not Found\n",
      "3 : Not Found\n",
      "4 : Not Found\n"
     ]
    },
    {
     "name": "stderr",
     "output_type": "stream",
     "text": [
      " 26%|██▌       | 129/500 [09:54<27:55,  4.52s/it]"
     ]
    },
    {
     "name": "stdout",
     "output_type": "stream",
     "text": [
      "1 : Not Found\n",
      "2 : Not Found\n",
      "3 : Not Found\n",
      "4 : Not Found\n",
      "9 : Not Found\n"
     ]
    },
    {
     "name": "stderr",
     "output_type": "stream",
     "text": [
      " 26%|██▌       | 130/500 [09:58<27:48,  4.51s/it]"
     ]
    },
    {
     "name": "stdout",
     "output_type": "stream",
     "text": [
      "1 : Not Found\n",
      "2 : Not Found\n",
      "3 : Not Found\n",
      "10 : Not Found\n",
      "16 : Not Found\n"
     ]
    },
    {
     "name": "stderr",
     "output_type": "stream",
     "text": [
      " 26%|██▌       | 131/500 [10:04<28:59,  4.71s/it]"
     ]
    },
    {
     "name": "stdout",
     "output_type": "stream",
     "text": [
      "20 : Not Found\n",
      "1 : Not Found\n",
      "2 : Not Found\n",
      "3 : Not Found\n",
      "4 : Not Found\n"
     ]
    },
    {
     "name": "stderr",
     "output_type": "stream",
     "text": [
      " 26%|██▋       | 132/500 [10:08<27:47,  4.53s/it]"
     ]
    },
    {
     "name": "stdout",
     "output_type": "stream",
     "text": [
      "1 : Not Found\n",
      "2 : Not Found\n",
      "3 : Not Found\n",
      "4 : Not Found\n",
      "5 : Not Found\n"
     ]
    },
    {
     "name": "stderr",
     "output_type": "stream",
     "text": [
      " 27%|██▋       | 133/500 [10:13<28:22,  4.64s/it]"
     ]
    },
    {
     "name": "stdout",
     "output_type": "stream",
     "text": [
      "17 : Not Found\n",
      "1 : Not Found\n",
      "2 : Not Found\n",
      "3 : Not Found\n",
      "4 : Not Found\n",
      "15 : Not Found\n"
     ]
    },
    {
     "name": "stderr",
     "output_type": "stream",
     "text": [
      " 27%|██▋       | 134/500 [10:18<29:09,  4.78s/it]"
     ]
    },
    {
     "name": "stdout",
     "output_type": "stream",
     "text": [
      "18 : Not Found\n",
      "1 : Not Found\n",
      "2 : Not Found\n",
      "3 : Not Found\n",
      "12 : Not Found\n",
      "13 : Not Found\n",
      "16 : Not Found\n"
     ]
    },
    {
     "name": "stderr",
     "output_type": "stream",
     "text": [
      " 27%|██▋       | 135/500 [10:23<30:41,  5.05s/it]"
     ]
    },
    {
     "name": "stdout",
     "output_type": "stream",
     "text": [
      "18 : Not Found\n",
      "1 : Not Found\n",
      "2 : Not Found\n",
      "3 : Not Found\n",
      "4 : Not Found\n",
      "6 : Not Found\n",
      "10 : Not Found\n",
      "11 : Not Found\n",
      "14 : Not Found\n"
     ]
    },
    {
     "name": "stderr",
     "output_type": "stream",
     "text": [
      " 27%|██▋       | 136/500 [10:29<32:21,  5.33s/it]"
     ]
    },
    {
     "name": "stdout",
     "output_type": "stream",
     "text": [
      "1 : Not Found\n",
      "2 : Not Found\n",
      "3 : Not Found\n",
      "4 : Not Found\n",
      "5 : Not Found\n",
      "6 : Not Found\n",
      "7 : Not Found\n",
      "8 : Not Found\n",
      "11 : Not Found\n",
      "14 : Not Found\n",
      "15 : Not Found\n",
      "16 : Not Found\n",
      "17 : Not Found\n",
      "18 : Not Found\n",
      "19 : Not Found\n"
     ]
    },
    {
     "name": "stderr",
     "output_type": "stream",
     "text": [
      " 27%|██▋       | 137/500 [10:39<39:53,  6.59s/it]"
     ]
    },
    {
     "name": "stdout",
     "output_type": "stream",
     "text": [
      "20 : Not Found\n",
      "1 : Not Found\n",
      "2 : Not Found\n",
      "3 : Not Found\n",
      "4 : Not Found\n",
      "14 : Not Found\n"
     ]
    },
    {
     "name": "stderr",
     "output_type": "stream",
     "text": [
      " 28%|██▊       | 138/500 [10:44<36:29,  6.05s/it]"
     ]
    },
    {
     "name": "stdout",
     "output_type": "stream",
     "text": [
      "17 : Not Found\n",
      "1 : Not Found\n",
      "2 : Not Found\n",
      "3 : Not Found\n",
      "4 : Not Found\n"
     ]
    },
    {
     "name": "stderr",
     "output_type": "stream",
     "text": [
      " 28%|██▊       | 139/500 [10:48<33:04,  5.50s/it]"
     ]
    },
    {
     "name": "stdout",
     "output_type": "stream",
     "text": [
      "1 : Not Found\n",
      "2 : Not Found\n",
      "3 : Not Found\n",
      "4 : Not Found\n",
      "7 : Not Found\n",
      "8 : Not Found\n",
      "9 : Not Found\n",
      "10 : Not Found\n"
     ]
    },
    {
     "name": "stderr",
     "output_type": "stream",
     "text": [
      " 28%|██▊       | 140/500 [10:55<34:59,  5.83s/it]"
     ]
    },
    {
     "name": "stdout",
     "output_type": "stream",
     "text": [
      "18 : Not Found\n",
      "1 : Not Found\n",
      "2 : Not Found\n",
      "3 : Not Found\n",
      "4 : Not Found\n",
      "9 : Not Found\n",
      "14 : Not Found\n"
     ]
    },
    {
     "name": "stderr",
     "output_type": "stream",
     "text": [
      " 28%|██▊       | 141/500 [11:00<33:18,  5.57s/it]"
     ]
    },
    {
     "name": "stdout",
     "output_type": "stream",
     "text": [
      "1 : Not Found\n",
      "2 : Not Found\n",
      "3 : Not Found\n",
      "4 : Not Found\n",
      "6 : Not Found\n",
      "9 : Not Found\n",
      "12 : Not Found\n",
      "15 : Not Found\n",
      "17 : Not Found\n"
     ]
    },
    {
     "name": "stderr",
     "output_type": "stream",
     "text": [
      " 28%|██▊       | 142/500 [11:06<35:31,  5.95s/it]"
     ]
    },
    {
     "name": "stdout",
     "output_type": "stream",
     "text": [
      "19 : Not Found\n",
      "1 : Not Found\n",
      "2 : Not Found\n",
      "3 : Not Found\n",
      "4 : Not Found\n",
      "7 : Not Found\n",
      "8 : Not Found\n",
      "13 : Not Found\n",
      "14 : Not Found\n"
     ]
    },
    {
     "name": "stderr",
     "output_type": "stream",
     "text": [
      " 29%|██▊       | 143/500 [11:12<35:26,  5.96s/it]"
     ]
    },
    {
     "name": "stdout",
     "output_type": "stream",
     "text": [
      "1 : Not Found\n",
      "2 : Not Found\n",
      "3 : Not Found\n",
      "4 : Not Found\n"
     ]
    },
    {
     "name": "stderr",
     "output_type": "stream",
     "text": [
      " 29%|██▉       | 144/500 [11:16<32:00,  5.40s/it]"
     ]
    },
    {
     "name": "stdout",
     "output_type": "stream",
     "text": [
      "1 : Not Found\n",
      "2 : Not Found\n",
      "3 : Not Found\n",
      "4 : Not Found\n",
      "5 : Not Found\n",
      "9 : Not Found\n",
      "10 : Not Found\n",
      "13 : Not Found\n",
      "14 : Not Found\n"
     ]
    },
    {
     "name": "stderr",
     "output_type": "stream",
     "text": [
      " 29%|██▉       | 145/500 [11:23<34:49,  5.89s/it]"
     ]
    },
    {
     "name": "stdout",
     "output_type": "stream",
     "text": [
      "17 : Not Found\n",
      "1 : Not Found\n",
      "2 : Not Found\n",
      "3 : Not Found\n",
      "4 : Not Found\n",
      "5 : Not Found\n",
      "14 : Not Found\n",
      "15 : Not Found\n"
     ]
    },
    {
     "name": "stderr",
     "output_type": "stream",
     "text": [
      " 29%|██▉       | 146/500 [11:29<33:32,  5.69s/it]"
     ]
    },
    {
     "name": "stdout",
     "output_type": "stream",
     "text": [
      "1 : Not Found\n",
      "2 : Not Found\n",
      "3 : Not Found\n",
      "4 : Not Found\n",
      "14 : Not Found\n",
      "15 : Not Found\n",
      "16 : Not Found\n",
      "17 : Not Found\n",
      "18 : Not Found\n",
      "19 : Not Found\n"
     ]
    },
    {
     "name": "stderr",
     "output_type": "stream",
     "text": [
      " 29%|██▉       | 147/500 [11:36<36:08,  6.14s/it]"
     ]
    },
    {
     "name": "stdout",
     "output_type": "stream",
     "text": [
      "20 : Not Found\n",
      "1 : Not Found\n",
      "2 : Not Found\n",
      "3 : Not Found\n",
      "4 : Not Found\n",
      "11 : Not Found\n",
      "12 : Not Found\n",
      "19 : Not Found\n"
     ]
    },
    {
     "name": "stderr",
     "output_type": "stream",
     "text": [
      " 30%|██▉       | 148/500 [11:42<35:39,  6.08s/it]"
     ]
    },
    {
     "name": "stdout",
     "output_type": "stream",
     "text": [
      "20 : Not Found\n",
      "1 : Not Found\n",
      "2 : Not Found\n",
      "3 : Not Found\n",
      "4 : Not Found\n"
     ]
    },
    {
     "name": "stderr",
     "output_type": "stream",
     "text": [
      " 30%|██▉       | 149/500 [11:46<32:32,  5.56s/it]"
     ]
    },
    {
     "name": "stdout",
     "output_type": "stream",
     "text": [
      "1 : Not Found\n",
      "2 : Not Found\n",
      "3 : Not Found\n",
      "4 : Not Found\n",
      "10 : Not Found\n",
      "11 : Not Found\n"
     ]
    },
    {
     "name": "stderr",
     "output_type": "stream",
     "text": [
      " 30%|███       | 150/500 [11:52<32:04,  5.50s/it]"
     ]
    },
    {
     "name": "stdout",
     "output_type": "stream",
     "text": [
      "1 : Not Found\n",
      "2 : Not Found\n",
      "3 : Not Found\n",
      "4 : Not Found\n",
      "11 : Not Found\n"
     ]
    },
    {
     "name": "stderr",
     "output_type": "stream",
     "text": [
      " 30%|███       | 151/500 [11:56<31:00,  5.33s/it]"
     ]
    },
    {
     "name": "stdout",
     "output_type": "stream",
     "text": [
      "1 : Not Found\n",
      "2 : Not Found\n",
      "3 : Not Found\n",
      "4 : Not Found\n",
      "5 : Not Found\n",
      "8 : Not Found\n",
      "9 : Not Found\n",
      "11 : Not Found\n",
      "15 : Not Found\n",
      "16 : Not Found\n",
      "17 : Not Found\n"
     ]
    },
    {
     "name": "stderr",
     "output_type": "stream",
     "text": [
      " 30%|███       | 152/500 [12:04<35:15,  6.08s/it]"
     ]
    },
    {
     "name": "stdout",
     "output_type": "stream",
     "text": [
      "19 : Not Found\n",
      "1 : Not Found\n",
      "2 : Not Found\n",
      "3 : Not Found\n",
      "4 : Not Found\n"
     ]
    },
    {
     "name": "stderr",
     "output_type": "stream",
     "text": [
      " 31%|███       | 153/500 [12:09<32:08,  5.56s/it]"
     ]
    },
    {
     "name": "stdout",
     "output_type": "stream",
     "text": [
      "1 : Not Found\n",
      "2 : Not Found\n",
      "3 : Not Found\n",
      "12 : Not Found\n",
      "18 : Not Found\n"
     ]
    },
    {
     "name": "stderr",
     "output_type": "stream",
     "text": [
      " 31%|███       | 154/500 [12:14<32:03,  5.56s/it]"
     ]
    },
    {
     "name": "stdout",
     "output_type": "stream",
     "text": [
      "19 : Not Found\n",
      "1 : Not Found\n",
      "2 : Not Found\n",
      "3 : Not Found\n",
      "4 : Not Found\n",
      "7 : Not Found\n",
      "8 : Not Found\n",
      "9 : Not Found\n",
      "10 : Not Found\n",
      "11 : Not Found\n",
      "12 : Not Found\n",
      "13 : Not Found\n",
      "14 : Not Found\n",
      "16 : Not Found\n",
      "17 : Not Found\n",
      "18 : Not Found\n",
      "19 : Not Found\n"
     ]
    },
    {
     "name": "stderr",
     "output_type": "stream",
     "text": [
      " 31%|███       | 155/500 [12:24<39:21,  6.84s/it]"
     ]
    },
    {
     "name": "stdout",
     "output_type": "stream",
     "text": [
      "20 : Not Found\n",
      "1 : Not Found\n",
      "2 : Not Found\n",
      "3 : Not Found\n",
      "4 : Not Found\n",
      "7 : Not Found\n",
      "8 : Not Found\n",
      "11 : Not Found\n",
      "12 : Not Found\n",
      "13 : Not Found\n"
     ]
    },
    {
     "name": "stderr",
     "output_type": "stream",
     "text": [
      " 31%|███       | 156/500 [12:31<38:54,  6.79s/it]"
     ]
    },
    {
     "name": "stdout",
     "output_type": "stream",
     "text": [
      "1 : Not Found\n",
      "2 : Not Found\n",
      "3 : Not Found\n"
     ]
    },
    {
     "name": "stderr",
     "output_type": "stream",
     "text": [
      " 31%|███▏      | 157/500 [12:35<34:48,  6.09s/it]"
     ]
    },
    {
     "name": "stdout",
     "output_type": "stream",
     "text": [
      "1 : Not Found\n",
      "2 : Not Found\n",
      "3 : Not Found\n",
      "8 : Not Found\n",
      "9 : Not Found\n",
      "10 : Not Found\n",
      "12 : Not Found\n",
      "14 : Not Found\n",
      "15 : Not Found\n",
      "16 : Not Found\n",
      "17 : Not Found\n",
      "18 : Not Found\n"
     ]
    },
    {
     "name": "stderr",
     "output_type": "stream",
     "text": [
      " 32%|███▏      | 158/500 [12:44<38:59,  6.84s/it]"
     ]
    },
    {
     "name": "stdout",
     "output_type": "stream",
     "text": [
      "19 : Not Found\n",
      "1 : Not Found\n",
      "2 : Not Found\n",
      "3 : Not Found\n",
      "4 : Not Found\n",
      "5 : Not Found\n",
      "8 : Not Found\n",
      "9 : Not Found\n",
      "10 : Not Found\n",
      "15 : Not Found\n",
      "16 : Not Found\n"
     ]
    },
    {
     "name": "stderr",
     "output_type": "stream",
     "text": [
      " 32%|███▏      | 159/500 [12:51<39:08,  6.89s/it]"
     ]
    },
    {
     "name": "stdout",
     "output_type": "stream",
     "text": [
      "1 : Not Found\n",
      "2 : Not Found\n",
      "3 : Not Found\n",
      "4 : Not Found\n",
      "12 : Not Found\n",
      "13 : Not Found\n",
      "15 : Not Found\n"
     ]
    },
    {
     "name": "stderr",
     "output_type": "stream",
     "text": [
      " 32%|███▏      | 160/500 [12:56<36:50,  6.50s/it]"
     ]
    },
    {
     "name": "stdout",
     "output_type": "stream",
     "text": [
      "1 : Not Found\n",
      "2 : Not Found\n",
      "3 : Not Found\n",
      "4 : Not Found\n",
      "5 : Not Found\n",
      "9 : Not Found\n",
      "13 : Not Found\n",
      "14 : Not Found\n"
     ]
    },
    {
     "name": "stderr",
     "output_type": "stream",
     "text": [
      " 32%|███▏      | 161/500 [13:03<36:22,  6.44s/it]"
     ]
    },
    {
     "name": "stdout",
     "output_type": "stream",
     "text": [
      "18 : Not Found\n",
      "1 : Not Found\n",
      "2 : Not Found\n",
      "3 : Not Found\n"
     ]
    },
    {
     "name": "stderr",
     "output_type": "stream",
     "text": [
      " 32%|███▏      | 162/500 [13:07<32:19,  5.74s/it]"
     ]
    },
    {
     "name": "stdout",
     "output_type": "stream",
     "text": [
      "1 : Not Found\n",
      "2 : Not Found\n",
      "3 : Not Found\n",
      "4 : Not Found\n",
      "6 : Not Found\n",
      "7 : Not Found\n"
     ]
    },
    {
     "name": "stderr",
     "output_type": "stream",
     "text": [
      " 33%|███▎      | 163/500 [13:11<30:28,  5.43s/it]"
     ]
    },
    {
     "name": "stdout",
     "output_type": "stream",
     "text": [
      "1 : Not Found\n",
      "2 : Not Found\n",
      "3 : Not Found\n",
      "4 : Not Found\n"
     ]
    },
    {
     "name": "stderr",
     "output_type": "stream",
     "text": [
      " 33%|███▎      | 164/500 [13:15<27:59,  5.00s/it]"
     ]
    },
    {
     "name": "stdout",
     "output_type": "stream",
     "text": [
      "1 : Not Found\n",
      "2 : Not Found\n",
      "3 : Not Found\n",
      "4 : Not Found\n",
      "8 : Not Found\n"
     ]
    },
    {
     "name": "stderr",
     "output_type": "stream",
     "text": [
      " 33%|███▎      | 165/500 [13:20<27:14,  4.88s/it]"
     ]
    },
    {
     "name": "stdout",
     "output_type": "stream",
     "text": [
      "1 : Not Found\n",
      "2 : Not Found\n",
      "3 : Not Found\n",
      "4 : Not Found\n",
      "5 : Not Found\n",
      "12 : Not Found\n",
      "13 : Not Found\n"
     ]
    },
    {
     "name": "stderr",
     "output_type": "stream",
     "text": [
      " 33%|███▎      | 166/500 [13:26<28:44,  5.16s/it]"
     ]
    },
    {
     "name": "stdout",
     "output_type": "stream",
     "text": [
      "19 : Not Found\n",
      "1 : Not Found\n",
      "2 : Not Found\n",
      "3 : Not Found\n",
      "4 : Not Found\n",
      "18 : Not Found\n"
     ]
    },
    {
     "name": "stderr",
     "output_type": "stream",
     "text": [
      " 33%|███▎      | 167/500 [13:31<28:40,  5.17s/it]"
     ]
    },
    {
     "name": "stdout",
     "output_type": "stream",
     "text": [
      "19 : Not Found\n",
      "1 : Not Found\n",
      "2 : Not Found\n",
      "3 : Not Found\n",
      "4 : Not Found\n"
     ]
    },
    {
     "name": "stderr",
     "output_type": "stream",
     "text": [
      " 34%|███▎      | 168/500 [13:36<27:26,  4.96s/it]"
     ]
    },
    {
     "name": "stdout",
     "output_type": "stream",
     "text": [
      "17 : Not Found\n",
      "1 : Not Found\n",
      "2 : Not Found\n",
      "3 : Not Found\n",
      "4 : Not Found\n",
      "8 : Not Found\n",
      "13 : Not Found\n",
      "14 : Not Found\n",
      "15 : Not Found\n"
     ]
    },
    {
     "name": "stderr",
     "output_type": "stream",
     "text": [
      " 34%|███▍      | 169/500 [13:42<29:47,  5.40s/it]"
     ]
    },
    {
     "name": "stdout",
     "output_type": "stream",
     "text": [
      "19 : Not Found\n",
      "1 : Not Found\n",
      "2 : Not Found\n",
      "3 : Not Found\n",
      "4 : Not Found\n",
      "6 : Not Found\n",
      "13 : Not Found\n"
     ]
    },
    {
     "name": "stderr",
     "output_type": "stream",
     "text": [
      " 34%|███▍      | 170/500 [13:47<29:12,  5.31s/it]"
     ]
    },
    {
     "name": "stdout",
     "output_type": "stream",
     "text": [
      "1 : Not Found\n",
      "2 : Not Found\n",
      "3 : Not Found\n",
      "4 : Not Found\n"
     ]
    },
    {
     "name": "stderr",
     "output_type": "stream",
     "text": [
      " 34%|███▍      | 171/500 [13:51<27:11,  4.96s/it]"
     ]
    },
    {
     "name": "stdout",
     "output_type": "stream",
     "text": [
      "1 : Not Found\n",
      "2 : Not Found\n",
      "3 : Not Found\n",
      "4 : Not Found\n",
      "15 : Not Found\n"
     ]
    },
    {
     "name": "stderr",
     "output_type": "stream",
     "text": [
      " 34%|███▍      | 172/500 [13:56<26:40,  4.88s/it]"
     ]
    },
    {
     "name": "stdout",
     "output_type": "stream",
     "text": [
      "1 : Not Found\n",
      "2 : Not Found\n",
      "3 : Not Found\n",
      "12 : Not Found\n",
      "16 : Not Found\n"
     ]
    },
    {
     "name": "stderr",
     "output_type": "stream",
     "text": [
      " 35%|███▍      | 173/500 [14:01<26:32,  4.87s/it]"
     ]
    },
    {
     "name": "stdout",
     "output_type": "stream",
     "text": [
      "1 : Not Found\n",
      "2 : Not Found\n",
      "3 : Not Found\n",
      "4 : Not Found\n",
      "6 : Not Found\n"
     ]
    },
    {
     "name": "stderr",
     "output_type": "stream",
     "text": [
      " 35%|███▍      | 174/500 [14:06<26:24,  4.86s/it]"
     ]
    },
    {
     "name": "stdout",
     "output_type": "stream",
     "text": [
      "1 : Not Found\n",
      "2 : Not Found\n",
      "3 : Not Found\n",
      "4 : Not Found\n"
     ]
    },
    {
     "name": "stderr",
     "output_type": "stream",
     "text": [
      " 35%|███▌      | 175/500 [14:10<25:24,  4.69s/it]"
     ]
    },
    {
     "name": "stdout",
     "output_type": "stream",
     "text": [
      "1 : Not Found\n",
      "2 : Not Found\n",
      "3 : Not Found\n",
      "4 : Not Found\n"
     ]
    },
    {
     "name": "stderr",
     "output_type": "stream",
     "text": [
      " 35%|███▌      | 176/500 [14:14<25:10,  4.66s/it]"
     ]
    },
    {
     "name": "stdout",
     "output_type": "stream",
     "text": [
      "17 : Not Found\n",
      "1 : Not Found\n",
      "2 : Not Found\n",
      "3 : Not Found\n",
      "4 : Not Found\n"
     ]
    },
    {
     "name": "stderr",
     "output_type": "stream",
     "text": [
      " 35%|███▌      | 177/500 [14:19<25:09,  4.67s/it]"
     ]
    },
    {
     "name": "stdout",
     "output_type": "stream",
     "text": [
      "18 : Not Found\n",
      "1 : Not Found\n",
      "2 : Not Found\n",
      "3 : Not Found\n",
      "4 : Not Found\n",
      "14 : Not Found\n",
      "15 : Not Found\n",
      "16 : Not Found\n"
     ]
    },
    {
     "name": "stderr",
     "output_type": "stream",
     "text": [
      " 36%|███▌      | 178/500 [14:25<27:09,  5.06s/it]"
     ]
    },
    {
     "name": "stdout",
     "output_type": "stream",
     "text": [
      "19 : Not Found\n",
      "1 : Not Found\n",
      "2 : Not Found\n",
      "3 : Not Found\n",
      "4 : Not Found\n"
     ]
    },
    {
     "name": "stderr",
     "output_type": "stream",
     "text": [
      " 36%|███▌      | 179/500 [14:30<26:23,  4.93s/it]"
     ]
    },
    {
     "name": "stdout",
     "output_type": "stream",
     "text": [
      "20 : Not Found\n",
      "1 : Not Found\n",
      "2 : Not Found\n",
      "3 : Not Found\n",
      "4 : Not Found\n",
      "7 : Not Found\n"
     ]
    },
    {
     "name": "stderr",
     "output_type": "stream",
     "text": [
      " 36%|███▌      | 180/500 [14:35<26:11,  4.91s/it]"
     ]
    },
    {
     "name": "stdout",
     "output_type": "stream",
     "text": [
      "18 : Not Found\n",
      "1 : Not Found\n",
      "2 : Not Found\n",
      "3 : Not Found\n",
      "4 : Not Found\n",
      "5 : Not Found\n",
      "7 : Not Found\n",
      "17 : Not Found\n",
      "18 : Not Found\n"
     ]
    },
    {
     "name": "stderr",
     "output_type": "stream",
     "text": [
      " 36%|███▌      | 181/500 [14:41<28:50,  5.42s/it]"
     ]
    },
    {
     "name": "stdout",
     "output_type": "stream",
     "text": [
      "20 : Not Found\n",
      "1 : Not Found\n",
      "2 : Not Found\n",
      "3 : Not Found\n",
      "4 : Not Found\n"
     ]
    },
    {
     "name": "stderr",
     "output_type": "stream",
     "text": [
      " 36%|███▋      | 182/500 [14:46<27:50,  5.25s/it]"
     ]
    },
    {
     "name": "stdout",
     "output_type": "stream",
     "text": [
      "20 : Not Found\n",
      "1 : Not Found\n",
      "2 : Not Found\n",
      "3 : Not Found\n",
      "5 : Not Found\n"
     ]
    },
    {
     "name": "stderr",
     "output_type": "stream",
     "text": [
      " 37%|███▋      | 183/500 [14:51<26:43,  5.06s/it]"
     ]
    },
    {
     "name": "stdout",
     "output_type": "stream",
     "text": [
      "1 : Not Found\n",
      "2 : Not Found\n",
      "3 : Not Found\n"
     ]
    },
    {
     "name": "stderr",
     "output_type": "stream",
     "text": [
      " 37%|███▋      | 184/500 [14:55<25:12,  4.79s/it]"
     ]
    },
    {
     "name": "stdout",
     "output_type": "stream",
     "text": [
      "1 : Not Found\n",
      "2 : Not Found\n",
      "3 : Not Found\n",
      "4 : Not Found\n",
      "9 : Not Found\n"
     ]
    },
    {
     "name": "stderr",
     "output_type": "stream",
     "text": [
      " 37%|███▋      | 185/500 [15:00<25:02,  4.77s/it]"
     ]
    },
    {
     "name": "stdout",
     "output_type": "stream",
     "text": [
      "1 : Not Found\n",
      "2 : Not Found\n",
      "3 : Not Found\n",
      "4 : Not Found\n",
      "5 : Not Found\n",
      "6 : Not Found\n",
      "7 : Not Found\n",
      "8 : Not Found\n",
      "10 : Not Found\n"
     ]
    },
    {
     "name": "stderr",
     "output_type": "stream",
     "text": [
      " 37%|███▋      | 186/500 [15:12<36:14,  6.92s/it]"
     ]
    },
    {
     "name": "stdout",
     "output_type": "stream",
     "text": [
      "1 : Not Found\n",
      "2 : Not Found\n",
      "3 : Not Found\n",
      "4 : Not Found\n",
      "14 : Not Found\n"
     ]
    },
    {
     "name": "stderr",
     "output_type": "stream",
     "text": [
      " 37%|███▋      | 187/500 [15:16<32:53,  6.31s/it]"
     ]
    },
    {
     "name": "stdout",
     "output_type": "stream",
     "text": [
      "1 : Not Found\n",
      "2 : Not Found\n",
      "3 : Not Found\n",
      "4 : Not Found\n",
      "5 : Not Found\n",
      "11 : Not Found\n",
      "15 : Not Found\n",
      "16 : Not Found\n"
     ]
    },
    {
     "name": "stderr",
     "output_type": "stream",
     "text": [
      " 38%|███▊      | 188/500 [15:22<32:12,  6.19s/it]"
     ]
    },
    {
     "name": "stdout",
     "output_type": "stream",
     "text": [
      "1 : Not Found\n",
      "2 : Not Found\n",
      "3 : Not Found\n",
      "9 : Not Found\n",
      "10 : Not Found\n"
     ]
    },
    {
     "name": "stderr",
     "output_type": "stream",
     "text": [
      " 38%|███▊      | 189/500 [15:28<30:59,  5.98s/it]"
     ]
    },
    {
     "name": "stdout",
     "output_type": "stream",
     "text": [
      "17 : Not Found\n",
      "1 : Not Found\n",
      "2 : Not Found\n",
      "3 : Not Found\n",
      "4 : Not Found\n",
      "8 : Not Found\n",
      "12 : Not Found\n",
      "13 : Not Found\n"
     ]
    },
    {
     "name": "stderr",
     "output_type": "stream",
     "text": [
      " 38%|███▊      | 190/500 [15:34<30:34,  5.92s/it]"
     ]
    },
    {
     "name": "stdout",
     "output_type": "stream",
     "text": [
      "18 : Not Found\n",
      "1 : Not Found\n",
      "2 : Not Found\n",
      "3 : Not Found\n",
      "4 : Not Found\n",
      "5 : Not Found\n",
      "6 : Not Found\n",
      "13 : Not Found\n"
     ]
    },
    {
     "name": "stderr",
     "output_type": "stream",
     "text": [
      " 38%|███▊      | 191/500 [15:39<29:16,  5.69s/it]"
     ]
    },
    {
     "name": "stdout",
     "output_type": "stream",
     "text": [
      "1 : Not Found\n",
      "2 : Not Found\n",
      "3 : Not Found\n",
      "4 : Not Found\n",
      "5 : Not Found\n",
      "6 : Not Found\n"
     ]
    },
    {
     "name": "stderr",
     "output_type": "stream",
     "text": [
      " 38%|███▊      | 192/500 [15:44<28:51,  5.62s/it]"
     ]
    },
    {
     "name": "stdout",
     "output_type": "stream",
     "text": [
      "17 : Not Found\n",
      "1 : Not Found\n",
      "2 : Not Found\n",
      "3 : Not Found\n",
      "4 : Not Found\n"
     ]
    },
    {
     "name": "stderr",
     "output_type": "stream",
     "text": [
      " 39%|███▊      | 193/500 [15:48<26:35,  5.20s/it]"
     ]
    },
    {
     "name": "stdout",
     "output_type": "stream",
     "text": [
      "1 : Not Found\n",
      "2 : Not Found\n",
      "3 : Not Found\n"
     ]
    },
    {
     "name": "stderr",
     "output_type": "stream",
     "text": [
      " 39%|███▉      | 194/500 [15:53<25:25,  4.99s/it]"
     ]
    },
    {
     "name": "stdout",
     "output_type": "stream",
     "text": [
      "1 : Not Found\n",
      "2 : Not Found\n",
      "3 : Not Found\n",
      "4 : Not Found\n",
      "11 : Not Found\n"
     ]
    },
    {
     "name": "stderr",
     "output_type": "stream",
     "text": [
      " 39%|███▉      | 195/500 [15:58<24:50,  4.89s/it]"
     ]
    },
    {
     "name": "stdout",
     "output_type": "stream",
     "text": [
      "1 : Not Found\n",
      "2 : Not Found\n",
      "3 : Not Found\n"
     ]
    },
    {
     "name": "stderr",
     "output_type": "stream",
     "text": [
      " 39%|███▉      | 196/500 [16:02<24:11,  4.77s/it]"
     ]
    },
    {
     "name": "stdout",
     "output_type": "stream",
     "text": [
      "1 : Not Found\n",
      "2 : Not Found\n",
      "3 : Not Found\n",
      "4 : Not Found\n"
     ]
    },
    {
     "name": "stderr",
     "output_type": "stream",
     "text": [
      " 39%|███▉      | 197/500 [16:07<23:54,  4.73s/it]"
     ]
    },
    {
     "name": "stdout",
     "output_type": "stream",
     "text": [
      "1 : Not Found\n",
      "2 : Not Found\n",
      "3 : Not Found\n",
      "4 : Not Found\n",
      "13 : Not Found\n"
     ]
    },
    {
     "name": "stderr",
     "output_type": "stream",
     "text": [
      " 40%|███▉      | 198/500 [16:12<24:00,  4.77s/it]"
     ]
    },
    {
     "name": "stdout",
     "output_type": "stream",
     "text": [
      "1 : Not Found\n",
      "2 : Not Found\n",
      "3 : Not Found\n",
      "4 : Not Found\n",
      "9 : Not Found\n",
      "14 : Not Found\n",
      "15 : Not Found\n",
      "16 : Not Found\n"
     ]
    },
    {
     "name": "stderr",
     "output_type": "stream",
     "text": [
      " 40%|███▉      | 199/500 [16:18<26:37,  5.31s/it]"
     ]
    },
    {
     "name": "stdout",
     "output_type": "stream",
     "text": [
      "18 : Not Found\n",
      "1 : Not Found\n",
      "2 : Not Found\n",
      "3 : Not Found\n",
      "4 : Not Found\n"
     ]
    },
    {
     "name": "stderr",
     "output_type": "stream",
     "text": [
      " 40%|████      | 200/500 [16:23<25:21,  5.07s/it]"
     ]
    },
    {
     "name": "stdout",
     "output_type": "stream",
     "text": [
      "1 : Not Found\n",
      "2 : Not Found\n",
      "3 : Not Found\n",
      "4 : Not Found\n",
      "8 : Not Found\n",
      "13 : Not Found\n",
      "14 : Not Found\n",
      "15 : Not Found\n"
     ]
    },
    {
     "name": "stderr",
     "output_type": "stream",
     "text": [
      " 40%|████      | 201/500 [16:29<27:23,  5.50s/it]"
     ]
    },
    {
     "name": "stdout",
     "output_type": "stream",
     "text": [
      "19 : Not Found\n",
      "1 : Not Found\n",
      "2 : Not Found\n",
      "3 : Not Found\n",
      "4 : Not Found\n",
      "8 : Not Found\n",
      "14 : Not Found\n",
      "15 : Not Found\n"
     ]
    },
    {
     "name": "stderr",
     "output_type": "stream",
     "text": [
      " 40%|████      | 202/500 [16:35<28:01,  5.64s/it]"
     ]
    },
    {
     "name": "stdout",
     "output_type": "stream",
     "text": [
      "18 : Not Found\n",
      "1 : Not Found\n",
      "2 : Not Found\n",
      "3 : Not Found\n",
      "4 : Not Found\n"
     ]
    },
    {
     "name": "stderr",
     "output_type": "stream",
     "text": [
      " 41%|████      | 203/500 [16:40<26:19,  5.32s/it]"
     ]
    },
    {
     "name": "stdout",
     "output_type": "stream",
     "text": [
      "1 : Not Found\n",
      "2 : Not Found\n",
      "3 : Not Found\n",
      "9 : Not Found\n",
      "13 : Not Found\n",
      "16 : Not Found\n",
      "17 : Not Found\n",
      "18 : Not Found\n"
     ]
    },
    {
     "name": "stderr",
     "output_type": "stream",
     "text": [
      " 41%|████      | 204/500 [16:47<28:40,  5.81s/it]"
     ]
    },
    {
     "name": "stdout",
     "output_type": "stream",
     "text": [
      "20 : Not Found\n",
      "1 : Not Found\n",
      "2 : Not Found\n",
      "3 : Not Found\n",
      "5 : Not Found\n",
      "9 : Not Found\n"
     ]
    },
    {
     "name": "stderr",
     "output_type": "stream",
     "text": [
      " 41%|████      | 205/500 [16:52<27:14,  5.54s/it]"
     ]
    },
    {
     "name": "stdout",
     "output_type": "stream",
     "text": [
      "1 : Not Found\n",
      "2 : Not Found\n",
      "3 : Not Found\n",
      "4 : Not Found\n",
      "10 : Not Found\n",
      "11 : Not Found\n"
     ]
    },
    {
     "name": "stderr",
     "output_type": "stream",
     "text": [
      " 41%|████      | 206/500 [16:57<27:09,  5.54s/it]"
     ]
    },
    {
     "name": "stdout",
     "output_type": "stream",
     "text": [
      "17 : Not Found\n",
      "1 : Not Found\n",
      "2 : Not Found\n",
      "3 : Not Found\n",
      "4 : Not Found\n"
     ]
    },
    {
     "name": "stderr",
     "output_type": "stream",
     "text": [
      " 41%|████▏     | 207/500 [17:01<25:07,  5.15s/it]"
     ]
    },
    {
     "name": "stdout",
     "output_type": "stream",
     "text": [
      "1 : Not Found\n",
      "2 : Not Found\n",
      "3 : Not Found\n",
      "4 : Not Found\n",
      "10 : Not Found\n",
      "12 : Not Found\n",
      "13 : Not Found\n",
      "14 : Not Found\n"
     ]
    },
    {
     "name": "stderr",
     "output_type": "stream",
     "text": [
      " 42%|████▏     | 208/500 [17:07<26:31,  5.45s/it]"
     ]
    },
    {
     "name": "stdout",
     "output_type": "stream",
     "text": [
      "1 : Not Found\n",
      "2 : Not Found\n",
      "3 : Not Found\n",
      "6 : Not Found\n",
      "7 : Not Found\n",
      "9 : Not Found\n",
      "10 : Not Found\n",
      "16 : Not Found\n"
     ]
    },
    {
     "name": "stderr",
     "output_type": "stream",
     "text": [
      " 42%|████▏     | 209/500 [17:14<27:19,  5.63s/it]"
     ]
    },
    {
     "name": "stdout",
     "output_type": "stream",
     "text": [
      "1 : Not Found\n",
      "2 : Not Found\n",
      "3 : Not Found\n",
      "4 : Not Found\n",
      "9 : Not Found\n",
      "15 : Not Found\n"
     ]
    },
    {
     "name": "stderr",
     "output_type": "stream",
     "text": [
      " 42%|████▏     | 210/500 [17:19<27:00,  5.59s/it]"
     ]
    },
    {
     "name": "stdout",
     "output_type": "stream",
     "text": [
      "18 : Not Found\n",
      "1 : Not Found\n",
      "2 : Not Found\n",
      "3 : Not Found\n",
      "4 : Not Found\n"
     ]
    },
    {
     "name": "stderr",
     "output_type": "stream",
     "text": [
      " 42%|████▏     | 211/500 [17:23<25:11,  5.23s/it]"
     ]
    },
    {
     "name": "stdout",
     "output_type": "stream",
     "text": [
      "1 : Not Found\n",
      "2 : Not Found\n",
      "3 : Not Found\n",
      "4 : Not Found\n"
     ]
    },
    {
     "name": "stderr",
     "output_type": "stream",
     "text": [
      " 42%|████▏     | 212/500 [17:28<24:23,  5.08s/it]"
     ]
    },
    {
     "name": "stdout",
     "output_type": "stream",
     "text": [
      "19 : Not Found\n",
      "1 : Not Found\n",
      "2 : Not Found\n",
      "3 : Not Found\n",
      "4 : Not Found\n",
      "5 : Not Found\n",
      "6 : Not Found\n",
      "7 : Not Found\n",
      "8 : Not Found\n"
     ]
    },
    {
     "name": "stderr",
     "output_type": "stream",
     "text": [
      " 43%|████▎     | 213/500 [17:34<25:35,  5.35s/it]"
     ]
    },
    {
     "name": "stdout",
     "output_type": "stream",
     "text": [
      "1 : Not Found\n",
      "2 : Not Found\n",
      "3 : Not Found\n",
      "15 : Not Found\n"
     ]
    },
    {
     "name": "stderr",
     "output_type": "stream",
     "text": [
      " 43%|████▎     | 214/500 [17:39<24:39,  5.17s/it]"
     ]
    },
    {
     "name": "stdout",
     "output_type": "stream",
     "text": [
      "1 : Not Found\n",
      "2 : Not Found\n",
      "3 : Not Found\n",
      "4 : Not Found\n",
      "5 : Not Found\n",
      "11 : Not Found\n",
      "12 : Not Found\n",
      "15 : Not Found\n",
      "16 : Not Found\n"
     ]
    },
    {
     "name": "stderr",
     "output_type": "stream",
     "text": [
      " 43%|████▎     | 215/500 [17:46<26:50,  5.65s/it]"
     ]
    },
    {
     "name": "stdout",
     "output_type": "stream",
     "text": [
      "17 : Not Found\n",
      "1 : Not Found\n",
      "2 : Not Found\n",
      "3 : Not Found\n",
      "4 : Not Found\n"
     ]
    },
    {
     "name": "stderr",
     "output_type": "stream",
     "text": [
      " 43%|████▎     | 216/500 [17:50<25:01,  5.29s/it]"
     ]
    },
    {
     "name": "stdout",
     "output_type": "stream",
     "text": [
      "1 : Not Found\n",
      "2 : Not Found\n",
      "3 : Not Found\n",
      "17 : Not Found\n"
     ]
    },
    {
     "name": "stderr",
     "output_type": "stream",
     "text": [
      " 43%|████▎     | 217/500 [17:55<24:03,  5.10s/it]"
     ]
    },
    {
     "name": "stdout",
     "output_type": "stream",
     "text": [
      "1 : Not Found\n",
      "2 : Not Found\n",
      "3 : Not Found\n",
      "4 : Not Found\n"
     ]
    },
    {
     "name": "stderr",
     "output_type": "stream",
     "text": [
      " 44%|████▎     | 218/500 [17:59<22:49,  4.86s/it]"
     ]
    },
    {
     "name": "stdout",
     "output_type": "stream",
     "text": [
      "1 : Not Found\n",
      "2 : Not Found\n",
      "3 : Not Found\n",
      "4 : Not Found\n",
      "5 : Not Found\n",
      "13 : Not Found\n",
      "16 : Not Found\n"
     ]
    },
    {
     "name": "stderr",
     "output_type": "stream",
     "text": [
      " 44%|████▍     | 219/500 [18:04<23:33,  5.03s/it]"
     ]
    },
    {
     "name": "stdout",
     "output_type": "stream",
     "text": [
      "1 : Not Found\n",
      "2 : Not Found\n",
      "3 : Not Found\n",
      "4 : Not Found\n",
      "10 : Not Found\n",
      "13 : Not Found\n"
     ]
    },
    {
     "name": "stderr",
     "output_type": "stream",
     "text": [
      " 44%|████▍     | 220/500 [18:10<24:00,  5.15s/it]"
     ]
    },
    {
     "name": "stdout",
     "output_type": "stream",
     "text": [
      "20 : Not Found\n",
      "1 : Not Found\n",
      "2 : Not Found\n",
      "3 : Not Found\n",
      "4 : Not Found\n",
      "9 : Not Found\n",
      "12 : Not Found\n",
      "16 : Not Found\n"
     ]
    },
    {
     "name": "stderr",
     "output_type": "stream",
     "text": [
      " 44%|████▍     | 221/500 [18:15<24:24,  5.25s/it]"
     ]
    },
    {
     "name": "stdout",
     "output_type": "stream",
     "text": [
      "1 : Not Found\n",
      "2 : Not Found\n",
      "3 : Not Found\n"
     ]
    },
    {
     "name": "stderr",
     "output_type": "stream",
     "text": [
      " 44%|████▍     | 222/500 [18:20<22:51,  4.93s/it]"
     ]
    },
    {
     "name": "stdout",
     "output_type": "stream",
     "text": [
      "1 : Not Found\n",
      "2 : Not Found\n",
      "3 : Not Found\n",
      "4 : Not Found\n"
     ]
    },
    {
     "name": "stderr",
     "output_type": "stream",
     "text": [
      " 45%|████▍     | 223/500 [18:25<22:49,  4.94s/it]"
     ]
    },
    {
     "name": "stdout",
     "output_type": "stream",
     "text": [
      "19 : Not Found\n",
      "1 : Not Found\n",
      "2 : Not Found\n",
      "3 : Not Found\n",
      "4 : Not Found\n",
      "14 : Not Found\n",
      "16 : Not Found\n",
      "18 : Not Found\n"
     ]
    },
    {
     "name": "stderr",
     "output_type": "stream",
     "text": [
      " 45%|████▍     | 224/500 [18:31<24:20,  5.29s/it]"
     ]
    },
    {
     "name": "stdout",
     "output_type": "stream",
     "text": [
      "20 : Not Found\n",
      "1 : Not Found\n",
      "2 : Not Found\n",
      "3 : Not Found\n",
      "4 : Not Found\n",
      "6 : Not Found\n",
      "8 : Not Found\n",
      "15 : Not Found\n",
      "19 : Not Found\n"
     ]
    },
    {
     "name": "stderr",
     "output_type": "stream",
     "text": [
      " 45%|████▌     | 225/500 [18:37<25:54,  5.65s/it]"
     ]
    },
    {
     "name": "stdout",
     "output_type": "stream",
     "text": [
      "20 : Not Found\n",
      "1 : Not Found\n",
      "2 : Not Found\n",
      "3 : Not Found\n"
     ]
    },
    {
     "name": "stderr",
     "output_type": "stream",
     "text": [
      " 45%|████▌     | 226/500 [18:41<23:54,  5.24s/it]"
     ]
    },
    {
     "name": "stdout",
     "output_type": "stream",
     "text": [
      "1 : Not Found\n",
      "2 : Not Found\n",
      "3 : Not Found\n",
      "4 : Not Found\n",
      "6 : Not Found\n",
      "7 : Not Found\n",
      "8 : Not Found\n",
      "10 : Not Found\n",
      "13 : Not Found\n",
      "14 : Not Found\n"
     ]
    },
    {
     "name": "stderr",
     "output_type": "stream",
     "text": [
      " 45%|████▌     | 227/500 [18:48<25:59,  5.71s/it]"
     ]
    },
    {
     "name": "stdout",
     "output_type": "stream",
     "text": [
      "1 : Not Found\n",
      "2 : Not Found\n",
      "3 : Not Found\n",
      "4 : Not Found\n"
     ]
    },
    {
     "name": "stderr",
     "output_type": "stream",
     "text": [
      " 46%|████▌     | 228/500 [18:53<24:04,  5.31s/it]"
     ]
    },
    {
     "name": "stdout",
     "output_type": "stream",
     "text": [
      "1 : Not Found\n",
      "2 : Not Found\n",
      "3 : Not Found\n",
      "4 : Not Found\n",
      "10 : Not Found\n",
      "12 : Not Found\n"
     ]
    },
    {
     "name": "stderr",
     "output_type": "stream",
     "text": [
      " 46%|████▌     | 229/500 [18:58<23:40,  5.24s/it]"
     ]
    },
    {
     "name": "stdout",
     "output_type": "stream",
     "text": [
      "1 : Not Found\n",
      "2 : Not Found\n",
      "3 : Not Found\n",
      "4 : Not Found\n",
      "15 : Not Found\n"
     ]
    },
    {
     "name": "stderr",
     "output_type": "stream",
     "text": [
      " 46%|████▌     | 230/500 [19:03<23:21,  5.19s/it]"
     ]
    },
    {
     "name": "stdout",
     "output_type": "stream",
     "text": [
      "17 : Not Found\n",
      "1 : Not Found\n",
      "2 : Not Found\n",
      "3 : Not Found\n",
      "4 : Not Found\n"
     ]
    },
    {
     "name": "stderr",
     "output_type": "stream",
     "text": [
      " 46%|████▌     | 231/500 [19:07<22:17,  4.97s/it]"
     ]
    },
    {
     "name": "stdout",
     "output_type": "stream",
     "text": [
      "1 : Not Found\n",
      "2 : Not Found\n",
      "3 : Not Found\n",
      "4 : Not Found\n"
     ]
    },
    {
     "name": "stderr",
     "output_type": "stream",
     "text": [
      " 46%|████▋     | 232/500 [19:12<21:45,  4.87s/it]"
     ]
    },
    {
     "name": "stdout",
     "output_type": "stream",
     "text": [
      "1 : Not Found\n",
      "2 : Not Found\n",
      "3 : Not Found\n",
      "4 : Not Found\n",
      "6 : Not Found\n",
      "14 : Not Found\n",
      "17 : Not Found\n"
     ]
    },
    {
     "name": "stderr",
     "output_type": "stream",
     "text": [
      " 47%|████▋     | 233/500 [19:18<23:10,  5.21s/it]"
     ]
    },
    {
     "name": "stdout",
     "output_type": "stream",
     "text": [
      "18 : Not Found\n",
      "1 : Not Found\n",
      "2 : Not Found\n",
      "3 : Not Found\n",
      "4 : Not Found\n"
     ]
    },
    {
     "name": "stderr",
     "output_type": "stream",
     "text": [
      " 47%|████▋     | 234/500 [19:22<22:18,  5.03s/it]"
     ]
    },
    {
     "name": "stdout",
     "output_type": "stream",
     "text": [
      "1 : Not Found\n",
      "2 : Not Found\n",
      "3 : Not Found\n"
     ]
    },
    {
     "name": "stderr",
     "output_type": "stream",
     "text": [
      " 47%|████▋     | 235/500 [19:27<21:08,  4.79s/it]"
     ]
    },
    {
     "name": "stdout",
     "output_type": "stream",
     "text": [
      "1 : Not Found\n",
      "2 : Not Found\n",
      "3 : Not Found\n",
      "4 : Not Found\n",
      "9 : Not Found\n"
     ]
    },
    {
     "name": "stderr",
     "output_type": "stream",
     "text": [
      " 47%|████▋     | 236/500 [19:32<21:21,  4.85s/it]"
     ]
    },
    {
     "name": "stdout",
     "output_type": "stream",
     "text": [
      "1 : Not Found\n",
      "2 : Not Found\n",
      "3 : Not Found\n",
      "4 : Not Found\n"
     ]
    },
    {
     "name": "stderr",
     "output_type": "stream",
     "text": [
      " 47%|████▋     | 237/500 [19:36<20:54,  4.77s/it]"
     ]
    },
    {
     "name": "stdout",
     "output_type": "stream",
     "text": [
      "1 : Not Found\n",
      "2 : Not Found\n",
      "3 : Not Found\n",
      "4 : Not Found\n"
     ]
    },
    {
     "name": "stderr",
     "output_type": "stream",
     "text": [
      " 48%|████▊     | 238/500 [19:41<20:25,  4.68s/it]"
     ]
    },
    {
     "name": "stdout",
     "output_type": "stream",
     "text": [
      "1 : Not Found\n",
      "2 : Not Found\n",
      "3 : Not Found\n",
      "4 : Not Found\n",
      "5 : Not Found\n",
      "11 : Not Found\n",
      "15 : Not Found\n"
     ]
    },
    {
     "name": "stderr",
     "output_type": "stream",
     "text": [
      " 48%|████▊     | 239/500 [19:47<21:58,  5.05s/it]"
     ]
    },
    {
     "name": "stdout",
     "output_type": "stream",
     "text": [
      "19 : Not Found\n",
      "1 : Not Found\n",
      "2 : Not Found\n",
      "3 : Not Found\n",
      "4 : Not Found\n",
      "8 : Not Found\n"
     ]
    },
    {
     "name": "stderr",
     "output_type": "stream",
     "text": [
      " 48%|████▊     | 240/500 [19:52<21:43,  5.01s/it]"
     ]
    },
    {
     "name": "stdout",
     "output_type": "stream",
     "text": [
      "1 : Not Found\n",
      "2 : Not Found\n",
      "3 : Not Found\n",
      "4 : Not Found\n",
      "9 : Not Found\n",
      "10 : Not Found\n",
      "11 : Not Found\n",
      "12 : Not Found\n",
      "13 : Not Found\n",
      "14 : Not Found\n",
      "15 : Not Found\n",
      "19 : Not Found\n"
     ]
    },
    {
     "name": "stderr",
     "output_type": "stream",
     "text": [
      " 48%|████▊     | 241/500 [20:00<25:47,  5.98s/it]"
     ]
    },
    {
     "name": "stdout",
     "output_type": "stream",
     "text": [
      "20 : Not Found\n",
      "1 : Not Found\n",
      "2 : Not Found\n",
      "3 : Not Found\n",
      "4 : Not Found\n",
      "5 : Not Found\n",
      "11 : Not Found\n",
      "18 : Not Found\n"
     ]
    },
    {
     "name": "stderr",
     "output_type": "stream",
     "text": [
      " 48%|████▊     | 242/500 [20:06<25:25,  5.91s/it]"
     ]
    },
    {
     "name": "stdout",
     "output_type": "stream",
     "text": [
      "19 : Not Found\n",
      "1 : Not Found\n",
      "2 : Not Found\n",
      "3 : Not Found\n",
      "4 : Not Found\n"
     ]
    },
    {
     "name": "stderr",
     "output_type": "stream",
     "text": [
      " 49%|████▊     | 243/500 [20:10<23:36,  5.51s/it]"
     ]
    },
    {
     "name": "stdout",
     "output_type": "stream",
     "text": [
      "1 : Not Found\n",
      "2 : Not Found\n",
      "3 : Not Found\n",
      "4 : Not Found\n"
     ]
    },
    {
     "name": "stderr",
     "output_type": "stream",
     "text": [
      " 49%|████▉     | 244/500 [20:14<21:45,  5.10s/it]"
     ]
    },
    {
     "name": "stdout",
     "output_type": "stream",
     "text": [
      "1 : Not Found\n",
      "2 : Not Found\n",
      "3 : Not Found\n",
      "4 : Not Found\n",
      "17 : Not Found\n"
     ]
    },
    {
     "name": "stderr",
     "output_type": "stream",
     "text": [
      " 49%|████▉     | 245/500 [20:20<21:57,  5.17s/it]"
     ]
    },
    {
     "name": "stdout",
     "output_type": "stream",
     "text": [
      "18 : Not Found\n",
      "1 : Not Found\n",
      "2 : Not Found\n",
      "3 : Not Found\n",
      "14 : Not Found\n"
     ]
    },
    {
     "name": "stderr",
     "output_type": "stream",
     "text": [
      " 49%|████▉     | 246/500 [20:24<21:26,  5.06s/it]"
     ]
    },
    {
     "name": "stdout",
     "output_type": "stream",
     "text": [
      "1 : Not Found\n",
      "2 : Not Found\n",
      "3 : Not Found\n",
      "4 : Not Found\n",
      "5 : Not Found\n",
      "6 : Not Found\n",
      "7 : Not Found\n",
      "10 : Not Found\n",
      "13 : Not Found\n"
     ]
    },
    {
     "name": "stderr",
     "output_type": "stream",
     "text": [
      " 49%|████▉     | 247/500 [20:31<23:04,  5.47s/it]"
     ]
    },
    {
     "name": "stdout",
     "output_type": "stream",
     "text": [
      "1 : Not Found\n",
      "2 : Not Found\n",
      "3 : Not Found\n",
      "4 : Not Found\n"
     ]
    },
    {
     "name": "stderr",
     "output_type": "stream",
     "text": [
      " 50%|████▉     | 248/500 [20:36<22:13,  5.29s/it]"
     ]
    },
    {
     "name": "stdout",
     "output_type": "stream",
     "text": [
      "1 : Not Found\n",
      "2 : Not Found\n",
      "3 : Not Found\n",
      "4 : Not Found\n"
     ]
    },
    {
     "name": "stderr",
     "output_type": "stream",
     "text": [
      " 50%|████▉     | 249/500 [20:40<21:18,  5.10s/it]"
     ]
    },
    {
     "name": "stdout",
     "output_type": "stream",
     "text": [
      "1 : Not Found\n",
      "2 : Not Found\n",
      "3 : Not Found\n"
     ]
    },
    {
     "name": "stderr",
     "output_type": "stream",
     "text": [
      " 50%|█████     | 250/500 [20:45<20:33,  4.93s/it]"
     ]
    },
    {
     "name": "stdout",
     "output_type": "stream",
     "text": [
      "1 : Not Found\n",
      "2 : Not Found\n",
      "3 : Not Found\n",
      "4 : Not Found\n"
     ]
    },
    {
     "name": "stderr",
     "output_type": "stream",
     "text": [
      " 50%|█████     | 251/500 [20:50<20:11,  4.86s/it]"
     ]
    },
    {
     "name": "stdout",
     "output_type": "stream",
     "text": [
      "1 : Not Found\n",
      "2 : Not Found\n",
      "3 : Not Found\n",
      "9 : Not Found\n",
      "10 : Not Found\n",
      "14 : Not Found\n"
     ]
    },
    {
     "name": "stderr",
     "output_type": "stream",
     "text": [
      " 50%|█████     | 252/500 [20:55<21:13,  5.13s/it]"
     ]
    },
    {
     "name": "stdout",
     "output_type": "stream",
     "text": [
      "1 : Not Found\n",
      "2 : Not Found\n",
      "3 : Not Found\n",
      "4 : Not Found\n",
      "7 : Not Found\n",
      "16 : Not Found\n"
     ]
    },
    {
     "name": "stderr",
     "output_type": "stream",
     "text": [
      " 51%|█████     | 253/500 [21:01<21:56,  5.33s/it]"
     ]
    },
    {
     "name": "stdout",
     "output_type": "stream",
     "text": [
      "19 : Not Found\n",
      "1 : Not Found\n",
      "2 : Not Found\n",
      "3 : Not Found\n"
     ]
    },
    {
     "name": "stderr",
     "output_type": "stream",
     "text": [
      " 51%|█████     | 254/500 [21:06<20:42,  5.05s/it]"
     ]
    },
    {
     "name": "stdout",
     "output_type": "stream",
     "text": [
      "1 : Not Found\n",
      "2 : Not Found\n",
      "3 : Not Found\n",
      "4 : Not Found\n"
     ]
    },
    {
     "name": "stderr",
     "output_type": "stream",
     "text": [
      " 51%|█████     | 255/500 [21:10<20:05,  4.92s/it]"
     ]
    },
    {
     "name": "stdout",
     "output_type": "stream",
     "text": [
      "1 : Not Found\n",
      "2 : Not Found\n",
      "3 : Not Found\n",
      "4 : Not Found\n",
      "11 : Not Found\n",
      "14 : Not Found\n"
     ]
    },
    {
     "name": "stderr",
     "output_type": "stream",
     "text": [
      " 51%|█████     | 256/500 [21:16<20:34,  5.06s/it]"
     ]
    },
    {
     "name": "stdout",
     "output_type": "stream",
     "text": [
      "1 : Not Found\n",
      "2 : Not Found\n",
      "3 : Not Found\n",
      "4 : Not Found\n",
      "7 : Not Found\n",
      "8 : Not Found\n",
      "9 : Not Found\n"
     ]
    },
    {
     "name": "stderr",
     "output_type": "stream",
     "text": [
      " 51%|█████▏    | 257/500 [21:22<21:33,  5.33s/it]"
     ]
    },
    {
     "name": "stdout",
     "output_type": "stream",
     "text": [
      "1 : Not Found\n",
      "2 : Not Found\n",
      "3 : Not Found\n",
      "11 : Not Found\n",
      "13 : Not Found\n",
      "14 : Not Found\n",
      "16 : Not Found\n"
     ]
    },
    {
     "name": "stderr",
     "output_type": "stream",
     "text": [
      " 52%|█████▏    | 258/500 [21:28<22:27,  5.57s/it]"
     ]
    },
    {
     "name": "stdout",
     "output_type": "stream",
     "text": [
      "1 : Not Found\n",
      "2 : Not Found\n",
      "3 : Not Found\n",
      "4 : Not Found\n"
     ]
    },
    {
     "name": "stderr",
     "output_type": "stream",
     "text": [
      " 52%|█████▏    | 259/500 [21:32<21:17,  5.30s/it]"
     ]
    },
    {
     "name": "stdout",
     "output_type": "stream",
     "text": [
      "1 : Not Found\n",
      "2 : Not Found\n",
      "3 : Not Found\n",
      "4 : Not Found\n"
     ]
    },
    {
     "name": "stderr",
     "output_type": "stream",
     "text": [
      " 52%|█████▏    | 260/500 [21:37<20:49,  5.20s/it]"
     ]
    },
    {
     "name": "stdout",
     "output_type": "stream",
     "text": [
      "19 : Not Found\n",
      "1 : Not Found\n",
      "2 : Not Found\n",
      "3 : Not Found\n",
      "4 : Not Found\n",
      "6 : Not Found\n",
      "9 : Not Found\n",
      "10 : Not Found\n",
      "15 : Not Found\n",
      "16 : Not Found\n",
      "19 : Not Found\n"
     ]
    },
    {
     "name": "stderr",
     "output_type": "stream",
     "text": [
      " 52%|█████▏    | 261/500 [21:44<22:57,  5.76s/it]"
     ]
    },
    {
     "name": "stdout",
     "output_type": "stream",
     "text": [
      "20 : Not Found\n",
      "1 : Not Found\n",
      "2 : Not Found\n",
      "3 : Not Found\n",
      "4 : Not Found\n",
      "7 : Not Found\n"
     ]
    },
    {
     "name": "stderr",
     "output_type": "stream",
     "text": [
      " 52%|█████▏    | 262/500 [21:49<21:56,  5.53s/it]"
     ]
    },
    {
     "name": "stdout",
     "output_type": "stream",
     "text": [
      "1 : Not Found\n",
      "2 : Not Found\n",
      "3 : Not Found\n",
      "4 : Not Found\n",
      "9 : Not Found\n",
      "15 : Not Found\n",
      "16 : Not Found\n"
     ]
    },
    {
     "name": "stderr",
     "output_type": "stream",
     "text": [
      " 53%|█████▎    | 263/500 [21:55<22:18,  5.65s/it]"
     ]
    },
    {
     "name": "stdout",
     "output_type": "stream",
     "text": [
      "1 : Not Found\n",
      "2 : Not Found\n",
      "3 : Not Found\n",
      "4 : Not Found\n"
     ]
    },
    {
     "name": "stderr",
     "output_type": "stream",
     "text": [
      " 53%|█████▎    | 264/500 [22:00<21:16,  5.41s/it]"
     ]
    },
    {
     "name": "stdout",
     "output_type": "stream",
     "text": [
      "19 : Not Found\n",
      "1 : Not Found\n",
      "2 : Not Found\n",
      "3 : Not Found\n",
      "4 : Not Found\n"
     ]
    },
    {
     "name": "stderr",
     "output_type": "stream",
     "text": [
      " 53%|█████▎    | 265/500 [22:05<20:26,  5.22s/it]"
     ]
    },
    {
     "name": "stdout",
     "output_type": "stream",
     "text": [
      "1 : Not Found\n",
      "2 : Not Found\n",
      "3 : Not Found\n",
      "4 : Not Found\n",
      "7 : Not Found\n",
      "14 : Not Found\n",
      "17 : Not Found\n",
      "18 : Not Found\n"
     ]
    },
    {
     "name": "stderr",
     "output_type": "stream",
     "text": [
      " 53%|█████▎    | 266/500 [22:12<22:09,  5.68s/it]"
     ]
    },
    {
     "name": "stdout",
     "output_type": "stream",
     "text": [
      "19 : Not Found\n",
      "1 : Not Found\n",
      "2 : Not Found\n",
      "3 : Not Found\n",
      "4 : Not Found\n"
     ]
    },
    {
     "name": "stderr",
     "output_type": "stream",
     "text": [
      " 53%|█████▎    | 267/500 [22:16<20:53,  5.38s/it]"
     ]
    },
    {
     "name": "stdout",
     "output_type": "stream",
     "text": [
      "1 : Not Found\n",
      "2 : Not Found\n",
      "3 : Not Found\n",
      "4 : Not Found\n"
     ]
    },
    {
     "name": "stderr",
     "output_type": "stream",
     "text": [
      " 54%|█████▎    | 268/500 [22:21<19:45,  5.11s/it]"
     ]
    },
    {
     "name": "stdout",
     "output_type": "stream",
     "text": [
      "1 : Not Found\n",
      "2 : Not Found\n",
      "3 : Not Found\n",
      "4 : Not Found\n"
     ]
    },
    {
     "name": "stderr",
     "output_type": "stream",
     "text": [
      " 54%|█████▍    | 269/500 [22:26<19:20,  5.02s/it]"
     ]
    },
    {
     "name": "stdout",
     "output_type": "stream",
     "text": [
      "1 : Not Found\n",
      "2 : Not Found\n",
      "3 : Not Found\n",
      "4 : Not Found\n",
      "6 : Not Found\n",
      "7 : Not Found\n",
      "9 : Not Found\n",
      "13 : Not Found\n",
      "14 : Not Found\n"
     ]
    },
    {
     "name": "stderr",
     "output_type": "stream",
     "text": [
      " 54%|█████▍    | 270/500 [22:32<21:10,  5.52s/it]"
     ]
    },
    {
     "name": "stdout",
     "output_type": "stream",
     "text": [
      "1 : Not Found\n",
      "2 : Not Found\n",
      "3 : Not Found\n",
      "4 : Not Found\n"
     ]
    },
    {
     "name": "stderr",
     "output_type": "stream",
     "text": [
      " 54%|█████▍    | 271/500 [22:37<20:05,  5.26s/it]"
     ]
    },
    {
     "name": "stdout",
     "output_type": "stream",
     "text": [
      "1 : Not Found\n",
      "2 : Not Found\n",
      "3 : Not Found\n"
     ]
    },
    {
     "name": "stderr",
     "output_type": "stream",
     "text": [
      " 54%|█████▍    | 272/500 [22:41<19:07,  5.03s/it]"
     ]
    },
    {
     "name": "stdout",
     "output_type": "stream",
     "text": [
      "1 : Not Found\n",
      "2 : Not Found\n",
      "3 : Not Found\n",
      "4 : Not Found\n"
     ]
    },
    {
     "name": "stderr",
     "output_type": "stream",
     "text": [
      " 55%|█████▍    | 273/500 [22:46<18:24,  4.87s/it]"
     ]
    },
    {
     "name": "stdout",
     "output_type": "stream",
     "text": [
      "1 : Not Found\n",
      "2 : Not Found\n",
      "3 : Not Found\n",
      "4 : Not Found\n"
     ]
    },
    {
     "name": "stderr",
     "output_type": "stream",
     "text": [
      " 55%|█████▍    | 274/500 [22:51<18:09,  4.82s/it]"
     ]
    },
    {
     "name": "stdout",
     "output_type": "stream",
     "text": [
      "1 : Not Found\n",
      "2 : Not Found\n",
      "3 : Not Found\n",
      "4 : Not Found\n"
     ]
    },
    {
     "name": "stderr",
     "output_type": "stream",
     "text": [
      " 55%|█████▌    | 275/500 [22:55<17:59,  4.80s/it]"
     ]
    },
    {
     "name": "stdout",
     "output_type": "stream",
     "text": [
      "1 : Not Found\n",
      "2 : Not Found\n",
      "3 : Not Found\n",
      "4 : Not Found\n",
      "14 : Not Found\n"
     ]
    },
    {
     "name": "stderr",
     "output_type": "stream",
     "text": [
      " 55%|█████▌    | 276/500 [23:00<18:04,  4.84s/it]"
     ]
    },
    {
     "name": "stdout",
     "output_type": "stream",
     "text": [
      "1 : Not Found\n",
      "2 : Not Found\n",
      "3 : Not Found\n"
     ]
    },
    {
     "name": "stderr",
     "output_type": "stream",
     "text": [
      " 55%|█████▌    | 277/500 [23:05<18:16,  4.92s/it]"
     ]
    },
    {
     "name": "stdout",
     "output_type": "stream",
     "text": [
      "1 : Not Found\n",
      "2 : Not Found\n",
      "3 : Not Found\n",
      "4 : Not Found\n"
     ]
    },
    {
     "name": "stderr",
     "output_type": "stream",
     "text": [
      " 56%|█████▌    | 278/500 [23:10<18:00,  4.87s/it]"
     ]
    },
    {
     "name": "stdout",
     "output_type": "stream",
     "text": [
      "1 : Not Found\n",
      "2 : Not Found\n",
      "3 : Not Found\n",
      "4 : Not Found\n",
      "7 : Not Found\n"
     ]
    },
    {
     "name": "stderr",
     "output_type": "stream",
     "text": [
      " 56%|█████▌    | 279/500 [23:15<18:06,  4.91s/it]"
     ]
    },
    {
     "name": "stdout",
     "output_type": "stream",
     "text": [
      "1 : Not Found\n",
      "2 : Not Found\n",
      "3 : Not Found\n",
      "4 : Not Found\n"
     ]
    },
    {
     "name": "stderr",
     "output_type": "stream",
     "text": [
      " 56%|█████▌    | 280/500 [23:20<17:34,  4.79s/it]"
     ]
    },
    {
     "name": "stdout",
     "output_type": "stream",
     "text": [
      "1 : Not Found\n",
      "2 : Not Found\n",
      "3 : Not Found\n",
      "4 : Not Found\n",
      "5 : Not Found\n",
      "6 : Not Found\n",
      "8 : Not Found\n",
      "9 : Not Found\n",
      "10 : Not Found\n",
      "11 : Not Found\n",
      "12 : Not Found\n",
      "13 : Not Found\n",
      "19 : Not Found\n"
     ]
    },
    {
     "name": "stderr",
     "output_type": "stream",
     "text": [
      " 56%|█████▌    | 281/500 [23:29<21:53,  6.00s/it]"
     ]
    },
    {
     "name": "stdout",
     "output_type": "stream",
     "text": [
      "20 : Not Found\n",
      "1 : Not Found\n",
      "2 : Not Found\n",
      "3 : Not Found\n",
      "4 : Not Found\n"
     ]
    },
    {
     "name": "stderr",
     "output_type": "stream",
     "text": [
      " 56%|█████▋    | 282/500 [23:34<20:41,  5.69s/it]"
     ]
    },
    {
     "name": "stdout",
     "output_type": "stream",
     "text": [
      "1 : Not Found\n",
      "2 : Not Found\n",
      "3 : Not Found\n",
      "4 : Not Found\n"
     ]
    },
    {
     "name": "stderr",
     "output_type": "stream",
     "text": [
      " 57%|█████▋    | 283/500 [23:38<19:30,  5.40s/it]"
     ]
    },
    {
     "name": "stdout",
     "output_type": "stream",
     "text": [
      "1 : Not Found\n",
      "2 : Not Found\n",
      "3 : Not Found\n",
      "4 : Not Found\n"
     ]
    },
    {
     "name": "stderr",
     "output_type": "stream",
     "text": [
      " 57%|█████▋    | 284/500 [23:43<18:41,  5.19s/it]"
     ]
    },
    {
     "name": "stdout",
     "output_type": "stream",
     "text": [
      "1 : Not Found\n",
      "2 : Not Found\n",
      "3 : Not Found\n",
      "4 : Not Found\n"
     ]
    },
    {
     "name": "stderr",
     "output_type": "stream",
     "text": [
      " 57%|█████▋    | 285/500 [23:48<18:01,  5.03s/it]"
     ]
    },
    {
     "name": "stdout",
     "output_type": "stream",
     "text": [
      "1 : Not Found\n",
      "2 : Not Found\n",
      "3 : Not Found\n",
      "4 : Not Found\n"
     ]
    },
    {
     "name": "stderr",
     "output_type": "stream",
     "text": [
      " 57%|█████▋    | 286/500 [23:52<17:38,  4.95s/it]"
     ]
    },
    {
     "name": "stdout",
     "output_type": "stream",
     "text": [
      "1 : Not Found\n",
      "2 : Not Found\n",
      "3 : Not Found\n",
      "4 : Not Found\n"
     ]
    },
    {
     "name": "stderr",
     "output_type": "stream",
     "text": [
      " 57%|█████▋    | 287/500 [23:58<17:46,  5.01s/it]"
     ]
    },
    {
     "name": "stdout",
     "output_type": "stream",
     "text": [
      "1 : Not Found\n",
      "2 : Not Found\n",
      "3 : Not Found\n"
     ]
    },
    {
     "name": "stderr",
     "output_type": "stream",
     "text": [
      " 58%|█████▊    | 288/500 [24:02<17:28,  4.94s/it]"
     ]
    },
    {
     "name": "stdout",
     "output_type": "stream",
     "text": [
      "1 : Not Found\n",
      "2 : Not Found\n",
      "3 : Not Found\n",
      "4 : Not Found\n"
     ]
    },
    {
     "name": "stderr",
     "output_type": "stream",
     "text": [
      " 58%|█████▊    | 289/500 [24:07<17:09,  4.88s/it]"
     ]
    },
    {
     "name": "stdout",
     "output_type": "stream",
     "text": [
      "1 : Not Found\n",
      "2 : Not Found\n",
      "3 : Not Found\n",
      "4 : Not Found\n",
      "6 : Not Found\n",
      "11 : Not Found\n",
      "13 : Not Found\n"
     ]
    },
    {
     "name": "stderr",
     "output_type": "stream",
     "text": [
      " 58%|█████▊    | 290/500 [24:13<18:11,  5.20s/it]"
     ]
    },
    {
     "name": "stdout",
     "output_type": "stream",
     "text": [
      "1 : Not Found\n",
      "2 : Not Found\n",
      "3 : Not Found\n",
      "4 : Not Found\n"
     ]
    },
    {
     "name": "stderr",
     "output_type": "stream",
     "text": [
      " 58%|█████▊    | 291/500 [24:17<17:19,  4.97s/it]"
     ]
    },
    {
     "name": "stdout",
     "output_type": "stream",
     "text": [
      "1 : Not Found\n",
      "2 : Not Found\n",
      "3 : Not Found\n",
      "4 : Not Found\n",
      "17 : Not Found\n"
     ]
    },
    {
     "name": "stderr",
     "output_type": "stream",
     "text": [
      " 58%|█████▊    | 292/500 [24:23<18:00,  5.20s/it]"
     ]
    },
    {
     "name": "stdout",
     "output_type": "stream",
     "text": [
      "18 : Not Found\n",
      "1 : Not Found\n",
      "2 : Not Found\n",
      "3 : Not Found\n",
      "4 : Not Found\n"
     ]
    },
    {
     "name": "stderr",
     "output_type": "stream",
     "text": [
      " 59%|█████▊    | 293/500 [24:28<17:23,  5.04s/it]"
     ]
    },
    {
     "name": "stdout",
     "output_type": "stream",
     "text": [
      "1 : Not Found\n",
      "2 : Not Found\n",
      "3 : Not Found\n",
      "4 : Not Found\n"
     ]
    },
    {
     "name": "stderr",
     "output_type": "stream",
     "text": [
      " 59%|█████▉    | 294/500 [24:33<16:58,  4.94s/it]"
     ]
    },
    {
     "name": "stdout",
     "output_type": "stream",
     "text": [
      "1 : Not Found\n",
      "2 : Not Found\n",
      "3 : Not Found\n"
     ]
    },
    {
     "name": "stderr",
     "output_type": "stream",
     "text": [
      " 59%|█████▉    | 295/500 [24:37<16:34,  4.85s/it]"
     ]
    },
    {
     "name": "stdout",
     "output_type": "stream",
     "text": [
      "1 : Not Found\n",
      "2 : Not Found\n",
      "3 : Not Found\n",
      "4 : Not Found\n"
     ]
    },
    {
     "name": "stderr",
     "output_type": "stream",
     "text": [
      " 59%|█████▉    | 296/500 [24:42<16:46,  4.93s/it]"
     ]
    },
    {
     "name": "stdout",
     "output_type": "stream",
     "text": [
      "1 : Not Found\n",
      "2 : Not Found\n",
      "3 : Not Found\n",
      "4 : Not Found\n"
     ]
    },
    {
     "name": "stderr",
     "output_type": "stream",
     "text": [
      " 59%|█████▉    | 297/500 [24:47<16:14,  4.80s/it]"
     ]
    },
    {
     "name": "stdout",
     "output_type": "stream",
     "text": [
      "1 : Not Found\n",
      "2 : Not Found\n",
      "3 : Not Found\n",
      "4 : Not Found\n",
      "13 : Not Found\n",
      "16 : Not Found\n"
     ]
    },
    {
     "name": "stderr",
     "output_type": "stream",
     "text": [
      " 60%|█████▉    | 298/500 [24:52<16:47,  4.99s/it]"
     ]
    },
    {
     "name": "stdout",
     "output_type": "stream",
     "text": [
      "1 : Not Found\n",
      "2 : Not Found\n",
      "3 : Not Found\n",
      "4 : Not Found\n"
     ]
    },
    {
     "name": "stderr",
     "output_type": "stream",
     "text": [
      " 60%|█████▉    | 299/500 [24:57<16:36,  4.96s/it]"
     ]
    },
    {
     "name": "stdout",
     "output_type": "stream",
     "text": [
      "1 : Not Found\n",
      "2 : Not Found\n",
      "3 : Not Found\n",
      "4 : Not Found\n",
      "8 : Not Found\n"
     ]
    },
    {
     "name": "stderr",
     "output_type": "stream",
     "text": [
      " 60%|██████    | 300/500 [25:02<16:43,  5.02s/it]"
     ]
    },
    {
     "name": "stdout",
     "output_type": "stream",
     "text": [
      "1 : Not Found\n",
      "2 : Not Found\n",
      "3 : Not Found\n",
      "14 : Not Found\n"
     ]
    },
    {
     "name": "stderr",
     "output_type": "stream",
     "text": [
      " 60%|██████    | 301/500 [25:08<17:05,  5.15s/it]"
     ]
    },
    {
     "name": "stdout",
     "output_type": "stream",
     "text": [
      "20 : Not Found\n",
      "1 : Not Found\n",
      "2 : Not Found\n",
      "3 : Not Found\n",
      "4 : Not Found\n",
      "10 : Not Found\n",
      "16 : Not Found\n",
      "18 : Not Found\n"
     ]
    },
    {
     "name": "stderr",
     "output_type": "stream",
     "text": [
      " 60%|██████    | 302/500 [25:14<18:10,  5.51s/it]"
     ]
    },
    {
     "name": "stdout",
     "output_type": "stream",
     "text": [
      "19 : Not Found\n",
      "1 : Not Found\n",
      "2 : Not Found\n",
      "3 : Not Found\n",
      "4 : Not Found\n"
     ]
    },
    {
     "name": "stderr",
     "output_type": "stream",
     "text": [
      " 61%|██████    | 303/500 [25:19<17:52,  5.44s/it]"
     ]
    },
    {
     "name": "stdout",
     "output_type": "stream",
     "text": [
      "20 : Not Found\n",
      "1 : Not Found\n",
      "2 : Not Found\n",
      "3 : Not Found\n",
      "4 : Not Found\n"
     ]
    },
    {
     "name": "stderr",
     "output_type": "stream",
     "text": [
      " 61%|██████    | 304/500 [25:24<17:03,  5.22s/it]"
     ]
    },
    {
     "name": "stdout",
     "output_type": "stream",
     "text": [
      "1 : Not Found\n",
      "2 : Not Found\n",
      "3 : Not Found\n",
      "4 : Not Found\n"
     ]
    },
    {
     "name": "stderr",
     "output_type": "stream",
     "text": [
      " 61%|██████    | 305/500 [25:29<16:48,  5.17s/it]"
     ]
    },
    {
     "name": "stdout",
     "output_type": "stream",
     "text": [
      "1 : Not Found\n",
      "2 : Not Found\n",
      "3 : Not Found\n",
      "4 : Not Found\n",
      "17 : Not Found\n"
     ]
    },
    {
     "name": "stderr",
     "output_type": "stream",
     "text": [
      " 61%|██████    | 306/500 [25:34<16:48,  5.20s/it]"
     ]
    },
    {
     "name": "stdout",
     "output_type": "stream",
     "text": [
      "1 : Not Found\n",
      "2 : Not Found\n",
      "3 : Not Found\n",
      "4 : Not Found\n"
     ]
    },
    {
     "name": "stderr",
     "output_type": "stream",
     "text": [
      " 61%|██████▏   | 307/500 [25:39<16:23,  5.09s/it]"
     ]
    },
    {
     "name": "stdout",
     "output_type": "stream",
     "text": [
      "1 : Not Found\n",
      "2 : Not Found\n",
      "3 : Not Found\n",
      "4 : Not Found\n",
      "5 : Not Found\n",
      "6 : Not Found\n",
      "7 : Not Found\n",
      "11 : Not Found\n",
      "12 : Not Found\n",
      "17 : Not Found\n"
     ]
    },
    {
     "name": "stderr",
     "output_type": "stream",
     "text": [
      " 62%|██████▏   | 308/500 [25:46<18:04,  5.65s/it]"
     ]
    },
    {
     "name": "stdout",
     "output_type": "stream",
     "text": [
      "1 : Not Found\n",
      "2 : Not Found\n",
      "3 : Not Found\n",
      "4 : Not Found\n"
     ]
    },
    {
     "name": "stderr",
     "output_type": "stream",
     "text": [
      " 62%|██████▏   | 309/500 [25:51<17:14,  5.41s/it]"
     ]
    },
    {
     "name": "stdout",
     "output_type": "stream",
     "text": [
      "1 : Not Found\n",
      "2 : Not Found\n",
      "3 : Not Found\n",
      "4 : Not Found\n",
      "17 : Not Found\n",
      "18 : Not Found\n",
      "19 : Not Found\n"
     ]
    },
    {
     "name": "stderr",
     "output_type": "stream",
     "text": [
      " 62%|██████▏   | 310/500 [25:58<18:15,  5.77s/it]"
     ]
    },
    {
     "name": "stdout",
     "output_type": "stream",
     "text": [
      "20 : Not Found\n",
      "1 : Not Found\n",
      "2 : Not Found\n",
      "3 : Not Found\n",
      "4 : Not Found\n",
      "16 : Not Found\n"
     ]
    },
    {
     "name": "stderr",
     "output_type": "stream",
     "text": [
      " 62%|██████▏   | 311/500 [26:02<17:18,  5.50s/it]"
     ]
    },
    {
     "name": "stdout",
     "output_type": "stream",
     "text": [
      "1 : Not Found\n",
      "2 : Not Found\n",
      "3 : Not Found\n",
      "16 : Not Found\n",
      "17 : Not Found\n"
     ]
    },
    {
     "name": "stderr",
     "output_type": "stream",
     "text": [
      " 62%|██████▏   | 312/500 [26:08<17:12,  5.49s/it]"
     ]
    },
    {
     "name": "stdout",
     "output_type": "stream",
     "text": [
      "1 : Not Found\n",
      "2 : Not Found\n",
      "3 : Not Found\n",
      "4 : Not Found\n",
      "5 : Not Found\n",
      "12 : Not Found\n"
     ]
    },
    {
     "name": "stderr",
     "output_type": "stream",
     "text": [
      " 63%|██████▎   | 313/500 [26:13<16:36,  5.33s/it]"
     ]
    },
    {
     "name": "stdout",
     "output_type": "stream",
     "text": [
      "1 : Not Found\n",
      "2 : Not Found\n",
      "3 : Not Found\n",
      "4 : Not Found\n"
     ]
    },
    {
     "name": "stderr",
     "output_type": "stream",
     "text": [
      " 63%|██████▎   | 314/500 [26:18<16:01,  5.17s/it]"
     ]
    },
    {
     "name": "stdout",
     "output_type": "stream",
     "text": [
      "1 : Not Found\n",
      "2 : Not Found\n",
      "3 : Not Found\n",
      "4 : Not Found\n"
     ]
    },
    {
     "name": "stderr",
     "output_type": "stream",
     "text": [
      " 63%|██████▎   | 315/500 [26:23<15:41,  5.09s/it]"
     ]
    },
    {
     "name": "stdout",
     "output_type": "stream",
     "text": [
      "1 : Not Found\n",
      "2 : Not Found\n",
      "3 : Not Found\n",
      "4 : Not Found\n",
      "5 : Not Found\n",
      "6 : Not Found\n",
      "11 : Not Found\n",
      "14 : Not Found\n"
     ]
    },
    {
     "name": "stderr",
     "output_type": "stream",
     "text": [
      " 63%|██████▎   | 316/500 [26:29<16:42,  5.45s/it]"
     ]
    },
    {
     "name": "stdout",
     "output_type": "stream",
     "text": [
      "1 : Not Found\n",
      "2 : Not Found\n",
      "3 : Not Found\n",
      "4 : Not Found\n",
      "7 : Not Found\n",
      "15 : Not Found\n",
      "17 : Not Found\n"
     ]
    },
    {
     "name": "stderr",
     "output_type": "stream",
     "text": [
      " 63%|██████▎   | 317/500 [26:35<17:20,  5.69s/it]"
     ]
    },
    {
     "name": "stdout",
     "output_type": "stream",
     "text": [
      "18 : Not Found\n",
      "1 : Not Found\n",
      "2 : Not Found\n",
      "3 : Not Found\n",
      "4 : Not Found\n",
      "7 : Not Found\n",
      "8 : Not Found\n",
      "11 : Not Found\n"
     ]
    },
    {
     "name": "stderr",
     "output_type": "stream",
     "text": [
      " 64%|██████▎   | 318/500 [26:41<17:18,  5.71s/it]"
     ]
    },
    {
     "name": "stdout",
     "output_type": "stream",
     "text": [
      "1 : Not Found\n",
      "2 : Not Found\n",
      "3 : Not Found\n",
      "4 : Not Found\n",
      "7 : Not Found\n",
      "8 : Not Found\n",
      "9 : Not Found\n",
      "17 : Not Found\n",
      "19 : Not Found\n"
     ]
    },
    {
     "name": "stderr",
     "output_type": "stream",
     "text": [
      " 64%|██████▍   | 319/500 [26:48<18:07,  6.01s/it]"
     ]
    },
    {
     "name": "stdout",
     "output_type": "stream",
     "text": [
      "20 : Not Found\n",
      "1 : Not Found\n",
      "2 : Not Found\n",
      "3 : Not Found\n",
      "4 : Not Found\n",
      "16 : Not Found\n",
      "17 : Not Found\n"
     ]
    },
    {
     "name": "stderr",
     "output_type": "stream",
     "text": [
      " 64%|██████▍   | 320/500 [26:53<17:51,  5.95s/it]"
     ]
    },
    {
     "name": "stdout",
     "output_type": "stream",
     "text": [
      "1 : Not Found\n",
      "2 : Not Found\n",
      "3 : Not Found\n",
      "4 : Not Found\n",
      "7 : Not Found\n",
      "8 : Not Found\n",
      "9 : Not Found\n",
      "16 : Not Found\n"
     ]
    },
    {
     "name": "stderr",
     "output_type": "stream",
     "text": [
      " 64%|██████▍   | 321/500 [27:00<17:55,  6.01s/it]"
     ]
    },
    {
     "name": "stdout",
     "output_type": "stream",
     "text": [
      "1 : Not Found\n",
      "2 : Not Found\n",
      "3 : Not Found\n",
      "4 : Not Found\n"
     ]
    },
    {
     "name": "stderr",
     "output_type": "stream",
     "text": [
      " 64%|██████▍   | 322/500 [27:04<16:43,  5.64s/it]"
     ]
    },
    {
     "name": "stdout",
     "output_type": "stream",
     "text": [
      "1 : Not Found\n",
      "2 : Not Found\n",
      "3 : Not Found\n",
      "4 : Not Found\n",
      "10 : Not Found\n"
     ]
    },
    {
     "name": "stderr",
     "output_type": "stream",
     "text": [
      " 65%|██████▍   | 323/500 [27:09<16:05,  5.46s/it]"
     ]
    },
    {
     "name": "stdout",
     "output_type": "stream",
     "text": [
      "1 : Not Found\n",
      "2 : Not Found\n",
      "3 : Not Found\n",
      "4 : Not Found\n",
      "6 : Not Found\n",
      "7 : Not Found\n",
      "8 : Not Found\n",
      "17 : Not Found\n"
     ]
    },
    {
     "name": "stderr",
     "output_type": "stream",
     "text": [
      " 65%|██████▍   | 324/500 [27:16<16:35,  5.65s/it]"
     ]
    },
    {
     "name": "stdout",
     "output_type": "stream",
     "text": [
      "1 : Not Found\n",
      "2 : Not Found\n",
      "3 : Not Found\n",
      "4 : Not Found\n"
     ]
    },
    {
     "name": "stderr",
     "output_type": "stream",
     "text": [
      " 65%|██████▌   | 325/500 [27:20<15:37,  5.36s/it]"
     ]
    },
    {
     "name": "stdout",
     "output_type": "stream",
     "text": [
      "1 : Not Found\n",
      "2 : Not Found\n",
      "3 : Not Found\n",
      "4 : Not Found\n"
     ]
    },
    {
     "name": "stderr",
     "output_type": "stream",
     "text": [
      " 65%|██████▌   | 326/500 [27:25<14:58,  5.16s/it]"
     ]
    },
    {
     "name": "stdout",
     "output_type": "stream",
     "text": [
      "1 : Not Found\n",
      "2 : Not Found\n",
      "3 : Not Found\n",
      "4 : Not Found\n",
      "9 : Not Found\n"
     ]
    },
    {
     "name": "stderr",
     "output_type": "stream",
     "text": [
      " 65%|██████▌   | 327/500 [27:30<14:48,  5.13s/it]"
     ]
    },
    {
     "name": "stdout",
     "output_type": "stream",
     "text": [
      "1 : Not Found\n",
      "2 : Not Found\n",
      "3 : Not Found\n",
      "4 : Not Found\n",
      "16 : Not Found\n"
     ]
    },
    {
     "name": "stderr",
     "output_type": "stream",
     "text": [
      " 66%|██████▌   | 328/500 [27:35<14:53,  5.19s/it]"
     ]
    },
    {
     "name": "stdout",
     "output_type": "stream",
     "text": [
      "1 : Not Found\n",
      "2 : Not Found\n",
      "3 : Not Found\n",
      "4 : Not Found\n",
      "7 : Not Found\n",
      "10 : Not Found\n",
      "11 : Not Found\n",
      "12 : Not Found\n",
      "13 : Not Found\n",
      "14 : Not Found\n",
      "15 : Not Found\n",
      "16 : Not Found\n",
      "17 : Not Found\n",
      "18 : Not Found\n",
      "19 : Not Found\n"
     ]
    },
    {
     "name": "stderr",
     "output_type": "stream",
     "text": [
      " 66%|██████▌   | 329/500 [27:45<18:28,  6.48s/it]"
     ]
    },
    {
     "name": "stdout",
     "output_type": "stream",
     "text": [
      "20 : Not Found\n",
      "1 : Not Found\n",
      "2 : Not Found\n",
      "3 : Not Found\n",
      "6 : Not Found\n",
      "7 : Not Found\n",
      "8 : Not Found\n",
      "9 : Not Found\n",
      "10 : Not Found\n",
      "14 : Not Found\n",
      "15 : Not Found\n",
      "16 : Not Found\n",
      "17 : Not Found\n",
      "18 : Not Found\n",
      "19 : Not Found\n"
     ]
    },
    {
     "name": "stderr",
     "output_type": "stream",
     "text": [
      " 66%|██████▌   | 330/500 [27:54<21:02,  7.43s/it]"
     ]
    },
    {
     "name": "stdout",
     "output_type": "stream",
     "text": [
      "20 : Not Found\n",
      "1 : Not Found\n",
      "2 : Not Found\n",
      "3 : Not Found\n",
      "4 : Not Found\n",
      "8 : Not Found\n",
      "9 : Not Found\n",
      "13 : Not Found\n",
      "16 : Not Found\n",
      "17 : Not Found\n"
     ]
    },
    {
     "name": "stderr",
     "output_type": "stream",
     "text": [
      " 66%|██████▌   | 331/500 [28:01<20:11,  7.17s/it]"
     ]
    },
    {
     "name": "stdout",
     "output_type": "stream",
     "text": [
      "1 : Not Found\n",
      "2 : Not Found\n",
      "3 : Not Found\n",
      "4 : Not Found\n",
      "5 : Not Found\n",
      "6 : Not Found\n",
      "9 : Not Found\n",
      "12 : Not Found\n",
      "13 : Not Found\n",
      "14 : Not Found\n",
      "15 : Not Found\n",
      "16 : Not Found\n",
      "17 : Not Found\n"
     ]
    },
    {
     "name": "stderr",
     "output_type": "stream",
     "text": [
      " 66%|██████▋   | 332/500 [28:10<21:36,  7.72s/it]"
     ]
    },
    {
     "name": "stdout",
     "output_type": "stream",
     "text": [
      "18 : Not Found\n",
      "1 : Not Found\n",
      "2 : Not Found\n",
      "3 : Not Found\n",
      "4 : Not Found\n"
     ]
    },
    {
     "name": "stderr",
     "output_type": "stream",
     "text": [
      " 67%|██████▋   | 333/500 [28:15<19:00,  6.83s/it]"
     ]
    },
    {
     "name": "stdout",
     "output_type": "stream",
     "text": [
      "1 : Not Found\n",
      "2 : Not Found\n",
      "3 : Not Found\n",
      "4 : Not Found\n",
      "15 : Not Found\n",
      "16 : Not Found\n",
      "17 : Not Found\n"
     ]
    },
    {
     "name": "stderr",
     "output_type": "stream",
     "text": [
      " 67%|██████▋   | 334/500 [28:21<18:30,  6.69s/it]"
     ]
    },
    {
     "name": "stdout",
     "output_type": "stream",
     "text": [
      "18 : Not Found\n",
      "1 : Not Found\n",
      "2 : Not Found\n",
      "3 : Not Found\n",
      "4 : Not Found\n"
     ]
    },
    {
     "name": "stderr",
     "output_type": "stream",
     "text": [
      " 67%|██████▋   | 335/500 [28:26<16:56,  6.16s/it]"
     ]
    },
    {
     "name": "stdout",
     "output_type": "stream",
     "text": [
      "1 : Not Found\n",
      "2 : Not Found\n",
      "3 : Not Found\n",
      "5 : Not Found\n",
      "15 : Not Found\n",
      "16 : Not Found\n",
      "17 : Not Found\n",
      "18 : Not Found\n"
     ]
    },
    {
     "name": "stderr",
     "output_type": "stream",
     "text": [
      " 67%|██████▋   | 336/500 [28:33<17:35,  6.43s/it]"
     ]
    },
    {
     "name": "stdout",
     "output_type": "stream",
     "text": [
      "20 : Not Found\n",
      "1 : Not Found\n",
      "2 : Not Found\n",
      "3 : Not Found\n",
      "4 : Not Found\n",
      "5 : Not Found\n",
      "8 : Not Found\n",
      "10 : Not Found\n",
      "11 : Not Found\n",
      "12 : Not Found\n",
      "13 : Not Found\n",
      "14 : Not Found\n",
      "15 : Not Found\n",
      "16 : Not Found\n",
      "17 : Not Found\n",
      "18 : Not Found\n",
      "19 : Not Found\n"
     ]
    },
    {
     "name": "stderr",
     "output_type": "stream",
     "text": [
      " 67%|██████▋   | 337/500 [28:44<20:47,  7.65s/it]"
     ]
    },
    {
     "name": "stdout",
     "output_type": "stream",
     "text": [
      "20 : Not Found\n",
      "1 : Not Found\n",
      "2 : Not Found\n",
      "3 : Not Found\n",
      "4 : Not Found\n"
     ]
    },
    {
     "name": "stderr",
     "output_type": "stream",
     "text": [
      " 68%|██████▊   | 338/500 [28:48<18:14,  6.75s/it]"
     ]
    },
    {
     "name": "stdout",
     "output_type": "stream",
     "text": [
      "1 : Not Found\n",
      "2 : Not Found\n",
      "3 : Not Found\n",
      "4 : Not Found\n",
      "5 : Not Found\n",
      "6 : Not Found\n",
      "7 : Not Found\n",
      "8 : Not Found\n",
      "9 : Not Found\n",
      "10 : Not Found\n",
      "11 : Not Found\n",
      "12 : Not Found\n",
      "13 : Not Found\n",
      "14 : Not Found\n",
      "15 : Not Found\n",
      "16 : Not Found\n",
      "17 : Not Found\n",
      "18 : Not Found\n",
      "19 : Not Found\n"
     ]
    },
    {
     "name": "stderr",
     "output_type": "stream",
     "text": [
      " 68%|██████▊   | 339/500 [29:00<21:59,  8.20s/it]"
     ]
    },
    {
     "name": "stdout",
     "output_type": "stream",
     "text": [
      "20 : Not Found\n",
      "1 : Not Found\n",
      "2 : Not Found\n",
      "3 : Not Found\n",
      "4 : Not Found\n",
      "5 : Not Found\n",
      "6 : Not Found\n",
      "10 : Not Found\n",
      "12 : Not Found\n",
      "16 : Not Found\n",
      "17 : Not Found\n"
     ]
    },
    {
     "name": "stderr",
     "output_type": "stream",
     "text": [
      " 68%|██████▊   | 340/500 [29:07<20:55,  7.84s/it]"
     ]
    },
    {
     "name": "stdout",
     "output_type": "stream",
     "text": [
      "1 : Not Found\n",
      "2 : Not Found\n",
      "3 : Not Found\n",
      "4 : Not Found\n",
      "10 : Not Found\n",
      "11 : Not Found\n",
      "15 : Not Found\n",
      "16 : Not Found\n"
     ]
    },
    {
     "name": "stderr",
     "output_type": "stream",
     "text": [
      " 68%|██████▊   | 341/500 [29:14<19:59,  7.54s/it]"
     ]
    },
    {
     "name": "stdout",
     "output_type": "stream",
     "text": [
      "18 : Not Found\n",
      "1 : Not Found\n",
      "2 : Not Found\n",
      "3 : Not Found\n",
      "4 : Not Found\n"
     ]
    },
    {
     "name": "stderr",
     "output_type": "stream",
     "text": [
      " 68%|██████▊   | 342/500 [29:19<17:45,  6.74s/it]"
     ]
    },
    {
     "name": "stdout",
     "output_type": "stream",
     "text": [
      "1 : Not Found\n",
      "2 : Not Found\n",
      "3 : Not Found\n",
      "4 : Not Found\n"
     ]
    },
    {
     "name": "stderr",
     "output_type": "stream",
     "text": [
      " 69%|██████▊   | 343/500 [29:24<16:22,  6.26s/it]"
     ]
    },
    {
     "name": "stdout",
     "output_type": "stream",
     "text": [
      "1 : Not Found\n",
      "2 : Not Found\n",
      "3 : Not Found\n",
      "4 : Not Found\n"
     ]
    },
    {
     "name": "stderr",
     "output_type": "stream",
     "text": [
      " 69%|██████▉   | 344/500 [29:28<15:03,  5.79s/it]"
     ]
    },
    {
     "name": "stdout",
     "output_type": "stream",
     "text": [
      "1 : Not Found\n",
      "2 : Not Found\n",
      "3 : Not Found\n",
      "4 : Not Found\n"
     ]
    },
    {
     "name": "stderr",
     "output_type": "stream",
     "text": [
      " 69%|██████▉   | 345/500 [29:33<14:17,  5.53s/it]"
     ]
    },
    {
     "name": "stdout",
     "output_type": "stream",
     "text": [
      "1 : Not Found\n",
      "2 : Not Found\n",
      "3 : Not Found\n",
      "4 : Not Found\n",
      "7 : Not Found\n"
     ]
    },
    {
     "name": "stderr",
     "output_type": "stream",
     "text": [
      " 69%|██████▉   | 346/500 [29:38<13:52,  5.40s/it]"
     ]
    },
    {
     "name": "stdout",
     "output_type": "stream",
     "text": [
      "1 : Not Found\n",
      "2 : Not Found\n",
      "3 : Not Found\n",
      "4 : Not Found\n",
      "5 : Not Found\n",
      "8 : Not Found\n",
      "10 : Not Found\n",
      "16 : Not Found\n"
     ]
    },
    {
     "name": "stderr",
     "output_type": "stream",
     "text": [
      " 69%|██████▉   | 347/500 [29:44<14:08,  5.54s/it]"
     ]
    },
    {
     "name": "stdout",
     "output_type": "stream",
     "text": [
      "1 : Not Found\n",
      "2 : Not Found\n",
      "3 : Not Found\n",
      "4 : Not Found\n",
      "13 : Not Found\n"
     ]
    },
    {
     "name": "stderr",
     "output_type": "stream",
     "text": [
      " 70%|██████▉   | 348/500 [29:49<13:42,  5.41s/it]"
     ]
    },
    {
     "name": "stdout",
     "output_type": "stream",
     "text": [
      "1 : Not Found\n",
      "2 : Not Found\n",
      "3 : Not Found\n",
      "4 : Not Found\n"
     ]
    },
    {
     "name": "stderr",
     "output_type": "stream",
     "text": [
      " 70%|██████▉   | 349/500 [29:54<13:20,  5.30s/it]"
     ]
    },
    {
     "name": "stdout",
     "output_type": "stream",
     "text": [
      "1 : Not Found\n",
      "2 : Not Found\n",
      "3 : Not Found\n",
      "4 : Not Found\n",
      "9 : Not Found\n",
      "10 : Not Found\n",
      "11 : Not Found\n",
      "12 : Not Found\n",
      "17 : Not Found\n"
     ]
    },
    {
     "name": "stderr",
     "output_type": "stream",
     "text": [
      " 70%|███████   | 350/500 [30:01<14:32,  5.82s/it]"
     ]
    },
    {
     "name": "stdout",
     "output_type": "stream",
     "text": [
      "1 : Not Found\n",
      "2 : Not Found\n",
      "3 : Not Found\n",
      "7 : Not Found\n",
      "10 : Not Found\n",
      "12 : Not Found\n",
      "19 : Not Found\n"
     ]
    },
    {
     "name": "stderr",
     "output_type": "stream",
     "text": [
      " 70%|███████   | 351/500 [30:08<14:57,  6.02s/it]"
     ]
    },
    {
     "name": "stdout",
     "output_type": "stream",
     "text": [
      "20 : Not Found\n",
      "1 : Not Found\n",
      "2 : Not Found\n",
      "3 : Not Found\n",
      "4 : Not Found\n",
      "17 : Not Found\n"
     ]
    },
    {
     "name": "stderr",
     "output_type": "stream",
     "text": [
      " 70%|███████   | 352/500 [30:13<14:22,  5.83s/it]"
     ]
    },
    {
     "name": "stdout",
     "output_type": "stream",
     "text": [
      "1 : Not Found\n",
      "2 : Not Found\n",
      "3 : Not Found\n",
      "4 : Not Found\n"
     ]
    },
    {
     "name": "stderr",
     "output_type": "stream",
     "text": [
      " 71%|███████   | 353/500 [30:18<13:32,  5.53s/it]"
     ]
    },
    {
     "name": "stdout",
     "output_type": "stream",
     "text": [
      "1 : Not Found\n",
      "2 : Not Found\n",
      "3 : Not Found\n",
      "16 : Not Found\n"
     ]
    },
    {
     "name": "stderr",
     "output_type": "stream",
     "text": [
      " 71%|███████   | 354/500 [30:23<13:17,  5.46s/it]"
     ]
    },
    {
     "name": "stdout",
     "output_type": "stream",
     "text": [
      "1 : Not Found\n",
      "2 : Not Found\n",
      "3 : Not Found\n",
      "4 : Not Found\n"
     ]
    },
    {
     "name": "stderr",
     "output_type": "stream",
     "text": [
      " 71%|███████   | 355/500 [30:29<13:05,  5.41s/it]"
     ]
    },
    {
     "name": "stdout",
     "output_type": "stream",
     "text": [
      "19 : Not Found\n",
      "1 : Not Found\n",
      "2 : Not Found\n",
      "3 : Not Found\n",
      "4 : Not Found\n",
      "17 : Not Found\n",
      "19 : Not Found\n"
     ]
    },
    {
     "name": "stderr",
     "output_type": "stream",
     "text": [
      " 71%|███████   | 356/500 [30:35<13:30,  5.63s/it]"
     ]
    },
    {
     "name": "stdout",
     "output_type": "stream",
     "text": [
      "20 : Not Found\n",
      "1 : Not Found\n",
      "2 : Not Found\n",
      "3 : Not Found\n",
      "4 : Not Found\n",
      "5 : Not Found\n"
     ]
    },
    {
     "name": "stderr",
     "output_type": "stream",
     "text": [
      " 71%|███████▏  | 357/500 [30:40<13:00,  5.46s/it]"
     ]
    },
    {
     "name": "stdout",
     "output_type": "stream",
     "text": [
      "1 : Not Found\n",
      "2 : Not Found\n",
      "3 : Not Found\n",
      "4 : Not Found\n",
      "6 : Not Found\n",
      "8 : Not Found\n"
     ]
    },
    {
     "name": "stderr",
     "output_type": "stream",
     "text": [
      " 72%|███████▏  | 358/500 [30:45<12:54,  5.45s/it]"
     ]
    },
    {
     "name": "stdout",
     "output_type": "stream",
     "text": [
      "1 : Not Found\n",
      "2 : Not Found\n",
      "3 : Not Found\n",
      "4 : Not Found\n",
      "8 : Not Found\n",
      "13 : Not Found\n",
      "15 : Not Found\n",
      "17 : Not Found\n",
      "18 : Not Found\n",
      "19 : Not Found\n"
     ]
    },
    {
     "name": "stderr",
     "output_type": "stream",
     "text": [
      " 72%|███████▏  | 359/500 [30:53<14:18,  6.09s/it]"
     ]
    },
    {
     "name": "stdout",
     "output_type": "stream",
     "text": [
      "20 : Not Found\n",
      "1 : Not Found\n",
      "2 : Not Found\n",
      "3 : Not Found\n",
      "4 : Not Found\n"
     ]
    },
    {
     "name": "stderr",
     "output_type": "stream",
     "text": [
      " 72%|███████▏  | 360/500 [30:58<13:30,  5.79s/it]"
     ]
    },
    {
     "name": "stdout",
     "output_type": "stream",
     "text": [
      "1 : Not Found\n",
      "2 : Not Found\n",
      "3 : Not Found\n",
      "4 : Not Found\n",
      "9 : Not Found\n",
      "12 : Not Found\n",
      "19 : Not Found\n"
     ]
    },
    {
     "name": "stderr",
     "output_type": "stream",
     "text": [
      " 72%|███████▏  | 361/500 [31:04<13:43,  5.92s/it]"
     ]
    },
    {
     "name": "stdout",
     "output_type": "stream",
     "text": [
      "20 : Not Found\n",
      "1 : Not Found\n",
      "2 : Not Found\n",
      "3 : Not Found\n",
      "4 : Not Found\n",
      "5 : Not Found\n",
      "6 : Not Found\n",
      "9 : Not Found\n",
      "10 : Not Found\n",
      "11 : Not Found\n",
      "12 : Not Found\n"
     ]
    },
    {
     "name": "stderr",
     "output_type": "stream",
     "text": [
      " 72%|███████▏  | 362/500 [31:12<14:53,  6.47s/it]"
     ]
    },
    {
     "name": "stdout",
     "output_type": "stream",
     "text": [
      "18 : Not Found\n",
      "1 : Not Found\n",
      "2 : Not Found\n",
      "3 : Not Found\n"
     ]
    },
    {
     "name": "stderr",
     "output_type": "stream",
     "text": [
      " 73%|███████▎  | 363/500 [31:17<13:54,  6.09s/it]"
     ]
    },
    {
     "name": "stdout",
     "output_type": "stream",
     "text": [
      "1 : Not Found\n",
      "2 : Not Found\n",
      "3 : Not Found\n",
      "4 : Not Found\n",
      "15 : Not Found\n",
      "16 : Not Found\n"
     ]
    },
    {
     "name": "stderr",
     "output_type": "stream",
     "text": [
      " 73%|███████▎  | 364/500 [31:23<13:52,  6.12s/it]"
     ]
    },
    {
     "name": "stdout",
     "output_type": "stream",
     "text": [
      "1 : Not Found\n",
      "2 : Not Found\n",
      "3 : Not Found\n",
      "4 : Not Found\n",
      "17 : Not Found\n"
     ]
    },
    {
     "name": "stderr",
     "output_type": "stream",
     "text": [
      " 73%|███████▎  | 365/500 [31:29<13:09,  5.85s/it]"
     ]
    },
    {
     "name": "stdout",
     "output_type": "stream",
     "text": [
      "1 : Not Found\n",
      "2 : Not Found\n",
      "3 : Not Found\n",
      "4 : Not Found\n",
      "5 : Not Found\n",
      "8 : Not Found\n"
     ]
    },
    {
     "name": "stderr",
     "output_type": "stream",
     "text": [
      " 73%|███████▎  | 366/500 [31:34<12:35,  5.64s/it]"
     ]
    },
    {
     "name": "stdout",
     "output_type": "stream",
     "text": [
      "1 : Not Found\n",
      "2 : Not Found\n",
      "3 : Not Found\n",
      "4 : Not Found\n",
      "13 : Not Found\n"
     ]
    },
    {
     "name": "stderr",
     "output_type": "stream",
     "text": [
      " 73%|███████▎  | 367/500 [31:39<12:21,  5.57s/it]"
     ]
    },
    {
     "name": "stdout",
     "output_type": "stream",
     "text": [
      "1 : Not Found\n",
      "2 : Not Found\n",
      "3 : Not Found\n",
      "4 : Not Found\n"
     ]
    },
    {
     "name": "stderr",
     "output_type": "stream",
     "text": [
      " 74%|███████▎  | 368/500 [31:45<12:09,  5.53s/it]"
     ]
    },
    {
     "name": "stdout",
     "output_type": "stream",
     "text": [
      "1 : Not Found\n",
      "2 : Not Found\n",
      "3 : Not Found\n",
      "4 : Not Found\n"
     ]
    },
    {
     "name": "stderr",
     "output_type": "stream",
     "text": [
      " 74%|███████▍  | 369/500 [31:50<11:42,  5.36s/it]"
     ]
    },
    {
     "name": "stdout",
     "output_type": "stream",
     "text": [
      "1 : Not Found\n",
      "2 : Not Found\n",
      "3 : Not Found\n",
      "4 : Not Found\n",
      "16 : Not Found\n",
      "17 : Not Found\n"
     ]
    },
    {
     "name": "stderr",
     "output_type": "stream",
     "text": [
      " 74%|███████▍  | 370/500 [31:56<12:08,  5.61s/it]"
     ]
    },
    {
     "name": "stdout",
     "output_type": "stream",
     "text": [
      "18 : Not Found\n",
      "1 : Not Found\n",
      "2 : Not Found\n",
      "3 : Not Found\n",
      "4 : Not Found\n"
     ]
    },
    {
     "name": "stderr",
     "output_type": "stream",
     "text": [
      " 74%|███████▍  | 371/500 [32:01<11:42,  5.44s/it]"
     ]
    },
    {
     "name": "stdout",
     "output_type": "stream",
     "text": [
      "1 : Not Found\n",
      "2 : Not Found\n",
      "3 : Not Found\n",
      "4 : Not Found\n"
     ]
    },
    {
     "name": "stderr",
     "output_type": "stream",
     "text": [
      " 74%|███████▍  | 372/500 [32:05<11:05,  5.20s/it]"
     ]
    },
    {
     "name": "stdout",
     "output_type": "stream",
     "text": [
      "1 : Not Found\n",
      "2 : Not Found\n",
      "3 : Not Found\n",
      "14 : Not Found\n",
      "15 : Not Found\n",
      "18 : Not Found\n"
     ]
    },
    {
     "name": "stderr",
     "output_type": "stream",
     "text": [
      " 75%|███████▍  | 373/500 [32:12<11:52,  5.61s/it]"
     ]
    },
    {
     "name": "stdout",
     "output_type": "stream",
     "text": [
      "20 : Not Found\n",
      "1 : Not Found\n",
      "2 : Not Found\n",
      "3 : Not Found\n",
      "4 : Not Found\n"
     ]
    },
    {
     "name": "stderr",
     "output_type": "stream",
     "text": [
      " 75%|███████▍  | 374/500 [32:17<11:19,  5.39s/it]"
     ]
    },
    {
     "name": "stdout",
     "output_type": "stream",
     "text": [
      "1 : Not Found\n",
      "2 : Not Found\n",
      "3 : Not Found\n",
      "4 : Not Found\n",
      "5 : Not Found\n"
     ]
    },
    {
     "name": "stderr",
     "output_type": "stream",
     "text": [
      " 75%|███████▌  | 375/500 [32:22<11:06,  5.33s/it]"
     ]
    },
    {
     "name": "stdout",
     "output_type": "stream",
     "text": [
      "1 : Not Found\n",
      "2 : Not Found\n",
      "3 : Not Found\n",
      "4 : Not Found\n",
      "8 : Not Found\n",
      "11 : Not Found\n",
      "12 : Not Found\n",
      "15 : Not Found\n",
      "17 : Not Found\n"
     ]
    },
    {
     "name": "stderr",
     "output_type": "stream",
     "text": [
      " 75%|███████▌  | 376/500 [32:29<11:52,  5.75s/it]"
     ]
    },
    {
     "name": "stdout",
     "output_type": "stream",
     "text": [
      "1 : Not Found\n",
      "2 : Not Found\n",
      "3 : Not Found\n"
     ]
    },
    {
     "name": "stderr",
     "output_type": "stream",
     "text": [
      " 75%|███████▌  | 377/500 [32:34<11:30,  5.62s/it]"
     ]
    },
    {
     "name": "stdout",
     "output_type": "stream",
     "text": [
      "18 : Not Found\n",
      "1 : Not Found\n",
      "2 : Not Found\n",
      "3 : Not Found\n",
      "4 : Not Found\n"
     ]
    },
    {
     "name": "stderr",
     "output_type": "stream",
     "text": [
      " 76%|███████▌  | 378/500 [32:39<10:57,  5.39s/it]"
     ]
    },
    {
     "name": "stdout",
     "output_type": "stream",
     "text": [
      "1 : Not Found\n",
      "2 : Not Found\n",
      "3 : Not Found\n",
      "6 : Not Found\n"
     ]
    },
    {
     "name": "stderr",
     "output_type": "stream",
     "text": [
      " 76%|███████▌  | 379/500 [32:44<10:41,  5.30s/it]"
     ]
    },
    {
     "name": "stdout",
     "output_type": "stream",
     "text": [
      "1 : Not Found\n",
      "2 : Not Found\n",
      "3 : Not Found\n",
      "4 : Not Found\n",
      "5 : Not Found\n",
      "6 : Not Found\n",
      "9 : Not Found\n",
      "10 : Not Found\n",
      "11 : Not Found\n",
      "12 : Not Found\n",
      "18 : Not Found\n"
     ]
    },
    {
     "name": "stderr",
     "output_type": "stream",
     "text": [
      " 76%|███████▌  | 380/500 [32:52<12:01,  6.01s/it]"
     ]
    },
    {
     "name": "stdout",
     "output_type": "stream",
     "text": [
      "1 : Not Found\n",
      "2 : Not Found\n",
      "3 : Not Found\n",
      "8 : Not Found\n",
      "10 : Not Found\n",
      "19 : Not Found\n"
     ]
    },
    {
     "name": "stderr",
     "output_type": "stream",
     "text": [
      " 76%|███████▌  | 381/500 [32:58<12:04,  6.09s/it]"
     ]
    },
    {
     "name": "stdout",
     "output_type": "stream",
     "text": [
      "20 : Not Found\n",
      "1 : Not Found\n",
      "2 : Not Found\n",
      "3 : Not Found\n",
      "15 : Not Found\n"
     ]
    },
    {
     "name": "stderr",
     "output_type": "stream",
     "text": [
      " 76%|███████▋  | 382/500 [33:04<11:39,  5.93s/it]"
     ]
    },
    {
     "name": "stdout",
     "output_type": "stream",
     "text": [
      "20 : Not Found\n",
      "1 : Not Found\n",
      "2 : Not Found\n",
      "3 : Not Found\n",
      "4 : Not Found\n",
      "10 : Not Found\n"
     ]
    },
    {
     "name": "stderr",
     "output_type": "stream",
     "text": [
      " 77%|███████▋  | 383/500 [33:09<11:20,  5.82s/it]"
     ]
    },
    {
     "name": "stdout",
     "output_type": "stream",
     "text": [
      "19 : Not Found\n",
      "1 : Not Found\n",
      "2 : Not Found\n",
      "3 : Not Found\n",
      "4 : Not Found\n",
      "5 : Not Found\n",
      "7 : Not Found\n",
      "8 : Not Found\n",
      "13 : Not Found\n",
      "16 : Not Found\n",
      "17 : Not Found\n",
      "18 : Not Found\n",
      "19 : Not Found\n"
     ]
    },
    {
     "name": "stderr",
     "output_type": "stream",
     "text": [
      " 77%|███████▋  | 384/500 [33:18<12:44,  6.59s/it]"
     ]
    },
    {
     "name": "stdout",
     "output_type": "stream",
     "text": [
      "20 : Not Found\n",
      "1 : Not Found\n",
      "2 : Not Found\n",
      "3 : Not Found\n",
      "4 : Not Found\n",
      "5 : Not Found\n",
      "6 : Not Found\n",
      "8 : Not Found\n",
      "9 : Not Found\n",
      "10 : Not Found\n",
      "11 : Not Found\n",
      "12 : Not Found\n",
      "13 : Not Found\n",
      "15 : Not Found\n",
      "17 : Not Found\n",
      "18 : Not Found\n",
      "19 : Not Found\n"
     ]
    },
    {
     "name": "stderr",
     "output_type": "stream",
     "text": [
      " 77%|███████▋  | 385/500 [33:28<14:53,  7.77s/it]"
     ]
    },
    {
     "name": "stdout",
     "output_type": "stream",
     "text": [
      "20 : Not Found\n",
      "1 : Not Found\n",
      "2 : Not Found\n",
      "3 : Not Found\n",
      "4 : Not Found\n",
      "17 : Not Found\n"
     ]
    },
    {
     "name": "stderr",
     "output_type": "stream",
     "text": [
      " 77%|███████▋  | 386/500 [33:34<13:35,  7.15s/it]"
     ]
    },
    {
     "name": "stdout",
     "output_type": "stream",
     "text": [
      "20 : Not Found\n",
      "1 : Not Found\n",
      "2 : Not Found\n",
      "3 : Not Found\n",
      "4 : Not Found\n"
     ]
    },
    {
     "name": "stderr",
     "output_type": "stream",
     "text": [
      " 77%|███████▋  | 387/500 [33:39<12:09,  6.46s/it]"
     ]
    },
    {
     "name": "stdout",
     "output_type": "stream",
     "text": [
      "1 : Not Found\n",
      "2 : Not Found\n",
      "3 : Not Found\n",
      "4 : Not Found\n"
     ]
    },
    {
     "name": "stderr",
     "output_type": "stream",
     "text": [
      " 78%|███████▊  | 388/500 [33:43<11:10,  5.98s/it]"
     ]
    },
    {
     "name": "stdout",
     "output_type": "stream",
     "text": [
      "1 : Not Found\n",
      "2 : Not Found\n",
      "3 : Not Found\n",
      "4 : Not Found\n",
      "9 : Not Found\n",
      "12 : Not Found\n"
     ]
    },
    {
     "name": "stderr",
     "output_type": "stream",
     "text": [
      " 78%|███████▊  | 389/500 [33:49<11:03,  5.97s/it]"
     ]
    },
    {
     "name": "stdout",
     "output_type": "stream",
     "text": [
      "1 : Not Found\n",
      "2 : Not Found\n",
      "3 : Not Found\n",
      "4 : Not Found\n"
     ]
    },
    {
     "name": "stderr",
     "output_type": "stream",
     "text": [
      " 78%|███████▊  | 390/500 [33:55<10:37,  5.79s/it]"
     ]
    },
    {
     "name": "stdout",
     "output_type": "stream",
     "text": [
      "1 : Not Found\n",
      "2 : Not Found\n",
      "3 : Not Found\n",
      "11 : Not Found\n",
      "16 : Not Found\n",
      "19 : Not Found\n"
     ]
    },
    {
     "name": "stderr",
     "output_type": "stream",
     "text": [
      " 78%|███████▊  | 391/500 [34:01<10:49,  5.96s/it]"
     ]
    },
    {
     "name": "stdout",
     "output_type": "stream",
     "text": [
      "20 : Not Found\n",
      "1 : Not Found\n",
      "2 : Not Found\n",
      "3 : Not Found\n",
      "4 : Not Found\n"
     ]
    },
    {
     "name": "stderr",
     "output_type": "stream",
     "text": [
      " 78%|███████▊  | 392/500 [34:06<10:06,  5.61s/it]"
     ]
    },
    {
     "name": "stdout",
     "output_type": "stream",
     "text": [
      "1 : Not Found\n",
      "2 : Not Found\n",
      "3 : Not Found\n"
     ]
    },
    {
     "name": "stderr",
     "output_type": "stream",
     "text": [
      " 79%|███████▊  | 393/500 [34:11<09:34,  5.36s/it]"
     ]
    },
    {
     "name": "stdout",
     "output_type": "stream",
     "text": [
      "1 : Not Found\n",
      "2 : Not Found\n",
      "3 : Not Found\n",
      "4 : Not Found\n",
      "5 : Not Found\n",
      "13 : Not Found\n"
     ]
    },
    {
     "name": "stderr",
     "output_type": "stream",
     "text": [
      " 79%|███████▉  | 394/500 [34:16<09:36,  5.44s/it]"
     ]
    },
    {
     "name": "stdout",
     "output_type": "stream",
     "text": [
      "1 : Not Found\n",
      "2 : Not Found\n",
      "3 : Not Found\n",
      "4 : Not Found\n",
      "9 : Not Found\n",
      "16 : Not Found\n",
      "17 : Not Found\n"
     ]
    },
    {
     "name": "stderr",
     "output_type": "stream",
     "text": [
      " 79%|███████▉  | 395/500 [34:24<10:40,  6.10s/it]"
     ]
    },
    {
     "name": "stdout",
     "output_type": "stream",
     "text": [
      "18 : Not Found\n",
      "1 : Not Found\n",
      "2 : Not Found\n",
      "3 : Not Found\n"
     ]
    },
    {
     "name": "stderr",
     "output_type": "stream",
     "text": [
      " 79%|███████▉  | 396/500 [34:29<09:56,  5.73s/it]"
     ]
    },
    {
     "name": "stdout",
     "output_type": "stream",
     "text": [
      "1 : Not Found\n",
      "2 : Not Found\n",
      "3 : Not Found\n",
      "4 : Not Found\n"
     ]
    },
    {
     "name": "stderr",
     "output_type": "stream",
     "text": [
      " 79%|███████▉  | 397/500 [34:34<09:32,  5.56s/it]"
     ]
    },
    {
     "name": "stdout",
     "output_type": "stream",
     "text": [
      "1 : Not Found\n",
      "2 : Not Found\n",
      "3 : Not Found\n",
      "4 : Not Found\n",
      "5 : Not Found\n",
      "6 : Not Found\n",
      "7 : Not Found\n",
      "8 : Not Found\n",
      "9 : Not Found\n",
      "10 : Not Found\n",
      "11 : Not Found\n",
      "12 : Not Found\n",
      "13 : Not Found\n",
      "14 : Not Found\n",
      "15 : Not Found\n",
      "16 : Not Found\n",
      "17 : Not Found\n",
      "18 : Not Found\n",
      "19 : Not Found\n"
     ]
    },
    {
     "name": "stderr",
     "output_type": "stream",
     "text": [
      " 80%|███████▉  | 398/500 [34:45<12:27,  7.33s/it]"
     ]
    },
    {
     "name": "stdout",
     "output_type": "stream",
     "text": [
      "20 : Not Found\n",
      "1 : Not Found\n",
      "2 : Not Found\n",
      "3 : Not Found\n",
      "4 : Not Found\n",
      "8 : Not Found\n",
      "10 : Not Found\n",
      "15 : Not Found\n"
     ]
    },
    {
     "name": "stderr",
     "output_type": "stream",
     "text": [
      " 80%|███████▉  | 399/500 [34:52<11:48,  7.01s/it]"
     ]
    },
    {
     "name": "stdout",
     "output_type": "stream",
     "text": [
      "19 : Not Found\n",
      "1 : Not Found\n",
      "2 : Not Found\n",
      "3 : Not Found\n",
      "7 : Not Found\n",
      "14 : Not Found\n"
     ]
    },
    {
     "name": "stderr",
     "output_type": "stream",
     "text": [
      " 80%|████████  | 400/500 [34:58<11:09,  6.70s/it]"
     ]
    },
    {
     "name": "stdout",
     "output_type": "stream",
     "text": [
      "18 : Not Found\n",
      "1 : Not Found\n",
      "2 : Not Found\n",
      "3 : Not Found\n",
      "4 : Not Found\n"
     ]
    },
    {
     "name": "stderr",
     "output_type": "stream",
     "text": [
      " 80%|████████  | 401/500 [35:03<10:14,  6.21s/it]"
     ]
    },
    {
     "name": "stdout",
     "output_type": "stream",
     "text": [
      "1 : Not Found\n",
      "2 : Not Found\n",
      "3 : Not Found\n",
      "4 : Not Found\n"
     ]
    },
    {
     "name": "stderr",
     "output_type": "stream",
     "text": [
      " 80%|████████  | 402/500 [35:08<09:42,  5.95s/it]"
     ]
    },
    {
     "name": "stdout",
     "output_type": "stream",
     "text": [
      "1 : Not Found\n",
      "2 : Not Found\n",
      "3 : Not Found\n",
      "4 : Not Found\n"
     ]
    },
    {
     "name": "stderr",
     "output_type": "stream",
     "text": [
      " 81%|████████  | 403/500 [35:13<09:12,  5.70s/it]"
     ]
    },
    {
     "name": "stdout",
     "output_type": "stream",
     "text": [
      "1 : Not Found\n",
      "2 : Not Found\n",
      "3 : Not Found\n",
      "4 : Not Found\n",
      "5 : Not Found\n",
      "6 : Not Found\n",
      "7 : Not Found\n",
      "15 : Not Found\n"
     ]
    },
    {
     "name": "stderr",
     "output_type": "stream",
     "text": [
      " 81%|████████  | 404/500 [35:20<09:29,  5.93s/it]"
     ]
    },
    {
     "name": "stdout",
     "output_type": "stream",
     "text": [
      "1 : Not Found\n",
      "2 : Not Found\n",
      "3 : Not Found\n",
      "4 : Not Found\n",
      "5 : Not Found\n",
      "6 : Not Found\n",
      "7 : Not Found\n",
      "8 : Not Found\n",
      "9 : Not Found\n",
      "10 : Not Found\n",
      "11 : Not Found\n",
      "12 : Not Found\n",
      "13 : Not Found\n",
      "14 : Not Found\n",
      "15 : Not Found\n",
      "16 : Not Found\n",
      "17 : Not Found\n"
     ]
    },
    {
     "name": "stderr",
     "output_type": "stream",
     "text": [
      " 81%|████████  | 405/500 [35:30<11:41,  7.38s/it]"
     ]
    },
    {
     "name": "stdout",
     "output_type": "stream",
     "text": [
      "20 : Not Found\n",
      "1 : Not Found\n",
      "2 : Not Found\n",
      "3 : Not Found\n",
      "4 : Not Found\n",
      "5 : Not Found\n",
      "6 : Not Found\n",
      "7 : Not Found\n",
      "8 : Not Found\n",
      "11 : Not Found\n",
      "12 : Not Found\n",
      "13 : Not Found\n",
      "14 : Not Found\n",
      "15 : Not Found\n",
      "18 : Not Found\n"
     ]
    },
    {
     "name": "stderr",
     "output_type": "stream",
     "text": [
      " 81%|████████  | 406/500 [35:40<12:38,  8.07s/it]"
     ]
    },
    {
     "name": "stdout",
     "output_type": "stream",
     "text": [
      "19 : Not Found\n",
      "1 : Not Found\n",
      "2 : Not Found\n",
      "3 : Not Found\n",
      "4 : Not Found\n",
      "7 : Not Found\n",
      "11 : Not Found\n",
      "15 : Not Found\n",
      "17 : Not Found\n",
      "18 : Not Found\n"
     ]
    },
    {
     "name": "stderr",
     "output_type": "stream",
     "text": [
      " 81%|████████▏ | 407/500 [35:47<12:06,  7.81s/it]"
     ]
    },
    {
     "name": "stdout",
     "output_type": "stream",
     "text": [
      "19 : Not Found\n",
      "1 : Not Found\n",
      "2 : Not Found\n",
      "3 : Not Found\n",
      "4 : Not Found\n",
      "10 : Not Found\n"
     ]
    },
    {
     "name": "stderr",
     "output_type": "stream",
     "text": [
      " 82%|████████▏ | 408/500 [35:53<10:54,  7.11s/it]"
     ]
    },
    {
     "name": "stdout",
     "output_type": "stream",
     "text": [
      "1 : Not Found\n",
      "2 : Not Found\n",
      "3 : Not Found\n",
      "4 : Not Found\n"
     ]
    },
    {
     "name": "stderr",
     "output_type": "stream",
     "text": [
      " 82%|████████▏ | 409/500 [35:58<09:56,  6.56s/it]"
     ]
    },
    {
     "name": "stdout",
     "output_type": "stream",
     "text": [
      "1 : Not Found\n",
      "2 : Not Found\n",
      "3 : Not Found\n",
      "4 : Not Found\n"
     ]
    },
    {
     "name": "stderr",
     "output_type": "stream",
     "text": [
      " 82%|████████▏ | 410/500 [36:03<09:12,  6.14s/it]"
     ]
    },
    {
     "name": "stdout",
     "output_type": "stream",
     "text": [
      "1 : Not Found\n",
      "2 : Not Found\n",
      "3 : Not Found\n"
     ]
    },
    {
     "name": "stderr",
     "output_type": "stream",
     "text": [
      " 82%|████████▏ | 411/500 [36:08<08:37,  5.81s/it]"
     ]
    },
    {
     "name": "stdout",
     "output_type": "stream",
     "text": [
      "1 : Not Found\n",
      "2 : Not Found\n",
      "3 : Not Found\n",
      "4 : Not Found\n",
      "16 : Not Found\n",
      "17 : Not Found\n",
      "18 : Not Found\n"
     ]
    },
    {
     "name": "stderr",
     "output_type": "stream",
     "text": [
      " 82%|████████▏ | 412/500 [36:15<08:57,  6.11s/it]"
     ]
    },
    {
     "name": "stdout",
     "output_type": "stream",
     "text": [
      "20 : Not Found\n",
      "1 : Not Found\n",
      "2 : Not Found\n",
      "3 : Not Found\n"
     ]
    },
    {
     "name": "stderr",
     "output_type": "stream",
     "text": [
      " 83%|████████▎ | 413/500 [36:20<08:24,  5.80s/it]"
     ]
    },
    {
     "name": "stdout",
     "output_type": "stream",
     "text": [
      "1 : Not Found\n",
      "2 : Not Found\n",
      "3 : Not Found\n",
      "4 : Not Found\n",
      "6 : Not Found\n",
      "14 : Not Found\n"
     ]
    },
    {
     "name": "stderr",
     "output_type": "stream",
     "text": [
      " 83%|████████▎ | 414/500 [36:26<08:23,  5.85s/it]"
     ]
    },
    {
     "name": "stdout",
     "output_type": "stream",
     "text": [
      "1 : Not Found\n",
      "2 : Not Found\n",
      "3 : Not Found\n",
      "4 : Not Found\n"
     ]
    },
    {
     "name": "stderr",
     "output_type": "stream",
     "text": [
      " 83%|████████▎ | 415/500 [36:31<07:56,  5.61s/it]"
     ]
    },
    {
     "name": "stdout",
     "output_type": "stream",
     "text": [
      "1 : Not Found\n",
      "2 : Not Found\n",
      "3 : Not Found\n",
      "4 : Not Found\n",
      "5 : Not Found\n",
      "13 : Not Found\n",
      "14 : Not Found\n",
      "17 : Not Found\n"
     ]
    },
    {
     "name": "stderr",
     "output_type": "stream",
     "text": [
      " 83%|████████▎ | 416/500 [36:39<08:34,  6.12s/it]"
     ]
    },
    {
     "name": "stdout",
     "output_type": "stream",
     "text": [
      "20 : Not Found\n",
      "1 : Not Found\n",
      "2 : Not Found\n",
      "11 : Not Found\n"
     ]
    },
    {
     "name": "stderr",
     "output_type": "stream",
     "text": [
      " 83%|████████▎ | 417/500 [36:44<08:07,  5.87s/it]"
     ]
    },
    {
     "name": "stdout",
     "output_type": "stream",
     "text": [
      "1 : Not Found\n",
      "2 : Not Found\n",
      "3 : Not Found\n",
      "4 : Not Found\n"
     ]
    },
    {
     "name": "stderr",
     "output_type": "stream",
     "text": [
      " 84%|████████▎ | 418/500 [36:49<07:52,  5.77s/it]"
     ]
    },
    {
     "name": "stdout",
     "output_type": "stream",
     "text": [
      "19 : Not Found\n",
      "1 : Not Found\n",
      "2 : Not Found\n",
      "3 : Not Found\n",
      "4 : Not Found\n",
      "10 : Not Found\n"
     ]
    },
    {
     "name": "stderr",
     "output_type": "stream",
     "text": [
      " 84%|████████▍ | 419/500 [36:55<07:35,  5.63s/it]"
     ]
    },
    {
     "name": "stdout",
     "output_type": "stream",
     "text": [
      "1 : Not Found\n",
      "2 : Not Found\n",
      "3 : Not Found\n",
      "4 : Not Found\n",
      "5 : Not Found\n",
      "14 : Not Found\n"
     ]
    },
    {
     "name": "stderr",
     "output_type": "stream",
     "text": [
      " 84%|████████▍ | 420/500 [37:01<07:40,  5.76s/it]"
     ]
    },
    {
     "name": "stdout",
     "output_type": "stream",
     "text": [
      "1 : Not Found\n",
      "2 : Not Found\n",
      "3 : Not Found\n",
      "4 : Not Found\n",
      "5 : Not Found\n",
      "6 : Not Found\n",
      "7 : Not Found\n",
      "8 : Not Found\n",
      "9 : Not Found\n",
      "10 : Not Found\n",
      "11 : Not Found\n",
      "12 : Not Found\n",
      "13 : Not Found\n",
      "14 : Not Found\n",
      "15 : Not Found\n",
      "16 : Not Found\n",
      "17 : Not Found\n",
      "18 : Not Found\n",
      "19 : Not Found\n"
     ]
    },
    {
     "name": "stderr",
     "output_type": "stream",
     "text": [
      " 84%|████████▍ | 421/500 [37:13<09:59,  7.59s/it]"
     ]
    },
    {
     "name": "stdout",
     "output_type": "stream",
     "text": [
      "20 : Not Found\n",
      "1 : Not Found\n",
      "2 : Not Found\n",
      "3 : Not Found\n",
      "4 : Not Found\n",
      "6 : Not Found\n",
      "7 : Not Found\n",
      "8 : Not Found\n",
      "9 : Not Found\n",
      "10 : Not Found\n",
      "11 : Not Found\n",
      "12 : Not Found\n",
      "13 : Not Found\n",
      "16 : Not Found\n",
      "19 : Not Found\n"
     ]
    },
    {
     "name": "stderr",
     "output_type": "stream",
     "text": [
      " 84%|████████▍ | 422/500 [37:22<10:29,  8.07s/it]"
     ]
    },
    {
     "name": "stdout",
     "output_type": "stream",
     "text": [
      "20 : Not Found\n",
      "1 : Not Found\n",
      "2 : Not Found\n",
      "3 : Not Found\n",
      "4 : Not Found\n",
      "9 : Not Found\n",
      "15 : Not Found\n"
     ]
    },
    {
     "name": "stderr",
     "output_type": "stream",
     "text": [
      " 85%|████████▍ | 423/500 [37:28<09:40,  7.54s/it]"
     ]
    },
    {
     "name": "stdout",
     "output_type": "stream",
     "text": [
      "20 : Not Found\n",
      "1 : Not Found\n",
      "2 : Not Found\n",
      "3 : Not Found\n",
      "4 : Not Found\n",
      "16 : Not Found\n",
      "17 : Not Found\n",
      "18 : Not Found\n"
     ]
    },
    {
     "name": "stderr",
     "output_type": "stream",
     "text": [
      " 85%|████████▍ | 424/500 [37:35<09:13,  7.28s/it]"
     ]
    },
    {
     "name": "stdout",
     "output_type": "stream",
     "text": [
      "20 : Not Found\n",
      "1 : Not Found\n",
      "2 : Not Found\n",
      "3 : Not Found\n",
      "4 : Not Found\n"
     ]
    },
    {
     "name": "stderr",
     "output_type": "stream",
     "text": [
      " 85%|████████▌ | 425/500 [37:40<08:26,  6.76s/it]"
     ]
    },
    {
     "name": "stdout",
     "output_type": "stream",
     "text": [
      "20 : Not Found\n",
      "1 : Not Found\n",
      "2 : Not Found\n",
      "3 : Not Found\n",
      "4 : Not Found\n",
      "9 : Not Found\n"
     ]
    },
    {
     "name": "stderr",
     "output_type": "stream",
     "text": [
      " 85%|████████▌ | 426/500 [37:46<07:56,  6.45s/it]"
     ]
    },
    {
     "name": "stdout",
     "output_type": "stream",
     "text": [
      "1 : Not Found\n",
      "2 : Not Found\n",
      "3 : Not Found\n",
      "4 : Not Found\n",
      "5 : Not Found\n"
     ]
    },
    {
     "name": "stderr",
     "output_type": "stream",
     "text": [
      " 85%|████████▌ | 427/500 [37:51<07:28,  6.14s/it]"
     ]
    },
    {
     "name": "stdout",
     "output_type": "stream",
     "text": [
      "1 : Not Found\n",
      "2 : Not Found\n",
      "3 : Not Found\n",
      "4 : Not Found\n",
      "16 : Not Found\n"
     ]
    },
    {
     "name": "stderr",
     "output_type": "stream",
     "text": [
      " 86%|████████▌ | 428/500 [37:57<07:20,  6.11s/it]"
     ]
    },
    {
     "name": "stdout",
     "output_type": "stream",
     "text": [
      "20 : Not Found\n",
      "1 : Not Found\n",
      "2 : Not Found\n",
      "3 : Not Found\n",
      "4 : Not Found\n",
      "5 : Not Found\n",
      "7 : Not Found\n",
      "12 : Not Found\n",
      "15 : Not Found\n"
     ]
    },
    {
     "name": "stderr",
     "output_type": "stream",
     "text": [
      " 86%|████████▌ | 429/500 [38:04<07:30,  6.34s/it]"
     ]
    },
    {
     "name": "stdout",
     "output_type": "stream",
     "text": [
      "1 : Not Found\n",
      "2 : Not Found\n",
      "3 : Not Found\n",
      "4 : Not Found\n"
     ]
    },
    {
     "name": "stderr",
     "output_type": "stream",
     "text": [
      " 86%|████████▌ | 430/500 [38:10<07:06,  6.10s/it]"
     ]
    },
    {
     "name": "stdout",
     "output_type": "stream",
     "text": [
      "1 : Not Found\n",
      "2 : Not Found\n",
      "3 : Not Found\n",
      "4 : Not Found\n",
      "5 : Not Found\n"
     ]
    },
    {
     "name": "stderr",
     "output_type": "stream",
     "text": [
      " 86%|████████▌ | 431/500 [38:15<06:48,  5.92s/it]"
     ]
    },
    {
     "name": "stdout",
     "output_type": "stream",
     "text": [
      "1 : Not Found\n",
      "2 : Not Found\n",
      "3 : Not Found\n",
      "5 : Not Found\n",
      "7 : Not Found\n",
      "15 : Not Found\n",
      "16 : Not Found\n"
     ]
    },
    {
     "name": "stderr",
     "output_type": "stream",
     "text": [
      " 86%|████████▋ | 432/500 [38:22<07:04,  6.24s/it]"
     ]
    },
    {
     "name": "stdout",
     "output_type": "stream",
     "text": [
      "20 : Not Found\n",
      "1 : Not Found\n",
      "2 : Not Found\n",
      "3 : Not Found\n",
      "4 : Not Found\n"
     ]
    },
    {
     "name": "stderr",
     "output_type": "stream",
     "text": [
      " 87%|████████▋ | 433/500 [38:28<06:37,  5.93s/it]"
     ]
    },
    {
     "name": "stdout",
     "output_type": "stream",
     "text": [
      "1 : Not Found\n",
      "2 : Not Found\n",
      "3 : Not Found\n",
      "4 : Not Found\n",
      "7 : Not Found\n",
      "13 : Not Found\n",
      "14 : Not Found\n"
     ]
    },
    {
     "name": "stderr",
     "output_type": "stream",
     "text": [
      " 87%|████████▋ | 434/500 [38:34<06:43,  6.11s/it]"
     ]
    },
    {
     "name": "stdout",
     "output_type": "stream",
     "text": [
      "1 : Not Found\n",
      "2 : Not Found\n",
      "3 : Not Found\n",
      "4 : Not Found\n"
     ]
    },
    {
     "name": "stderr",
     "output_type": "stream",
     "text": [
      " 87%|████████▋ | 435/500 [38:39<06:17,  5.81s/it]"
     ]
    },
    {
     "name": "stdout",
     "output_type": "stream",
     "text": [
      "1 : Not Found\n",
      "2 : Not Found\n",
      "3 : Not Found\n"
     ]
    },
    {
     "name": "stderr",
     "output_type": "stream",
     "text": [
      " 87%|████████▋ | 436/500 [38:44<05:57,  5.59s/it]"
     ]
    },
    {
     "name": "stdout",
     "output_type": "stream",
     "text": [
      "1 : Not Found\n",
      "2 : Not Found\n",
      "3 : Not Found\n",
      "4 : Not Found\n",
      "17 : Not Found\n"
     ]
    },
    {
     "name": "stderr",
     "output_type": "stream",
     "text": [
      " 87%|████████▋ | 437/500 [38:50<05:58,  5.69s/it]"
     ]
    },
    {
     "name": "stdout",
     "output_type": "stream",
     "text": [
      "18 : Not Found\n",
      "1 : Not Found\n",
      "2 : Not Found\n",
      "3 : Not Found\n",
      "4 : Not Found\n",
      "5 : Not Found\n",
      "6 : Not Found\n",
      "12 : Not Found\n",
      "13 : Not Found\n",
      "14 : Not Found\n"
     ]
    },
    {
     "name": "stderr",
     "output_type": "stream",
     "text": [
      " 88%|████████▊ | 438/500 [38:58<06:25,  6.22s/it]"
     ]
    },
    {
     "name": "stdout",
     "output_type": "stream",
     "text": [
      "19 : Not Found\n",
      "1 : Not Found\n",
      "2 : Not Found\n",
      "3 : Not Found\n",
      "4 : Not Found\n"
     ]
    },
    {
     "name": "stderr",
     "output_type": "stream",
     "text": [
      " 88%|████████▊ | 439/500 [39:03<05:57,  5.86s/it]"
     ]
    },
    {
     "name": "stdout",
     "output_type": "stream",
     "text": [
      "1 : Not Found\n",
      "2 : Not Found\n",
      "3 : Not Found\n"
     ]
    },
    {
     "name": "stderr",
     "output_type": "stream",
     "text": [
      " 88%|████████▊ | 440/500 [39:08<05:41,  5.70s/it]"
     ]
    },
    {
     "name": "stdout",
     "output_type": "stream",
     "text": [
      "1 : Not Found\n",
      "2 : Not Found\n",
      "3 : Not Found\n",
      "4 : Not Found\n",
      "6 : Not Found\n",
      "9 : Not Found\n"
     ]
    },
    {
     "name": "stderr",
     "output_type": "stream",
     "text": [
      " 88%|████████▊ | 441/500 [39:14<05:37,  5.72s/it]"
     ]
    },
    {
     "name": "stdout",
     "output_type": "stream",
     "text": [
      "1 : Not Found\n",
      "2 : Not Found\n",
      "3 : Not Found\n",
      "4 : Not Found\n",
      "5 : Not Found\n",
      "8 : Not Found\n"
     ]
    },
    {
     "name": "stderr",
     "output_type": "stream",
     "text": [
      " 88%|████████▊ | 442/500 [39:20<05:32,  5.73s/it]"
     ]
    },
    {
     "name": "stdout",
     "output_type": "stream",
     "text": [
      "1 : Not Found\n",
      "2 : Not Found\n",
      "3 : Not Found\n",
      "4 : Not Found\n"
     ]
    },
    {
     "name": "stderr",
     "output_type": "stream",
     "text": [
      " 89%|████████▊ | 443/500 [39:25<05:22,  5.65s/it]"
     ]
    },
    {
     "name": "stdout",
     "output_type": "stream",
     "text": [
      "1 : Not Found\n",
      "2 : Not Found\n",
      "3 : Not Found\n",
      "4 : Not Found\n"
     ]
    },
    {
     "name": "stderr",
     "output_type": "stream",
     "text": [
      " 89%|████████▉ | 444/500 [39:31<05:13,  5.60s/it]"
     ]
    },
    {
     "name": "stdout",
     "output_type": "stream",
     "text": [
      "1 : Not Found\n",
      "2 : Not Found\n",
      "3 : Not Found\n",
      "4 : Not Found\n"
     ]
    },
    {
     "name": "stderr",
     "output_type": "stream",
     "text": [
      " 89%|████████▉ | 445/500 [39:36<05:03,  5.52s/it]"
     ]
    },
    {
     "name": "stdout",
     "output_type": "stream",
     "text": [
      "1 : Not Found\n",
      "2 : Not Found\n",
      "3 : Not Found\n",
      "4 : Not Found\n"
     ]
    },
    {
     "name": "stderr",
     "output_type": "stream",
     "text": [
      " 89%|████████▉ | 446/500 [39:41<04:52,  5.43s/it]"
     ]
    },
    {
     "name": "stdout",
     "output_type": "stream",
     "text": [
      "1 : Not Found\n",
      "2 : Not Found\n",
      "3 : Not Found\n",
      "4 : Not Found\n"
     ]
    },
    {
     "name": "stderr",
     "output_type": "stream",
     "text": [
      " 89%|████████▉ | 447/500 [39:47<04:49,  5.46s/it]"
     ]
    },
    {
     "name": "stdout",
     "output_type": "stream",
     "text": [
      "19 : Not Found\n",
      "1 : Not Found\n",
      "2 : Not Found\n",
      "3 : Not Found\n",
      "4 : Not Found\n"
     ]
    },
    {
     "name": "stderr",
     "output_type": "stream",
     "text": [
      " 90%|████████▉ | 448/500 [39:52<04:42,  5.44s/it]"
     ]
    },
    {
     "name": "stdout",
     "output_type": "stream",
     "text": [
      "1 : Not Found\n",
      "2 : Not Found\n",
      "3 : Not Found\n",
      "4 : Not Found\n",
      "12 : Not Found\n"
     ]
    },
    {
     "name": "stderr",
     "output_type": "stream",
     "text": [
      " 90%|████████▉ | 449/500 [39:57<04:38,  5.46s/it]"
     ]
    },
    {
     "name": "stdout",
     "output_type": "stream",
     "text": [
      "1 : Not Found\n",
      "2 : Not Found\n",
      "3 : Not Found\n",
      "6 : Not Found\n",
      "7 : Not Found\n",
      "9 : Not Found\n",
      "14 : Not Found\n",
      "19 : Not Found\n"
     ]
    },
    {
     "name": "stderr",
     "output_type": "stream",
     "text": [
      " 90%|█████████ | 450/500 [40:04<04:56,  5.92s/it]"
     ]
    },
    {
     "name": "stdout",
     "output_type": "stream",
     "text": [
      "20 : Not Found\n",
      "1 : Not Found\n",
      "2 : Not Found\n",
      "3 : Not Found\n",
      "4 : Not Found\n",
      "16 : Not Found\n"
     ]
    },
    {
     "name": "stderr",
     "output_type": "stream",
     "text": [
      " 90%|█████████ | 451/500 [40:11<04:56,  6.05s/it]"
     ]
    },
    {
     "name": "stdout",
     "output_type": "stream",
     "text": [
      "20 : Not Found\n",
      "1 : Not Found\n",
      "2 : Not Found\n",
      "3 : Not Found\n"
     ]
    },
    {
     "name": "stderr",
     "output_type": "stream",
     "text": [
      " 90%|█████████ | 452/500 [40:16<04:38,  5.81s/it]"
     ]
    },
    {
     "name": "stdout",
     "output_type": "stream",
     "text": [
      "1 : Not Found\n",
      "2 : Not Found\n",
      "3 : Not Found\n",
      "4 : Not Found\n"
     ]
    },
    {
     "name": "stderr",
     "output_type": "stream",
     "text": [
      " 91%|█████████ | 453/500 [40:22<04:30,  5.76s/it]"
     ]
    },
    {
     "name": "stdout",
     "output_type": "stream",
     "text": [
      "1 : Not Found\n",
      "2 : Not Found\n",
      "3 : Not Found\n",
      "4 : Not Found\n"
     ]
    },
    {
     "name": "stderr",
     "output_type": "stream",
     "text": [
      " 91%|█████████ | 454/500 [40:27<04:23,  5.73s/it]"
     ]
    },
    {
     "name": "stdout",
     "output_type": "stream",
     "text": [
      "1 : Not Found\n",
      "2 : Not Found\n",
      "3 : Not Found\n",
      "4 : Not Found\n"
     ]
    },
    {
     "name": "stderr",
     "output_type": "stream",
     "text": [
      " 91%|█████████ | 455/500 [40:33<04:11,  5.59s/it]"
     ]
    },
    {
     "name": "stdout",
     "output_type": "stream",
     "text": [
      "1 : Not Found\n",
      "2 : Not Found\n",
      "3 : Not Found\n",
      "4 : Not Found\n"
     ]
    },
    {
     "name": "stderr",
     "output_type": "stream",
     "text": [
      " 91%|█████████ | 456/500 [40:38<04:03,  5.54s/it]"
     ]
    },
    {
     "name": "stdout",
     "output_type": "stream",
     "text": [
      "1 : Not Found\n",
      "2 : Not Found\n",
      "3 : Not Found\n",
      "4 : Not Found\n"
     ]
    },
    {
     "name": "stderr",
     "output_type": "stream",
     "text": [
      " 91%|█████████▏| 457/500 [40:44<03:57,  5.53s/it]"
     ]
    },
    {
     "name": "stdout",
     "output_type": "stream",
     "text": [
      "1 : Not Found\n",
      "2 : Not Found\n",
      "3 : Not Found\n",
      "4 : Not Found\n"
     ]
    },
    {
     "name": "stderr",
     "output_type": "stream",
     "text": [
      " 92%|█████████▏| 458/500 [40:49<03:50,  5.48s/it]"
     ]
    },
    {
     "name": "stdout",
     "output_type": "stream",
     "text": [
      "1 : Not Found\n",
      "2 : Not Found\n",
      "3 : Not Found\n",
      "4 : Not Found\n",
      "10 : Not Found\n",
      "11 : Not Found\n",
      "12 : Not Found\n",
      "15 : Not Found\n"
     ]
    },
    {
     "name": "stderr",
     "output_type": "stream",
     "text": [
      " 92%|█████████▏| 459/500 [40:56<03:59,  5.85s/it]"
     ]
    },
    {
     "name": "stdout",
     "output_type": "stream",
     "text": [
      "1 : Not Found\n",
      "2 : Not Found\n",
      "3 : Not Found\n",
      "4 : Not Found\n"
     ]
    },
    {
     "name": "stderr",
     "output_type": "stream",
     "text": [
      " 92%|█████████▏| 460/500 [41:01<03:49,  5.74s/it]"
     ]
    },
    {
     "name": "stdout",
     "output_type": "stream",
     "text": [
      "1 : Not Found\n",
      "2 : Not Found\n",
      "3 : Not Found\n",
      "4 : Not Found\n"
     ]
    },
    {
     "name": "stderr",
     "output_type": "stream",
     "text": [
      " 92%|█████████▏| 461/500 [41:07<03:41,  5.69s/it]"
     ]
    },
    {
     "name": "stdout",
     "output_type": "stream",
     "text": [
      "1 : Not Found\n",
      "2 : Not Found\n",
      "3 : Not Found\n"
     ]
    },
    {
     "name": "stderr",
     "output_type": "stream",
     "text": [
      " 92%|█████████▏| 462/500 [41:12<03:28,  5.49s/it]"
     ]
    },
    {
     "name": "stdout",
     "output_type": "stream",
     "text": [
      "1 : Not Found\n",
      "2 : Not Found\n",
      "3 : Not Found\n",
      "4 : Not Found\n"
     ]
    },
    {
     "name": "stderr",
     "output_type": "stream",
     "text": [
      " 93%|█████████▎| 463/500 [41:17<03:18,  5.36s/it]"
     ]
    },
    {
     "name": "stdout",
     "output_type": "stream",
     "text": [
      "1 : Not Found\n",
      "2 : Not Found\n",
      "3 : Not Found\n",
      "4 : Not Found\n",
      "6 : Not Found\n",
      "8 : Not Found\n",
      "12 : Not Found\n"
     ]
    },
    {
     "name": "stderr",
     "output_type": "stream",
     "text": [
      " 93%|█████████▎| 464/500 [41:23<03:23,  5.65s/it]"
     ]
    },
    {
     "name": "stdout",
     "output_type": "stream",
     "text": [
      "1 : Not Found\n",
      "2 : Not Found\n",
      "3 : Not Found\n"
     ]
    },
    {
     "name": "stderr",
     "output_type": "stream",
     "text": [
      " 93%|█████████▎| 465/500 [41:28<03:13,  5.52s/it]"
     ]
    },
    {
     "name": "stdout",
     "output_type": "stream",
     "text": [
      "1 : Not Found\n",
      "2 : Not Found\n",
      "3 : Not Found\n"
     ]
    },
    {
     "name": "stderr",
     "output_type": "stream",
     "text": [
      " 93%|█████████▎| 466/500 [41:33<03:03,  5.41s/it]"
     ]
    },
    {
     "name": "stdout",
     "output_type": "stream",
     "text": [
      "1 : Not Found\n",
      "2 : Not Found\n",
      "3 : Not Found\n"
     ]
    },
    {
     "name": "stderr",
     "output_type": "stream",
     "text": [
      " 93%|█████████▎| 467/500 [41:39<03:01,  5.51s/it]"
     ]
    },
    {
     "name": "stdout",
     "output_type": "stream",
     "text": [
      "20 : Not Found\n",
      "1 : Not Found\n",
      "2 : Not Found\n",
      "3 : Not Found\n",
      "4 : Not Found\n",
      "8 : Not Found\n",
      "13 : Not Found\n"
     ]
    },
    {
     "name": "stderr",
     "output_type": "stream",
     "text": [
      " 94%|█████████▎| 468/500 [41:45<03:02,  5.69s/it]"
     ]
    },
    {
     "name": "stdout",
     "output_type": "stream",
     "text": [
      "1 : Not Found\n",
      "2 : Not Found\n",
      "3 : Not Found\n",
      "4 : Not Found\n"
     ]
    },
    {
     "name": "stderr",
     "output_type": "stream",
     "text": [
      " 94%|█████████▍| 469/500 [41:51<02:52,  5.58s/it]"
     ]
    },
    {
     "name": "stdout",
     "output_type": "stream",
     "text": [
      "1 : Not Found\n",
      "2 : Not Found\n",
      "3 : Not Found\n",
      "4 : Not Found\n",
      "5 : Not Found\n",
      "6 : Not Found\n",
      "7 : Not Found\n",
      "9 : Not Found\n",
      "10 : Not Found\n",
      "11 : Not Found\n",
      "12 : Not Found\n",
      "14 : Not Found\n",
      "16 : Not Found\n",
      "18 : Not Found\n"
     ]
    },
    {
     "name": "stderr",
     "output_type": "stream",
     "text": [
      " 94%|█████████▍| 470/500 [42:00<03:22,  6.73s/it]"
     ]
    },
    {
     "name": "stdout",
     "output_type": "stream",
     "text": [
      "19 : Not Found\n",
      "1 : Not Found\n",
      "2 : Not Found\n",
      "3 : Not Found\n",
      "4 : Not Found\n",
      "9 : Not Found\n"
     ]
    },
    {
     "name": "stderr",
     "output_type": "stream",
     "text": [
      " 94%|█████████▍| 471/500 [42:06<03:06,  6.44s/it]"
     ]
    },
    {
     "name": "stdout",
     "output_type": "stream",
     "text": [
      "1 : Not Found\n",
      "2 : Not Found\n",
      "3 : Not Found\n",
      "4 : Not Found\n"
     ]
    },
    {
     "name": "stderr",
     "output_type": "stream",
     "text": [
      " 94%|█████████▍| 472/500 [42:11<02:51,  6.13s/it]"
     ]
    },
    {
     "name": "stdout",
     "output_type": "stream",
     "text": [
      "1 : Not Found\n",
      "2 : Not Found\n",
      "3 : Not Found\n",
      "4 : Not Found\n"
     ]
    },
    {
     "name": "stderr",
     "output_type": "stream",
     "text": [
      " 95%|█████████▍| 473/500 [42:17<02:40,  5.94s/it]"
     ]
    },
    {
     "name": "stdout",
     "output_type": "stream",
     "text": [
      "1 : Not Found\n",
      "2 : Not Found\n",
      "3 : Not Found\n",
      "4 : Not Found\n"
     ]
    },
    {
     "name": "stderr",
     "output_type": "stream",
     "text": [
      " 95%|█████████▍| 474/500 [42:22<02:29,  5.76s/it]"
     ]
    },
    {
     "name": "stdout",
     "output_type": "stream",
     "text": [
      "1 : Not Found\n",
      "2 : Not Found\n",
      "3 : Not Found\n",
      "4 : Not Found\n",
      "5 : Not Found\n",
      "6 : Not Found\n",
      "7 : Not Found\n",
      "8 : Not Found\n",
      "16 : Not Found\n"
     ]
    },
    {
     "name": "stderr",
     "output_type": "stream",
     "text": [
      " 95%|█████████▌| 475/500 [42:29<02:31,  6.05s/it]"
     ]
    },
    {
     "name": "stdout",
     "output_type": "stream",
     "text": [
      "1 : Not Found\n",
      "2 : Not Found\n",
      "3 : Not Found\n",
      "4 : Not Found\n",
      "6 : Not Found\n",
      "8 : Not Found\n",
      "15 : Not Found\n",
      "16 : Not Found\n"
     ]
    },
    {
     "name": "stderr",
     "output_type": "stream",
     "text": [
      " 95%|█████████▌| 476/500 [42:36<02:31,  6.33s/it]"
     ]
    },
    {
     "name": "stdout",
     "output_type": "stream",
     "text": [
      "1 : Not Found\n",
      "2 : Not Found\n",
      "3 : Not Found\n",
      "4 : Not Found\n"
     ]
    },
    {
     "name": "stderr",
     "output_type": "stream",
     "text": [
      " 95%|█████████▌| 477/500 [42:41<02:21,  6.14s/it]"
     ]
    },
    {
     "name": "stdout",
     "output_type": "stream",
     "text": [
      "20 : Not Found\n",
      "1 : Not Found\n",
      "2 : Not Found\n",
      "3 : Not Found\n",
      "4 : Not Found\n"
     ]
    },
    {
     "name": "stderr",
     "output_type": "stream",
     "text": [
      " 96%|█████████▌| 478/500 [42:47<02:09,  5.88s/it]"
     ]
    },
    {
     "name": "stdout",
     "output_type": "stream",
     "text": [
      "1 : Not Found\n",
      "2 : Not Found\n",
      "3 : Not Found\n",
      "4 : Not Found\n"
     ]
    },
    {
     "name": "stderr",
     "output_type": "stream",
     "text": [
      " 96%|█████████▌| 479/500 [42:52<01:58,  5.65s/it]"
     ]
    },
    {
     "name": "stdout",
     "output_type": "stream",
     "text": [
      "1 : Not Found\n",
      "2 : Not Found\n",
      "3 : Not Found\n",
      "4 : Not Found\n",
      "18 : Not Found\n"
     ]
    },
    {
     "name": "stderr",
     "output_type": "stream",
     "text": [
      " 96%|█████████▌| 480/500 [42:58<01:55,  5.77s/it]"
     ]
    },
    {
     "name": "stdout",
     "output_type": "stream",
     "text": [
      "20 : Not Found\n",
      "1 : Not Found\n",
      "2 : Not Found\n",
      "3 : Not Found\n",
      "4 : Not Found\n",
      "10 : Not Found\n"
     ]
    },
    {
     "name": "stderr",
     "output_type": "stream",
     "text": [
      " 96%|█████████▌| 481/500 [43:04<01:49,  5.75s/it]"
     ]
    },
    {
     "name": "stdout",
     "output_type": "stream",
     "text": [
      "1 : Not Found\n",
      "2 : Not Found\n",
      "3 : Not Found\n",
      "4 : Not Found\n",
      "18 : Not Found\n"
     ]
    },
    {
     "name": "stderr",
     "output_type": "stream",
     "text": [
      " 96%|█████████▋| 482/500 [43:10<01:47,  5.97s/it]"
     ]
    },
    {
     "name": "stdout",
     "output_type": "stream",
     "text": [
      "19 : Not Found\n",
      "1 : Not Found\n",
      "2 : Not Found\n",
      "3 : Not Found\n",
      "4 : Not Found\n",
      "6 : Not Found\n",
      "9 : Not Found\n",
      "10 : Not Found\n",
      "11 : Not Found\n"
     ]
    },
    {
     "name": "stderr",
     "output_type": "stream",
     "text": [
      " 97%|█████████▋| 483/500 [43:17<01:45,  6.21s/it]"
     ]
    },
    {
     "name": "stdout",
     "output_type": "stream",
     "text": [
      "18 : Not Found\n",
      "1 : Not Found\n",
      "2 : Not Found\n",
      "3 : Not Found\n",
      "4 : Not Found\n",
      "5 : Not Found\n",
      "7 : Not Found\n"
     ]
    },
    {
     "name": "stderr",
     "output_type": "stream",
     "text": [
      " 97%|█████████▋| 484/500 [43:23<01:37,  6.11s/it]"
     ]
    },
    {
     "name": "stdout",
     "output_type": "stream",
     "text": [
      "1 : Not Found\n",
      "2 : Not Found\n",
      "3 : Not Found\n",
      "4 : Not Found\n"
     ]
    },
    {
     "name": "stderr",
     "output_type": "stream",
     "text": [
      " 97%|█████████▋| 485/500 [43:28<01:29,  5.94s/it]"
     ]
    },
    {
     "name": "stdout",
     "output_type": "stream",
     "text": [
      "1 : Not Found\n",
      "2 : Not Found\n",
      "3 : Not Found\n",
      "4 : Not Found\n"
     ]
    },
    {
     "name": "stderr",
     "output_type": "stream",
     "text": [
      " 97%|█████████▋| 486/500 [43:34<01:22,  5.88s/it]"
     ]
    },
    {
     "name": "stdout",
     "output_type": "stream",
     "text": [
      "1 : Not Found\n",
      "2 : Not Found\n",
      "3 : Not Found\n",
      "4 : Not Found\n",
      "8 : Not Found\n",
      "9 : Not Found\n",
      "10 : Not Found\n"
     ]
    },
    {
     "name": "stderr",
     "output_type": "stream",
     "text": [
      " 97%|█████████▋| 487/500 [43:40<01:17,  5.99s/it]"
     ]
    },
    {
     "name": "stdout",
     "output_type": "stream",
     "text": [
      "1 : Not Found\n",
      "2 : Not Found\n",
      "3 : Not Found\n",
      "4 : Not Found\n"
     ]
    },
    {
     "name": "stderr",
     "output_type": "stream",
     "text": [
      " 98%|█████████▊| 488/500 [43:46<01:11,  5.96s/it]"
     ]
    },
    {
     "name": "stdout",
     "output_type": "stream",
     "text": [
      "1 : Not Found\n",
      "2 : Not Found\n",
      "3 : Not Found\n",
      "4 : Not Found\n"
     ]
    },
    {
     "name": "stderr",
     "output_type": "stream",
     "text": [
      " 98%|█████████▊| 489/500 [43:52<01:03,  5.79s/it]"
     ]
    },
    {
     "name": "stdout",
     "output_type": "stream",
     "text": [
      "1 : Not Found\n",
      "2 : Not Found\n",
      "3 : Not Found\n",
      "4 : Not Found\n",
      "19 : Not Found\n"
     ]
    },
    {
     "name": "stderr",
     "output_type": "stream",
     "text": [
      " 98%|█████████▊| 490/500 [43:58<00:59,  5.92s/it]"
     ]
    },
    {
     "name": "stdout",
     "output_type": "stream",
     "text": [
      "20 : Not Found\n",
      "1 : Not Found\n",
      "2 : Not Found\n",
      "3 : Not Found\n"
     ]
    },
    {
     "name": "stderr",
     "output_type": "stream",
     "text": [
      " 98%|█████████▊| 491/500 [44:03<00:52,  5.83s/it]"
     ]
    },
    {
     "name": "stdout",
     "output_type": "stream",
     "text": [
      "1 : Not Found\n",
      "2 : Not Found\n",
      "3 : Not Found\n",
      "4 : Not Found\n"
     ]
    },
    {
     "name": "stderr",
     "output_type": "stream",
     "text": [
      " 98%|█████████▊| 492/500 [44:09<00:45,  5.70s/it]"
     ]
    },
    {
     "name": "stdout",
     "output_type": "stream",
     "text": [
      "1 : Not Found\n",
      "2 : Not Found\n",
      "3 : Not Found\n",
      "4 : Not Found\n",
      "5 : Not Found\n",
      "7 : Not Found\n",
      "9 : Not Found\n",
      "10 : Not Found\n",
      "11 : Not Found\n",
      "12 : Not Found\n",
      "13 : Not Found\n",
      "14 : Not Found\n"
     ]
    },
    {
     "name": "stderr",
     "output_type": "stream",
     "text": [
      " 99%|█████████▊| 493/500 [44:17<00:45,  6.52s/it]"
     ]
    },
    {
     "name": "stdout",
     "output_type": "stream",
     "text": [
      "1 : Not Found\n",
      "2 : Not Found\n",
      "3 : Not Found\n",
      "4 : Not Found\n"
     ]
    },
    {
     "name": "stderr",
     "output_type": "stream",
     "text": [
      " 99%|█████████▉| 494/500 [44:23<00:37,  6.23s/it]"
     ]
    },
    {
     "name": "stdout",
     "output_type": "stream",
     "text": [
      "1 : Not Found\n",
      "2 : Not Found\n",
      "3 : Not Found\n",
      "4 : Not Found\n"
     ]
    },
    {
     "name": "stderr",
     "output_type": "stream",
     "text": [
      " 99%|█████████▉| 495/500 [44:28<00:29,  5.98s/it]"
     ]
    },
    {
     "name": "stdout",
     "output_type": "stream",
     "text": [
      "1 : Not Found\n",
      "2 : Not Found\n",
      "3 : Not Found\n",
      "4 : Not Found\n",
      "16 : Not Found\n",
      "17 : Not Found\n"
     ]
    },
    {
     "name": "stderr",
     "output_type": "stream",
     "text": [
      " 99%|█████████▉| 496/500 [44:35<00:25,  6.26s/it]"
     ]
    },
    {
     "name": "stdout",
     "output_type": "stream",
     "text": [
      "18 : Not Found\n",
      "1 : Not Found\n",
      "2 : Not Found\n",
      "3 : Not Found\n",
      "4 : Not Found\n"
     ]
    },
    {
     "name": "stderr",
     "output_type": "stream",
     "text": [
      " 99%|█████████▉| 497/500 [44:41<00:18,  6.06s/it]"
     ]
    },
    {
     "name": "stdout",
     "output_type": "stream",
     "text": [
      "1 : Not Found\n",
      "2 : Not Found\n",
      "3 : Not Found\n",
      "4 : Not Found\n"
     ]
    },
    {
     "name": "stderr",
     "output_type": "stream",
     "text": [
      "100%|█████████▉| 498/500 [44:46<00:11,  5.91s/it]"
     ]
    },
    {
     "name": "stdout",
     "output_type": "stream",
     "text": [
      "1 : Not Found\n",
      "2 : Not Found\n",
      "3 : Not Found\n",
      "4 : Not Found\n"
     ]
    },
    {
     "name": "stderr",
     "output_type": "stream",
     "text": [
      "100%|█████████▉| 499/500 [44:51<00:05,  5.68s/it]"
     ]
    },
    {
     "name": "stdout",
     "output_type": "stream",
     "text": [
      "1 : Not Found\n",
      "2 : Not Found\n",
      "3 : Not Found\n",
      "4 : Not Found\n"
     ]
    },
    {
     "name": "stderr",
     "output_type": "stream",
     "text": [
      "100%|██████████| 500/500 [44:57<00:00,  5.39s/it]\n"
     ]
    }
   ],
   "source": [
    "from selenium.webdriver.common.by import By\n",
    "import pandas as pd  # for dataset creation\n",
    "from tqdm import tqdm  # tracing for loop\n",
    "\n",
    "df = pd.read_csv('../dataset/Naukri_jobs.csv')  # open an empty csv file to avoid data loss\n",
    "\n",
    "for page in tqdm(range(1, 501)):  # total more then 1400 pages\n",
    "    driver.get(f'https://www.naukri.com/jobs-in-all-{page}')\n",
    "    for i in range(1, 21):  # 20 jobs details on every page\n",
    "        try:\n",
    "            # extracting job title using xpath\n",
    "            post = driver.find_element(By.XPATH,\n",
    "                                       '/html/body/div[1]/div[4]/div[1]/div/section[2]/div[2]/article[{}]/div[1]/div[1]/a'.format(\n",
    "                                           i)).text\n",
    "            # print('post')\n",
    "            # extracting company name using xpath\n",
    "            firm = driver.find_element(By.XPATH,\n",
    "                                       '/html/body/div[1]/div[4]/div[1]/div/section[2]/div[2]/article[{}]/div[1]/div[1]/div/a[1]'.format(\n",
    "                                           i)).text\n",
    "            # print('firm')\n",
    "            # extracting company ratings on naukri portal using xpath\n",
    "            firm_rating = driver.find_element(By.XPATH,\n",
    "                                              '/html/body/div[1]/div[4]/div[1]/div/section[2]/div[2]/article[{}]/div[1]/div[1]/div/span'.format(\n",
    "                                                  i)).text\n",
    "            # print('firm_rating')\n",
    "            # extracting company reviews on naukri portal using xpath\n",
    "            firm_review = driver.find_element(By.XPATH,\n",
    "                                              '/html/body/div[1]/div[4]/div[1]/div/section[2]/div[2]/article[{}]/div[1]/div[1]/div/a[2]'.format(\n",
    "                                                  i)).text\n",
    "            # print('firm_review')\n",
    "            # extracting required experience using xpath\n",
    "            required_exp = driver.find_element(By.XPATH,\n",
    "                                               '/html/body/div[1]/div[4]/div[1]/div/section[2]/div[2]/article[{}]/div[1]/ul/li[1]/span[1]'.format(\n",
    "                                                   i)).text\n",
    "            # print('required_exp')\n",
    "            # extracting salary offered using xpath\n",
    "            salary_offered = driver.find_element(By.XPATH,\n",
    "                                                 '/html/body/div[1]/div[4]/div[1]/div/section[2]/div[2]/article[{}]/div[1]/ul/li[2]/span[1]'.format(\n",
    "                                                     i)).text\n",
    "            # print('salary_offered')\n",
    "            # extracting job location using xpath\n",
    "            job_location = driver.find_element(By.XPATH,\n",
    "                                               '/html/body/div[1]/div[4]/div[1]/div/section[2]/div[2]/article[{}]/div[1]/ul/li[3]/span'.format(\n",
    "                                                   i)).text\n",
    "            # print('job_location')\n",
    "            # extracting job description using xpath\n",
    "            job_desc = driver.find_element(By.XPATH,\n",
    "                                           '/html/body/div[1]/div[4]/div[1]/div/section[2]/div[2]/article[{}]/div[2]'.format(\n",
    "                                               i)).text\n",
    "            # print('job_desc')\n",
    "            # extracting skills required using xpath\n",
    "            skills = driver.find_element(By.XPATH,\n",
    "                                         '/html/body/div[1]/div[4]/div[1]/div/section[2]/div[2]/article[{}]/ul'.format(\n",
    "                                             i)).text\n",
    "            # print('skills')\n",
    "            # extracting when job posted using xpath, this data available in two diffrent format for some companies\n",
    "            posted_on = None\n",
    "            posted_on1 = driver.find_element(By.XPATH,\n",
    "                                             '/html/body/div[1]/div[4]/div[1]/div/section[2]/div[2]/article[{}]/div[3]/div[1]/div/span'.format(\n",
    "                                                 i)).text\n",
    "            # posted_on2 = driver.find_element(By.XPATH,'/html/body/div[1]/div[3]/div[2]/section[2]/div[2]/article[{}]/div[3]/div[2]/span'.format(i)).text\n",
    "            posted_on = posted_on1\n",
    "            # print('posted_on')\n",
    "            # for i in [posted_on1,posted_on2]:\n",
    "            #     if 'DAY' in i:\n",
    "            #         posted_on = i\n",
    "\n",
    "            # appending all data in data file\n",
    "            df = df.append(\n",
    "                {'job_post': post, 'company': firm, 'company_rating': firm_rating, 'company_review': firm_review,\n",
    "                 'exp_required': required_exp,\n",
    "                 'salary_offered': salary_offered, 'job_location': job_location, 'job_description': job_desc,\n",
    "                 'required_skills': skills, 'Posted_on': posted_on}, ignore_index=True)\n",
    "            # saving as csv file\n",
    "            df.to_csv('Naukri Job Data/Naukri_jobs.csv')\n",
    "        except NoSuchElementException:\n",
    "            print(i, \": Not Found\")\n",
    "            pass"
   ]
  },
  {
   "cell_type": "code",
   "execution_count": null,
   "outputs": [],
   "source": [],
   "metadata": {
    "collapsed": false
   }
  }
 ],
 "metadata": {
  "kernelspec": {
   "name": "naukari-jobs-data-scraping-3.10",
   "language": "python",
   "display_name": "Naukari-Jobs-data-scraping-3.10"
  },
  "language_info": {
   "codemirror_mode": {
    "name": "ipython",
    "version": 3
   },
   "file_extension": ".py",
   "mimetype": "text/x-python",
   "name": "python",
   "nbconvert_exporter": "python",
   "pygments_lexer": "ipython3",
   "version": "3.9.7"
  }
 },
 "nbformat": 4,
 "nbformat_minor": 5
}
