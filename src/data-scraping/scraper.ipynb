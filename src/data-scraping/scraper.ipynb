{
 "cells": [
  {
   "cell_type": "code",
   "execution_count": null,
   "id": "239e88de",
   "metadata": {},
   "outputs": [],
   "source": [
    "# !pip install selenium pandas"
   ]
  },
  {
   "cell_type": "code",
   "execution_count": 1,
   "id": "5a5c5360",
   "metadata": {
    "ExecuteTime": {
     "end_time": "2024-02-10T16:08:27.998551900Z",
     "start_time": "2024-02-10T16:08:27.178228100Z"
    }
   },
   "outputs": [],
   "source": [
    "import pandas as pd\n",
    "from selenium import webdriver\n",
    "from selenium.common.exceptions import NoSuchElementException\n",
    "import re\n",
    "\n",
    "import warnings\n",
    "\n",
    "warnings.filterwarnings('ignore')"
   ]
  },
  {
   "cell_type": "code",
   "execution_count": 2,
   "id": "04486d36",
   "metadata": {
    "ExecuteTime": {
     "end_time": "2024-02-10T16:08:51.838558300Z",
     "start_time": "2024-02-10T16:08:29.569147800Z"
    }
   },
   "outputs": [],
   "source": [
    "driver = webdriver.Firefox()"
   ]
  },
  {
   "cell_type": "code",
   "execution_count": null,
   "id": "c8f8e401",
   "metadata": {},
   "outputs": [],
   "source": [
    "driver.implicitly_wait(0.5)"
   ]
  },
  {
   "cell_type": "code",
   "execution_count": null,
   "id": "6cf56e7c",
   "metadata": {},
   "outputs": [],
   "source": [
    "# driver.get('https://www.naukri.com/jobs-in-all')"
   ]
  },
  {
   "cell_type": "code",
   "execution_count": null,
   "id": "271a463f",
   "metadata": {},
   "outputs": [],
   "source": [
    "# # enter job role - data scientist\n",
    "# role=driver.find_element(By.XPATH,'/html/body/div/div[2]/div[3]/div/div/div[1]/div/div/div/input')\n",
    "# role.send_keys('data scientist')\n",
    "\n",
    "# # location - India\n",
    "# location=driver.find_element(By.XPATH,'/html/body/div/div[2]/div[3]/div/div/div[3]/div/div/div/input')\n",
    "# location.send_keys('india')\n",
    "\n",
    "# # click search\n",
    "# driver.find_element_by_class_name('qsbSubmit').click()"
   ]
  },
  {
   "cell_type": "code",
   "execution_count": null,
   "id": "9ceef764",
   "metadata": {},
   "outputs": [],
   "source": [
    "from selenium.webdriver.common.by import By\n",
    "import pandas as pd  # for dataset creation\n",
    "from tqdm import tqdm  # tracing for loop\n",
    "\n",
    "df = pd.read_csv('../dataset/Naukri_jobs.csv')  # open an empty csv file to avoid data loss\n",
    "\n",
    "for page in tqdm(range(1, 2001)):  # total more then 1400 pages\n",
    "    driver.get(f'https://www.naukri.com/jobs-in-all-{page}')\n",
    "    for i in range(1, 21):  # 20 jobs details on every page\n",
    "        try:\n",
    "            # extracting job title using xpath\n",
    "            post = driver.find_element(By.XPATH,\n",
    "                                       '/html/body/div[1]/div[4]/div[1]/div/section[2]/div[2]/article[{}]/div[1]/div[1]/a'.format(\n",
    "                                           i)).text\n",
    "            # print('post')\n",
    "            # extracting company name using xpath\n",
    "            firm = driver.find_element(By.XPATH,\n",
    "                                       '/html/body/div[1]/div[4]/div[1]/div/section[2]/div[2]/article[{}]/div[1]/div[1]/div/a[1]'.format(\n",
    "                                           i)).text\n",
    "            # print('firm')\n",
    "            # extracting company ratings on naukri portal using xpath\n",
    "            firm_rating = driver.find_element(By.XPATH,\n",
    "                                              '/html/body/div[1]/div[4]/div[1]/div/section[2]/div[2]/article[{}]/div[1]/div[1]/div/span'.format(\n",
    "                                                  i)).text\n",
    "            # print('firm_rating')\n",
    "            # extracting company reviews on naukri portal using xpath\n",
    "            firm_review = driver.find_element(By.XPATH,\n",
    "                                              '/html/body/div[1]/div[4]/div[1]/div/section[2]/div[2]/article[{}]/div[1]/div[1]/div/a[2]'.format(\n",
    "                                                  i)).text\n",
    "            # print('firm_review')\n",
    "            # extracting required experience using xpath\n",
    "            required_exp = driver.find_element(By.XPATH,\n",
    "                                               '/html/body/div[1]/div[4]/div[1]/div/section[2]/div[2]/article[{}]/div[1]/ul/li[1]/span[1]'.format(\n",
    "                                                   i)).text\n",
    "            # print('required_exp')\n",
    "            # extracting salary offered using xpath\n",
    "            salary_offered = driver.find_element(By.XPATH,\n",
    "                                                 '/html/body/div[1]/div[4]/div[1]/div/section[2]/div[2]/article[{}]/div[1]/ul/li[2]/span[1]'.format(\n",
    "                                                     i)).text\n",
    "            # print('salary_offered')\n",
    "            # extracting job location using xpath\n",
    "            job_location = driver.find_element(By.XPATH,\n",
    "                                               '/html/body/div[1]/div[4]/div[1]/div/section[2]/div[2]/article[{}]/div[1]/ul/li[3]/span'.format(\n",
    "                                                   i)).text\n",
    "            # print('job_location')\n",
    "            # extracting job description using xpath\n",
    "            job_desc = driver.find_element(By.XPATH,\n",
    "                                           '/html/body/div[1]/div[4]/div[1]/div/section[2]/div[2]/article[{}]/div[2]'.format(\n",
    "                                               i)).text\n",
    "            # print('job_desc')\n",
    "            # extracting skills required using xpath\n",
    "            skills = driver.find_element(By.XPATH,\n",
    "                                         '/html/body/div[1]/div[4]/div[1]/div/section[2]/div[2]/article[{}]/ul'.format(\n",
    "                                             i)).text\n",
    "            # print('skills')\n",
    "            # extracting when job posted using xpath, this data available in two diffrent format for some companies\n",
    "            posted_on = None\n",
    "            posted_on1 = driver.find_element(By.XPATH,\n",
    "                                             '/html/body/div[1]/div[4]/div[1]/div/section[2]/div[2]/article[{}]/div[3]/div[1]/div/span'.format(\n",
    "                                                 i)).text\n",
    "            # posted_on2 = driver.find_element(By.XPATH,'/html/body/div[1]/div[3]/div[2]/section[2]/div[2]/article[{}]/div[3]/div[2]/span'.format(i)).text\n",
    "            posted_on = posted_on1\n",
    "            # print('posted_on')\n",
    "            # for i in [posted_on1,posted_on2]:\n",
    "            #     if 'DAY' in i:\n",
    "            #         posted_on = i\n",
    "\n",
    "            # appending all data in data file\n",
    "            df = df.append(\n",
    "                {'job_post': post, 'company': firm, 'company_rating': firm_rating, 'company_review': firm_review,\n",
    "                 'exp_required': required_exp,\n",
    "                 'salary_offered': salary_offered, 'job_location': job_location, 'job_description': job_desc,\n",
    "                 'required_skills': skills, 'Posted_on': posted_on}, ignore_index=True)\n",
    "            # saving as csv file\n",
    "            df.to_csv('./Naukri_jobs.csv')\n",
    "        except NoSuchElementException:\n",
    "            print(i, \": Not Found\")\n",
    "            pass"
   ]
  },
  {
   "cell_type": "code",
   "execution_count": null,
   "outputs": [],
   "source": [
    "df = df.drop_duplicates()\n",
    "df.to_csv('./Naukri_jobs.csv')"
   ],
   "metadata": {
    "collapsed": false
   },
   "id": "58ed2fc2dd51884d"
  }
 ],
 "metadata": {
  "kernelspec": {
   "name": "python3",
   "language": "python",
   "display_name": "Python 3 (ipykernel)"
  },
  "language_info": {
   "codemirror_mode": {
    "name": "ipython",
    "version": 3
   },
   "file_extension": ".py",
   "mimetype": "text/x-python",
   "name": "python",
   "nbconvert_exporter": "python",
   "pygments_lexer": "ipython3",
   "version": "3.9.7"
  }
 },
 "nbformat": 4,
 "nbformat_minor": 5
}
