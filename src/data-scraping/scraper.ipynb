{
 "cells": [
  {
   "cell_type": "code",
   "execution_count": 9,
   "id": "239e88de",
   "metadata": {},
   "outputs": [],
   "source": [
    "# !pip install selenium pandas"
   ]
  },
  {
   "cell_type": "code",
   "execution_count": 10,
   "id": "5a5c5360",
   "metadata": {},
   "outputs": [],
   "source": [
    "import pandas as pd\n",
    "from selenium import webdriver\n",
    "from selenium.common.exceptions import NoSuchElementException\n",
    "import re\n",
    "\n",
    "import warnings\n",
    "\n",
    "warnings.filterwarnings('ignore')"
   ]
  },
  {
   "cell_type": "code",
   "execution_count": 11,
   "id": "04486d36",
   "metadata": {},
   "outputs": [],
   "source": [
    "driver = webdriver.Firefox()"
   ]
  },
  {
   "cell_type": "code",
   "execution_count": 12,
   "id": "c8f8e401",
   "metadata": {},
   "outputs": [],
   "source": [
    "driver.implicitly_wait(0.5)"
   ]
  },
  {
   "cell_type": "code",
   "execution_count": 13,
   "id": "6cf56e7c",
   "metadata": {},
   "outputs": [],
   "source": [
    "# driver.get('https://www.naukri.com/jobs-in-all')"
   ]
  },
  {
   "cell_type": "code",
   "execution_count": 14,
   "id": "271a463f",
   "metadata": {},
   "outputs": [],
   "source": [
    "# # enter job role - data scientist\n",
    "# role=driver.find_element(By.XPATH,'/html/body/div/div[2]/div[3]/div/div/div[1]/div/div/div/input')\n",
    "# role.send_keys('data scientist')\n",
    "\n",
    "# # location - India\n",
    "# location=driver.find_element(By.XPATH,'/html/body/div/div[2]/div[3]/div/div/div[3]/div/div/div/input')\n",
    "# location.send_keys('india')\n",
    "\n",
    "# # click search\n",
    "# driver.find_element_by_class_name('qsbSubmit').click()"
   ]
  },
  {
   "cell_type": "code",
   "execution_count": 15,
   "id": "9ceef764",
   "metadata": {},
   "outputs": [
    {
     "name": "stderr",
     "output_type": "stream",
     "text": [
      "  0%|          | 0/2000 [00:00<?, ?it/s]"
     ]
    },
    {
     "name": "stdout",
     "output_type": "stream",
     "text": [
      "1 : Not Found\n",
      "2 : Not Found\n",
      "3 : Not Found\n",
      "4 : Not Found\n"
     ]
    },
    {
     "name": "stderr",
     "output_type": "stream",
     "text": [
      "  0%|          | 1/2000 [00:04<2:45:42,  4.97s/it]"
     ]
    },
    {
     "name": "stdout",
     "output_type": "stream",
     "text": [
      "1 : Not Found\n",
      "2 : Not Found\n",
      "3 : Not Found\n",
      "4 : Not Found\n"
     ]
    },
    {
     "name": "stderr",
     "output_type": "stream",
     "text": [
      "  0%|          | 2/2000 [00:09<2:42:21,  4.88s/it]"
     ]
    },
    {
     "name": "stdout",
     "output_type": "stream",
     "text": [
      "1 : Not Found\n",
      "2 : Not Found\n",
      "3 : Not Found\n",
      "4 : Not Found\n"
     ]
    },
    {
     "name": "stderr",
     "output_type": "stream",
     "text": [
      "  0%|          | 3/2000 [00:14<2:37:01,  4.72s/it]"
     ]
    },
    {
     "name": "stdout",
     "output_type": "stream",
     "text": [
      "1 : Not Found\n",
      "2 : Not Found\n",
      "3 : Not Found\n",
      "4 : Not Found\n",
      "8 : Not Found\n"
     ]
    },
    {
     "name": "stderr",
     "output_type": "stream",
     "text": [
      "  0%|          | 4/2000 [00:19<2:43:34,  4.92s/it]"
     ]
    },
    {
     "name": "stdout",
     "output_type": "stream",
     "text": [
      "1 : Not Found\n",
      "2 : Not Found\n",
      "3 : Not Found\n",
      "4 : Not Found\n",
      "6 : Not Found\n",
      "10 : Not Found\n",
      "11 : Not Found\n",
      "12 : Not Found\n",
      "13 : Not Found\n",
      "14 : Not Found\n"
     ]
    },
    {
     "name": "stderr",
     "output_type": "stream",
     "text": [
      "  0%|          | 5/2000 [00:26<3:09:06,  5.69s/it]"
     ]
    },
    {
     "name": "stdout",
     "output_type": "stream",
     "text": [
      "1 : Not Found\n",
      "2 : Not Found\n",
      "3 : Not Found\n",
      "4 : Not Found\n"
     ]
    },
    {
     "name": "stderr",
     "output_type": "stream",
     "text": [
      "  0%|          | 6/2000 [00:31<3:01:17,  5.46s/it]"
     ]
    },
    {
     "name": "stdout",
     "output_type": "stream",
     "text": [
      "18 : Not Found\n",
      "1 : Not Found\n",
      "2 : Not Found\n",
      "3 : Not Found\n",
      "4 : Not Found\n"
     ]
    },
    {
     "name": "stderr",
     "output_type": "stream",
     "text": [
      "  0%|          | 7/2000 [00:36<2:50:54,  5.15s/it]"
     ]
    },
    {
     "name": "stdout",
     "output_type": "stream",
     "text": [
      "1 : Not Found\n",
      "2 : Not Found\n",
      "3 : Not Found\n",
      "4 : Not Found\n",
      "15 : Not Found\n",
      "16 : Not Found\n"
     ]
    },
    {
     "name": "stderr",
     "output_type": "stream",
     "text": [
      "  0%|          | 8/2000 [00:41<2:52:58,  5.21s/it]"
     ]
    },
    {
     "name": "stdout",
     "output_type": "stream",
     "text": [
      "1 : Not Found\n",
      "2 : Not Found\n",
      "3 : Not Found\n",
      "4 : Not Found\n",
      "17 : Not Found\n"
     ]
    },
    {
     "name": "stderr",
     "output_type": "stream",
     "text": [
      "  0%|          | 9/2000 [00:46<2:49:20,  5.10s/it]"
     ]
    },
    {
     "name": "stdout",
     "output_type": "stream",
     "text": [
      "1 : Not Found\n",
      "2 : Not Found\n",
      "3 : Not Found\n",
      "4 : Not Found\n",
      "16 : Not Found\n"
     ]
    },
    {
     "name": "stderr",
     "output_type": "stream",
     "text": [
      "  0%|          | 10/2000 [00:51<2:51:09,  5.16s/it]"
     ]
    },
    {
     "name": "stdout",
     "output_type": "stream",
     "text": [
      "1 : Not Found\n",
      "2 : Not Found\n",
      "3 : Not Found\n",
      "4 : Not Found\n",
      "6 : Not Found\n",
      "7 : Not Found\n",
      "12 : Not Found\n",
      "13 : Not Found\n"
     ]
    },
    {
     "name": "stderr",
     "output_type": "stream",
     "text": [
      "  1%|          | 11/2000 [00:57<3:03:24,  5.53s/it]"
     ]
    },
    {
     "name": "stdout",
     "output_type": "stream",
     "text": [
      "1 : Not Found\n",
      "2 : Not Found\n",
      "3 : Not Found\n",
      "4 : Not Found\n",
      "12 : Not Found\n"
     ]
    },
    {
     "name": "stderr",
     "output_type": "stream",
     "text": [
      "  1%|          | 12/2000 [01:02<2:57:14,  5.35s/it]"
     ]
    },
    {
     "name": "stdout",
     "output_type": "stream",
     "text": [
      "1 : Not Found\n",
      "2 : Not Found\n",
      "3 : Not Found\n",
      "4 : Not Found\n",
      "16 : Not Found\n"
     ]
    },
    {
     "name": "stderr",
     "output_type": "stream",
     "text": [
      "  1%|          | 13/2000 [01:07<2:53:40,  5.24s/it]"
     ]
    },
    {
     "name": "stdout",
     "output_type": "stream",
     "text": [
      "1 : Not Found\n",
      "2 : Not Found\n",
      "3 : Not Found\n"
     ]
    },
    {
     "name": "stderr",
     "output_type": "stream",
     "text": [
      "  1%|          | 14/2000 [01:12<2:45:12,  4.99s/it]"
     ]
    },
    {
     "name": "stdout",
     "output_type": "stream",
     "text": [
      "1 : Not Found\n",
      "2 : Not Found\n",
      "3 : Not Found\n",
      "4 : Not Found\n",
      "5 : Not Found\n"
     ]
    },
    {
     "name": "stderr",
     "output_type": "stream",
     "text": [
      "  1%|          | 15/2000 [01:17<2:48:35,  5.10s/it]"
     ]
    },
    {
     "name": "stdout",
     "output_type": "stream",
     "text": [
      "18 : Not Found\n",
      "1 : Not Found\n",
      "2 : Not Found\n",
      "3 : Not Found\n",
      "4 : Not Found\n"
     ]
    },
    {
     "name": "stderr",
     "output_type": "stream",
     "text": [
      "  1%|          | 16/2000 [01:22<2:41:48,  4.89s/it]"
     ]
    },
    {
     "name": "stdout",
     "output_type": "stream",
     "text": [
      "1 : Not Found\n",
      "2 : Not Found\n",
      "3 : Not Found\n",
      "4 : Not Found\n",
      "17 : Not Found\n",
      "18 : Not Found\n"
     ]
    },
    {
     "name": "stderr",
     "output_type": "stream",
     "text": [
      "  1%|          | 17/2000 [01:27<2:47:17,  5.06s/it]"
     ]
    },
    {
     "name": "stdout",
     "output_type": "stream",
     "text": [
      "1 : Not Found\n",
      "2 : Not Found\n",
      "3 : Not Found\n",
      "4 : Not Found\n"
     ]
    },
    {
     "name": "stderr",
     "output_type": "stream",
     "text": [
      "  1%|          | 18/2000 [01:32<2:41:41,  4.89s/it]"
     ]
    },
    {
     "name": "stdout",
     "output_type": "stream",
     "text": [
      "1 : Not Found\n",
      "2 : Not Found\n",
      "3 : Not Found\n",
      "4 : Not Found\n"
     ]
    },
    {
     "name": "stderr",
     "output_type": "stream",
     "text": [
      "  1%|          | 19/2000 [01:36<2:39:18,  4.83s/it]"
     ]
    },
    {
     "name": "stdout",
     "output_type": "stream",
     "text": [
      "1 : Not Found\n",
      "2 : Not Found\n",
      "3 : Not Found\n",
      "4 : Not Found\n",
      "5 : Not Found\n",
      "9 : Not Found\n",
      "10 : Not Found\n",
      "13 : Not Found\n",
      "14 : Not Found\n"
     ]
    },
    {
     "name": "stderr",
     "output_type": "stream",
     "text": [
      "  1%|          | 20/2000 [01:43<3:01:10,  5.49s/it]"
     ]
    },
    {
     "name": "stdout",
     "output_type": "stream",
     "text": [
      "1 : Not Found\n",
      "2 : Not Found\n",
      "3 : Not Found\n",
      "4 : Not Found\n"
     ]
    },
    {
     "name": "stderr",
     "output_type": "stream",
     "text": [
      "  1%|          | 21/2000 [01:48<2:57:45,  5.39s/it]"
     ]
    },
    {
     "name": "stdout",
     "output_type": "stream",
     "text": [
      "18 : Not Found\n",
      "1 : Not Found\n",
      "2 : Not Found\n",
      "3 : Not Found\n",
      "4 : Not Found\n"
     ]
    },
    {
     "name": "stderr",
     "output_type": "stream",
     "text": [
      "  1%|          | 22/2000 [01:53<2:47:04,  5.07s/it]"
     ]
    },
    {
     "name": "stdout",
     "output_type": "stream",
     "text": [
      "1 : Not Found\n",
      "2 : Not Found\n",
      "3 : Not Found\n",
      "4 : Not Found\n"
     ]
    },
    {
     "name": "stderr",
     "output_type": "stream",
     "text": [
      "  1%|          | 23/2000 [01:58<2:47:49,  5.09s/it]"
     ]
    },
    {
     "name": "stdout",
     "output_type": "stream",
     "text": [
      "20 : Not Found\n",
      "1 : Not Found\n",
      "2 : Not Found\n",
      "3 : Not Found\n",
      "4 : Not Found\n"
     ]
    },
    {
     "name": "stderr",
     "output_type": "stream",
     "text": [
      "  1%|          | 24/2000 [02:03<2:43:40,  4.97s/it]"
     ]
    },
    {
     "name": "stdout",
     "output_type": "stream",
     "text": [
      "1 : Not Found\n",
      "2 : Not Found\n",
      "3 : Not Found\n",
      "4 : Not Found\n",
      "13 : Not Found\n",
      "14 : Not Found\n",
      "15 : Not Found\n"
     ]
    },
    {
     "name": "stderr",
     "output_type": "stream",
     "text": [
      "  1%|▏         | 25/2000 [02:09<2:53:18,  5.27s/it]"
     ]
    },
    {
     "name": "stdout",
     "output_type": "stream",
     "text": [
      "1 : Not Found\n",
      "2 : Not Found\n",
      "3 : Not Found\n",
      "4 : Not Found\n",
      "19 : Not Found\n"
     ]
    },
    {
     "name": "stderr",
     "output_type": "stream",
     "text": [
      "  1%|▏         | 26/2000 [02:14<2:54:58,  5.32s/it]"
     ]
    },
    {
     "name": "stdout",
     "output_type": "stream",
     "text": [
      "20 : Not Found\n",
      "1 : Not Found\n",
      "2 : Not Found\n",
      "3 : Not Found\n",
      "4 : Not Found\n",
      "14 : Not Found\n"
     ]
    },
    {
     "name": "stderr",
     "output_type": "stream",
     "text": [
      "  1%|▏         | 27/2000 [02:19<2:51:21,  5.21s/it]"
     ]
    },
    {
     "name": "stdout",
     "output_type": "stream",
     "text": [
      "1 : Not Found\n",
      "2 : Not Found\n",
      "3 : Not Found\n",
      "4 : Not Found\n",
      "5 : Not Found\n"
     ]
    },
    {
     "name": "stderr",
     "output_type": "stream",
     "text": [
      "  1%|▏         | 28/2000 [02:25<2:55:56,  5.35s/it]"
     ]
    },
    {
     "name": "stdout",
     "output_type": "stream",
     "text": [
      "19 : Not Found\n",
      "1 : Not Found\n",
      "2 : Not Found\n",
      "3 : Not Found\n",
      "4 : Not Found\n",
      "5 : Not Found\n",
      "14 : Not Found\n",
      "15 : Not Found\n",
      "16 : Not Found\n"
     ]
    },
    {
     "name": "stderr",
     "output_type": "stream",
     "text": [
      "  1%|▏         | 29/2000 [02:31<3:02:35,  5.56s/it]"
     ]
    },
    {
     "name": "stdout",
     "output_type": "stream",
     "text": [
      "1 : Not Found\n",
      "2 : Not Found\n",
      "3 : Not Found\n",
      "4 : Not Found\n",
      "14 : Not Found\n",
      "16 : Not Found\n"
     ]
    },
    {
     "name": "stderr",
     "output_type": "stream",
     "text": [
      "  2%|▏         | 30/2000 [02:37<3:07:54,  5.72s/it]"
     ]
    },
    {
     "name": "stdout",
     "output_type": "stream",
     "text": [
      "20 : Not Found\n",
      "1 : Not Found\n",
      "2 : Not Found\n",
      "3 : Not Found\n",
      "4 : Not Found\n",
      "5 : Not Found\n"
     ]
    },
    {
     "name": "stderr",
     "output_type": "stream",
     "text": [
      "  2%|▏         | 31/2000 [02:42<2:58:23,  5.44s/it]"
     ]
    },
    {
     "name": "stdout",
     "output_type": "stream",
     "text": [
      "1 : Not Found\n",
      "2 : Not Found\n",
      "3 : Not Found\n",
      "4 : Not Found\n",
      "6 : Not Found\n",
      "7 : Not Found\n",
      "8 : Not Found\n",
      "9 : Not Found\n",
      "10 : Not Found\n",
      "11 : Not Found\n"
     ]
    },
    {
     "name": "stderr",
     "output_type": "stream",
     "text": [
      "  2%|▏         | 32/2000 [02:49<3:20:41,  6.12s/it]"
     ]
    },
    {
     "name": "stdout",
     "output_type": "stream",
     "text": [
      "19 : Not Found\n",
      "1 : Not Found\n",
      "2 : Not Found\n",
      "3 : Not Found\n",
      "4 : Not Found\n",
      "17 : Not Found\n"
     ]
    },
    {
     "name": "stderr",
     "output_type": "stream",
     "text": [
      "  2%|▏         | 33/2000 [02:54<3:07:43,  5.73s/it]"
     ]
    },
    {
     "name": "stdout",
     "output_type": "stream",
     "text": [
      "1 : Not Found\n",
      "2 : Not Found\n",
      "3 : Not Found\n",
      "4 : Not Found\n",
      "16 : Not Found\n"
     ]
    },
    {
     "name": "stderr",
     "output_type": "stream",
     "text": [
      "  2%|▏         | 34/2000 [03:00<3:06:34,  5.69s/it]"
     ]
    },
    {
     "name": "stdout",
     "output_type": "stream",
     "text": [
      "18 : Not Found\n",
      "1 : Not Found\n",
      "2 : Not Found\n",
      "3 : Not Found\n",
      "4 : Not Found\n"
     ]
    },
    {
     "name": "stderr",
     "output_type": "stream",
     "text": [
      "  2%|▏         | 35/2000 [03:04<2:55:05,  5.35s/it]"
     ]
    },
    {
     "name": "stdout",
     "output_type": "stream",
     "text": [
      "1 : Not Found\n",
      "2 : Not Found\n",
      "3 : Not Found\n",
      "4 : Not Found\n",
      "5 : Not Found\n",
      "19 : Not Found\n"
     ]
    },
    {
     "name": "stderr",
     "output_type": "stream",
     "text": [
      "  2%|▏         | 36/2000 [03:10<2:56:21,  5.39s/it]"
     ]
    },
    {
     "name": "stdout",
     "output_type": "stream",
     "text": [
      "1 : Not Found\n",
      "2 : Not Found\n",
      "3 : Not Found\n",
      "4 : Not Found\n",
      "6 : Not Found\n",
      "7 : Not Found\n",
      "19 : Not Found\n"
     ]
    },
    {
     "name": "stderr",
     "output_type": "stream",
     "text": [
      "  2%|▏         | 37/2000 [03:16<3:04:30,  5.64s/it]"
     ]
    },
    {
     "name": "stdout",
     "output_type": "stream",
     "text": [
      "20 : Not Found\n",
      "1 : Not Found\n",
      "2 : Not Found\n",
      "3 : Not Found\n",
      "10 : Not Found\n"
     ]
    },
    {
     "name": "stderr",
     "output_type": "stream",
     "text": [
      "  2%|▏         | 38/2000 [03:21<2:56:33,  5.40s/it]"
     ]
    },
    {
     "name": "stdout",
     "output_type": "stream",
     "text": [
      "1 : Not Found\n",
      "2 : Not Found\n",
      "3 : Not Found\n",
      "4 : Not Found\n",
      "5 : Not Found\n",
      "6 : Not Found\n",
      "8 : Not Found\n",
      "10 : Not Found\n",
      "16 : Not Found\n"
     ]
    },
    {
     "name": "stderr",
     "output_type": "stream",
     "text": [
      "  2%|▏         | 39/2000 [03:28<3:12:21,  5.89s/it]"
     ]
    },
    {
     "name": "stdout",
     "output_type": "stream",
     "text": [
      "1 : Not Found\n",
      "2 : Not Found\n",
      "3 : Not Found\n",
      "4 : Not Found\n",
      "7 : Not Found\n",
      "11 : Not Found\n",
      "12 : Not Found\n",
      "13 : Not Found\n"
     ]
    },
    {
     "name": "stderr",
     "output_type": "stream",
     "text": [
      "  2%|▏         | 40/2000 [03:34<3:19:38,  6.11s/it]"
     ]
    },
    {
     "name": "stdout",
     "output_type": "stream",
     "text": [
      "1 : Not Found\n",
      "2 : Not Found\n",
      "3 : Not Found\n",
      "4 : Not Found\n",
      "5 : Not Found\n",
      "10 : Not Found\n",
      "13 : Not Found\n",
      "14 : Not Found\n",
      "18 : Not Found\n"
     ]
    },
    {
     "name": "stderr",
     "output_type": "stream",
     "text": [
      "  2%|▏         | 41/2000 [03:41<3:28:18,  6.38s/it]"
     ]
    },
    {
     "name": "stdout",
     "output_type": "stream",
     "text": [
      "1 : Not Found\n",
      "2 : Not Found\n",
      "3 : Not Found\n",
      "4 : Not Found\n"
     ]
    },
    {
     "name": "stderr",
     "output_type": "stream",
     "text": [
      "  2%|▏         | 42/2000 [03:46<3:08:13,  5.77s/it]"
     ]
    },
    {
     "name": "stdout",
     "output_type": "stream",
     "text": [
      "1 : Not Found\n",
      "2 : Not Found\n",
      "3 : Not Found\n",
      "4 : Not Found\n"
     ]
    },
    {
     "name": "stderr",
     "output_type": "stream",
     "text": [
      "  2%|▏         | 43/2000 [03:50<2:54:59,  5.37s/it]"
     ]
    },
    {
     "name": "stdout",
     "output_type": "stream",
     "text": [
      "1 : Not Found\n",
      "2 : Not Found\n",
      "3 : Not Found\n",
      "4 : Not Found\n"
     ]
    },
    {
     "name": "stderr",
     "output_type": "stream",
     "text": [
      "  2%|▏         | 44/2000 [03:55<2:46:38,  5.11s/it]"
     ]
    },
    {
     "name": "stdout",
     "output_type": "stream",
     "text": [
      "1 : Not Found\n",
      "2 : Not Found\n",
      "3 : Not Found\n",
      "4 : Not Found\n"
     ]
    },
    {
     "name": "stderr",
     "output_type": "stream",
     "text": [
      "  2%|▏         | 45/2000 [03:59<2:41:14,  4.95s/it]"
     ]
    },
    {
     "name": "stdout",
     "output_type": "stream",
     "text": [
      "1 : Not Found\n",
      "2 : Not Found\n",
      "3 : Not Found\n",
      "4 : Not Found\n",
      "7 : Not Found\n",
      "10 : Not Found\n",
      "11 : Not Found\n",
      "12 : Not Found\n",
      "13 : Not Found\n"
     ]
    },
    {
     "name": "stderr",
     "output_type": "stream",
     "text": [
      "  2%|▏         | 46/2000 [04:06<3:01:27,  5.57s/it]"
     ]
    },
    {
     "name": "stdout",
     "output_type": "stream",
     "text": [
      "1 : Not Found\n",
      "2 : Not Found\n",
      "3 : Not Found\n",
      "4 : Not Found\n",
      "5 : Not Found\n"
     ]
    },
    {
     "name": "stderr",
     "output_type": "stream",
     "text": [
      "  2%|▏         | 47/2000 [04:12<3:02:58,  5.62s/it]"
     ]
    },
    {
     "name": "stdout",
     "output_type": "stream",
     "text": [
      "20 : Not Found\n",
      "1 : Not Found\n",
      "2 : Not Found\n",
      "3 : Not Found\n",
      "4 : Not Found\n",
      "6 : Not Found\n"
     ]
    },
    {
     "name": "stderr",
     "output_type": "stream",
     "text": [
      "  2%|▏         | 48/2000 [04:17<2:52:37,  5.31s/it]"
     ]
    },
    {
     "name": "stdout",
     "output_type": "stream",
     "text": [
      "1 : Not Found\n",
      "2 : Not Found\n",
      "3 : Not Found\n",
      "4 : Not Found\n"
     ]
    },
    {
     "name": "stderr",
     "output_type": "stream",
     "text": [
      "  2%|▏         | 49/2000 [04:21<2:46:04,  5.11s/it]"
     ]
    },
    {
     "name": "stdout",
     "output_type": "stream",
     "text": [
      "1 : Not Found\n",
      "2 : Not Found\n",
      "3 : Not Found\n",
      "4 : Not Found\n"
     ]
    },
    {
     "name": "stderr",
     "output_type": "stream",
     "text": [
      "  2%|▎         | 50/2000 [04:26<2:42:16,  4.99s/it]"
     ]
    },
    {
     "name": "stdout",
     "output_type": "stream",
     "text": [
      "1 : Not Found\n",
      "2 : Not Found\n",
      "3 : Not Found\n",
      "4 : Not Found\n"
     ]
    },
    {
     "name": "stderr",
     "output_type": "stream",
     "text": [
      "  3%|▎         | 51/2000 [04:31<2:38:30,  4.88s/it]"
     ]
    },
    {
     "name": "stdout",
     "output_type": "stream",
     "text": [
      "1 : Not Found\n",
      "2 : Not Found\n",
      "3 : Not Found\n",
      "4 : Not Found\n",
      "7 : Not Found\n"
     ]
    },
    {
     "name": "stderr",
     "output_type": "stream",
     "text": [
      "  3%|▎         | 52/2000 [04:36<2:45:26,  5.10s/it]"
     ]
    },
    {
     "name": "stdout",
     "output_type": "stream",
     "text": [
      "20 : Not Found\n",
      "1 : Not Found\n",
      "2 : Not Found\n",
      "3 : Not Found\n",
      "4 : Not Found\n",
      "5 : Not Found\n"
     ]
    },
    {
     "name": "stderr",
     "output_type": "stream",
     "text": [
      "  3%|▎         | 53/2000 [04:41<2:46:26,  5.13s/it]"
     ]
    },
    {
     "name": "stdout",
     "output_type": "stream",
     "text": [
      "20 : Not Found\n",
      "1 : Not Found\n",
      "2 : Not Found\n",
      "3 : Not Found\n",
      "4 : Not Found\n",
      "7 : Not Found\n",
      "10 : Not Found\n",
      "14 : Not Found\n",
      "15 : Not Found\n",
      "16 : Not Found\n"
     ]
    },
    {
     "name": "stderr",
     "output_type": "stream",
     "text": [
      "  3%|▎         | 54/2000 [04:48<3:04:12,  5.68s/it]"
     ]
    },
    {
     "name": "stdout",
     "output_type": "stream",
     "text": [
      "1 : Not Found\n",
      "2 : Not Found\n",
      "3 : Not Found\n",
      "4 : Not Found\n",
      "11 : Not Found\n"
     ]
    },
    {
     "name": "stderr",
     "output_type": "stream",
     "text": [
      "  3%|▎         | 55/2000 [04:53<2:58:09,  5.50s/it]"
     ]
    },
    {
     "name": "stdout",
     "output_type": "stream",
     "text": [
      "1 : Not Found\n",
      "2 : Not Found\n",
      "3 : Not Found\n",
      "4 : Not Found\n",
      "6 : Not Found\n",
      "7 : Not Found\n",
      "8 : Not Found\n",
      "9 : Not Found\n",
      "10 : Not Found\n",
      "11 : Not Found\n",
      "12 : Not Found\n",
      "13 : Not Found\n",
      "14 : Not Found\n"
     ]
    },
    {
     "name": "stderr",
     "output_type": "stream",
     "text": [
      "  3%|▎         | 56/2000 [05:02<3:27:32,  6.41s/it]"
     ]
    },
    {
     "name": "stdout",
     "output_type": "stream",
     "text": [
      "1 : Not Found\n",
      "2 : Not Found\n",
      "3 : Not Found\n",
      "4 : Not Found\n",
      "15 : Not Found\n"
     ]
    },
    {
     "name": "stderr",
     "output_type": "stream",
     "text": [
      "  3%|▎         | 57/2000 [05:07<3:13:31,  5.98s/it]"
     ]
    },
    {
     "name": "stdout",
     "output_type": "stream",
     "text": [
      "1 : Not Found\n",
      "2 : Not Found\n",
      "3 : Not Found\n",
      "11 : Not Found\n"
     ]
    },
    {
     "name": "stderr",
     "output_type": "stream",
     "text": [
      "  3%|▎         | 58/2000 [05:12<3:03:00,  5.65s/it]"
     ]
    },
    {
     "name": "stdout",
     "output_type": "stream",
     "text": [
      "1 : Not Found\n",
      "2 : Not Found\n",
      "3 : Not Found\n",
      "17 : Not Found\n"
     ]
    },
    {
     "name": "stderr",
     "output_type": "stream",
     "text": [
      "  3%|▎         | 59/2000 [05:17<2:57:51,  5.50s/it]"
     ]
    },
    {
     "name": "stdout",
     "output_type": "stream",
     "text": [
      "18 : Not Found\n",
      "1 : Not Found\n",
      "2 : Not Found\n",
      "3 : Not Found\n",
      "4 : Not Found\n"
     ]
    },
    {
     "name": "stderr",
     "output_type": "stream",
     "text": [
      "  3%|▎         | 60/2000 [05:22<2:48:55,  5.22s/it]"
     ]
    },
    {
     "name": "stdout",
     "output_type": "stream",
     "text": [
      "1 : Not Found\n",
      "2 : Not Found\n",
      "3 : Not Found\n",
      "4 : Not Found\n",
      "10 : Not Found\n"
     ]
    },
    {
     "name": "stderr",
     "output_type": "stream",
     "text": [
      "  3%|▎         | 61/2000 [05:27<2:50:09,  5.27s/it]"
     ]
    },
    {
     "name": "stdout",
     "output_type": "stream",
     "text": [
      "1 : Not Found\n",
      "2 : Not Found\n",
      "3 : Not Found\n",
      "4 : Not Found\n",
      "13 : Not Found\n"
     ]
    },
    {
     "name": "stderr",
     "output_type": "stream",
     "text": [
      "  3%|▎         | 62/2000 [05:32<2:48:43,  5.22s/it]"
     ]
    },
    {
     "name": "stdout",
     "output_type": "stream",
     "text": [
      "1 : Not Found\n",
      "2 : Not Found\n",
      "3 : Not Found\n",
      "4 : Not Found\n",
      "6 : Not Found\n",
      "17 : Not Found\n"
     ]
    },
    {
     "name": "stderr",
     "output_type": "stream",
     "text": [
      "  3%|▎         | 63/2000 [05:37<2:50:28,  5.28s/it]"
     ]
    },
    {
     "name": "stdout",
     "output_type": "stream",
     "text": [
      "1 : Not Found\n",
      "2 : Not Found\n",
      "3 : Not Found\n",
      "4 : Not Found\n"
     ]
    },
    {
     "name": "stderr",
     "output_type": "stream",
     "text": [
      "  3%|▎         | 64/2000 [05:42<2:43:21,  5.06s/it]"
     ]
    },
    {
     "name": "stdout",
     "output_type": "stream",
     "text": [
      "1 : Not Found\n",
      "2 : Not Found\n",
      "3 : Not Found\n",
      "4 : Not Found\n"
     ]
    },
    {
     "name": "stderr",
     "output_type": "stream",
     "text": [
      "  3%|▎         | 65/2000 [05:47<2:41:06,  5.00s/it]"
     ]
    },
    {
     "name": "stdout",
     "output_type": "stream",
     "text": [
      "1 : Not Found\n",
      "2 : Not Found\n",
      "3 : Not Found\n",
      "4 : Not Found\n",
      "7 : Not Found\n",
      "8 : Not Found\n",
      "15 : Not Found\n"
     ]
    },
    {
     "name": "stderr",
     "output_type": "stream",
     "text": [
      "  3%|▎         | 66/2000 [05:53<2:53:32,  5.38s/it]"
     ]
    },
    {
     "name": "stdout",
     "output_type": "stream",
     "text": [
      "19 : Not Found\n",
      "1 : Not Found\n",
      "2 : Not Found\n",
      "3 : Not Found\n",
      "4 : Not Found\n",
      "10 : Not Found\n"
     ]
    },
    {
     "name": "stderr",
     "output_type": "stream",
     "text": [
      "  3%|▎         | 67/2000 [05:58<2:51:37,  5.33s/it]"
     ]
    },
    {
     "name": "stdout",
     "output_type": "stream",
     "text": [
      "1 : Not Found\n",
      "2 : Not Found\n",
      "3 : Not Found\n",
      "4 : Not Found\n",
      "13 : Not Found\n",
      "14 : Not Found\n",
      "15 : Not Found\n",
      "16 : Not Found\n",
      "17 : Not Found\n",
      "18 : Not Found\n"
     ]
    },
    {
     "name": "stderr",
     "output_type": "stream",
     "text": [
      "  3%|▎         | 68/2000 [06:06<3:10:47,  5.93s/it]"
     ]
    },
    {
     "name": "stdout",
     "output_type": "stream",
     "text": [
      "19 : Not Found\n",
      "1 : Not Found\n",
      "2 : Not Found\n",
      "3 : Not Found\n",
      "4 : Not Found\n",
      "8 : Not Found\n",
      "17 : Not Found\n"
     ]
    },
    {
     "name": "stderr",
     "output_type": "stream",
     "text": [
      "  3%|▎         | 69/2000 [06:11<3:06:11,  5.79s/it]"
     ]
    },
    {
     "name": "stdout",
     "output_type": "stream",
     "text": [
      "1 : Not Found\n",
      "2 : Not Found\n",
      "3 : Not Found\n",
      "4 : Not Found\n",
      "6 : Not Found\n",
      "7 : Not Found\n",
      "9 : Not Found\n",
      "10 : Not Found\n",
      "17 : Not Found\n"
     ]
    },
    {
     "name": "stderr",
     "output_type": "stream",
     "text": [
      "  4%|▎         | 70/2000 [06:19<3:23:46,  6.34s/it]"
     ]
    },
    {
     "name": "stdout",
     "output_type": "stream",
     "text": [
      "20 : Not Found\n",
      "1 : Not Found\n",
      "2 : Not Found\n",
      "3 : Not Found\n",
      "4 : Not Found\n",
      "7 : Not Found\n",
      "18 : Not Found\n"
     ]
    },
    {
     "name": "stderr",
     "output_type": "stream",
     "text": [
      "  4%|▎         | 71/2000 [06:25<3:21:07,  6.26s/it]"
     ]
    },
    {
     "name": "stdout",
     "output_type": "stream",
     "text": [
      "19 : Not Found\n",
      "1 : Not Found\n",
      "2 : Not Found\n",
      "3 : Not Found\n",
      "4 : Not Found\n"
     ]
    },
    {
     "name": "stderr",
     "output_type": "stream",
     "text": [
      "  4%|▎         | 72/2000 [06:29<3:05:50,  5.78s/it]"
     ]
    },
    {
     "name": "stdout",
     "output_type": "stream",
     "text": [
      "1 : Not Found\n",
      "2 : Not Found\n",
      "3 : Not Found\n",
      "4 : Not Found\n",
      "18 : Not Found\n"
     ]
    },
    {
     "name": "stderr",
     "output_type": "stream",
     "text": [
      "  4%|▎         | 73/2000 [06:35<3:03:33,  5.72s/it]"
     ]
    },
    {
     "name": "stdout",
     "output_type": "stream",
     "text": [
      "19 : Not Found\n",
      "1 : Not Found\n",
      "2 : Not Found\n",
      "3 : Not Found\n",
      "4 : Not Found\n",
      "6 : Not Found\n",
      "8 : Not Found\n",
      "10 : Not Found\n",
      "19 : Not Found\n"
     ]
    },
    {
     "name": "stderr",
     "output_type": "stream",
     "text": [
      "  4%|▎         | 74/2000 [06:42<3:17:44,  6.16s/it]"
     ]
    },
    {
     "name": "stdout",
     "output_type": "stream",
     "text": [
      "20 : Not Found\n",
      "1 : Not Found\n",
      "2 : Not Found\n",
      "3 : Not Found\n",
      "4 : Not Found\n",
      "18 : Not Found\n"
     ]
    },
    {
     "name": "stderr",
     "output_type": "stream",
     "text": [
      "  4%|▍         | 75/2000 [06:48<3:10:07,  5.93s/it]"
     ]
    },
    {
     "name": "stdout",
     "output_type": "stream",
     "text": [
      "19 : Not Found\n",
      "1 : Not Found\n",
      "2 : Not Found\n",
      "3 : Not Found\n",
      "4 : Not Found\n",
      "18 : Not Found\n",
      "19 : Not Found\n"
     ]
    },
    {
     "name": "stderr",
     "output_type": "stream",
     "text": [
      "  4%|▍         | 76/2000 [06:54<3:10:38,  5.95s/it]"
     ]
    },
    {
     "name": "stdout",
     "output_type": "stream",
     "text": [
      "20 : Not Found\n",
      "1 : Not Found\n",
      "2 : Not Found\n",
      "3 : Not Found\n",
      "4 : Not Found\n"
     ]
    },
    {
     "name": "stderr",
     "output_type": "stream",
     "text": [
      "  4%|▍         | 77/2000 [06:58<2:58:34,  5.57s/it]"
     ]
    },
    {
     "name": "stdout",
     "output_type": "stream",
     "text": [
      "1 : Not Found\n",
      "2 : Not Found\n",
      "3 : Not Found\n",
      "4 : Not Found\n",
      "5 : Not Found\n"
     ]
    },
    {
     "name": "stderr",
     "output_type": "stream",
     "text": [
      "  4%|▍         | 78/2000 [07:03<2:54:12,  5.44s/it]"
     ]
    },
    {
     "name": "stdout",
     "output_type": "stream",
     "text": [
      "1 : Not Found\n",
      "2 : Not Found\n",
      "3 : Not Found\n",
      "4 : Not Found\n",
      "17 : Not Found\n",
      "19 : Not Found\n"
     ]
    },
    {
     "name": "stderr",
     "output_type": "stream",
     "text": [
      "  4%|▍         | 79/2000 [07:10<3:00:40,  5.64s/it]"
     ]
    },
    {
     "name": "stdout",
     "output_type": "stream",
     "text": [
      "20 : Not Found\n",
      "1 : Not Found\n",
      "2 : Not Found\n",
      "3 : Not Found\n",
      "6 : Not Found\n",
      "11 : Not Found\n"
     ]
    },
    {
     "name": "stderr",
     "output_type": "stream",
     "text": [
      "  4%|▍         | 80/2000 [07:15<2:56:42,  5.52s/it]"
     ]
    },
    {
     "name": "stdout",
     "output_type": "stream",
     "text": [
      "1 : Not Found\n",
      "2 : Not Found\n",
      "3 : Not Found\n",
      "4 : Not Found\n",
      "18 : Not Found\n"
     ]
    },
    {
     "name": "stderr",
     "output_type": "stream",
     "text": [
      "  4%|▍         | 81/2000 [07:20<2:53:55,  5.44s/it]"
     ]
    },
    {
     "name": "stdout",
     "output_type": "stream",
     "text": [
      "1 : Not Found\n",
      "2 : Not Found\n",
      "3 : Not Found\n",
      "4 : Not Found\n"
     ]
    },
    {
     "name": "stderr",
     "output_type": "stream",
     "text": [
      "  4%|▍         | 82/2000 [07:25<2:46:54,  5.22s/it]"
     ]
    },
    {
     "name": "stdout",
     "output_type": "stream",
     "text": [
      "1 : Not Found\n",
      "2 : Not Found\n",
      "3 : Not Found\n",
      "4 : Not Found\n",
      "11 : Not Found\n",
      "13 : Not Found\n",
      "14 : Not Found\n",
      "16 : Not Found\n"
     ]
    },
    {
     "name": "stderr",
     "output_type": "stream",
     "text": [
      "  4%|▍         | 83/2000 [07:31<3:00:16,  5.64s/it]"
     ]
    },
    {
     "name": "stdout",
     "output_type": "stream",
     "text": [
      "1 : Not Found\n",
      "2 : Not Found\n",
      "3 : Not Found\n",
      "4 : Not Found\n",
      "5 : Not Found\n"
     ]
    },
    {
     "name": "stderr",
     "output_type": "stream",
     "text": [
      "  4%|▍         | 84/2000 [07:36<2:52:56,  5.42s/it]"
     ]
    },
    {
     "name": "stdout",
     "output_type": "stream",
     "text": [
      "1 : Not Found\n",
      "2 : Not Found\n",
      "3 : Not Found\n",
      "4 : Not Found\n",
      "6 : Not Found\n",
      "11 : Not Found\n",
      "12 : Not Found\n",
      "15 : Not Found\n",
      "16 : Not Found\n",
      "18 : Not Found\n"
     ]
    },
    {
     "name": "stderr",
     "output_type": "stream",
     "text": [
      "  4%|▍         | 85/2000 [07:44<3:16:46,  6.17s/it]"
     ]
    },
    {
     "name": "stdout",
     "output_type": "stream",
     "text": [
      "20 : Not Found\n",
      "1 : Not Found\n",
      "2 : Not Found\n",
      "3 : Not Found\n",
      "4 : Not Found\n"
     ]
    },
    {
     "name": "stderr",
     "output_type": "stream",
     "text": [
      "  4%|▍         | 86/2000 [07:49<3:02:08,  5.71s/it]"
     ]
    },
    {
     "name": "stdout",
     "output_type": "stream",
     "text": [
      "1 : Not Found\n",
      "2 : Not Found\n",
      "3 : Not Found\n"
     ]
    },
    {
     "name": "stderr",
     "output_type": "stream",
     "text": [
      "  4%|▍         | 87/2000 [07:53<2:49:37,  5.32s/it]"
     ]
    },
    {
     "name": "stdout",
     "output_type": "stream",
     "text": [
      "1 : Not Found\n",
      "2 : Not Found\n",
      "3 : Not Found\n",
      "4 : Not Found\n"
     ]
    },
    {
     "name": "stderr",
     "output_type": "stream",
     "text": [
      "  4%|▍         | 88/2000 [07:57<2:39:24,  5.00s/it]"
     ]
    },
    {
     "name": "stdout",
     "output_type": "stream",
     "text": [
      "1 : Not Found\n",
      "2 : Not Found\n",
      "3 : Not Found\n",
      "4 : Not Found\n"
     ]
    },
    {
     "name": "stderr",
     "output_type": "stream",
     "text": [
      "  4%|▍         | 89/2000 [08:02<2:33:46,  4.83s/it]"
     ]
    },
    {
     "name": "stdout",
     "output_type": "stream",
     "text": [
      "1 : Not Found\n",
      "2 : Not Found\n",
      "3 : Not Found\n",
      "4 : Not Found\n",
      "5 : Not Found\n",
      "9 : Not Found\n",
      "16 : Not Found\n"
     ]
    },
    {
     "name": "stderr",
     "output_type": "stream",
     "text": [
      "  4%|▍         | 90/2000 [08:08<2:44:16,  5.16s/it]"
     ]
    },
    {
     "name": "stdout",
     "output_type": "stream",
     "text": [
      "1 : Not Found\n",
      "2 : Not Found\n",
      "3 : Not Found\n"
     ]
    },
    {
     "name": "stderr",
     "output_type": "stream",
     "text": [
      "  5%|▍         | 91/2000 [08:12<2:36:48,  4.93s/it]"
     ]
    },
    {
     "name": "stdout",
     "output_type": "stream",
     "text": [
      "1 : Not Found\n",
      "2 : Not Found\n",
      "3 : Not Found\n",
      "4 : Not Found\n",
      "8 : Not Found\n",
      "15 : Not Found\n",
      "18 : Not Found\n"
     ]
    },
    {
     "name": "stderr",
     "output_type": "stream",
     "text": [
      "  5%|▍         | 92/2000 [08:19<2:50:21,  5.36s/it]"
     ]
    },
    {
     "name": "stdout",
     "output_type": "stream",
     "text": [
      "1 : Not Found\n",
      "2 : Not Found\n",
      "3 : Not Found\n",
      "4 : Not Found\n"
     ]
    },
    {
     "name": "stderr",
     "output_type": "stream",
     "text": [
      "  5%|▍         | 93/2000 [08:24<2:47:25,  5.27s/it]"
     ]
    },
    {
     "name": "stdout",
     "output_type": "stream",
     "text": [
      "19 : Not Found\n",
      "1 : Not Found\n",
      "2 : Not Found\n",
      "3 : Not Found\n",
      "4 : Not Found\n"
     ]
    },
    {
     "name": "stderr",
     "output_type": "stream",
     "text": [
      "  5%|▍         | 94/2000 [08:28<2:40:04,  5.04s/it]"
     ]
    },
    {
     "name": "stdout",
     "output_type": "stream",
     "text": [
      "1 : Not Found\n",
      "2 : Not Found\n",
      "3 : Not Found\n",
      "4 : Not Found\n"
     ]
    },
    {
     "name": "stderr",
     "output_type": "stream",
     "text": [
      "  5%|▍         | 95/2000 [08:33<2:34:28,  4.87s/it]"
     ]
    },
    {
     "name": "stdout",
     "output_type": "stream",
     "text": [
      "1 : Not Found\n",
      "2 : Not Found\n",
      "3 : Not Found\n",
      "4 : Not Found\n"
     ]
    },
    {
     "name": "stderr",
     "output_type": "stream",
     "text": [
      "  5%|▍         | 96/2000 [08:37<2:29:39,  4.72s/it]"
     ]
    },
    {
     "name": "stdout",
     "output_type": "stream",
     "text": [
      "1 : Not Found\n",
      "2 : Not Found\n",
      "3 : Not Found\n",
      "4 : Not Found\n"
     ]
    },
    {
     "name": "stderr",
     "output_type": "stream",
     "text": [
      "  5%|▍         | 97/2000 [08:42<2:28:58,  4.70s/it]"
     ]
    },
    {
     "name": "stdout",
     "output_type": "stream",
     "text": [
      "1 : Not Found\n",
      "2 : Not Found\n",
      "3 : Not Found\n",
      "4 : Not Found\n"
     ]
    },
    {
     "name": "stderr",
     "output_type": "stream",
     "text": [
      "  5%|▍         | 98/2000 [08:46<2:26:36,  4.62s/it]"
     ]
    },
    {
     "name": "stdout",
     "output_type": "stream",
     "text": [
      "1 : Not Found\n",
      "2 : Not Found\n",
      "3 : Not Found\n",
      "4 : Not Found\n"
     ]
    },
    {
     "name": "stderr",
     "output_type": "stream",
     "text": [
      "  5%|▍         | 99/2000 [08:51<2:27:38,  4.66s/it]"
     ]
    },
    {
     "name": "stdout",
     "output_type": "stream",
     "text": [
      "1 : Not Found\n",
      "2 : Not Found\n",
      "3 : Not Found\n",
      "4 : Not Found\n"
     ]
    },
    {
     "name": "stderr",
     "output_type": "stream",
     "text": [
      "  5%|▌         | 100/2000 [08:55<2:26:07,  4.61s/it]"
     ]
    },
    {
     "name": "stdout",
     "output_type": "stream",
     "text": [
      "1 : Not Found\n",
      "2 : Not Found\n",
      "3 : Not Found\n",
      "4 : Not Found\n"
     ]
    },
    {
     "name": "stderr",
     "output_type": "stream",
     "text": [
      "  5%|▌         | 101/2000 [09:00<2:27:03,  4.65s/it]"
     ]
    },
    {
     "name": "stdout",
     "output_type": "stream",
     "text": [
      "1 : Not Found\n",
      "2 : Not Found\n",
      "3 : Not Found\n",
      "4 : Not Found\n",
      "5 : Not Found\n",
      "7 : Not Found\n",
      "17 : Not Found\n"
     ]
    },
    {
     "name": "stderr",
     "output_type": "stream",
     "text": [
      "  5%|▌         | 102/2000 [09:06<2:41:58,  5.12s/it]"
     ]
    },
    {
     "name": "stdout",
     "output_type": "stream",
     "text": [
      "1 : Not Found\n",
      "2 : Not Found\n",
      "3 : Not Found\n",
      "4 : Not Found\n"
     ]
    },
    {
     "name": "stderr",
     "output_type": "stream",
     "text": [
      "  5%|▌         | 103/2000 [09:11<2:36:21,  4.95s/it]"
     ]
    },
    {
     "name": "stdout",
     "output_type": "stream",
     "text": [
      "1 : Not Found\n",
      "2 : Not Found\n",
      "3 : Not Found\n",
      "4 : Not Found\n"
     ]
    },
    {
     "name": "stderr",
     "output_type": "stream",
     "text": [
      "  5%|▌         | 104/2000 [09:16<2:34:19,  4.88s/it]"
     ]
    },
    {
     "name": "stdout",
     "output_type": "stream",
     "text": [
      "1 : Not Found\n",
      "2 : Not Found\n",
      "3 : Not Found\n"
     ]
    },
    {
     "name": "stderr",
     "output_type": "stream",
     "text": [
      "  5%|▌         | 105/2000 [09:20<2:32:11,  4.82s/it]"
     ]
    },
    {
     "name": "stdout",
     "output_type": "stream",
     "text": [
      "1 : Not Found\n",
      "2 : Not Found\n",
      "3 : Not Found\n",
      "4 : Not Found\n",
      "14 : Not Found\n",
      "15 : Not Found\n",
      "16 : Not Found\n",
      "17 : Not Found\n",
      "18 : Not Found\n",
      "19 : Not Found\n"
     ]
    },
    {
     "name": "stderr",
     "output_type": "stream",
     "text": [
      "  5%|▌         | 106/2000 [09:28<2:58:27,  5.65s/it]"
     ]
    },
    {
     "name": "stdout",
     "output_type": "stream",
     "text": [
      "20 : Not Found\n",
      "1 : Not Found\n",
      "2 : Not Found\n",
      "3 : Not Found\n",
      "4 : Not Found\n"
     ]
    },
    {
     "name": "stderr",
     "output_type": "stream",
     "text": [
      "  5%|▌         | 107/2000 [09:33<2:52:03,  5.45s/it]"
     ]
    },
    {
     "name": "stdout",
     "output_type": "stream",
     "text": [
      "1 : Not Found\n",
      "2 : Not Found\n",
      "3 : Not Found\n",
      "4 : Not Found\n"
     ]
    },
    {
     "name": "stderr",
     "output_type": "stream",
     "text": [
      "  5%|▌         | 108/2000 [09:37<2:41:53,  5.13s/it]"
     ]
    },
    {
     "name": "stdout",
     "output_type": "stream",
     "text": [
      "1 : Not Found\n",
      "2 : Not Found\n",
      "3 : Not Found\n"
     ]
    },
    {
     "name": "stderr",
     "output_type": "stream",
     "text": [
      "  5%|▌         | 109/2000 [09:42<2:36:34,  4.97s/it]"
     ]
    },
    {
     "name": "stdout",
     "output_type": "stream",
     "text": [
      "1 : Not Found\n",
      "2 : Not Found\n",
      "3 : Not Found\n",
      "4 : Not Found\n",
      "15 : Not Found\n"
     ]
    },
    {
     "name": "stderr",
     "output_type": "stream",
     "text": [
      "  6%|▌         | 110/2000 [09:47<2:42:33,  5.16s/it]"
     ]
    },
    {
     "name": "stdout",
     "output_type": "stream",
     "text": [
      "19 : Not Found\n",
      "1 : Not Found\n",
      "2 : Not Found\n",
      "3 : Not Found\n",
      "4 : Not Found\n",
      "10 : Not Found\n",
      "15 : Not Found\n"
     ]
    },
    {
     "name": "stderr",
     "output_type": "stream",
     "text": [
      "  6%|▌         | 111/2000 [09:53<2:47:43,  5.33s/it]"
     ]
    },
    {
     "name": "stdout",
     "output_type": "stream",
     "text": [
      "1 : Not Found\n",
      "2 : Not Found\n",
      "3 : Not Found\n",
      "4 : Not Found\n",
      "5 : Not Found\n",
      "6 : Not Found\n",
      "18 : Not Found\n"
     ]
    },
    {
     "name": "stderr",
     "output_type": "stream",
     "text": [
      "  6%|▌         | 112/2000 [09:59<2:56:52,  5.62s/it]"
     ]
    },
    {
     "name": "stdout",
     "output_type": "stream",
     "text": [
      "19 : Not Found\n",
      "1 : Not Found\n",
      "2 : Not Found\n",
      "3 : Not Found\n",
      "4 : Not Found\n",
      "6 : Not Found\n",
      "7 : Not Found\n",
      "14 : Not Found\n"
     ]
    },
    {
     "name": "stderr",
     "output_type": "stream",
     "text": [
      "  6%|▌         | 113/2000 [10:06<3:04:02,  5.85s/it]"
     ]
    },
    {
     "name": "stdout",
     "output_type": "stream",
     "text": [
      "18 : Not Found\n",
      "1 : Not Found\n",
      "2 : Not Found\n",
      "3 : Not Found\n",
      "4 : Not Found\n"
     ]
    },
    {
     "name": "stderr",
     "output_type": "stream",
     "text": [
      "  6%|▌         | 114/2000 [10:11<2:56:09,  5.60s/it]"
     ]
    },
    {
     "name": "stdout",
     "output_type": "stream",
     "text": [
      "1 : Not Found\n",
      "2 : Not Found\n",
      "3 : Not Found\n",
      "4 : Not Found\n",
      "5 : Not Found\n"
     ]
    },
    {
     "name": "stderr",
     "output_type": "stream",
     "text": [
      "  6%|▌         | 115/2000 [10:16<2:50:45,  5.44s/it]"
     ]
    },
    {
     "name": "stdout",
     "output_type": "stream",
     "text": [
      "1 : Not Found\n",
      "2 : Not Found\n",
      "3 : Not Found\n",
      "4 : Not Found\n",
      "5 : Not Found\n",
      "11 : Not Found\n",
      "12 : Not Found\n",
      "19 : Not Found\n"
     ]
    },
    {
     "name": "stderr",
     "output_type": "stream",
     "text": [
      "  6%|▌         | 116/2000 [10:23<3:03:43,  5.85s/it]"
     ]
    },
    {
     "name": "stdout",
     "output_type": "stream",
     "text": [
      "1 : Not Found\n",
      "2 : Not Found\n",
      "3 : Not Found\n",
      "4 : Not Found\n",
      "6 : Not Found\n",
      "10 : Not Found\n",
      "11 : Not Found\n",
      "12 : Not Found\n",
      "13 : Not Found\n"
     ]
    },
    {
     "name": "stderr",
     "output_type": "stream",
     "text": [
      "  6%|▌         | 117/2000 [10:30<3:16:18,  6.25s/it]"
     ]
    },
    {
     "name": "stdout",
     "output_type": "stream",
     "text": [
      "1 : Not Found\n",
      "2 : Not Found\n",
      "3 : Not Found\n",
      "4 : Not Found\n",
      "5 : Not Found\n",
      "6 : Not Found\n"
     ]
    },
    {
     "name": "stderr",
     "output_type": "stream",
     "text": [
      "  6%|▌         | 118/2000 [10:36<3:12:14,  6.13s/it]"
     ]
    },
    {
     "name": "stdout",
     "output_type": "stream",
     "text": [
      "1 : Not Found\n",
      "2 : Not Found\n",
      "3 : Not Found\n",
      "4 : Not Found\n",
      "5 : Not Found\n",
      "12 : Not Found\n",
      "13 : Not Found\n"
     ]
    },
    {
     "name": "stderr",
     "output_type": "stream",
     "text": [
      "  6%|▌         | 119/2000 [10:42<3:13:42,  6.18s/it]"
     ]
    },
    {
     "name": "stdout",
     "output_type": "stream",
     "text": [
      "1 : Not Found\n",
      "2 : Not Found\n",
      "3 : Not Found\n",
      "4 : Not Found\n",
      "7 : Not Found\n",
      "8 : Not Found\n"
     ]
    },
    {
     "name": "stderr",
     "output_type": "stream",
     "text": [
      "  6%|▌         | 120/2000 [10:48<3:07:32,  5.99s/it]"
     ]
    },
    {
     "name": "stdout",
     "output_type": "stream",
     "text": [
      "1 : Not Found\n",
      "2 : Not Found\n",
      "3 : Not Found\n",
      "4 : Not Found\n"
     ]
    },
    {
     "name": "stderr",
     "output_type": "stream",
     "text": [
      "  6%|▌         | 121/2000 [10:52<2:56:41,  5.64s/it]"
     ]
    },
    {
     "name": "stdout",
     "output_type": "stream",
     "text": [
      "1 : Not Found\n",
      "2 : Not Found\n",
      "3 : Not Found\n",
      "4 : Not Found\n",
      "6 : Not Found\n",
      "16 : Not Found\n",
      "17 : Not Found\n",
      "19 : Not Found\n"
     ]
    },
    {
     "name": "stderr",
     "output_type": "stream",
     "text": [
      "  6%|▌         | 122/2000 [10:59<3:07:23,  5.99s/it]"
     ]
    },
    {
     "name": "stdout",
     "output_type": "stream",
     "text": [
      "20 : Not Found\n",
      "1 : Not Found\n",
      "2 : Not Found\n",
      "3 : Not Found\n",
      "4 : Not Found\n",
      "19 : Not Found\n"
     ]
    },
    {
     "name": "stderr",
     "output_type": "stream",
     "text": [
      "  6%|▌         | 123/2000 [11:05<3:04:31,  5.90s/it]"
     ]
    },
    {
     "name": "stdout",
     "output_type": "stream",
     "text": [
      "20 : Not Found\n",
      "1 : Not Found\n",
      "2 : Not Found\n",
      "3 : Not Found\n",
      "4 : Not Found\n"
     ]
    },
    {
     "name": "stderr",
     "output_type": "stream",
     "text": [
      "  6%|▌         | 124/2000 [11:10<2:54:40,  5.59s/it]"
     ]
    },
    {
     "name": "stdout",
     "output_type": "stream",
     "text": [
      "1 : Not Found\n",
      "2 : Not Found\n",
      "3 : Not Found\n",
      "4 : Not Found\n",
      "5 : Not Found\n",
      "7 : Not Found\n",
      "18 : Not Found\n"
     ]
    },
    {
     "name": "stderr",
     "output_type": "stream",
     "text": [
      "  6%|▋         | 125/2000 [11:16<3:01:42,  5.81s/it]"
     ]
    },
    {
     "name": "stdout",
     "output_type": "stream",
     "text": [
      "1 : Not Found\n",
      "2 : Not Found\n",
      "3 : Not Found\n",
      "4 : Not Found\n",
      "5 : Not Found\n",
      "10 : Not Found\n",
      "14 : Not Found\n"
     ]
    },
    {
     "name": "stderr",
     "output_type": "stream",
     "text": [
      "  6%|▋         | 126/2000 [11:22<3:06:34,  5.97s/it]"
     ]
    },
    {
     "name": "stdout",
     "output_type": "stream",
     "text": [
      "1 : Not Found\n",
      "2 : Not Found\n",
      "3 : Not Found\n",
      "4 : Not Found\n"
     ]
    },
    {
     "name": "stderr",
     "output_type": "stream",
     "text": [
      "  6%|▋         | 127/2000 [11:27<2:55:26,  5.62s/it]"
     ]
    },
    {
     "name": "stdout",
     "output_type": "stream",
     "text": [
      "1 : Not Found\n",
      "2 : Not Found\n",
      "3 : Not Found\n",
      "4 : Not Found\n",
      "5 : Not Found\n",
      "6 : Not Found\n",
      "7 : Not Found\n",
      "8 : Not Found\n",
      "9 : Not Found\n",
      "10 : Not Found\n",
      "15 : Not Found\n"
     ]
    },
    {
     "name": "stderr",
     "output_type": "stream",
     "text": [
      "  6%|▋         | 128/2000 [11:35<3:17:12,  6.32s/it]"
     ]
    },
    {
     "name": "stdout",
     "output_type": "stream",
     "text": [
      "20 : Not Found\n",
      "1 : Not Found\n",
      "2 : Not Found\n",
      "3 : Not Found\n",
      "4 : Not Found\n",
      "13 : Not Found\n",
      "14 : Not Found\n",
      "17 : Not Found\n",
      "18 : Not Found\n"
     ]
    },
    {
     "name": "stderr",
     "output_type": "stream",
     "text": [
      "  6%|▋         | 129/2000 [11:42<3:22:45,  6.50s/it]"
     ]
    },
    {
     "name": "stdout",
     "output_type": "stream",
     "text": [
      "20 : Not Found\n",
      "1 : Not Found\n",
      "2 : Not Found\n",
      "3 : Not Found\n",
      "4 : Not Found\n",
      "18 : Not Found\n"
     ]
    },
    {
     "name": "stderr",
     "output_type": "stream",
     "text": [
      "  6%|▋         | 130/2000 [11:47<3:08:38,  6.05s/it]"
     ]
    },
    {
     "name": "stdout",
     "output_type": "stream",
     "text": [
      "1 : Not Found\n",
      "2 : Not Found\n",
      "3 : Not Found\n",
      "4 : Not Found\n",
      "16 : Not Found\n",
      "17 : Not Found\n",
      "18 : Not Found\n",
      "19 : Not Found\n"
     ]
    },
    {
     "name": "stderr",
     "output_type": "stream",
     "text": [
      "  7%|▋         | 131/2000 [11:54<3:12:30,  6.18s/it]"
     ]
    },
    {
     "name": "stdout",
     "output_type": "stream",
     "text": [
      "20 : Not Found\n",
      "1 : Not Found\n",
      "2 : Not Found\n",
      "3 : Not Found\n",
      "4 : Not Found\n",
      "7 : Not Found\n"
     ]
    },
    {
     "name": "stderr",
     "output_type": "stream",
     "text": [
      "  7%|▋         | 132/2000 [11:59<3:05:28,  5.96s/it]"
     ]
    },
    {
     "name": "stdout",
     "output_type": "stream",
     "text": [
      "1 : Not Found\n",
      "2 : Not Found\n",
      "3 : Not Found\n",
      "4 : Not Found\n",
      "7 : Not Found\n"
     ]
    },
    {
     "name": "stderr",
     "output_type": "stream",
     "text": [
      "  7%|▋         | 133/2000 [12:04<2:58:53,  5.75s/it]"
     ]
    },
    {
     "name": "stdout",
     "output_type": "stream",
     "text": [
      "1 : Not Found\n",
      "2 : Not Found\n",
      "3 : Not Found\n",
      "4 : Not Found\n",
      "5 : Not Found\n",
      "8 : Not Found\n",
      "13 : Not Found\n",
      "14 : Not Found\n",
      "15 : Not Found\n",
      "16 : Not Found\n",
      "17 : Not Found\n",
      "19 : Not Found\n"
     ]
    },
    {
     "name": "stderr",
     "output_type": "stream",
     "text": [
      "  7%|▋         | 134/2000 [12:12<3:21:08,  6.47s/it]"
     ]
    },
    {
     "name": "stdout",
     "output_type": "stream",
     "text": [
      "1 : Not Found\n",
      "2 : Not Found\n",
      "3 : Not Found\n",
      "4 : Not Found\n",
      "6 : Not Found\n",
      "10 : Not Found\n"
     ]
    },
    {
     "name": "stderr",
     "output_type": "stream",
     "text": [
      "  7%|▋         | 135/2000 [12:18<3:14:42,  6.26s/it]"
     ]
    },
    {
     "name": "stdout",
     "output_type": "stream",
     "text": [
      "1 : Not Found\n",
      "2 : Not Found\n",
      "3 : Not Found\n",
      "4 : Not Found\n"
     ]
    },
    {
     "name": "stderr",
     "output_type": "stream",
     "text": [
      "  7%|▋         | 136/2000 [12:23<3:01:40,  5.85s/it]"
     ]
    },
    {
     "name": "stdout",
     "output_type": "stream",
     "text": [
      "1 : Not Found\n",
      "2 : Not Found\n",
      "3 : Not Found\n",
      "4 : Not Found\n"
     ]
    },
    {
     "name": "stderr",
     "output_type": "stream",
     "text": [
      "  7%|▋         | 137/2000 [12:28<2:52:15,  5.55s/it]"
     ]
    },
    {
     "name": "stdout",
     "output_type": "stream",
     "text": [
      "1 : Not Found\n",
      "2 : Not Found\n",
      "3 : Not Found\n",
      "4 : Not Found\n",
      "16 : Not Found\n",
      "18 : Not Found\n",
      "19 : Not Found\n"
     ]
    },
    {
     "name": "stderr",
     "output_type": "stream",
     "text": [
      "  7%|▋         | 138/2000 [12:35<3:02:34,  5.88s/it]"
     ]
    },
    {
     "name": "stdout",
     "output_type": "stream",
     "text": [
      "20 : Not Found\n",
      "1 : Not Found\n",
      "2 : Not Found\n",
      "3 : Not Found\n",
      "4 : Not Found\n",
      "6 : Not Found\n",
      "12 : Not Found\n",
      "13 : Not Found\n",
      "15 : Not Found\n"
     ]
    },
    {
     "name": "stderr",
     "output_type": "stream",
     "text": [
      "  7%|▋         | 139/2000 [12:41<3:06:21,  6.01s/it]"
     ]
    },
    {
     "name": "stdout",
     "output_type": "stream",
     "text": [
      "1 : Not Found\n",
      "2 : Not Found\n",
      "3 : Not Found\n",
      "4 : Not Found\n",
      "12 : Not Found\n",
      "13 : Not Found\n"
     ]
    },
    {
     "name": "stderr",
     "output_type": "stream",
     "text": [
      "  7%|▋         | 140/2000 [12:46<3:01:07,  5.84s/it]"
     ]
    },
    {
     "name": "stdout",
     "output_type": "stream",
     "text": [
      "1 : Not Found\n",
      "2 : Not Found\n",
      "3 : Not Found\n",
      "4 : Not Found\n",
      "5 : Not Found\n",
      "7 : Not Found\n",
      "8 : Not Found\n",
      "9 : Not Found\n"
     ]
    },
    {
     "name": "stderr",
     "output_type": "stream",
     "text": [
      "  7%|▋         | 141/2000 [12:53<3:06:55,  6.03s/it]"
     ]
    },
    {
     "name": "stdout",
     "output_type": "stream",
     "text": [
      "1 : Not Found\n",
      "2 : Not Found\n",
      "3 : Not Found\n",
      "4 : Not Found\n",
      "18 : Not Found\n"
     ]
    },
    {
     "name": "stderr",
     "output_type": "stream",
     "text": [
      "  7%|▋         | 142/2000 [12:58<3:02:55,  5.91s/it]"
     ]
    },
    {
     "name": "stdout",
     "output_type": "stream",
     "text": [
      "19 : Not Found\n",
      "1 : Not Found\n",
      "2 : Not Found\n",
      "3 : Not Found\n",
      "4 : Not Found\n",
      "7 : Not Found\n",
      "8 : Not Found\n",
      "9 : Not Found\n",
      "10 : Not Found\n",
      "11 : Not Found\n",
      "12 : Not Found\n",
      "13 : Not Found\n",
      "14 : Not Found\n"
     ]
    },
    {
     "name": "stderr",
     "output_type": "stream",
     "text": [
      "  7%|▋         | 143/2000 [13:07<3:24:36,  6.61s/it]"
     ]
    },
    {
     "name": "stdout",
     "output_type": "stream",
     "text": [
      "1 : Not Found\n",
      "2 : Not Found\n",
      "3 : Not Found\n",
      "4 : Not Found\n",
      "5 : Not Found\n",
      "6 : Not Found\n",
      "7 : Not Found\n",
      "8 : Not Found\n",
      "9 : Not Found\n",
      "10 : Not Found\n",
      "11 : Not Found\n",
      "12 : Not Found\n",
      "13 : Not Found\n",
      "14 : Not Found\n",
      "15 : Not Found\n",
      "16 : Not Found\n",
      "17 : Not Found\n",
      "18 : Not Found\n"
     ]
    },
    {
     "name": "stderr",
     "output_type": "stream",
     "text": [
      "  7%|▋         | 144/2000 [13:18<4:07:36,  8.00s/it]"
     ]
    },
    {
     "name": "stdout",
     "output_type": "stream",
     "text": [
      "19 : Not Found\n",
      "1 : Not Found\n",
      "2 : Not Found\n",
      "3 : Not Found\n",
      "4 : Not Found\n",
      "8 : Not Found\n",
      "9 : Not Found\n",
      "11 : Not Found\n"
     ]
    },
    {
     "name": "stderr",
     "output_type": "stream",
     "text": [
      "  7%|▋         | 145/2000 [13:24<3:52:29,  7.52s/it]"
     ]
    },
    {
     "name": "stdout",
     "output_type": "stream",
     "text": [
      "1 : Not Found\n",
      "2 : Not Found\n",
      "3 : Not Found\n",
      "4 : Not Found\n",
      "8 : Not Found\n",
      "9 : Not Found\n",
      "14 : Not Found\n"
     ]
    },
    {
     "name": "stderr",
     "output_type": "stream",
     "text": [
      "  7%|▋         | 146/2000 [13:30<3:39:32,  7.10s/it]"
     ]
    },
    {
     "name": "stdout",
     "output_type": "stream",
     "text": [
      "1 : Not Found\n",
      "2 : Not Found\n",
      "3 : Not Found\n",
      "4 : Not Found\n",
      "12 : Not Found\n",
      "13 : Not Found\n"
     ]
    },
    {
     "name": "stderr",
     "output_type": "stream",
     "text": [
      "  7%|▋         | 147/2000 [13:36<3:24:44,  6.63s/it]"
     ]
    },
    {
     "name": "stdout",
     "output_type": "stream",
     "text": [
      "1 : Not Found\n",
      "2 : Not Found\n",
      "3 : Not Found\n",
      "4 : Not Found\n"
     ]
    },
    {
     "name": "stderr",
     "output_type": "stream",
     "text": [
      "  7%|▋         | 148/2000 [13:41<3:04:54,  5.99s/it]"
     ]
    },
    {
     "name": "stdout",
     "output_type": "stream",
     "text": [
      "1 : Not Found\n",
      "2 : Not Found\n",
      "3 : Not Found\n",
      "4 : Not Found\n",
      "5 : Not Found\n",
      "6 : Not Found\n",
      "7 : Not Found\n",
      "8 : Not Found\n",
      "9 : Not Found\n",
      "11 : Not Found\n",
      "12 : Not Found\n",
      "13 : Not Found\n",
      "14 : Not Found\n",
      "15 : Not Found\n",
      "16 : Not Found\n",
      "17 : Not Found\n",
      "18 : Not Found\n",
      "19 : Not Found\n"
     ]
    },
    {
     "name": "stderr",
     "output_type": "stream",
     "text": [
      "  7%|▋         | 149/2000 [13:52<3:55:22,  7.63s/it]"
     ]
    },
    {
     "name": "stdout",
     "output_type": "stream",
     "text": [
      "20 : Not Found\n",
      "1 : Not Found\n",
      "2 : Not Found\n",
      "3 : Not Found\n",
      "4 : Not Found\n",
      "12 : Not Found\n"
     ]
    },
    {
     "name": "stderr",
     "output_type": "stream",
     "text": [
      "  8%|▊         | 150/2000 [13:57<3:30:34,  6.83s/it]"
     ]
    },
    {
     "name": "stdout",
     "output_type": "stream",
     "text": [
      "1 : Not Found\n",
      "2 : Not Found\n",
      "3 : Not Found\n",
      "4 : Not Found\n"
     ]
    },
    {
     "name": "stderr",
     "output_type": "stream",
     "text": [
      "  8%|▊         | 151/2000 [14:02<3:10:34,  6.18s/it]"
     ]
    },
    {
     "name": "stdout",
     "output_type": "stream",
     "text": [
      "1 : Not Found\n",
      "2 : Not Found\n",
      "3 : Not Found\n",
      "4 : Not Found\n",
      "9 : Not Found\n"
     ]
    },
    {
     "name": "stderr",
     "output_type": "stream",
     "text": [
      "  8%|▊         | 152/2000 [14:07<3:02:43,  5.93s/it]"
     ]
    },
    {
     "name": "stdout",
     "output_type": "stream",
     "text": [
      "1 : Not Found\n",
      "2 : Not Found\n",
      "3 : Not Found\n",
      "4 : Not Found\n",
      "12 : Not Found\n",
      "13 : Not Found\n",
      "14 : Not Found\n"
     ]
    },
    {
     "name": "stderr",
     "output_type": "stream",
     "text": [
      "  8%|▊         | 153/2000 [14:13<3:02:36,  5.93s/it]"
     ]
    },
    {
     "name": "stdout",
     "output_type": "stream",
     "text": [
      "1 : Not Found\n",
      "2 : Not Found\n",
      "3 : Not Found\n",
      "4 : Not Found\n",
      "18 : Not Found\n"
     ]
    },
    {
     "name": "stderr",
     "output_type": "stream",
     "text": [
      "  8%|▊         | 154/2000 [14:18<2:55:31,  5.70s/it]"
     ]
    },
    {
     "name": "stdout",
     "output_type": "stream",
     "text": [
      "1 : Not Found\n",
      "2 : Not Found\n",
      "3 : Not Found\n"
     ]
    },
    {
     "name": "stderr",
     "output_type": "stream",
     "text": [
      "  8%|▊         | 155/2000 [14:22<2:42:57,  5.30s/it]"
     ]
    },
    {
     "name": "stdout",
     "output_type": "stream",
     "text": [
      "1 : Not Found\n",
      "2 : Not Found\n",
      "3 : Not Found\n",
      "4 : Not Found\n"
     ]
    },
    {
     "name": "stderr",
     "output_type": "stream",
     "text": [
      "  8%|▊         | 156/2000 [14:27<2:36:04,  5.08s/it]"
     ]
    },
    {
     "name": "stdout",
     "output_type": "stream",
     "text": [
      "1 : Not Found\n",
      "2 : Not Found\n",
      "3 : Not Found\n",
      "4 : Not Found\n",
      "11 : Not Found\n"
     ]
    },
    {
     "name": "stderr",
     "output_type": "stream",
     "text": [
      "  8%|▊         | 157/2000 [14:33<2:42:00,  5.27s/it]"
     ]
    },
    {
     "name": "stdout",
     "output_type": "stream",
     "text": [
      "19 : Not Found\n",
      "1 : Not Found\n",
      "2 : Not Found\n",
      "3 : Not Found\n",
      "4 : Not Found\n",
      "7 : Not Found\n"
     ]
    },
    {
     "name": "stderr",
     "output_type": "stream",
     "text": [
      "  8%|▊         | 158/2000 [14:38<2:45:09,  5.38s/it]"
     ]
    },
    {
     "name": "stdout",
     "output_type": "stream",
     "text": [
      "19 : Not Found\n",
      "1 : Not Found\n",
      "2 : Not Found\n",
      "3 : Not Found\n",
      "4 : Not Found\n"
     ]
    },
    {
     "name": "stderr",
     "output_type": "stream",
     "text": [
      "  8%|▊         | 159/2000 [14:43<2:37:44,  5.14s/it]"
     ]
    },
    {
     "name": "stdout",
     "output_type": "stream",
     "text": [
      "1 : Not Found\n",
      "2 : Not Found\n",
      "3 : Not Found\n",
      "4 : Not Found\n"
     ]
    },
    {
     "name": "stderr",
     "output_type": "stream",
     "text": [
      "  8%|▊         | 160/2000 [14:47<2:31:23,  4.94s/it]"
     ]
    },
    {
     "name": "stdout",
     "output_type": "stream",
     "text": [
      "1 : Not Found\n",
      "2 : Not Found\n",
      "3 : Not Found\n",
      "4 : Not Found\n",
      "18 : Not Found\n"
     ]
    },
    {
     "name": "stderr",
     "output_type": "stream",
     "text": [
      "  8%|▊         | 161/2000 [14:52<2:31:43,  4.95s/it]"
     ]
    },
    {
     "name": "stdout",
     "output_type": "stream",
     "text": [
      "1 : Not Found\n",
      "2 : Not Found\n",
      "3 : Not Found\n",
      "4 : Not Found\n"
     ]
    },
    {
     "name": "stderr",
     "output_type": "stream",
     "text": [
      "  8%|▊         | 162/2000 [14:57<2:29:15,  4.87s/it]"
     ]
    },
    {
     "name": "stdout",
     "output_type": "stream",
     "text": [
      "1 : Not Found\n",
      "2 : Not Found\n",
      "3 : Not Found\n",
      "4 : Not Found\n",
      "6 : Not Found\n",
      "10 : Not Found\n",
      "11 : Not Found\n"
     ]
    },
    {
     "name": "stderr",
     "output_type": "stream",
     "text": [
      "  8%|▊         | 163/2000 [15:03<2:38:29,  5.18s/it]"
     ]
    },
    {
     "name": "stdout",
     "output_type": "stream",
     "text": [
      "1 : Not Found\n",
      "2 : Not Found\n",
      "3 : Not Found\n",
      "4 : Not Found\n",
      "11 : Not Found\n",
      "12 : Not Found\n",
      "13 : Not Found\n",
      "16 : Not Found\n"
     ]
    },
    {
     "name": "stderr",
     "output_type": "stream",
     "text": [
      "  8%|▊         | 164/2000 [15:10<2:52:40,  5.64s/it]"
     ]
    },
    {
     "name": "stdout",
     "output_type": "stream",
     "text": [
      "1 : Not Found\n",
      "2 : Not Found\n",
      "3 : Not Found\n"
     ]
    },
    {
     "name": "stderr",
     "output_type": "stream",
     "text": [
      "  8%|▊         | 165/2000 [15:14<2:40:42,  5.26s/it]"
     ]
    },
    {
     "name": "stdout",
     "output_type": "stream",
     "text": [
      "1 : Not Found\n",
      "2 : Not Found\n",
      "3 : Not Found\n",
      "14 : Not Found\n",
      "17 : Not Found\n",
      "18 : Not Found\n"
     ]
    },
    {
     "name": "stderr",
     "output_type": "stream",
     "text": [
      "  8%|▊         | 166/2000 [15:20<2:50:34,  5.58s/it]"
     ]
    },
    {
     "name": "stdout",
     "output_type": "stream",
     "text": [
      "19 : Not Found\n",
      "1 : Not Found\n",
      "2 : Not Found\n",
      "3 : Not Found\n",
      "4 : Not Found\n"
     ]
    },
    {
     "name": "stderr",
     "output_type": "stream",
     "text": [
      "  8%|▊         | 167/2000 [15:25<2:41:45,  5.29s/it]"
     ]
    },
    {
     "name": "stdout",
     "output_type": "stream",
     "text": [
      "1 : Not Found\n",
      "2 : Not Found\n",
      "3 : Not Found\n",
      "4 : Not Found\n"
     ]
    },
    {
     "name": "stderr",
     "output_type": "stream",
     "text": [
      "  8%|▊         | 168/2000 [15:30<2:37:21,  5.15s/it]"
     ]
    },
    {
     "name": "stdout",
     "output_type": "stream",
     "text": [
      "1 : Not Found\n",
      "2 : Not Found\n",
      "3 : Not Found\n",
      "4 : Not Found\n",
      "5 : Not Found\n"
     ]
    },
    {
     "name": "stderr",
     "output_type": "stream",
     "text": [
      "  8%|▊         | 169/2000 [15:35<2:36:12,  5.12s/it]"
     ]
    },
    {
     "name": "stdout",
     "output_type": "stream",
     "text": [
      "1 : Not Found\n",
      "2 : Not Found\n",
      "3 : Not Found\n"
     ]
    },
    {
     "name": "stderr",
     "output_type": "stream",
     "text": [
      "  8%|▊         | 170/2000 [15:39<2:30:03,  4.92s/it]"
     ]
    },
    {
     "name": "stdout",
     "output_type": "stream",
     "text": [
      "1 : Not Found\n",
      "2 : Not Found\n",
      "3 : Not Found\n",
      "4 : Not Found\n"
     ]
    },
    {
     "name": "stderr",
     "output_type": "stream",
     "text": [
      "  9%|▊         | 171/2000 [15:44<2:28:35,  4.87s/it]"
     ]
    },
    {
     "name": "stdout",
     "output_type": "stream",
     "text": [
      "1 : Not Found\n",
      "2 : Not Found\n",
      "3 : Not Found\n",
      "4 : Not Found\n",
      "11 : Not Found\n",
      "15 : Not Found\n",
      "19 : Not Found\n"
     ]
    },
    {
     "name": "stderr",
     "output_type": "stream",
     "text": [
      "  9%|▊         | 172/2000 [15:51<2:45:00,  5.42s/it]"
     ]
    },
    {
     "name": "stdout",
     "output_type": "stream",
     "text": [
      "20 : Not Found\n",
      "1 : Not Found\n",
      "2 : Not Found\n",
      "3 : Not Found\n",
      "4 : Not Found\n",
      "8 : Not Found\n",
      "12 : Not Found\n",
      "18 : Not Found\n"
     ]
    },
    {
     "name": "stderr",
     "output_type": "stream",
     "text": [
      "  9%|▊         | 173/2000 [15:58<2:57:13,  5.82s/it]"
     ]
    },
    {
     "name": "stdout",
     "output_type": "stream",
     "text": [
      "19 : Not Found\n",
      "1 : Not Found\n",
      "2 : Not Found\n",
      "3 : Not Found\n",
      "4 : Not Found\n",
      "8 : Not Found\n",
      "16 : Not Found\n"
     ]
    },
    {
     "name": "stderr",
     "output_type": "stream",
     "text": [
      "  9%|▊         | 174/2000 [16:03<2:57:06,  5.82s/it]"
     ]
    },
    {
     "name": "stdout",
     "output_type": "stream",
     "text": [
      "1 : Not Found\n",
      "2 : Not Found\n",
      "3 : Not Found\n",
      "4 : Not Found\n",
      "5 : Not Found\n",
      "12 : Not Found\n"
     ]
    },
    {
     "name": "stderr",
     "output_type": "stream",
     "text": [
      "  9%|▉         | 175/2000 [16:09<2:58:14,  5.86s/it]"
     ]
    },
    {
     "name": "stdout",
     "output_type": "stream",
     "text": [
      "1 : Not Found\n",
      "2 : Not Found\n",
      "3 : Not Found\n",
      "4 : Not Found\n"
     ]
    },
    {
     "name": "stderr",
     "output_type": "stream",
     "text": [
      "  9%|▉         | 176/2000 [16:14<2:48:55,  5.56s/it]"
     ]
    },
    {
     "name": "stdout",
     "output_type": "stream",
     "text": [
      "1 : Not Found\n",
      "2 : Not Found\n",
      "3 : Not Found\n",
      "4 : Not Found\n"
     ]
    },
    {
     "name": "stderr",
     "output_type": "stream",
     "text": [
      "  9%|▉         | 177/2000 [16:19<2:39:37,  5.25s/it]"
     ]
    },
    {
     "name": "stdout",
     "output_type": "stream",
     "text": [
      "1 : Not Found\n",
      "2 : Not Found\n",
      "3 : Not Found\n",
      "4 : Not Found\n",
      "5 : Not Found\n"
     ]
    },
    {
     "name": "stderr",
     "output_type": "stream",
     "text": [
      "  9%|▉         | 178/2000 [16:24<2:36:35,  5.16s/it]"
     ]
    },
    {
     "name": "stdout",
     "output_type": "stream",
     "text": [
      "1 : Not Found\n",
      "2 : Not Found\n",
      "3 : Not Found\n",
      "4 : Not Found\n"
     ]
    },
    {
     "name": "stderr",
     "output_type": "stream",
     "text": [
      "  9%|▉         | 179/2000 [16:28<2:30:11,  4.95s/it]"
     ]
    },
    {
     "name": "stdout",
     "output_type": "stream",
     "text": [
      "1 : Not Found\n",
      "2 : Not Found\n",
      "3 : Not Found\n",
      "4 : Not Found\n"
     ]
    },
    {
     "name": "stderr",
     "output_type": "stream",
     "text": [
      "  9%|▉         | 180/2000 [16:33<2:29:08,  4.92s/it]"
     ]
    },
    {
     "name": "stdout",
     "output_type": "stream",
     "text": [
      "1 : Not Found\n",
      "2 : Not Found\n",
      "3 : Not Found\n",
      "4 : Not Found\n"
     ]
    },
    {
     "name": "stderr",
     "output_type": "stream",
     "text": [
      "  9%|▉         | 181/2000 [16:38<2:26:45,  4.84s/it]"
     ]
    },
    {
     "name": "stdout",
     "output_type": "stream",
     "text": [
      "1 : Not Found\n",
      "2 : Not Found\n",
      "3 : Not Found\n",
      "4 : Not Found\n"
     ]
    },
    {
     "name": "stderr",
     "output_type": "stream",
     "text": [
      "  9%|▉         | 182/2000 [16:43<2:29:07,  4.92s/it]"
     ]
    },
    {
     "name": "stdout",
     "output_type": "stream",
     "text": [
      "1 : Not Found\n",
      "2 : Not Found\n",
      "3 : Not Found\n",
      "4 : Not Found\n",
      "9 : Not Found\n"
     ]
    },
    {
     "name": "stderr",
     "output_type": "stream",
     "text": [
      "  9%|▉         | 183/2000 [16:48<2:31:04,  4.99s/it]"
     ]
    },
    {
     "name": "stdout",
     "output_type": "stream",
     "text": [
      "1 : Not Found\n",
      "2 : Not Found\n",
      "3 : Not Found\n",
      "4 : Not Found\n",
      "10 : Not Found\n",
      "12 : Not Found\n",
      "16 : Not Found\n",
      "17 : Not Found\n"
     ]
    },
    {
     "name": "stderr",
     "output_type": "stream",
     "text": [
      "  9%|▉         | 184/2000 [16:54<2:45:42,  5.47s/it]"
     ]
    },
    {
     "name": "stdout",
     "output_type": "stream",
     "text": [
      "1 : Not Found\n",
      "2 : Not Found\n",
      "3 : Not Found\n",
      "4 : Not Found\n"
     ]
    },
    {
     "name": "stderr",
     "output_type": "stream",
     "text": [
      "  9%|▉         | 185/2000 [16:59<2:39:25,  5.27s/it]"
     ]
    },
    {
     "name": "stdout",
     "output_type": "stream",
     "text": [
      "1 : Not Found\n",
      "2 : Not Found\n",
      "3 : Not Found\n",
      "4 : Not Found\n",
      "11 : Not Found\n",
      "12 : Not Found\n"
     ]
    },
    {
     "name": "stderr",
     "output_type": "stream",
     "text": [
      "  9%|▉         | 186/2000 [17:05<2:44:07,  5.43s/it]"
     ]
    },
    {
     "name": "stdout",
     "output_type": "stream",
     "text": [
      "1 : Not Found\n",
      "2 : Not Found\n",
      "3 : Not Found\n",
      "4 : Not Found\n"
     ]
    },
    {
     "name": "stderr",
     "output_type": "stream",
     "text": [
      "  9%|▉         | 187/2000 [17:10<2:36:04,  5.17s/it]"
     ]
    },
    {
     "name": "stdout",
     "output_type": "stream",
     "text": [
      "1 : Not Found\n",
      "2 : Not Found\n",
      "3 : Not Found\n",
      "4 : Not Found\n",
      "11 : Not Found\n",
      "13 : Not Found\n",
      "17 : Not Found\n"
     ]
    },
    {
     "name": "stderr",
     "output_type": "stream",
     "text": [
      "  9%|▉         | 188/2000 [17:16<2:49:41,  5.62s/it]"
     ]
    },
    {
     "name": "stdout",
     "output_type": "stream",
     "text": [
      "19 : Not Found\n",
      "1 : Not Found\n",
      "2 : Not Found\n",
      "3 : Not Found\n",
      "4 : Not Found\n"
     ]
    },
    {
     "name": "stderr",
     "output_type": "stream",
     "text": [
      "  9%|▉         | 189/2000 [17:21<2:43:58,  5.43s/it]"
     ]
    },
    {
     "name": "stdout",
     "output_type": "stream",
     "text": [
      "1 : Not Found\n",
      "2 : Not Found\n",
      "3 : Not Found\n",
      "4 : Not Found\n"
     ]
    },
    {
     "name": "stderr",
     "output_type": "stream",
     "text": [
      " 10%|▉         | 190/2000 [17:26<2:37:38,  5.23s/it]"
     ]
    },
    {
     "name": "stdout",
     "output_type": "stream",
     "text": [
      "1 : Not Found\n",
      "2 : Not Found\n",
      "3 : Not Found\n",
      "4 : Not Found\n",
      "5 : Not Found\n",
      "8 : Not Found\n",
      "14 : Not Found\n",
      "15 : Not Found\n"
     ]
    },
    {
     "name": "stderr",
     "output_type": "stream",
     "text": [
      " 10%|▉         | 191/2000 [17:33<2:49:49,  5.63s/it]"
     ]
    },
    {
     "name": "stdout",
     "output_type": "stream",
     "text": [
      "1 : Not Found\n",
      "2 : Not Found\n",
      "3 : Not Found\n",
      "4 : Not Found\n"
     ]
    },
    {
     "name": "stderr",
     "output_type": "stream",
     "text": [
      " 10%|▉         | 192/2000 [17:38<2:43:41,  5.43s/it]"
     ]
    },
    {
     "name": "stdout",
     "output_type": "stream",
     "text": [
      "1 : Not Found\n",
      "2 : Not Found\n",
      "3 : Not Found\n",
      "4 : Not Found\n"
     ]
    },
    {
     "name": "stderr",
     "output_type": "stream",
     "text": [
      " 10%|▉         | 193/2000 [17:42<2:38:02,  5.25s/it]"
     ]
    },
    {
     "name": "stdout",
     "output_type": "stream",
     "text": [
      "1 : Not Found\n",
      "2 : Not Found\n",
      "3 : Not Found\n",
      "11 : Not Found\n"
     ]
    },
    {
     "name": "stderr",
     "output_type": "stream",
     "text": [
      " 10%|▉         | 194/2000 [17:47<2:34:32,  5.13s/it]"
     ]
    },
    {
     "name": "stdout",
     "output_type": "stream",
     "text": [
      "1 : Not Found\n",
      "2 : Not Found\n",
      "3 : Not Found\n",
      "4 : Not Found\n"
     ]
    },
    {
     "name": "stderr",
     "output_type": "stream",
     "text": [
      " 10%|▉         | 195/2000 [17:52<2:31:42,  5.04s/it]"
     ]
    },
    {
     "name": "stdout",
     "output_type": "stream",
     "text": [
      "1 : Not Found\n",
      "2 : Not Found\n",
      "3 : Not Found\n",
      "4 : Not Found\n",
      "10 : Not Found\n",
      "11 : Not Found\n",
      "12 : Not Found\n",
      "15 : Not Found\n"
     ]
    },
    {
     "name": "stderr",
     "output_type": "stream",
     "text": [
      " 10%|▉         | 196/2000 [17:59<2:48:30,  5.60s/it]"
     ]
    },
    {
     "name": "stdout",
     "output_type": "stream",
     "text": [
      "1 : Not Found\n",
      "2 : Not Found\n",
      "3 : Not Found\n",
      "4 : Not Found\n",
      "5 : Not Found\n"
     ]
    },
    {
     "name": "stderr",
     "output_type": "stream",
     "text": [
      " 10%|▉         | 197/2000 [18:04<2:45:35,  5.51s/it]"
     ]
    },
    {
     "name": "stdout",
     "output_type": "stream",
     "text": [
      "1 : Not Found\n",
      "2 : Not Found\n",
      "3 : Not Found\n",
      "4 : Not Found\n",
      "7 : Not Found\n",
      "9 : Not Found\n",
      "11 : Not Found\n",
      "14 : Not Found\n",
      "17 : Not Found\n",
      "19 : Not Found\n"
     ]
    },
    {
     "name": "stderr",
     "output_type": "stream",
     "text": [
      " 10%|▉         | 198/2000 [18:13<3:10:49,  6.35s/it]"
     ]
    },
    {
     "name": "stdout",
     "output_type": "stream",
     "text": [
      "20 : Not Found\n",
      "1 : Not Found\n",
      "2 : Not Found\n",
      "3 : Not Found\n"
     ]
    },
    {
     "name": "stderr",
     "output_type": "stream",
     "text": [
      " 10%|▉         | 199/2000 [18:17<2:53:32,  5.78s/it]"
     ]
    },
    {
     "name": "stdout",
     "output_type": "stream",
     "text": [
      "1 : Not Found\n",
      "2 : Not Found\n",
      "3 : Not Found\n",
      "4 : Not Found\n",
      "13 : Not Found\n"
     ]
    },
    {
     "name": "stderr",
     "output_type": "stream",
     "text": [
      " 10%|█         | 200/2000 [18:23<2:50:43,  5.69s/it]"
     ]
    },
    {
     "name": "stdout",
     "output_type": "stream",
     "text": [
      "1 : Not Found\n",
      "2 : Not Found\n",
      "3 : Not Found\n",
      "4 : Not Found\n"
     ]
    },
    {
     "name": "stderr",
     "output_type": "stream",
     "text": [
      " 10%|█         | 201/2000 [18:28<2:44:42,  5.49s/it]"
     ]
    },
    {
     "name": "stdout",
     "output_type": "stream",
     "text": [
      "1 : Not Found\n",
      "2 : Not Found\n",
      "3 : Not Found\n",
      "4 : Not Found\n",
      "11 : Not Found\n",
      "12 : Not Found\n",
      "15 : Not Found\n",
      "16 : Not Found\n",
      "17 : Not Found\n",
      "18 : Not Found\n",
      "19 : Not Found\n"
     ]
    },
    {
     "name": "stderr",
     "output_type": "stream",
     "text": [
      " 10%|█         | 202/2000 [18:36<3:11:22,  6.39s/it]"
     ]
    },
    {
     "name": "stdout",
     "output_type": "stream",
     "text": [
      "20 : Not Found\n",
      "1 : Not Found\n",
      "2 : Not Found\n",
      "3 : Not Found\n",
      "4 : Not Found\n"
     ]
    },
    {
     "name": "stderr",
     "output_type": "stream",
     "text": [
      " 10%|█         | 203/2000 [18:41<3:02:17,  6.09s/it]"
     ]
    },
    {
     "name": "stdout",
     "output_type": "stream",
     "text": [
      "20 : Not Found\n",
      "1 : Not Found\n",
      "2 : Not Found\n",
      "3 : Not Found\n",
      "4 : Not Found\n",
      "12 : Not Found\n",
      "13 : Not Found\n",
      "17 : Not Found\n"
     ]
    },
    {
     "name": "stderr",
     "output_type": "stream",
     "text": [
      " 10%|█         | 204/2000 [18:48<3:08:47,  6.31s/it]"
     ]
    },
    {
     "name": "stdout",
     "output_type": "stream",
     "text": [
      "20 : Not Found\n",
      "1 : Not Found\n",
      "2 : Not Found\n",
      "3 : Not Found\n"
     ]
    },
    {
     "name": "stderr",
     "output_type": "stream",
     "text": [
      " 10%|█         | 205/2000 [18:53<2:53:32,  5.80s/it]"
     ]
    },
    {
     "name": "stdout",
     "output_type": "stream",
     "text": [
      "1 : Not Found\n",
      "2 : Not Found\n",
      "3 : Not Found\n",
      "13 : Not Found\n"
     ]
    },
    {
     "name": "stderr",
     "output_type": "stream",
     "text": [
      " 10%|█         | 206/2000 [18:58<2:48:07,  5.62s/it]"
     ]
    },
    {
     "name": "stdout",
     "output_type": "stream",
     "text": [
      "1 : Not Found\n",
      "2 : Not Found\n",
      "3 : Not Found\n",
      "4 : Not Found\n"
     ]
    },
    {
     "name": "stderr",
     "output_type": "stream",
     "text": [
      " 10%|█         | 207/2000 [19:03<2:40:56,  5.39s/it]"
     ]
    },
    {
     "name": "stdout",
     "output_type": "stream",
     "text": [
      "1 : Not Found\n",
      "2 : Not Found\n",
      "3 : Not Found\n",
      "4 : Not Found\n"
     ]
    },
    {
     "name": "stderr",
     "output_type": "stream",
     "text": [
      " 10%|█         | 208/2000 [19:08<2:34:32,  5.17s/it]"
     ]
    },
    {
     "name": "stdout",
     "output_type": "stream",
     "text": [
      "1 : Not Found\n",
      "2 : Not Found\n",
      "3 : Not Found\n",
      "4 : Not Found\n",
      "16 : Not Found\n",
      "17 : Not Found\n"
     ]
    },
    {
     "name": "stderr",
     "output_type": "stream",
     "text": [
      " 10%|█         | 209/2000 [19:13<2:39:26,  5.34s/it]"
     ]
    },
    {
     "name": "stdout",
     "output_type": "stream",
     "text": [
      "1 : Not Found\n",
      "2 : Not Found\n",
      "3 : Not Found\n",
      "4 : Not Found\n",
      "6 : Not Found\n",
      "8 : Not Found\n",
      "17 : Not Found\n"
     ]
    },
    {
     "name": "stderr",
     "output_type": "stream",
     "text": [
      " 10%|█         | 210/2000 [19:20<2:55:28,  5.88s/it]"
     ]
    },
    {
     "name": "stdout",
     "output_type": "stream",
     "text": [
      "20 : Not Found\n",
      "1 : Not Found\n",
      "2 : Not Found\n",
      "3 : Not Found\n",
      "4 : Not Found\n",
      "5 : Not Found\n",
      "6 : Not Found\n",
      "10 : Not Found\n",
      "11 : Not Found\n"
     ]
    },
    {
     "name": "stderr",
     "output_type": "stream",
     "text": [
      " 11%|█         | 211/2000 [19:27<3:05:34,  6.22s/it]"
     ]
    },
    {
     "name": "stdout",
     "output_type": "stream",
     "text": [
      "1 : Not Found\n",
      "2 : Not Found\n",
      "3 : Not Found\n",
      "4 : Not Found\n",
      "8 : Not Found\n",
      "15 : Not Found\n",
      "16 : Not Found\n"
     ]
    },
    {
     "name": "stderr",
     "output_type": "stream",
     "text": [
      " 11%|█         | 212/2000 [19:34<3:05:58,  6.24s/it]"
     ]
    },
    {
     "name": "stdout",
     "output_type": "stream",
     "text": [
      "1 : Not Found\n",
      "2 : Not Found\n",
      "3 : Not Found\n",
      "4 : Not Found\n",
      "5 : Not Found\n",
      "6 : Not Found\n",
      "9 : Not Found\n",
      "10 : Not Found\n",
      "11 : Not Found\n",
      "13 : Not Found\n",
      "16 : Not Found\n"
     ]
    },
    {
     "name": "stderr",
     "output_type": "stream",
     "text": [
      " 11%|█         | 213/2000 [19:43<3:29:16,  7.03s/it]"
     ]
    },
    {
     "name": "stdout",
     "output_type": "stream",
     "text": [
      "19 : Not Found\n",
      "1 : Not Found\n",
      "2 : Not Found\n",
      "3 : Not Found\n",
      "4 : Not Found\n"
     ]
    },
    {
     "name": "stderr",
     "output_type": "stream",
     "text": [
      " 11%|█         | 214/2000 [19:47<3:09:53,  6.38s/it]"
     ]
    },
    {
     "name": "stdout",
     "output_type": "stream",
     "text": [
      "1 : Not Found\n",
      "2 : Not Found\n",
      "3 : Not Found\n",
      "4 : Not Found\n"
     ]
    },
    {
     "name": "stderr",
     "output_type": "stream",
     "text": [
      " 11%|█         | 215/2000 [19:52<2:56:44,  5.94s/it]"
     ]
    },
    {
     "name": "stdout",
     "output_type": "stream",
     "text": [
      "1 : Not Found\n",
      "2 : Not Found\n",
      "3 : Not Found\n",
      "4 : Not Found\n"
     ]
    },
    {
     "name": "stderr",
     "output_type": "stream",
     "text": [
      " 11%|█         | 216/2000 [19:57<2:46:59,  5.62s/it]"
     ]
    },
    {
     "name": "stdout",
     "output_type": "stream",
     "text": [
      "1 : Not Found\n",
      "2 : Not Found\n",
      "3 : Not Found\n",
      "4 : Not Found\n"
     ]
    },
    {
     "name": "stderr",
     "output_type": "stream",
     "text": [
      " 11%|█         | 217/2000 [20:02<2:38:47,  5.34s/it]"
     ]
    },
    {
     "name": "stdout",
     "output_type": "stream",
     "text": [
      "1 : Not Found\n",
      "2 : Not Found\n",
      "3 : Not Found\n",
      "9 : Not Found\n",
      "13 : Not Found\n"
     ]
    },
    {
     "name": "stderr",
     "output_type": "stream",
     "text": [
      " 11%|█         | 218/2000 [20:08<2:41:29,  5.44s/it]"
     ]
    },
    {
     "name": "stdout",
     "output_type": "stream",
     "text": [
      "1 : Not Found\n",
      "2 : Not Found\n",
      "3 : Not Found\n",
      "4 : Not Found\n"
     ]
    },
    {
     "name": "stderr",
     "output_type": "stream",
     "text": [
      " 11%|█         | 219/2000 [20:12<2:34:37,  5.21s/it]"
     ]
    },
    {
     "name": "stdout",
     "output_type": "stream",
     "text": [
      "1 : Not Found\n",
      "2 : Not Found\n",
      "3 : Not Found\n"
     ]
    },
    {
     "name": "stderr",
     "output_type": "stream",
     "text": [
      " 11%|█         | 220/2000 [20:17<2:26:34,  4.94s/it]"
     ]
    },
    {
     "name": "stdout",
     "output_type": "stream",
     "text": [
      "1 : Not Found\n",
      "2 : Not Found\n",
      "3 : Not Found\n",
      "4 : Not Found\n"
     ]
    },
    {
     "name": "stderr",
     "output_type": "stream",
     "text": [
      " 11%|█         | 221/2000 [20:21<2:24:28,  4.87s/it]"
     ]
    },
    {
     "name": "stdout",
     "output_type": "stream",
     "text": [
      "1 : Not Found\n",
      "2 : Not Found\n",
      "3 : Not Found\n",
      "4 : Not Found\n"
     ]
    },
    {
     "name": "stderr",
     "output_type": "stream",
     "text": [
      " 11%|█         | 222/2000 [20:26<2:26:28,  4.94s/it]"
     ]
    },
    {
     "name": "stdout",
     "output_type": "stream",
     "text": [
      "1 : Not Found\n",
      "2 : Not Found\n",
      "3 : Not Found\n",
      "4 : Not Found\n",
      "11 : Not Found\n",
      "13 : Not Found\n"
     ]
    },
    {
     "name": "stderr",
     "output_type": "stream",
     "text": [
      " 11%|█         | 223/2000 [20:32<2:34:20,  5.21s/it]"
     ]
    },
    {
     "name": "stdout",
     "output_type": "stream",
     "text": [
      "1 : Not Found\n",
      "2 : Not Found\n",
      "3 : Not Found\n",
      "4 : Not Found\n",
      "5 : Not Found\n"
     ]
    },
    {
     "name": "stderr",
     "output_type": "stream",
     "text": [
      " 11%|█         | 224/2000 [20:37<2:33:22,  5.18s/it]"
     ]
    },
    {
     "name": "stdout",
     "output_type": "stream",
     "text": [
      "1 : Not Found\n",
      "2 : Not Found\n",
      "3 : Not Found\n",
      "4 : Not Found\n"
     ]
    },
    {
     "name": "stderr",
     "output_type": "stream",
     "text": [
      " 11%|█▏        | 225/2000 [20:42<2:32:14,  5.15s/it]"
     ]
    },
    {
     "name": "stdout",
     "output_type": "stream",
     "text": [
      "1 : Not Found\n",
      "2 : Not Found\n",
      "3 : Not Found\n"
     ]
    },
    {
     "name": "stderr",
     "output_type": "stream",
     "text": [
      " 11%|█▏        | 226/2000 [20:47<2:24:52,  4.90s/it]"
     ]
    },
    {
     "name": "stdout",
     "output_type": "stream",
     "text": [
      "1 : Not Found\n",
      "2 : Not Found\n",
      "3 : Not Found\n",
      "4 : Not Found\n"
     ]
    },
    {
     "name": "stderr",
     "output_type": "stream",
     "text": [
      " 11%|█▏        | 227/2000 [20:51<2:22:02,  4.81s/it]"
     ]
    },
    {
     "name": "stdout",
     "output_type": "stream",
     "text": [
      "1 : Not Found\n",
      "2 : Not Found\n",
      "3 : Not Found\n",
      "4 : Not Found\n",
      "5 : Not Found\n",
      "6 : Not Found\n",
      "7 : Not Found\n",
      "8 : Not Found\n"
     ]
    },
    {
     "name": "stderr",
     "output_type": "stream",
     "text": [
      " 11%|█▏        | 228/2000 [20:58<2:41:05,  5.45s/it]"
     ]
    },
    {
     "name": "stdout",
     "output_type": "stream",
     "text": [
      "1 : Not Found\n",
      "2 : Not Found\n",
      "3 : Not Found\n",
      "4 : Not Found\n",
      "5 : Not Found\n",
      "6 : Not Found\n",
      "17 : Not Found\n"
     ]
    },
    {
     "name": "stderr",
     "output_type": "stream",
     "text": [
      " 11%|█▏        | 229/2000 [21:05<2:47:32,  5.68s/it]"
     ]
    },
    {
     "name": "stdout",
     "output_type": "stream",
     "text": [
      "1 : Not Found\n",
      "2 : Not Found\n",
      "3 : Not Found\n",
      "4 : Not Found\n",
      "11 : Not Found\n",
      "12 : Not Found\n",
      "13 : Not Found\n"
     ]
    },
    {
     "name": "stderr",
     "output_type": "stream",
     "text": [
      " 12%|█▏        | 230/2000 [21:11<2:52:57,  5.86s/it]"
     ]
    },
    {
     "name": "stdout",
     "output_type": "stream",
     "text": [
      "1 : Not Found\n",
      "2 : Not Found\n",
      "3 : Not Found\n",
      "4 : Not Found\n",
      "8 : Not Found\n",
      "12 : Not Found\n",
      "16 : Not Found\n",
      "17 : Not Found\n"
     ]
    },
    {
     "name": "stderr",
     "output_type": "stream",
     "text": [
      " 12%|█▏        | 231/2000 [21:18<3:03:24,  6.22s/it]"
     ]
    },
    {
     "name": "stdout",
     "output_type": "stream",
     "text": [
      "20 : Not Found\n",
      "1 : Not Found\n",
      "2 : Not Found\n",
      "3 : Not Found\n",
      "4 : Not Found\n"
     ]
    },
    {
     "name": "stderr",
     "output_type": "stream",
     "text": [
      " 12%|█▏        | 232/2000 [21:23<2:52:25,  5.85s/it]"
     ]
    },
    {
     "name": "stdout",
     "output_type": "stream",
     "text": [
      "1 : Not Found\n",
      "2 : Not Found\n",
      "3 : Not Found\n",
      "4 : Not Found\n",
      "11 : Not Found\n",
      "16 : Not Found\n"
     ]
    },
    {
     "name": "stderr",
     "output_type": "stream",
     "text": [
      " 12%|█▏        | 233/2000 [21:28<2:49:44,  5.76s/it]"
     ]
    },
    {
     "name": "stdout",
     "output_type": "stream",
     "text": [
      "1 : Not Found\n",
      "2 : Not Found\n",
      "3 : Not Found\n",
      "4 : Not Found\n",
      "5 : Not Found\n",
      "10 : Not Found\n",
      "15 : Not Found\n",
      "16 : Not Found\n"
     ]
    },
    {
     "name": "stderr",
     "output_type": "stream",
     "text": [
      " 12%|█▏        | 234/2000 [21:35<2:59:20,  6.09s/it]"
     ]
    },
    {
     "name": "stdout",
     "output_type": "stream",
     "text": [
      "1 : Not Found\n",
      "2 : Not Found\n",
      "3 : Not Found\n",
      "4 : Not Found\n",
      "6 : Not Found\n",
      "8 : Not Found\n"
     ]
    },
    {
     "name": "stderr",
     "output_type": "stream",
     "text": [
      " 12%|█▏        | 235/2000 [21:41<2:57:37,  6.04s/it]"
     ]
    },
    {
     "name": "stdout",
     "output_type": "stream",
     "text": [
      "1 : Not Found\n",
      "2 : Not Found\n",
      "3 : Not Found\n",
      "4 : Not Found\n"
     ]
    },
    {
     "name": "stderr",
     "output_type": "stream",
     "text": [
      " 12%|█▏        | 236/2000 [21:46<2:46:52,  5.68s/it]"
     ]
    },
    {
     "name": "stdout",
     "output_type": "stream",
     "text": [
      "1 : Not Found\n",
      "2 : Not Found\n",
      "3 : Not Found\n",
      "4 : Not Found\n"
     ]
    },
    {
     "name": "stderr",
     "output_type": "stream",
     "text": [
      " 12%|█▏        | 237/2000 [21:51<2:41:09,  5.48s/it]"
     ]
    },
    {
     "name": "stdout",
     "output_type": "stream",
     "text": [
      "1 : Not Found\n",
      "2 : Not Found\n",
      "3 : Not Found\n",
      "4 : Not Found\n"
     ]
    },
    {
     "name": "stderr",
     "output_type": "stream",
     "text": [
      " 12%|█▏        | 238/2000 [21:56<2:37:45,  5.37s/it]"
     ]
    },
    {
     "name": "stdout",
     "output_type": "stream",
     "text": [
      "1 : Not Found\n",
      "2 : Not Found\n",
      "3 : Not Found\n",
      "4 : Not Found\n"
     ]
    },
    {
     "name": "stderr",
     "output_type": "stream",
     "text": [
      " 12%|█▏        | 239/2000 [22:01<2:33:53,  5.24s/it]"
     ]
    },
    {
     "name": "stdout",
     "output_type": "stream",
     "text": [
      "1 : Not Found\n",
      "2 : Not Found\n",
      "3 : Not Found\n",
      "4 : Not Found\n"
     ]
    },
    {
     "name": "stderr",
     "output_type": "stream",
     "text": [
      " 12%|█▏        | 240/2000 [22:06<2:31:57,  5.18s/it]"
     ]
    },
    {
     "name": "stdout",
     "output_type": "stream",
     "text": [
      "1 : Not Found\n",
      "2 : Not Found\n",
      "3 : Not Found\n",
      "4 : Not Found\n"
     ]
    },
    {
     "name": "stderr",
     "output_type": "stream",
     "text": [
      " 12%|█▏        | 241/2000 [22:11<2:29:20,  5.09s/it]"
     ]
    },
    {
     "name": "stdout",
     "output_type": "stream",
     "text": [
      "1 : Not Found\n",
      "2 : Not Found\n",
      "3 : Not Found\n",
      "4 : Not Found\n"
     ]
    },
    {
     "name": "stderr",
     "output_type": "stream",
     "text": [
      " 12%|█▏        | 242/2000 [22:16<2:28:54,  5.08s/it]"
     ]
    },
    {
     "name": "stdout",
     "output_type": "stream",
     "text": [
      "1 : Not Found\n",
      "2 : Not Found\n",
      "3 : Not Found\n",
      "4 : Not Found\n"
     ]
    },
    {
     "name": "stderr",
     "output_type": "stream",
     "text": [
      " 12%|█▏        | 243/2000 [22:21<2:24:41,  4.94s/it]"
     ]
    },
    {
     "name": "stdout",
     "output_type": "stream",
     "text": [
      "1 : Not Found\n",
      "2 : Not Found\n",
      "3 : Not Found\n",
      "4 : Not Found\n"
     ]
    },
    {
     "name": "stderr",
     "output_type": "stream",
     "text": [
      " 12%|█▏        | 244/2000 [22:26<2:25:32,  4.97s/it]"
     ]
    },
    {
     "name": "stdout",
     "output_type": "stream",
     "text": [
      "1 : Not Found\n",
      "2 : Not Found\n",
      "3 : Not Found\n",
      "4 : Not Found\n",
      "9 : Not Found\n",
      "12 : Not Found\n",
      "17 : Not Found\n"
     ]
    },
    {
     "name": "stderr",
     "output_type": "stream",
     "text": [
      " 12%|█▏        | 245/2000 [22:32<2:33:49,  5.26s/it]"
     ]
    },
    {
     "name": "stdout",
     "output_type": "stream",
     "text": [
      "1 : Not Found\n",
      "2 : Not Found\n",
      "3 : Not Found\n",
      "4 : Not Found\n"
     ]
    },
    {
     "name": "stderr",
     "output_type": "stream",
     "text": [
      " 12%|█▏        | 246/2000 [22:36<2:28:54,  5.09s/it]"
     ]
    },
    {
     "name": "stdout",
     "output_type": "stream",
     "text": [
      "1 : Not Found\n",
      "2 : Not Found\n",
      "3 : Not Found\n",
      "4 : Not Found\n"
     ]
    },
    {
     "name": "stderr",
     "output_type": "stream",
     "text": [
      " 12%|█▏        | 247/2000 [22:41<2:27:19,  5.04s/it]"
     ]
    },
    {
     "name": "stdout",
     "output_type": "stream",
     "text": [
      "1 : Not Found\n",
      "2 : Not Found\n",
      "3 : Not Found\n",
      "4 : Not Found\n"
     ]
    },
    {
     "name": "stderr",
     "output_type": "stream",
     "text": [
      " 12%|█▏        | 248/2000 [22:46<2:24:36,  4.95s/it]"
     ]
    },
    {
     "name": "stdout",
     "output_type": "stream",
     "text": [
      "1 : Not Found\n",
      "2 : Not Found\n",
      "3 : Not Found\n",
      "4 : Not Found\n"
     ]
    },
    {
     "name": "stderr",
     "output_type": "stream",
     "text": [
      " 12%|█▏        | 249/2000 [22:51<2:25:06,  4.97s/it]"
     ]
    },
    {
     "name": "stdout",
     "output_type": "stream",
     "text": [
      "1 : Not Found\n",
      "2 : Not Found\n",
      "3 : Not Found\n",
      "4 : Not Found\n"
     ]
    },
    {
     "name": "stderr",
     "output_type": "stream",
     "text": [
      " 12%|█▎        | 250/2000 [22:56<2:22:53,  4.90s/it]"
     ]
    },
    {
     "name": "stdout",
     "output_type": "stream",
     "text": [
      "1 : Not Found\n",
      "2 : Not Found\n",
      "3 : Not Found\n"
     ]
    },
    {
     "name": "stderr",
     "output_type": "stream",
     "text": [
      " 13%|█▎        | 251/2000 [23:00<2:20:43,  4.83s/it]"
     ]
    },
    {
     "name": "stdout",
     "output_type": "stream",
     "text": [
      "1 : Not Found\n",
      "2 : Not Found\n",
      "3 : Not Found\n",
      "4 : Not Found\n"
     ]
    },
    {
     "name": "stderr",
     "output_type": "stream",
     "text": [
      " 13%|█▎        | 252/2000 [23:06<2:22:34,  4.89s/it]"
     ]
    },
    {
     "name": "stdout",
     "output_type": "stream",
     "text": [
      "1 : Not Found\n",
      "2 : Not Found\n",
      "3 : Not Found\n",
      "4 : Not Found\n"
     ]
    },
    {
     "name": "stderr",
     "output_type": "stream",
     "text": [
      " 13%|█▎        | 253/2000 [23:10<2:22:26,  4.89s/it]"
     ]
    },
    {
     "name": "stdout",
     "output_type": "stream",
     "text": [
      "1 : Not Found\n",
      "2 : Not Found\n",
      "3 : Not Found\n",
      "4 : Not Found\n",
      "6 : Not Found\n",
      "8 : Not Found\n"
     ]
    },
    {
     "name": "stderr",
     "output_type": "stream",
     "text": [
      " 13%|█▎        | 254/2000 [23:16<2:30:44,  5.18s/it]"
     ]
    },
    {
     "name": "stdout",
     "output_type": "stream",
     "text": [
      "1 : Not Found\n",
      "2 : Not Found\n",
      "3 : Not Found\n",
      "4 : Not Found\n",
      "5 : Not Found\n",
      "18 : Not Found\n"
     ]
    },
    {
     "name": "stderr",
     "output_type": "stream",
     "text": [
      " 13%|█▎        | 255/2000 [23:22<2:36:36,  5.38s/it]"
     ]
    },
    {
     "name": "stdout",
     "output_type": "stream",
     "text": [
      "1 : Not Found\n",
      "2 : Not Found\n",
      "3 : Not Found\n",
      "4 : Not Found\n"
     ]
    },
    {
     "name": "stderr",
     "output_type": "stream",
     "text": [
      " 13%|█▎        | 256/2000 [23:27<2:32:10,  5.24s/it]"
     ]
    },
    {
     "name": "stdout",
     "output_type": "stream",
     "text": [
      "1 : Not Found\n",
      "2 : Not Found\n",
      "3 : Not Found\n",
      "4 : Not Found\n"
     ]
    },
    {
     "name": "stderr",
     "output_type": "stream",
     "text": [
      " 13%|█▎        | 257/2000 [23:32<2:28:23,  5.11s/it]"
     ]
    },
    {
     "name": "stdout",
     "output_type": "stream",
     "text": [
      "1 : Not Found\n",
      "2 : Not Found\n",
      "3 : Not Found\n",
      "4 : Not Found\n",
      "5 : Not Found\n",
      "7 : Not Found\n",
      "9 : Not Found\n",
      "12 : Not Found\n"
     ]
    },
    {
     "name": "stderr",
     "output_type": "stream",
     "text": [
      " 13%|█▎        | 258/2000 [23:39<2:43:00,  5.61s/it]"
     ]
    },
    {
     "name": "stdout",
     "output_type": "stream",
     "text": [
      "1 : Not Found\n",
      "2 : Not Found\n",
      "3 : Not Found\n",
      "4 : Not Found\n",
      "5 : Not Found\n",
      "16 : Not Found\n",
      "17 : Not Found\n",
      "18 : Not Found\n",
      "19 : Not Found\n"
     ]
    },
    {
     "name": "stderr",
     "output_type": "stream",
     "text": [
      " 13%|█▎        | 259/2000 [23:46<3:00:06,  6.21s/it]"
     ]
    },
    {
     "name": "stdout",
     "output_type": "stream",
     "text": [
      "20 : Not Found\n",
      "1 : Not Found\n",
      "2 : Not Found\n",
      "3 : Not Found\n",
      "4 : Not Found\n"
     ]
    },
    {
     "name": "stderr",
     "output_type": "stream",
     "text": [
      " 13%|█▎        | 260/2000 [23:51<2:47:43,  5.78s/it]"
     ]
    },
    {
     "name": "stdout",
     "output_type": "stream",
     "text": [
      "1 : Not Found\n",
      "2 : Not Found\n",
      "3 : Not Found\n",
      "4 : Not Found\n"
     ]
    },
    {
     "name": "stderr",
     "output_type": "stream",
     "text": [
      " 13%|█▎        | 261/2000 [23:56<2:40:33,  5.54s/it]"
     ]
    },
    {
     "name": "stdout",
     "output_type": "stream",
     "text": [
      "1 : Not Found\n",
      "2 : Not Found\n",
      "3 : Not Found\n",
      "4 : Not Found\n"
     ]
    },
    {
     "name": "stderr",
     "output_type": "stream",
     "text": [
      " 13%|█▎        | 262/2000 [24:00<2:30:46,  5.20s/it]"
     ]
    },
    {
     "name": "stdout",
     "output_type": "stream",
     "text": [
      "1 : Not Found\n",
      "2 : Not Found\n",
      "3 : Not Found\n",
      "4 : Not Found\n"
     ]
    },
    {
     "name": "stderr",
     "output_type": "stream",
     "text": [
      " 13%|█▎        | 263/2000 [24:05<2:27:47,  5.11s/it]"
     ]
    },
    {
     "name": "stdout",
     "output_type": "stream",
     "text": [
      "1 : Not Found\n",
      "2 : Not Found\n",
      "3 : Not Found\n",
      "4 : Not Found\n"
     ]
    },
    {
     "name": "stderr",
     "output_type": "stream",
     "text": [
      " 13%|█▎        | 264/2000 [24:10<2:24:35,  5.00s/it]"
     ]
    },
    {
     "name": "stdout",
     "output_type": "stream",
     "text": [
      "1 : Not Found\n",
      "2 : Not Found\n",
      "3 : Not Found\n",
      "4 : Not Found\n"
     ]
    },
    {
     "name": "stderr",
     "output_type": "stream",
     "text": [
      " 13%|█▎        | 265/2000 [24:15<2:26:10,  5.05s/it]"
     ]
    },
    {
     "name": "stdout",
     "output_type": "stream",
     "text": [
      "1 : Not Found\n",
      "2 : Not Found\n",
      "3 : Not Found\n",
      "4 : Not Found\n",
      "5 : Not Found\n",
      "8 : Not Found\n",
      "9 : Not Found\n",
      "10 : Not Found\n",
      "11 : Not Found\n",
      "12 : Not Found\n",
      "13 : Not Found\n",
      "14 : Not Found\n",
      "15 : Not Found\n"
     ]
    },
    {
     "name": "stderr",
     "output_type": "stream",
     "text": [
      " 13%|█▎        | 266/2000 [24:24<2:59:31,  6.21s/it]"
     ]
    },
    {
     "name": "stdout",
     "output_type": "stream",
     "text": [
      "1 : Not Found\n",
      "2 : Not Found\n",
      "3 : Not Found\n",
      "4 : Not Found\n",
      "7 : Not Found\n"
     ]
    },
    {
     "name": "stderr",
     "output_type": "stream",
     "text": [
      " 13%|█▎        | 267/2000 [24:29<2:48:50,  5.85s/it]"
     ]
    },
    {
     "name": "stdout",
     "output_type": "stream",
     "text": [
      "1 : Not Found\n",
      "2 : Not Found\n",
      "3 : Not Found\n",
      "4 : Not Found\n",
      "7 : Not Found\n",
      "15 : Not Found\n",
      "16 : Not Found\n"
     ]
    },
    {
     "name": "stderr",
     "output_type": "stream",
     "text": [
      " 13%|█▎        | 268/2000 [24:35<2:52:52,  5.99s/it]"
     ]
    },
    {
     "name": "stdout",
     "output_type": "stream",
     "text": [
      "1 : Not Found\n",
      "2 : Not Found\n",
      "3 : Not Found\n",
      "4 : Not Found\n",
      "5 : Not Found\n"
     ]
    },
    {
     "name": "stderr",
     "output_type": "stream",
     "text": [
      " 13%|█▎        | 269/2000 [24:41<2:45:47,  5.75s/it]"
     ]
    },
    {
     "name": "stdout",
     "output_type": "stream",
     "text": [
      "1 : Not Found\n",
      "2 : Not Found\n",
      "3 : Not Found\n"
     ]
    },
    {
     "name": "stderr",
     "output_type": "stream",
     "text": [
      " 14%|█▎        | 270/2000 [24:45<2:37:27,  5.46s/it]"
     ]
    },
    {
     "name": "stdout",
     "output_type": "stream",
     "text": [
      "1 : Not Found\n",
      "2 : Not Found\n",
      "3 : Not Found\n",
      "4 : Not Found\n"
     ]
    },
    {
     "name": "stderr",
     "output_type": "stream",
     "text": [
      " 14%|█▎        | 271/2000 [24:50<2:33:54,  5.34s/it]"
     ]
    },
    {
     "name": "stdout",
     "output_type": "stream",
     "text": [
      "1 : Not Found\n",
      "2 : Not Found\n",
      "3 : Not Found\n",
      "4 : Not Found\n"
     ]
    },
    {
     "name": "stderr",
     "output_type": "stream",
     "text": [
      " 14%|█▎        | 272/2000 [24:55<2:28:02,  5.14s/it]"
     ]
    },
    {
     "name": "stdout",
     "output_type": "stream",
     "text": [
      "1 : Not Found\n",
      "2 : Not Found\n",
      "3 : Not Found\n"
     ]
    },
    {
     "name": "stderr",
     "output_type": "stream",
     "text": [
      " 14%|█▎        | 273/2000 [25:00<2:22:39,  4.96s/it]"
     ]
    },
    {
     "name": "stdout",
     "output_type": "stream",
     "text": [
      "1 : Not Found\n",
      "2 : Not Found\n",
      "3 : Not Found\n",
      "4 : Not Found\n",
      "12 : Not Found\n",
      "14 : Not Found\n"
     ]
    },
    {
     "name": "stderr",
     "output_type": "stream",
     "text": [
      " 14%|█▎        | 274/2000 [25:05<2:28:32,  5.16s/it]"
     ]
    },
    {
     "name": "stdout",
     "output_type": "stream",
     "text": [
      "1 : Not Found\n",
      "2 : Not Found\n",
      "3 : Not Found\n",
      "4 : Not Found\n",
      "18 : Not Found\n"
     ]
    },
    {
     "name": "stderr",
     "output_type": "stream",
     "text": [
      " 14%|█▍        | 275/2000 [25:11<2:35:22,  5.40s/it]"
     ]
    },
    {
     "name": "stdout",
     "output_type": "stream",
     "text": [
      "20 : Not Found\n",
      "1 : Not Found\n",
      "2 : Not Found\n",
      "3 : Not Found\n",
      "4 : Not Found\n"
     ]
    },
    {
     "name": "stderr",
     "output_type": "stream",
     "text": [
      " 14%|█▍        | 276/2000 [25:16<2:28:36,  5.17s/it]"
     ]
    },
    {
     "name": "stdout",
     "output_type": "stream",
     "text": [
      "1 : Not Found\n",
      "2 : Not Found\n",
      "3 : Not Found\n",
      "4 : Not Found\n",
      "8 : Not Found\n",
      "9 : Not Found\n"
     ]
    },
    {
     "name": "stderr",
     "output_type": "stream",
     "text": [
      " 14%|█▍        | 277/2000 [25:22<2:33:44,  5.35s/it]"
     ]
    },
    {
     "name": "stdout",
     "output_type": "stream",
     "text": [
      "1 : Not Found\n",
      "2 : Not Found\n",
      "3 : Not Found\n",
      "17 : Not Found\n"
     ]
    },
    {
     "name": "stderr",
     "output_type": "stream",
     "text": [
      " 14%|█▍        | 278/2000 [25:27<2:33:07,  5.34s/it]"
     ]
    },
    {
     "name": "stdout",
     "output_type": "stream",
     "text": [
      "1 : Not Found\n",
      "2 : Not Found\n",
      "3 : Not Found\n",
      "4 : Not Found\n",
      "5 : Not Found\n",
      "8 : Not Found\n",
      "19 : Not Found\n"
     ]
    },
    {
     "name": "stderr",
     "output_type": "stream",
     "text": [
      " 14%|█▍        | 279/2000 [25:33<2:42:19,  5.66s/it]"
     ]
    },
    {
     "name": "stdout",
     "output_type": "stream",
     "text": [
      "1 : Not Found\n",
      "2 : Not Found\n",
      "3 : Not Found\n",
      "4 : Not Found\n",
      "8 : Not Found\n",
      "9 : Not Found\n",
      "12 : Not Found\n"
     ]
    },
    {
     "name": "stderr",
     "output_type": "stream",
     "text": [
      " 14%|█▍        | 280/2000 [25:39<2:45:41,  5.78s/it]"
     ]
    },
    {
     "name": "stdout",
     "output_type": "stream",
     "text": [
      "1 : Not Found\n",
      "2 : Not Found\n",
      "3 : Not Found\n",
      "4 : Not Found\n",
      "5 : Not Found\n",
      "10 : Not Found\n"
     ]
    },
    {
     "name": "stderr",
     "output_type": "stream",
     "text": [
      " 14%|█▍        | 281/2000 [25:45<2:45:44,  5.79s/it]"
     ]
    },
    {
     "name": "stdout",
     "output_type": "stream",
     "text": [
      "1 : Not Found\n",
      "2 : Not Found\n",
      "3 : Not Found\n",
      "4 : Not Found\n",
      "5 : Not Found\n",
      "9 : Not Found\n",
      "16 : Not Found\n"
     ]
    },
    {
     "name": "stderr",
     "output_type": "stream",
     "text": [
      " 14%|█▍        | 282/2000 [25:51<2:47:53,  5.86s/it]"
     ]
    },
    {
     "name": "stdout",
     "output_type": "stream",
     "text": [
      "1 : Not Found\n",
      "2 : Not Found\n",
      "3 : Not Found\n",
      "17 : Not Found\n"
     ]
    },
    {
     "name": "stderr",
     "output_type": "stream",
     "text": [
      " 14%|█▍        | 283/2000 [25:57<2:48:23,  5.88s/it]"
     ]
    },
    {
     "name": "stdout",
     "output_type": "stream",
     "text": [
      "20 : Not Found\n",
      "1 : Not Found\n",
      "2 : Not Found\n",
      "3 : Not Found\n",
      "4 : Not Found\n",
      "5 : Not Found\n",
      "6 : Not Found\n",
      "7 : Not Found\n",
      "8 : Not Found\n",
      "9 : Not Found\n",
      "10 : Not Found\n",
      "12 : Not Found\n",
      "14 : Not Found\n",
      "15 : Not Found\n",
      "16 : Not Found\n",
      "17 : Not Found\n",
      "18 : Not Found\n",
      "19 : Not Found\n"
     ]
    },
    {
     "name": "stderr",
     "output_type": "stream",
     "text": [
      " 14%|█▍        | 284/2000 [26:08<3:33:27,  7.46s/it]"
     ]
    },
    {
     "name": "stdout",
     "output_type": "stream",
     "text": [
      "20 : Not Found\n",
      "1 : Not Found\n",
      "2 : Not Found\n",
      "3 : Not Found\n",
      "4 : Not Found\n",
      "5 : Not Found\n",
      "6 : Not Found\n",
      "7 : Not Found\n",
      "10 : Not Found\n",
      "11 : Not Found\n",
      "12 : Not Found\n",
      "15 : Not Found\n"
     ]
    },
    {
     "name": "stderr",
     "output_type": "stream",
     "text": [
      " 14%|█▍        | 285/2000 [26:17<3:42:14,  7.78s/it]"
     ]
    },
    {
     "name": "stdout",
     "output_type": "stream",
     "text": [
      "20 : Not Found\n",
      "1 : Not Found\n",
      "2 : Not Found\n",
      "3 : Not Found\n",
      "4 : Not Found\n",
      "6 : Not Found\n",
      "7 : Not Found\n",
      "10 : Not Found\n",
      "11 : Not Found\n",
      "12 : Not Found\n"
     ]
    },
    {
     "name": "stderr",
     "output_type": "stream",
     "text": [
      " 14%|█▍        | 286/2000 [26:24<3:36:48,  7.59s/it]"
     ]
    },
    {
     "name": "stdout",
     "output_type": "stream",
     "text": [
      "1 : Not Found\n",
      "2 : Not Found\n",
      "3 : Not Found\n",
      "4 : Not Found\n",
      "16 : Not Found\n"
     ]
    },
    {
     "name": "stderr",
     "output_type": "stream",
     "text": [
      " 14%|█▍        | 287/2000 [26:30<3:19:34,  6.99s/it]"
     ]
    },
    {
     "name": "stdout",
     "output_type": "stream",
     "text": [
      "1 : Not Found\n",
      "2 : Not Found\n",
      "3 : Not Found\n"
     ]
    },
    {
     "name": "stderr",
     "output_type": "stream",
     "text": [
      " 14%|█▍        | 288/2000 [26:35<3:01:39,  6.37s/it]"
     ]
    },
    {
     "name": "stdout",
     "output_type": "stream",
     "text": [
      "1 : Not Found\n",
      "2 : Not Found\n",
      "3 : Not Found\n",
      "4 : Not Found\n",
      "7 : Not Found\n",
      "10 : Not Found\n",
      "11 : Not Found\n",
      "12 : Not Found\n"
     ]
    },
    {
     "name": "stderr",
     "output_type": "stream",
     "text": [
      " 14%|█▍        | 289/2000 [26:41<3:02:40,  6.41s/it]"
     ]
    },
    {
     "name": "stdout",
     "output_type": "stream",
     "text": [
      "1 : Not Found\n",
      "2 : Not Found\n",
      "3 : Not Found\n",
      "4 : Not Found\n",
      "14 : Not Found\n",
      "15 : Not Found\n",
      "16 : Not Found\n",
      "17 : Not Found\n"
     ]
    },
    {
     "name": "stderr",
     "output_type": "stream",
     "text": [
      " 14%|█▍        | 290/2000 [26:48<3:09:26,  6.65s/it]"
     ]
    },
    {
     "name": "stdout",
     "output_type": "stream",
     "text": [
      "20 : Not Found\n",
      "1 : Not Found\n",
      "2 : Not Found\n",
      "3 : Not Found\n",
      "4 : Not Found\n",
      "7 : Not Found\n",
      "12 : Not Found\n",
      "13 : Not Found\n"
     ]
    },
    {
     "name": "stderr",
     "output_type": "stream",
     "text": [
      " 15%|█▍        | 291/2000 [26:55<3:12:11,  6.75s/it]"
     ]
    },
    {
     "name": "stdout",
     "output_type": "stream",
     "text": [
      "20 : Not Found\n",
      "1 : Not Found\n",
      "2 : Not Found\n",
      "3 : Not Found\n",
      "4 : Not Found\n"
     ]
    },
    {
     "name": "stderr",
     "output_type": "stream",
     "text": [
      " 15%|█▍        | 292/2000 [27:00<2:57:53,  6.25s/it]"
     ]
    },
    {
     "name": "stdout",
     "output_type": "stream",
     "text": [
      "1 : Not Found\n",
      "2 : Not Found\n",
      "3 : Not Found\n",
      "4 : Not Found\n",
      "7 : Not Found\n",
      "8 : Not Found\n",
      "9 : Not Found\n",
      "10 : Not Found\n",
      "11 : Not Found\n",
      "12 : Not Found\n"
     ]
    },
    {
     "name": "stderr",
     "output_type": "stream",
     "text": [
      " 15%|█▍        | 293/2000 [27:08<3:07:04,  6.58s/it]"
     ]
    },
    {
     "name": "stdout",
     "output_type": "stream",
     "text": [
      "1 : Not Found\n",
      "2 : Not Found\n",
      "3 : Not Found\n",
      "4 : Not Found\n",
      "19 : Not Found\n"
     ]
    },
    {
     "name": "stderr",
     "output_type": "stream",
     "text": [
      " 15%|█▍        | 294/2000 [27:13<2:57:15,  6.23s/it]"
     ]
    },
    {
     "name": "stdout",
     "output_type": "stream",
     "text": [
      "1 : Not Found\n",
      "2 : Not Found\n",
      "3 : Not Found\n",
      "4 : Not Found\n"
     ]
    },
    {
     "name": "stderr",
     "output_type": "stream",
     "text": [
      " 15%|█▍        | 295/2000 [27:18<2:46:29,  5.86s/it]"
     ]
    },
    {
     "name": "stdout",
     "output_type": "stream",
     "text": [
      "1 : Not Found\n",
      "2 : Not Found\n",
      "3 : Not Found\n",
      "4 : Not Found\n"
     ]
    },
    {
     "name": "stderr",
     "output_type": "stream",
     "text": [
      " 15%|█▍        | 296/2000 [27:23<2:39:18,  5.61s/it]"
     ]
    },
    {
     "name": "stdout",
     "output_type": "stream",
     "text": [
      "1 : Not Found\n",
      "2 : Not Found\n",
      "3 : Not Found\n",
      "4 : Not Found\n"
     ]
    },
    {
     "name": "stderr",
     "output_type": "stream",
     "text": [
      " 15%|█▍        | 297/2000 [27:28<2:32:38,  5.38s/it]"
     ]
    },
    {
     "name": "stdout",
     "output_type": "stream",
     "text": [
      "1 : Not Found\n",
      "2 : Not Found\n",
      "3 : Not Found\n",
      "4 : Not Found\n",
      "7 : Not Found\n",
      "14 : Not Found\n",
      "15 : Not Found\n",
      "16 : Not Found\n",
      "19 : Not Found\n"
     ]
    },
    {
     "name": "stderr",
     "output_type": "stream",
     "text": [
      " 15%|█▍        | 298/2000 [27:35<2:51:02,  6.03s/it]"
     ]
    },
    {
     "name": "stdout",
     "output_type": "stream",
     "text": [
      "1 : Not Found\n",
      "2 : Not Found\n",
      "3 : Not Found\n",
      "4 : Not Found\n"
     ]
    },
    {
     "name": "stderr",
     "output_type": "stream",
     "text": [
      " 15%|█▍        | 299/2000 [27:40<2:41:20,  5.69s/it]"
     ]
    },
    {
     "name": "stdout",
     "output_type": "stream",
     "text": [
      "1 : Not Found\n",
      "2 : Not Found\n",
      "3 : Not Found\n",
      "4 : Not Found\n",
      "5 : Not Found\n",
      "7 : Not Found\n",
      "10 : Not Found\n",
      "11 : Not Found\n",
      "12 : Not Found\n",
      "13 : Not Found\n",
      "14 : Not Found\n"
     ]
    },
    {
     "name": "stderr",
     "output_type": "stream",
     "text": [
      " 15%|█▌        | 300/2000 [27:49<3:01:54,  6.42s/it]"
     ]
    },
    {
     "name": "stdout",
     "output_type": "stream",
     "text": [
      "1 : Not Found\n",
      "2 : Not Found\n",
      "3 : Not Found\n",
      "4 : Not Found\n"
     ]
    },
    {
     "name": "stderr",
     "output_type": "stream",
     "text": [
      " 15%|█▌        | 301/2000 [27:53<2:49:30,  5.99s/it]"
     ]
    },
    {
     "name": "stdout",
     "output_type": "stream",
     "text": [
      "1 : Not Found\n",
      "2 : Not Found\n",
      "3 : Not Found\n",
      "4 : Not Found\n",
      "5 : Not Found\n",
      "9 : Not Found\n",
      "10 : Not Found\n",
      "11 : Not Found\n",
      "12 : Not Found\n",
      "13 : Not Found\n",
      "14 : Not Found\n",
      "15 : Not Found\n",
      "16 : Not Found\n",
      "17 : Not Found\n",
      "18 : Not Found\n",
      "19 : Not Found\n"
     ]
    },
    {
     "name": "stderr",
     "output_type": "stream",
     "text": [
      " 15%|█▌        | 302/2000 [28:04<3:28:54,  7.38s/it]"
     ]
    },
    {
     "name": "stdout",
     "output_type": "stream",
     "text": [
      "20 : Not Found\n",
      "1 : Not Found\n",
      "2 : Not Found\n",
      "3 : Not Found\n",
      "4 : Not Found\n",
      "5 : Not Found\n",
      "7 : Not Found\n",
      "10 : Not Found\n",
      "15 : Not Found\n",
      "16 : Not Found\n"
     ]
    },
    {
     "name": "stderr",
     "output_type": "stream",
     "text": [
      " 15%|█▌        | 303/2000 [28:11<3:28:26,  7.37s/it]"
     ]
    },
    {
     "name": "stdout",
     "output_type": "stream",
     "text": [
      "1 : Not Found\n",
      "2 : Not Found\n",
      "3 : Not Found\n",
      "4 : Not Found\n",
      "5 : Not Found\n",
      "6 : Not Found\n",
      "7 : Not Found\n",
      "9 : Not Found\n",
      "10 : Not Found\n",
      "11 : Not Found\n",
      "12 : Not Found\n",
      "13 : Not Found\n",
      "14 : Not Found\n",
      "15 : Not Found\n",
      "17 : Not Found\n",
      "18 : Not Found\n"
     ]
    },
    {
     "name": "stderr",
     "output_type": "stream",
     "text": [
      " 15%|█▌        | 304/2000 [28:22<3:51:47,  8.20s/it]"
     ]
    },
    {
     "name": "stdout",
     "output_type": "stream",
     "text": [
      "1 : Not Found\n",
      "2 : Not Found\n",
      "3 : Not Found\n",
      "4 : Not Found\n",
      "5 : Not Found\n",
      "6 : Not Found\n",
      "7 : Not Found\n",
      "8 : Not Found\n",
      "9 : Not Found\n",
      "10 : Not Found\n",
      "11 : Not Found\n",
      "12 : Not Found\n",
      "14 : Not Found\n",
      "15 : Not Found\n"
     ]
    },
    {
     "name": "stderr",
     "output_type": "stream",
     "text": [
      " 15%|█▌        | 305/2000 [28:31<4:03:49,  8.63s/it]"
     ]
    },
    {
     "name": "stdout",
     "output_type": "stream",
     "text": [
      "1 : Not Found\n",
      "2 : Not Found\n",
      "3 : Not Found\n",
      "4 : Not Found\n"
     ]
    },
    {
     "name": "stderr",
     "output_type": "stream",
     "text": [
      " 15%|█▌        | 306/2000 [28:36<3:33:19,  7.56s/it]"
     ]
    },
    {
     "name": "stdout",
     "output_type": "stream",
     "text": [
      "1 : Not Found\n",
      "2 : Not Found\n",
      "3 : Not Found\n",
      "4 : Not Found\n",
      "5 : Not Found\n",
      "6 : Not Found\n",
      "7 : Not Found\n",
      "8 : Not Found\n",
      "9 : Not Found\n",
      "10 : Not Found\n",
      "11 : Not Found\n",
      "12 : Not Found\n",
      "13 : Not Found\n",
      "14 : Not Found\n",
      "15 : Not Found\n",
      "17 : Not Found\n",
      "18 : Not Found\n",
      "19 : Not Found\n"
     ]
    },
    {
     "name": "stderr",
     "output_type": "stream",
     "text": [
      " 15%|█▌        | 307/2000 [28:48<4:04:39,  8.67s/it]"
     ]
    },
    {
     "name": "stdout",
     "output_type": "stream",
     "text": [
      "20 : Not Found\n",
      "1 : Not Found\n",
      "2 : Not Found\n",
      "3 : Not Found\n",
      "4 : Not Found\n",
      "6 : Not Found\n",
      "9 : Not Found\n",
      "11 : Not Found\n",
      "12 : Not Found\n",
      "13 : Not Found\n",
      "14 : Not Found\n",
      "17 : Not Found\n",
      "18 : Not Found\n",
      "19 : Not Found\n"
     ]
    },
    {
     "name": "stderr",
     "output_type": "stream",
     "text": [
      " 15%|█▌        | 308/2000 [28:57<4:10:36,  8.89s/it]"
     ]
    },
    {
     "name": "stdout",
     "output_type": "stream",
     "text": [
      "20 : Not Found\n",
      "1 : Not Found\n",
      "2 : Not Found\n",
      "3 : Not Found\n",
      "4 : Not Found\n",
      "7 : Not Found\n"
     ]
    },
    {
     "name": "stderr",
     "output_type": "stream",
     "text": [
      " 15%|█▌        | 309/2000 [29:03<3:43:25,  7.93s/it]"
     ]
    },
    {
     "name": "stdout",
     "output_type": "stream",
     "text": [
      "1 : Not Found\n",
      "2 : Not Found\n",
      "3 : Not Found\n",
      "4 : Not Found\n",
      "5 : Not Found\n",
      "16 : Not Found\n",
      "17 : Not Found\n",
      "18 : Not Found\n",
      "19 : Not Found\n"
     ]
    },
    {
     "name": "stderr",
     "output_type": "stream",
     "text": [
      " 16%|█▌        | 310/2000 [29:10<3:40:23,  7.82s/it]"
     ]
    },
    {
     "name": "stdout",
     "output_type": "stream",
     "text": [
      "20 : Not Found\n",
      "1 : Not Found\n",
      "2 : Not Found\n",
      "3 : Not Found\n",
      "4 : Not Found\n",
      "7 : Not Found\n",
      "10 : Not Found\n",
      "11 : Not Found\n",
      "12 : Not Found\n",
      "15 : Not Found\n",
      "16 : Not Found\n",
      "17 : Not Found\n",
      "19 : Not Found\n"
     ]
    },
    {
     "name": "stderr",
     "output_type": "stream",
     "text": [
      " 16%|█▌        | 311/2000 [29:20<3:54:42,  8.34s/it]"
     ]
    },
    {
     "name": "stdout",
     "output_type": "stream",
     "text": [
      "20 : Not Found\n",
      "1 : Not Found\n",
      "2 : Not Found\n",
      "3 : Not Found\n",
      "4 : Not Found\n",
      "16 : Not Found\n",
      "17 : Not Found\n",
      "18 : Not Found\n"
     ]
    },
    {
     "name": "stderr",
     "output_type": "stream",
     "text": [
      " 16%|█▌        | 312/2000 [29:26<3:39:58,  7.82s/it]"
     ]
    },
    {
     "name": "stdout",
     "output_type": "stream",
     "text": [
      "1 : Not Found\n",
      "2 : Not Found\n",
      "3 : Not Found\n",
      "4 : Not Found\n",
      "5 : Not Found\n",
      "6 : Not Found\n",
      "7 : Not Found\n",
      "8 : Not Found\n",
      "9 : Not Found\n",
      "10 : Not Found\n",
      "11 : Not Found\n",
      "12 : Not Found\n",
      "13 : Not Found\n",
      "14 : Not Found\n",
      "15 : Not Found\n",
      "16 : Not Found\n",
      "17 : Not Found\n",
      "18 : Not Found\n",
      "19 : Not Found\n"
     ]
    },
    {
     "name": "stderr",
     "output_type": "stream",
     "text": [
      " 16%|█▌        | 313/2000 [29:38<4:09:57,  8.89s/it]"
     ]
    },
    {
     "name": "stdout",
     "output_type": "stream",
     "text": [
      "20 : Not Found\n",
      "1 : Not Found\n",
      "2 : Not Found\n",
      "3 : Not Found\n",
      "4 : Not Found\n",
      "17 : Not Found\n",
      "18 : Not Found\n"
     ]
    },
    {
     "name": "stderr",
     "output_type": "stream",
     "text": [
      " 16%|█▌        | 314/2000 [29:44<3:49:55,  8.18s/it]"
     ]
    },
    {
     "name": "stdout",
     "output_type": "stream",
     "text": [
      "19 : Not Found\n",
      "1 : Not Found\n",
      "2 : Not Found\n",
      "3 : Not Found\n",
      "4 : Not Found\n"
     ]
    },
    {
     "name": "stderr",
     "output_type": "stream",
     "text": [
      " 16%|█▌        | 315/2000 [29:49<3:22:02,  7.19s/it]"
     ]
    },
    {
     "name": "stdout",
     "output_type": "stream",
     "text": [
      "1 : Not Found\n",
      "2 : Not Found\n",
      "3 : Not Found\n",
      "4 : Not Found\n"
     ]
    },
    {
     "name": "stderr",
     "output_type": "stream",
     "text": [
      " 16%|█▌        | 316/2000 [29:55<3:07:30,  6.68s/it]"
     ]
    },
    {
     "name": "stdout",
     "output_type": "stream",
     "text": [
      "20 : Not Found\n",
      "1 : Not Found\n",
      "2 : Not Found\n",
      "3 : Not Found\n",
      "4 : Not Found\n",
      "11 : Not Found\n",
      "14 : Not Found\n",
      "15 : Not Found\n",
      "16 : Not Found\n",
      "17 : Not Found\n",
      "19 : Not Found\n"
     ]
    },
    {
     "name": "stderr",
     "output_type": "stream",
     "text": [
      " 16%|█▌        | 317/2000 [30:03<3:23:39,  7.26s/it]"
     ]
    },
    {
     "name": "stdout",
     "output_type": "stream",
     "text": [
      "20 : Not Found\n",
      "1 : Not Found\n",
      "2 : Not Found\n",
      "3 : Not Found\n",
      "4 : Not Found\n"
     ]
    },
    {
     "name": "stderr",
     "output_type": "stream",
     "text": [
      " 16%|█▌        | 318/2000 [30:08<3:05:47,  6.63s/it]"
     ]
    },
    {
     "name": "stdout",
     "output_type": "stream",
     "text": [
      "1 : Not Found\n",
      "2 : Not Found\n",
      "3 : Not Found\n",
      "4 : Not Found\n"
     ]
    },
    {
     "name": "stderr",
     "output_type": "stream",
     "text": [
      " 16%|█▌        | 319/2000 [30:13<2:51:41,  6.13s/it]"
     ]
    },
    {
     "name": "stdout",
     "output_type": "stream",
     "text": [
      "1 : Not Found\n",
      "2 : Not Found\n",
      "3 : Not Found\n",
      "4 : Not Found\n"
     ]
    },
    {
     "name": "stderr",
     "output_type": "stream",
     "text": [
      " 16%|█▌        | 320/2000 [30:18<2:41:09,  5.76s/it]"
     ]
    },
    {
     "name": "stdout",
     "output_type": "stream",
     "text": [
      "1 : Not Found\n",
      "2 : Not Found\n",
      "3 : Not Found\n",
      "4 : Not Found\n",
      "6 : Not Found\n",
      "10 : Not Found\n",
      "16 : Not Found\n",
      "17 : Not Found\n"
     ]
    },
    {
     "name": "stderr",
     "output_type": "stream",
     "text": [
      " 16%|█▌        | 321/2000 [30:25<2:51:16,  6.12s/it]"
     ]
    },
    {
     "name": "stdout",
     "output_type": "stream",
     "text": [
      "20 : Not Found\n",
      "1 : Not Found\n",
      "2 : Not Found\n",
      "3 : Not Found\n",
      "4 : Not Found\n",
      "7 : Not Found\n",
      "9 : Not Found\n",
      "16 : Not Found\n",
      "17 : Not Found\n"
     ]
    },
    {
     "name": "stderr",
     "output_type": "stream",
     "text": [
      " 16%|█▌        | 322/2000 [30:33<3:01:01,  6.47s/it]"
     ]
    },
    {
     "name": "stdout",
     "output_type": "stream",
     "text": [
      "20 : Not Found\n",
      "1 : Not Found\n",
      "2 : Not Found\n",
      "3 : Not Found\n",
      "4 : Not Found\n",
      "10 : Not Found\n"
     ]
    },
    {
     "name": "stderr",
     "output_type": "stream",
     "text": [
      " 16%|█▌        | 323/2000 [30:38<2:51:23,  6.13s/it]"
     ]
    },
    {
     "name": "stdout",
     "output_type": "stream",
     "text": [
      "1 : Not Found\n",
      "2 : Not Found\n",
      "3 : Not Found\n",
      "4 : Not Found\n",
      "6 : Not Found\n",
      "7 : Not Found\n",
      "10 : Not Found\n"
     ]
    },
    {
     "name": "stderr",
     "output_type": "stream",
     "text": [
      " 16%|█▌        | 324/2000 [30:45<2:56:25,  6.32s/it]"
     ]
    },
    {
     "name": "stdout",
     "output_type": "stream",
     "text": [
      "20 : Not Found\n",
      "1 : Not Found\n",
      "2 : Not Found\n",
      "3 : Not Found\n",
      "4 : Not Found\n",
      "9 : Not Found\n",
      "12 : Not Found\n",
      "14 : Not Found\n"
     ]
    },
    {
     "name": "stderr",
     "output_type": "stream",
     "text": [
      " 16%|█▋        | 325/2000 [30:51<2:55:47,  6.30s/it]"
     ]
    },
    {
     "name": "stdout",
     "output_type": "stream",
     "text": [
      "1 : Not Found\n",
      "2 : Not Found\n",
      "3 : Not Found\n",
      "4 : Not Found\n"
     ]
    },
    {
     "name": "stderr",
     "output_type": "stream",
     "text": [
      " 16%|█▋        | 326/2000 [30:56<2:43:45,  5.87s/it]"
     ]
    },
    {
     "name": "stdout",
     "output_type": "stream",
     "text": [
      "1 : Not Found\n",
      "2 : Not Found\n",
      "3 : Not Found\n"
     ]
    },
    {
     "name": "stderr",
     "output_type": "stream",
     "text": [
      " 16%|█▋        | 327/2000 [31:00<2:33:51,  5.52s/it]"
     ]
    },
    {
     "name": "stdout",
     "output_type": "stream",
     "text": [
      "1 : Not Found\n",
      "2 : Not Found\n",
      "3 : Not Found\n"
     ]
    },
    {
     "name": "stderr",
     "output_type": "stream",
     "text": [
      " 16%|█▋        | 328/2000 [31:06<2:30:42,  5.41s/it]"
     ]
    },
    {
     "name": "stdout",
     "output_type": "stream",
     "text": [
      "20 : Not Found\n",
      "1 : Not Found\n",
      "2 : Not Found\n",
      "3 : Not Found\n",
      "4 : Not Found\n",
      "6 : Not Found\n",
      "19 : Not Found\n"
     ]
    },
    {
     "name": "stderr",
     "output_type": "stream",
     "text": [
      " 16%|█▋        | 329/2000 [31:12<2:35:53,  5.60s/it]"
     ]
    },
    {
     "name": "stdout",
     "output_type": "stream",
     "text": [
      "20 : Not Found\n",
      "1 : Not Found\n",
      "2 : Not Found\n",
      "3 : Not Found\n",
      "4 : Not Found\n",
      "7 : Not Found\n",
      "9 : Not Found\n",
      "10 : Not Found\n",
      "11 : Not Found\n",
      "12 : Not Found\n",
      "14 : Not Found\n",
      "16 : Not Found\n",
      "17 : Not Found\n"
     ]
    },
    {
     "name": "stderr",
     "output_type": "stream",
     "text": [
      " 16%|█▋        | 330/2000 [31:21<3:03:24,  6.59s/it]"
     ]
    },
    {
     "name": "stdout",
     "output_type": "stream",
     "text": [
      "1 : Not Found\n",
      "2 : Not Found\n",
      "3 : Not Found\n",
      "4 : Not Found\n"
     ]
    },
    {
     "name": "stderr",
     "output_type": "stream",
     "text": [
      " 17%|█▋        | 331/2000 [31:26<2:51:28,  6.16s/it]"
     ]
    },
    {
     "name": "stdout",
     "output_type": "stream",
     "text": [
      "1 : Not Found\n",
      "2 : Not Found\n",
      "3 : Not Found\n",
      "4 : Not Found\n"
     ]
    },
    {
     "name": "stderr",
     "output_type": "stream",
     "text": [
      " 17%|█▋        | 332/2000 [31:31<2:43:02,  5.86s/it]"
     ]
    },
    {
     "name": "stdout",
     "output_type": "stream",
     "text": [
      "1 : Not Found\n",
      "2 : Not Found\n",
      "3 : Not Found\n"
     ]
    },
    {
     "name": "stderr",
     "output_type": "stream",
     "text": [
      " 17%|█▋        | 333/2000 [31:36<2:34:26,  5.56s/it]"
     ]
    },
    {
     "name": "stdout",
     "output_type": "stream",
     "text": [
      "1 : Not Found\n",
      "2 : Not Found\n",
      "3 : Not Found\n",
      "4 : Not Found\n",
      "5 : Not Found\n",
      "6 : Not Found\n",
      "7 : Not Found\n",
      "8 : Not Found\n",
      "9 : Not Found\n",
      "11 : Not Found\n",
      "12 : Not Found\n",
      "14 : Not Found\n",
      "15 : Not Found\n",
      "16 : Not Found\n",
      "17 : Not Found\n",
      "18 : Not Found\n"
     ]
    },
    {
     "name": "stderr",
     "output_type": "stream",
     "text": [
      " 17%|█▋        | 334/2000 [31:47<3:18:02,  7.13s/it]"
     ]
    },
    {
     "name": "stdout",
     "output_type": "stream",
     "text": [
      "19 : Not Found\n",
      "1 : Not Found\n",
      "2 : Not Found\n",
      "3 : Not Found\n",
      "4 : Not Found\n",
      "10 : Not Found\n",
      "11 : Not Found\n"
     ]
    },
    {
     "name": "stderr",
     "output_type": "stream",
     "text": [
      " 17%|█▋        | 335/2000 [31:52<3:07:00,  6.74s/it]"
     ]
    },
    {
     "name": "stdout",
     "output_type": "stream",
     "text": [
      "1 : Not Found\n",
      "2 : Not Found\n",
      "3 : Not Found\n",
      "4 : Not Found\n",
      "18 : Not Found\n"
     ]
    },
    {
     "name": "stderr",
     "output_type": "stream",
     "text": [
      " 17%|█▋        | 336/2000 [31:59<3:02:49,  6.59s/it]"
     ]
    },
    {
     "name": "stdout",
     "output_type": "stream",
     "text": [
      "20 : Not Found\n",
      "1 : Not Found\n",
      "2 : Not Found\n",
      "3 : Not Found\n",
      "4 : Not Found\n",
      "13 : Not Found\n"
     ]
    },
    {
     "name": "stderr",
     "output_type": "stream",
     "text": [
      " 17%|█▋        | 337/2000 [32:04<2:54:10,  6.28s/it]"
     ]
    },
    {
     "name": "stdout",
     "output_type": "stream",
     "text": [
      "1 : Not Found\n",
      "2 : Not Found\n",
      "3 : Not Found\n",
      "4 : Not Found\n"
     ]
    },
    {
     "name": "stderr",
     "output_type": "stream",
     "text": [
      " 17%|█▋        | 338/2000 [32:09<2:44:30,  5.94s/it]"
     ]
    },
    {
     "name": "stdout",
     "output_type": "stream",
     "text": [
      "1 : Not Found\n",
      "2 : Not Found\n",
      "3 : Not Found\n",
      "4 : Not Found\n",
      "8 : Not Found\n",
      "11 : Not Found\n"
     ]
    },
    {
     "name": "stderr",
     "output_type": "stream",
     "text": [
      " 17%|█▋        | 339/2000 [32:15<2:45:44,  5.99s/it]"
     ]
    },
    {
     "name": "stdout",
     "output_type": "stream",
     "text": [
      "1 : Not Found\n",
      "2 : Not Found\n",
      "3 : Not Found\n",
      "4 : Not Found\n",
      "13 : Not Found\n",
      "14 : Not Found\n"
     ]
    },
    {
     "name": "stderr",
     "output_type": "stream",
     "text": [
      " 17%|█▋        | 340/2000 [32:21<2:44:28,  5.95s/it]"
     ]
    },
    {
     "name": "stdout",
     "output_type": "stream",
     "text": [
      "1 : Not Found\n",
      "2 : Not Found\n",
      "3 : Not Found\n",
      "4 : Not Found\n"
     ]
    },
    {
     "name": "stderr",
     "output_type": "stream",
     "text": [
      " 17%|█▋        | 341/2000 [32:26<2:36:50,  5.67s/it]"
     ]
    },
    {
     "name": "stdout",
     "output_type": "stream",
     "text": [
      "1 : Not Found\n",
      "2 : Not Found\n",
      "3 : Not Found\n",
      "4 : Not Found\n",
      "11 : Not Found\n"
     ]
    },
    {
     "name": "stderr",
     "output_type": "stream",
     "text": [
      " 17%|█▋        | 342/2000 [32:32<2:33:09,  5.54s/it]"
     ]
    },
    {
     "name": "stdout",
     "output_type": "stream",
     "text": [
      "1 : Not Found\n",
      "2 : Not Found\n",
      "3 : Not Found\n",
      "4 : Not Found\n"
     ]
    },
    {
     "name": "stderr",
     "output_type": "stream",
     "text": [
      " 17%|█▋        | 343/2000 [32:37<2:30:09,  5.44s/it]"
     ]
    },
    {
     "name": "stdout",
     "output_type": "stream",
     "text": [
      "1 : Not Found\n",
      "2 : Not Found\n",
      "3 : Not Found\n",
      "4 : Not Found\n"
     ]
    },
    {
     "name": "stderr",
     "output_type": "stream",
     "text": [
      " 17%|█▋        | 344/2000 [32:42<2:28:01,  5.36s/it]"
     ]
    },
    {
     "name": "stdout",
     "output_type": "stream",
     "text": [
      "1 : Not Found\n",
      "2 : Not Found\n",
      "3 : Not Found\n",
      "4 : Not Found\n",
      "7 : Not Found\n",
      "11 : Not Found\n",
      "16 : Not Found\n",
      "18 : Not Found\n"
     ]
    },
    {
     "name": "stderr",
     "output_type": "stream",
     "text": [
      " 17%|█▋        | 345/2000 [32:49<2:40:53,  5.83s/it]"
     ]
    },
    {
     "name": "stdout",
     "output_type": "stream",
     "text": [
      "1 : Not Found\n",
      "2 : Not Found\n",
      "3 : Not Found\n",
      "4 : Not Found\n",
      "14 : Not Found\n",
      "15 : Not Found\n",
      "16 : Not Found\n",
      "18 : Not Found\n",
      "19 : Not Found\n"
     ]
    },
    {
     "name": "stderr",
     "output_type": "stream",
     "text": [
      " 17%|█▋        | 346/2000 [32:56<2:55:15,  6.36s/it]"
     ]
    },
    {
     "name": "stdout",
     "output_type": "stream",
     "text": [
      "20 : Not Found\n",
      "1 : Not Found\n",
      "2 : Not Found\n",
      "3 : Not Found\n",
      "4 : Not Found\n",
      "10 : Not Found\n",
      "12 : Not Found\n"
     ]
    },
    {
     "name": "stderr",
     "output_type": "stream",
     "text": [
      " 17%|█▋        | 347/2000 [33:02<2:49:24,  6.15s/it]"
     ]
    },
    {
     "name": "stdout",
     "output_type": "stream",
     "text": [
      "1 : Not Found\n",
      "2 : Not Found\n",
      "3 : Not Found\n",
      "4 : Not Found\n",
      "8 : Not Found\n",
      "14 : Not Found\n"
     ]
    },
    {
     "name": "stderr",
     "output_type": "stream",
     "text": [
      " 17%|█▋        | 348/2000 [33:08<2:47:19,  6.08s/it]"
     ]
    },
    {
     "name": "stdout",
     "output_type": "stream",
     "text": [
      "1 : Not Found\n",
      "2 : Not Found\n",
      "3 : Not Found\n",
      "4 : Not Found\n",
      "5 : Not Found\n",
      "6 : Not Found\n",
      "7 : Not Found\n",
      "8 : Not Found\n",
      "13 : Not Found\n",
      "14 : Not Found\n"
     ]
    },
    {
     "name": "stderr",
     "output_type": "stream",
     "text": [
      " 17%|█▋        | 349/2000 [33:16<3:00:03,  6.54s/it]"
     ]
    },
    {
     "name": "stdout",
     "output_type": "stream",
     "text": [
      "1 : Not Found\n",
      "2 : Not Found\n",
      "3 : Not Found\n",
      "4 : Not Found\n",
      "9 : Not Found\n",
      "10 : Not Found\n",
      "11 : Not Found\n",
      "12 : Not Found\n",
      "15 : Not Found\n",
      "17 : Not Found\n"
     ]
    },
    {
     "name": "stderr",
     "output_type": "stream",
     "text": [
      " 18%|█▊        | 350/2000 [33:23<3:10:50,  6.94s/it]"
     ]
    },
    {
     "name": "stdout",
     "output_type": "stream",
     "text": [
      "1 : Not Found\n",
      "2 : Not Found\n",
      "3 : Not Found\n",
      "4 : Not Found\n"
     ]
    },
    {
     "name": "stderr",
     "output_type": "stream",
     "text": [
      " 18%|█▊        | 351/2000 [33:29<2:56:11,  6.41s/it]"
     ]
    },
    {
     "name": "stdout",
     "output_type": "stream",
     "text": [
      "1 : Not Found\n",
      "2 : Not Found\n",
      "3 : Not Found\n",
      "4 : Not Found\n",
      "11 : Not Found\n",
      "18 : Not Found\n"
     ]
    },
    {
     "name": "stderr",
     "output_type": "stream",
     "text": [
      " 18%|█▊        | 352/2000 [33:35<2:52:00,  6.26s/it]"
     ]
    },
    {
     "name": "stdout",
     "output_type": "stream",
     "text": [
      "1 : Not Found\n",
      "2 : Not Found\n",
      "3 : Not Found\n",
      "4 : Not Found\n",
      "13 : Not Found\n",
      "15 : Not Found\n",
      "19 : Not Found\n"
     ]
    },
    {
     "name": "stderr",
     "output_type": "stream",
     "text": [
      " 18%|█▊        | 353/2000 [33:42<2:58:07,  6.49s/it]"
     ]
    },
    {
     "name": "stdout",
     "output_type": "stream",
     "text": [
      "20 : Not Found\n",
      "1 : Not Found\n",
      "2 : Not Found\n",
      "3 : Not Found\n",
      "4 : Not Found\n"
     ]
    },
    {
     "name": "stderr",
     "output_type": "stream",
     "text": [
      " 18%|█▊        | 354/2000 [33:47<2:46:23,  6.07s/it]"
     ]
    },
    {
     "name": "stdout",
     "output_type": "stream",
     "text": [
      "1 : Not Found\n",
      "2 : Not Found\n",
      "3 : Not Found\n",
      "4 : Not Found\n",
      "5 : Not Found\n",
      "10 : Not Found\n",
      "19 : Not Found\n"
     ]
    },
    {
     "name": "stderr",
     "output_type": "stream",
     "text": [
      " 18%|█▊        | 355/2000 [33:53<2:50:39,  6.22s/it]"
     ]
    },
    {
     "name": "stdout",
     "output_type": "stream",
     "text": [
      "20 : Not Found\n",
      "1 : Not Found\n",
      "2 : Not Found\n",
      "3 : Not Found\n",
      "4 : Not Found\n"
     ]
    },
    {
     "name": "stderr",
     "output_type": "stream",
     "text": [
      " 18%|█▊        | 356/2000 [33:58<2:40:58,  5.88s/it]"
     ]
    },
    {
     "name": "stdout",
     "output_type": "stream",
     "text": [
      "1 : Not Found\n",
      "2 : Not Found\n",
      "3 : Not Found\n",
      "4 : Not Found\n",
      "5 : Not Found\n",
      "12 : Not Found\n",
      "14 : Not Found\n",
      "19 : Not Found\n"
     ]
    },
    {
     "name": "stderr",
     "output_type": "stream",
     "text": [
      " 18%|█▊        | 357/2000 [34:05<2:48:27,  6.15s/it]"
     ]
    },
    {
     "name": "stdout",
     "output_type": "stream",
     "text": [
      "1 : Not Found\n",
      "2 : Not Found\n",
      "3 : Not Found\n",
      "11 : Not Found\n",
      "12 : Not Found\n",
      "19 : Not Found\n"
     ]
    },
    {
     "name": "stderr",
     "output_type": "stream",
     "text": [
      " 18%|█▊        | 358/2000 [34:11<2:50:06,  6.22s/it]"
     ]
    },
    {
     "name": "stdout",
     "output_type": "stream",
     "text": [
      "1 : Not Found\n",
      "2 : Not Found\n",
      "3 : Not Found\n",
      "4 : Not Found\n",
      "10 : Not Found\n",
      "11 : Not Found\n"
     ]
    },
    {
     "name": "stderr",
     "output_type": "stream",
     "text": [
      " 18%|█▊        | 359/2000 [34:18<2:48:34,  6.16s/it]"
     ]
    },
    {
     "name": "stdout",
     "output_type": "stream",
     "text": [
      "1 : Not Found\n",
      "2 : Not Found\n",
      "3 : Not Found\n",
      "4 : Not Found\n"
     ]
    },
    {
     "name": "stderr",
     "output_type": "stream",
     "text": [
      " 18%|█▊        | 360/2000 [34:23<2:40:29,  5.87s/it]"
     ]
    },
    {
     "name": "stdout",
     "output_type": "stream",
     "text": [
      "1 : Not Found\n",
      "2 : Not Found\n",
      "3 : Not Found\n",
      "4 : Not Found\n",
      "5 : Not Found\n"
     ]
    },
    {
     "name": "stderr",
     "output_type": "stream",
     "text": [
      " 18%|█▊        | 361/2000 [34:28<2:35:53,  5.71s/it]"
     ]
    },
    {
     "name": "stdout",
     "output_type": "stream",
     "text": [
      "1 : Not Found\n",
      "2 : Not Found\n",
      "3 : Not Found\n",
      "4 : Not Found\n"
     ]
    },
    {
     "name": "stderr",
     "output_type": "stream",
     "text": [
      " 18%|█▊        | 362/2000 [34:33<2:30:54,  5.53s/it]"
     ]
    },
    {
     "name": "stdout",
     "output_type": "stream",
     "text": [
      "1 : Not Found\n",
      "2 : Not Found\n",
      "3 : Not Found\n",
      "4 : Not Found\n",
      "5 : Not Found\n",
      "10 : Not Found\n",
      "11 : Not Found\n",
      "15 : Not Found\n",
      "16 : Not Found\n"
     ]
    },
    {
     "name": "stderr",
     "output_type": "stream",
     "text": [
      " 18%|█▊        | 363/2000 [34:41<2:46:07,  6.09s/it]"
     ]
    },
    {
     "name": "stdout",
     "output_type": "stream",
     "text": [
      "1 : Not Found\n",
      "2 : Not Found\n",
      "3 : Not Found\n",
      "4 : Not Found\n",
      "5 : Not Found\n",
      "6 : Not Found\n",
      "13 : Not Found\n",
      "14 : Not Found\n",
      "15 : Not Found\n"
     ]
    },
    {
     "name": "stderr",
     "output_type": "stream",
     "text": [
      " 18%|█▊        | 364/2000 [34:48<2:57:24,  6.51s/it]"
     ]
    },
    {
     "name": "stdout",
     "output_type": "stream",
     "text": [
      "1 : Not Found\n",
      "2 : Not Found\n",
      "3 : Not Found\n",
      "4 : Not Found\n",
      "12 : Not Found\n"
     ]
    },
    {
     "name": "stderr",
     "output_type": "stream",
     "text": [
      " 18%|█▊        | 365/2000 [34:53<2:47:57,  6.16s/it]"
     ]
    },
    {
     "name": "stdout",
     "output_type": "stream",
     "text": [
      "1 : Not Found\n",
      "2 : Not Found\n",
      "3 : Not Found\n",
      "4 : Not Found\n",
      "9 : Not Found\n",
      "10 : Not Found\n",
      "11 : Not Found\n",
      "13 : Not Found\n",
      "14 : Not Found\n",
      "15 : Not Found\n",
      "16 : Not Found\n"
     ]
    },
    {
     "name": "stderr",
     "output_type": "stream",
     "text": [
      " 18%|█▊        | 366/2000 [35:02<3:06:49,  6.86s/it]"
     ]
    },
    {
     "name": "stdout",
     "output_type": "stream",
     "text": [
      "20 : Not Found\n",
      "1 : Not Found\n",
      "2 : Not Found\n",
      "3 : Not Found\n",
      "4 : Not Found\n",
      "9 : Not Found\n",
      "14 : Not Found\n",
      "18 : Not Found\n"
     ]
    },
    {
     "name": "stderr",
     "output_type": "stream",
     "text": [
      " 18%|█▊        | 367/2000 [35:09<3:06:08,  6.84s/it]"
     ]
    },
    {
     "name": "stdout",
     "output_type": "stream",
     "text": [
      "19 : Not Found\n",
      "1 : Not Found\n",
      "2 : Not Found\n",
      "3 : Not Found\n",
      "4 : Not Found\n",
      "5 : Not Found\n",
      "6 : Not Found\n",
      "9 : Not Found\n",
      "10 : Not Found\n",
      "13 : Not Found\n",
      "14 : Not Found\n",
      "15 : Not Found\n",
      "16 : Not Found\n",
      "17 : Not Found\n",
      "19 : Not Found\n"
     ]
    },
    {
     "name": "stderr",
     "output_type": "stream",
     "text": [
      " 18%|█▊        | 368/2000 [35:18<3:27:44,  7.64s/it]"
     ]
    },
    {
     "name": "stdout",
     "output_type": "stream",
     "text": [
      "1 : Not Found\n",
      "2 : Not Found\n",
      "3 : Not Found\n",
      "4 : Not Found\n"
     ]
    },
    {
     "name": "stderr",
     "output_type": "stream",
     "text": [
      " 18%|█▊        | 369/2000 [35:23<3:03:52,  6.76s/it]"
     ]
    },
    {
     "name": "stdout",
     "output_type": "stream",
     "text": [
      "1 : Not Found\n",
      "2 : Not Found\n",
      "3 : Not Found\n"
     ]
    },
    {
     "name": "stderr",
     "output_type": "stream",
     "text": [
      " 18%|█▊        | 370/2000 [35:28<2:48:24,  6.20s/it]"
     ]
    },
    {
     "name": "stdout",
     "output_type": "stream",
     "text": [
      "1 : Not Found\n",
      "2 : Not Found\n",
      "3 : Not Found\n",
      "4 : Not Found\n",
      "5 : Not Found\n",
      "6 : Not Found\n",
      "9 : Not Found\n",
      "11 : Not Found\n",
      "19 : Not Found\n"
     ]
    },
    {
     "name": "stderr",
     "output_type": "stream",
     "text": [
      " 19%|█▊        | 371/2000 [35:35<2:59:45,  6.62s/it]"
     ]
    },
    {
     "name": "stdout",
     "output_type": "stream",
     "text": [
      "1 : Not Found\n",
      "2 : Not Found\n",
      "3 : Not Found\n",
      "6 : Not Found\n",
      "8 : Not Found\n",
      "13 : Not Found\n",
      "17 : Not Found\n"
     ]
    },
    {
     "name": "stderr",
     "output_type": "stream",
     "text": [
      " 19%|█▊        | 372/2000 [35:42<2:59:30,  6.62s/it]"
     ]
    },
    {
     "name": "stdout",
     "output_type": "stream",
     "text": [
      "1 : Not Found\n",
      "2 : Not Found\n",
      "3 : Not Found\n",
      "4 : Not Found\n",
      "6 : Not Found\n",
      "7 : Not Found\n",
      "9 : Not Found\n",
      "13 : Not Found\n",
      "17 : Not Found\n"
     ]
    },
    {
     "name": "stderr",
     "output_type": "stream",
     "text": [
      " 19%|█▊        | 373/2000 [35:49<3:05:04,  6.83s/it]"
     ]
    },
    {
     "name": "stdout",
     "output_type": "stream",
     "text": [
      "1 : Not Found\n",
      "2 : Not Found\n",
      "3 : Not Found\n",
      "4 : Not Found\n"
     ]
    },
    {
     "name": "stderr",
     "output_type": "stream",
     "text": [
      " 19%|█▊        | 374/2000 [35:54<2:50:23,  6.29s/it]"
     ]
    },
    {
     "name": "stdout",
     "output_type": "stream",
     "text": [
      "1 : Not Found\n",
      "2 : Not Found\n",
      "3 : Not Found\n",
      "4 : Not Found\n"
     ]
    },
    {
     "name": "stderr",
     "output_type": "stream",
     "text": [
      " 19%|█▉        | 375/2000 [35:59<2:40:07,  5.91s/it]"
     ]
    },
    {
     "name": "stdout",
     "output_type": "stream",
     "text": [
      "1 : Not Found\n",
      "2 : Not Found\n",
      "3 : Not Found\n",
      "4 : Not Found\n"
     ]
    },
    {
     "name": "stderr",
     "output_type": "stream",
     "text": [
      " 19%|█▉        | 376/2000 [36:04<2:33:20,  5.67s/it]"
     ]
    },
    {
     "name": "stdout",
     "output_type": "stream",
     "text": [
      "1 : Not Found\n",
      "2 : Not Found\n",
      "3 : Not Found\n",
      "4 : Not Found\n",
      "7 : Not Found\n",
      "8 : Not Found\n"
     ]
    },
    {
     "name": "stderr",
     "output_type": "stream",
     "text": [
      " 19%|█▉        | 377/2000 [36:10<2:35:58,  5.77s/it]"
     ]
    },
    {
     "name": "stdout",
     "output_type": "stream",
     "text": [
      "1 : Not Found\n",
      "2 : Not Found\n",
      "3 : Not Found\n",
      "4 : Not Found\n",
      "6 : Not Found\n",
      "10 : Not Found\n",
      "15 : Not Found\n",
      "16 : Not Found\n"
     ]
    },
    {
     "name": "stderr",
     "output_type": "stream",
     "text": [
      " 19%|█▉        | 378/2000 [36:18<2:49:18,  6.26s/it]"
     ]
    },
    {
     "name": "stdout",
     "output_type": "stream",
     "text": [
      "19 : Not Found\n",
      "1 : Not Found\n",
      "2 : Not Found\n",
      "3 : Not Found\n",
      "4 : Not Found\n",
      "6 : Not Found\n",
      "8 : Not Found\n",
      "15 : Not Found\n",
      "16 : Not Found\n"
     ]
    },
    {
     "name": "stderr",
     "output_type": "stream",
     "text": [
      " 19%|█▉        | 379/2000 [36:25<2:59:57,  6.66s/it]"
     ]
    },
    {
     "name": "stdout",
     "output_type": "stream",
     "text": [
      "20 : Not Found\n",
      "1 : Not Found\n",
      "2 : Not Found\n",
      "3 : Not Found\n",
      "4 : Not Found\n"
     ]
    },
    {
     "name": "stderr",
     "output_type": "stream",
     "text": [
      " 19%|█▉        | 380/2000 [36:31<2:46:54,  6.18s/it]"
     ]
    },
    {
     "name": "stdout",
     "output_type": "stream",
     "text": [
      "1 : Not Found\n",
      "2 : Not Found\n",
      "3 : Not Found\n",
      "4 : Not Found\n"
     ]
    },
    {
     "name": "stderr",
     "output_type": "stream",
     "text": [
      " 19%|█▉        | 381/2000 [36:36<2:38:11,  5.86s/it]"
     ]
    },
    {
     "name": "stdout",
     "output_type": "stream",
     "text": [
      "1 : Not Found\n",
      "2 : Not Found\n",
      "3 : Not Found\n",
      "4 : Not Found\n"
     ]
    },
    {
     "name": "stderr",
     "output_type": "stream",
     "text": [
      " 19%|█▉        | 382/2000 [36:41<2:33:11,  5.68s/it]"
     ]
    },
    {
     "name": "stdout",
     "output_type": "stream",
     "text": [
      "1 : Not Found\n",
      "2 : Not Found\n",
      "3 : Not Found\n",
      "4 : Not Found\n"
     ]
    },
    {
     "name": "stderr",
     "output_type": "stream",
     "text": [
      " 19%|█▉        | 383/2000 [36:46<2:28:08,  5.50s/it]"
     ]
    },
    {
     "name": "stdout",
     "output_type": "stream",
     "text": [
      "1 : Not Found\n",
      "2 : Not Found\n",
      "3 : Not Found\n",
      "4 : Not Found\n"
     ]
    },
    {
     "name": "stderr",
     "output_type": "stream",
     "text": [
      " 19%|█▉        | 384/2000 [36:51<2:24:22,  5.36s/it]"
     ]
    },
    {
     "name": "stdout",
     "output_type": "stream",
     "text": [
      "1 : Not Found\n",
      "2 : Not Found\n",
      "3 : Not Found\n",
      "4 : Not Found\n",
      "8 : Not Found\n",
      "11 : Not Found\n",
      "12 : Not Found\n",
      "13 : Not Found\n"
     ]
    },
    {
     "name": "stderr",
     "output_type": "stream",
     "text": [
      " 19%|█▉        | 385/2000 [36:59<2:42:32,  6.04s/it]"
     ]
    },
    {
     "name": "stdout",
     "output_type": "stream",
     "text": [
      "20 : Not Found\n",
      "1 : Not Found\n",
      "2 : Not Found\n",
      "3 : Not Found\n",
      "14 : Not Found\n"
     ]
    },
    {
     "name": "stderr",
     "output_type": "stream",
     "text": [
      " 19%|█▉        | 386/2000 [37:04<2:38:29,  5.89s/it]"
     ]
    },
    {
     "name": "stdout",
     "output_type": "stream",
     "text": [
      "1 : Not Found\n",
      "2 : Not Found\n",
      "3 : Not Found\n",
      "4 : Not Found\n"
     ]
    },
    {
     "name": "stderr",
     "output_type": "stream",
     "text": [
      " 19%|█▉        | 387/2000 [37:09<2:32:21,  5.67s/it]"
     ]
    },
    {
     "name": "stdout",
     "output_type": "stream",
     "text": [
      "1 : Not Found\n",
      "2 : Not Found\n",
      "3 : Not Found\n",
      "4 : Not Found\n"
     ]
    },
    {
     "name": "stderr",
     "output_type": "stream",
     "text": [
      " 19%|█▉        | 388/2000 [37:15<2:28:34,  5.53s/it]"
     ]
    },
    {
     "name": "stdout",
     "output_type": "stream",
     "text": [
      "1 : Not Found\n",
      "2 : Not Found\n",
      "3 : Not Found\n",
      "4 : Not Found\n",
      "14 : Not Found\n",
      "16 : Not Found\n",
      "17 : Not Found\n"
     ]
    },
    {
     "name": "stderr",
     "output_type": "stream",
     "text": [
      " 19%|█▉        | 389/2000 [37:21<2:34:23,  5.75s/it]"
     ]
    },
    {
     "name": "stdout",
     "output_type": "stream",
     "text": [
      "1 : Not Found\n",
      "2 : Not Found\n",
      "3 : Not Found\n",
      "4 : Not Found\n",
      "8 : Not Found\n",
      "10 : Not Found\n",
      "15 : Not Found\n",
      "16 : Not Found\n",
      "17 : Not Found\n",
      "18 : Not Found\n",
      "19 : Not Found\n"
     ]
    },
    {
     "name": "stderr",
     "output_type": "stream",
     "text": [
      " 20%|█▉        | 390/2000 [37:29<2:55:24,  6.54s/it]"
     ]
    },
    {
     "name": "stdout",
     "output_type": "stream",
     "text": [
      "1 : Not Found\n",
      "2 : Not Found\n",
      "3 : Not Found\n",
      "4 : Not Found\n"
     ]
    },
    {
     "name": "stderr",
     "output_type": "stream",
     "text": [
      " 20%|█▉        | 391/2000 [37:34<2:45:01,  6.15s/it]"
     ]
    },
    {
     "name": "stdout",
     "output_type": "stream",
     "text": [
      "1 : Not Found\n",
      "2 : Not Found\n",
      "3 : Not Found\n",
      "4 : Not Found\n",
      "5 : Not Found\n",
      "6 : Not Found\n",
      "7 : Not Found\n",
      "9 : Not Found\n",
      "10 : Not Found\n",
      "11 : Not Found\n",
      "13 : Not Found\n",
      "14 : Not Found\n",
      "15 : Not Found\n",
      "16 : Not Found\n",
      "17 : Not Found\n",
      "19 : Not Found\n"
     ]
    },
    {
     "name": "stderr",
     "output_type": "stream",
     "text": [
      " 20%|█▉        | 392/2000 [37:45<3:21:46,  7.53s/it]"
     ]
    },
    {
     "name": "stdout",
     "output_type": "stream",
     "text": [
      "20 : Not Found\n",
      "1 : Not Found\n",
      "2 : Not Found\n",
      "3 : Not Found\n",
      "4 : Not Found\n",
      "7 : Not Found\n",
      "9 : Not Found\n",
      "12 : Not Found\n",
      "14 : Not Found\n",
      "15 : Not Found\n",
      "16 : Not Found\n",
      "17 : Not Found\n",
      "18 : Not Found\n",
      "19 : Not Found\n"
     ]
    },
    {
     "name": "stderr",
     "output_type": "stream",
     "text": [
      " 20%|█▉        | 393/2000 [37:55<3:36:38,  8.09s/it]"
     ]
    },
    {
     "name": "stdout",
     "output_type": "stream",
     "text": [
      "20 : Not Found\n",
      "1 : Not Found\n",
      "2 : Not Found\n",
      "3 : Not Found\n",
      "4 : Not Found\n",
      "7 : Not Found\n",
      "17 : Not Found\n"
     ]
    },
    {
     "name": "stderr",
     "output_type": "stream",
     "text": [
      " 20%|█▉        | 394/2000 [38:01<3:20:52,  7.50s/it]"
     ]
    },
    {
     "name": "stdout",
     "output_type": "stream",
     "text": [
      "1 : Not Found\n",
      "2 : Not Found\n",
      "3 : Not Found\n",
      "4 : Not Found\n",
      "6 : Not Found\n",
      "7 : Not Found\n",
      "8 : Not Found\n",
      "9 : Not Found\n",
      "14 : Not Found\n",
      "17 : Not Found\n",
      "18 : Not Found\n",
      "19 : Not Found\n"
     ]
    },
    {
     "name": "stderr",
     "output_type": "stream",
     "text": [
      " 20%|█▉        | 395/2000 [38:09<3:31:07,  7.89s/it]"
     ]
    },
    {
     "name": "stdout",
     "output_type": "stream",
     "text": [
      "1 : Not Found\n",
      "2 : Not Found\n",
      "3 : Not Found\n",
      "4 : Not Found\n",
      "5 : Not Found\n",
      "6 : Not Found\n",
      "7 : Not Found\n",
      "13 : Not Found\n",
      "14 : Not Found\n",
      "15 : Not Found\n",
      "16 : Not Found\n",
      "17 : Not Found\n",
      "18 : Not Found\n",
      "19 : Not Found\n"
     ]
    },
    {
     "name": "stderr",
     "output_type": "stream",
     "text": [
      " 20%|█▉        | 396/2000 [38:20<3:50:17,  8.61s/it]"
     ]
    },
    {
     "name": "stdout",
     "output_type": "stream",
     "text": [
      "20 : Not Found\n",
      "1 : Not Found\n",
      "2 : Not Found\n",
      "3 : Not Found\n",
      "4 : Not Found\n"
     ]
    },
    {
     "name": "stderr",
     "output_type": "stream",
     "text": [
      " 20%|█▉        | 397/2000 [38:25<3:24:37,  7.66s/it]"
     ]
    },
    {
     "name": "stdout",
     "output_type": "stream",
     "text": [
      "1 : Not Found\n",
      "2 : Not Found\n",
      "3 : Not Found\n",
      "4 : Not Found\n"
     ]
    },
    {
     "name": "stderr",
     "output_type": "stream",
     "text": [
      " 20%|█▉        | 398/2000 [38:30<3:04:33,  6.91s/it]"
     ]
    },
    {
     "name": "stdout",
     "output_type": "stream",
     "text": [
      "1 : Not Found\n",
      "2 : Not Found\n",
      "3 : Not Found\n",
      "4 : Not Found\n",
      "8 : Not Found\n",
      "13 : Not Found\n",
      "14 : Not Found\n",
      "17 : Not Found\n"
     ]
    },
    {
     "name": "stderr",
     "output_type": "stream",
     "text": [
      " 20%|█▉        | 399/2000 [38:37<3:05:06,  6.94s/it]"
     ]
    },
    {
     "name": "stdout",
     "output_type": "stream",
     "text": [
      "1 : Not Found\n",
      "2 : Not Found\n",
      "3 : Not Found\n",
      "4 : Not Found\n"
     ]
    },
    {
     "name": "stderr",
     "output_type": "stream",
     "text": [
      " 20%|██        | 400/2000 [38:43<2:51:06,  6.42s/it]"
     ]
    },
    {
     "name": "stdout",
     "output_type": "stream",
     "text": [
      "1 : Not Found\n",
      "2 : Not Found\n",
      "3 : Not Found\n",
      "4 : Not Found\n"
     ]
    },
    {
     "name": "stderr",
     "output_type": "stream",
     "text": [
      " 20%|██        | 401/2000 [38:48<2:40:21,  6.02s/it]"
     ]
    },
    {
     "name": "stdout",
     "output_type": "stream",
     "text": [
      "1 : Not Found\n",
      "2 : Not Found\n",
      "3 : Not Found\n",
      "4 : Not Found\n",
      "5 : Not Found\n",
      "7 : Not Found\n",
      "8 : Not Found\n",
      "11 : Not Found\n",
      "12 : Not Found\n",
      "13 : Not Found\n",
      "14 : Not Found\n",
      "16 : Not Found\n",
      "19 : Not Found\n"
     ]
    },
    {
     "name": "stderr",
     "output_type": "stream",
     "text": [
      " 20%|██        | 402/2000 [38:57<3:06:25,  7.00s/it]"
     ]
    },
    {
     "name": "stdout",
     "output_type": "stream",
     "text": [
      "20 : Not Found\n",
      "1 : Not Found\n",
      "2 : Not Found\n",
      "3 : Not Found\n",
      "4 : Not Found\n",
      "8 : Not Found\n",
      "9 : Not Found\n",
      "13 : Not Found\n",
      "15 : Not Found\n"
     ]
    },
    {
     "name": "stderr",
     "output_type": "stream",
     "text": [
      " 20%|██        | 403/2000 [39:04<3:06:54,  7.02s/it]"
     ]
    },
    {
     "name": "stdout",
     "output_type": "stream",
     "text": [
      "1 : Not Found\n",
      "2 : Not Found\n",
      "3 : Not Found\n",
      "4 : Not Found\n",
      "17 : Not Found\n",
      "18 : Not Found\n",
      "19 : Not Found\n"
     ]
    },
    {
     "name": "stderr",
     "output_type": "stream",
     "text": [
      " 20%|██        | 404/2000 [39:11<3:03:23,  6.89s/it]"
     ]
    },
    {
     "name": "stdout",
     "output_type": "stream",
     "text": [
      "1 : Not Found\n",
      "2 : Not Found\n",
      "3 : Not Found\n",
      "8 : Not Found\n",
      "12 : Not Found\n",
      "13 : Not Found\n",
      "17 : Not Found\n"
     ]
    },
    {
     "name": "stderr",
     "output_type": "stream",
     "text": [
      " 20%|██        | 405/2000 [39:17<3:02:20,  6.86s/it]"
     ]
    },
    {
     "name": "stdout",
     "output_type": "stream",
     "text": [
      "1 : Not Found\n",
      "2 : Not Found\n",
      "3 : Not Found\n",
      "4 : Not Found\n"
     ]
    },
    {
     "name": "stderr",
     "output_type": "stream",
     "text": [
      " 20%|██        | 406/2000 [39:23<2:48:48,  6.35s/it]"
     ]
    },
    {
     "name": "stdout",
     "output_type": "stream",
     "text": [
      "1 : Not Found\n",
      "2 : Not Found\n",
      "3 : Not Found\n",
      "4 : Not Found\n"
     ]
    },
    {
     "name": "stderr",
     "output_type": "stream",
     "text": [
      " 20%|██        | 407/2000 [39:27<2:36:53,  5.91s/it]"
     ]
    },
    {
     "name": "stdout",
     "output_type": "stream",
     "text": [
      "1 : Not Found\n",
      "2 : Not Found\n",
      "3 : Not Found\n",
      "4 : Not Found\n",
      "16 : Not Found\n"
     ]
    },
    {
     "name": "stderr",
     "output_type": "stream",
     "text": [
      " 20%|██        | 408/2000 [39:33<2:33:19,  5.78s/it]"
     ]
    },
    {
     "name": "stdout",
     "output_type": "stream",
     "text": [
      "1 : Not Found\n",
      "2 : Not Found\n",
      "3 : Not Found\n",
      "4 : Not Found\n",
      "17 : Not Found\n"
     ]
    },
    {
     "name": "stderr",
     "output_type": "stream",
     "text": [
      " 20%|██        | 409/2000 [39:39<2:32:42,  5.76s/it]"
     ]
    },
    {
     "name": "stdout",
     "output_type": "stream",
     "text": [
      "1 : Not Found\n",
      "2 : Not Found\n",
      "3 : Not Found\n",
      "7 : Not Found\n",
      "10 : Not Found\n"
     ]
    },
    {
     "name": "stderr",
     "output_type": "stream",
     "text": [
      " 20%|██        | 410/2000 [39:45<2:33:59,  5.81s/it]"
     ]
    },
    {
     "name": "stdout",
     "output_type": "stream",
     "text": [
      "1 : Not Found\n",
      "2 : Not Found\n",
      "3 : Not Found\n"
     ]
    },
    {
     "name": "stderr",
     "output_type": "stream",
     "text": [
      " 21%|██        | 411/2000 [39:50<2:26:50,  5.54s/it]"
     ]
    },
    {
     "name": "stdout",
     "output_type": "stream",
     "text": [
      "1 : Not Found\n",
      "2 : Not Found\n",
      "3 : Not Found\n",
      "4 : Not Found\n"
     ]
    },
    {
     "name": "stderr",
     "output_type": "stream",
     "text": [
      " 21%|██        | 412/2000 [39:55<2:23:46,  5.43s/it]"
     ]
    },
    {
     "name": "stdout",
     "output_type": "stream",
     "text": [
      "1 : Not Found\n",
      "2 : Not Found\n",
      "3 : Not Found\n",
      "4 : Not Found\n",
      "11 : Not Found\n",
      "12 : Not Found\n",
      "16 : Not Found\n",
      "18 : Not Found\n"
     ]
    },
    {
     "name": "stderr",
     "output_type": "stream",
     "text": [
      " 21%|██        | 413/2000 [40:02<2:38:30,  5.99s/it]"
     ]
    },
    {
     "name": "stdout",
     "output_type": "stream",
     "text": [
      "20 : Not Found\n",
      "1 : Not Found\n",
      "2 : Not Found\n",
      "3 : Not Found\n",
      "4 : Not Found\n"
     ]
    },
    {
     "name": "stderr",
     "output_type": "stream",
     "text": [
      " 21%|██        | 414/2000 [40:07<2:29:08,  5.64s/it]"
     ]
    },
    {
     "name": "stdout",
     "output_type": "stream",
     "text": [
      "1 : Not Found\n",
      "2 : Not Found\n",
      "3 : Not Found\n",
      "4 : Not Found\n",
      "15 : Not Found\n"
     ]
    },
    {
     "name": "stderr",
     "output_type": "stream",
     "text": [
      " 21%|██        | 415/2000 [40:13<2:30:02,  5.68s/it]"
     ]
    },
    {
     "name": "stdout",
     "output_type": "stream",
     "text": [
      "1 : Not Found\n",
      "2 : Not Found\n",
      "3 : Not Found\n",
      "4 : Not Found\n",
      "13 : Not Found\n"
     ]
    },
    {
     "name": "stderr",
     "output_type": "stream",
     "text": [
      " 21%|██        | 416/2000 [40:19<2:32:42,  5.78s/it]"
     ]
    },
    {
     "name": "stdout",
     "output_type": "stream",
     "text": [
      "1 : Not Found\n",
      "2 : Not Found\n",
      "3 : Not Found\n",
      "4 : Not Found\n",
      "11 : Not Found\n"
     ]
    },
    {
     "name": "stderr",
     "output_type": "stream",
     "text": [
      " 21%|██        | 417/2000 [40:24<2:29:54,  5.68s/it]"
     ]
    },
    {
     "name": "stdout",
     "output_type": "stream",
     "text": [
      "1 : Not Found\n",
      "2 : Not Found\n",
      "3 : Not Found\n",
      "4 : Not Found\n"
     ]
    },
    {
     "name": "stderr",
     "output_type": "stream",
     "text": [
      " 21%|██        | 418/2000 [40:29<2:26:30,  5.56s/it]"
     ]
    },
    {
     "name": "stdout",
     "output_type": "stream",
     "text": [
      "1 : Not Found\n",
      "2 : Not Found\n",
      "3 : Not Found\n",
      "4 : Not Found\n"
     ]
    },
    {
     "name": "stderr",
     "output_type": "stream",
     "text": [
      " 21%|██        | 419/2000 [40:34<2:22:12,  5.40s/it]"
     ]
    },
    {
     "name": "stdout",
     "output_type": "stream",
     "text": [
      "1 : Not Found\n",
      "2 : Not Found\n",
      "3 : Not Found\n",
      "4 : Not Found\n",
      "12 : Not Found\n"
     ]
    },
    {
     "name": "stderr",
     "output_type": "stream",
     "text": [
      " 21%|██        | 420/2000 [40:40<2:22:25,  5.41s/it]"
     ]
    },
    {
     "name": "stdout",
     "output_type": "stream",
     "text": [
      "1 : Not Found\n",
      "2 : Not Found\n",
      "3 : Not Found\n",
      "4 : Not Found\n"
     ]
    },
    {
     "name": "stderr",
     "output_type": "stream",
     "text": [
      " 21%|██        | 421/2000 [40:45<2:23:39,  5.46s/it]"
     ]
    },
    {
     "name": "stdout",
     "output_type": "stream",
     "text": [
      "20 : Not Found\n",
      "1 : Not Found\n",
      "2 : Not Found\n",
      "3 : Not Found\n",
      "4 : Not Found\n",
      "5 : Not Found\n",
      "9 : Not Found\n",
      "17 : Not Found\n"
     ]
    },
    {
     "name": "stderr",
     "output_type": "stream",
     "text": [
      " 21%|██        | 422/2000 [40:52<2:35:50,  5.93s/it]"
     ]
    },
    {
     "name": "stdout",
     "output_type": "stream",
     "text": [
      "1 : Not Found\n",
      "2 : Not Found\n",
      "3 : Not Found\n",
      "4 : Not Found\n"
     ]
    },
    {
     "name": "stderr",
     "output_type": "stream",
     "text": [
      " 21%|██        | 423/2000 [40:57<2:27:42,  5.62s/it]"
     ]
    },
    {
     "name": "stdout",
     "output_type": "stream",
     "text": [
      "1 : Not Found\n",
      "2 : Not Found\n",
      "3 : Not Found\n",
      "4 : Not Found\n",
      "13 : Not Found\n"
     ]
    },
    {
     "name": "stderr",
     "output_type": "stream",
     "text": [
      " 21%|██        | 424/2000 [41:03<2:28:11,  5.64s/it]"
     ]
    },
    {
     "name": "stdout",
     "output_type": "stream",
     "text": [
      "1 : Not Found\n",
      "2 : Not Found\n",
      "3 : Not Found\n",
      "4 : Not Found\n",
      "11 : Not Found\n",
      "12 : Not Found\n",
      "13 : Not Found\n",
      "14 : Not Found\n",
      "15 : Not Found\n"
     ]
    },
    {
     "name": "stderr",
     "output_type": "stream",
     "text": [
      " 21%|██▏       | 425/2000 [41:10<2:42:24,  6.19s/it]"
     ]
    },
    {
     "name": "stdout",
     "output_type": "stream",
     "text": [
      "1 : Not Found\n",
      "2 : Not Found\n",
      "3 : Not Found\n",
      "4 : Not Found\n"
     ]
    },
    {
     "name": "stderr",
     "output_type": "stream",
     "text": [
      " 21%|██▏       | 426/2000 [41:16<2:34:46,  5.90s/it]"
     ]
    },
    {
     "name": "stdout",
     "output_type": "stream",
     "text": [
      "1 : Not Found\n",
      "2 : Not Found\n",
      "3 : Not Found\n",
      "4 : Not Found\n"
     ]
    },
    {
     "name": "stderr",
     "output_type": "stream",
     "text": [
      " 21%|██▏       | 427/2000 [41:21<2:30:26,  5.74s/it]"
     ]
    },
    {
     "name": "stdout",
     "output_type": "stream",
     "text": [
      "1 : Not Found\n",
      "2 : Not Found\n",
      "3 : Not Found\n",
      "4 : Not Found\n",
      "7 : Not Found\n",
      "8 : Not Found\n",
      "9 : Not Found\n",
      "10 : Not Found\n",
      "12 : Not Found\n",
      "15 : Not Found\n",
      "16 : Not Found\n"
     ]
    },
    {
     "name": "stderr",
     "output_type": "stream",
     "text": [
      " 21%|██▏       | 428/2000 [41:30<2:55:25,  6.70s/it]"
     ]
    },
    {
     "name": "stdout",
     "output_type": "stream",
     "text": [
      "20 : Not Found\n",
      "1 : Not Found\n",
      "2 : Not Found\n",
      "3 : Not Found\n",
      "4 : Not Found\n"
     ]
    },
    {
     "name": "stderr",
     "output_type": "stream",
     "text": [
      " 21%|██▏       | 429/2000 [41:35<2:43:29,  6.24s/it]"
     ]
    },
    {
     "name": "stdout",
     "output_type": "stream",
     "text": [
      "1 : Not Found\n",
      "2 : Not Found\n",
      "3 : Not Found\n",
      "4 : Not Found\n",
      "5 : Not Found\n",
      "8 : Not Found\n",
      "13 : Not Found\n",
      "16 : Not Found\n"
     ]
    },
    {
     "name": "stderr",
     "output_type": "stream",
     "text": [
      " 22%|██▏       | 430/2000 [41:42<2:49:10,  6.47s/it]"
     ]
    },
    {
     "name": "stdout",
     "output_type": "stream",
     "text": [
      "1 : Not Found\n",
      "2 : Not Found\n",
      "3 : Not Found\n",
      "4 : Not Found\n",
      "5 : Not Found\n",
      "6 : Not Found\n",
      "9 : Not Found\n",
      "10 : Not Found\n"
     ]
    },
    {
     "name": "stderr",
     "output_type": "stream",
     "text": [
      " 22%|██▏       | 431/2000 [41:49<2:52:42,  6.60s/it]"
     ]
    },
    {
     "name": "stdout",
     "output_type": "stream",
     "text": [
      "1 : Not Found\n",
      "2 : Not Found\n",
      "3 : Not Found\n",
      "4 : Not Found\n"
     ]
    },
    {
     "name": "stderr",
     "output_type": "stream",
     "text": [
      " 22%|██▏       | 432/2000 [41:54<2:43:19,  6.25s/it]"
     ]
    },
    {
     "name": "stdout",
     "output_type": "stream",
     "text": [
      "1 : Not Found\n",
      "2 : Not Found\n",
      "3 : Not Found\n",
      "4 : Not Found\n",
      "17 : Not Found\n",
      "18 : Not Found\n"
     ]
    },
    {
     "name": "stderr",
     "output_type": "stream",
     "text": [
      " 22%|██▏       | 433/2000 [42:00<2:41:17,  6.18s/it]"
     ]
    },
    {
     "name": "stdout",
     "output_type": "stream",
     "text": [
      "1 : Not Found\n",
      "2 : Not Found\n",
      "3 : Not Found\n",
      "4 : Not Found\n"
     ]
    },
    {
     "name": "stderr",
     "output_type": "stream",
     "text": [
      " 22%|██▏       | 434/2000 [42:05<2:32:14,  5.83s/it]"
     ]
    },
    {
     "name": "stdout",
     "output_type": "stream",
     "text": [
      "1 : Not Found\n",
      "2 : Not Found\n",
      "3 : Not Found\n",
      "4 : Not Found\n",
      "5 : Not Found\n"
     ]
    },
    {
     "name": "stderr",
     "output_type": "stream",
     "text": [
      " 22%|██▏       | 435/2000 [42:11<2:29:18,  5.72s/it]"
     ]
    },
    {
     "name": "stdout",
     "output_type": "stream",
     "text": [
      "1 : Not Found\n",
      "2 : Not Found\n",
      "3 : Not Found\n",
      "4 : Not Found\n"
     ]
    },
    {
     "name": "stderr",
     "output_type": "stream",
     "text": [
      " 22%|██▏       | 436/2000 [42:16<2:25:09,  5.57s/it]"
     ]
    },
    {
     "name": "stdout",
     "output_type": "stream",
     "text": [
      "1 : Not Found\n",
      "2 : Not Found\n",
      "3 : Not Found\n",
      "4 : Not Found\n"
     ]
    },
    {
     "name": "stderr",
     "output_type": "stream",
     "text": [
      " 22%|██▏       | 437/2000 [42:21<2:21:54,  5.45s/it]"
     ]
    },
    {
     "name": "stdout",
     "output_type": "stream",
     "text": [
      "1 : Not Found\n",
      "2 : Not Found\n",
      "3 : Not Found\n",
      "4 : Not Found\n",
      "17 : Not Found\n"
     ]
    },
    {
     "name": "stderr",
     "output_type": "stream",
     "text": [
      " 22%|██▏       | 438/2000 [42:28<2:27:49,  5.68s/it]"
     ]
    },
    {
     "name": "stdout",
     "output_type": "stream",
     "text": [
      "20 : Not Found\n",
      "1 : Not Found\n",
      "2 : Not Found\n",
      "3 : Not Found\n",
      "4 : Not Found\n",
      "5 : Not Found\n"
     ]
    },
    {
     "name": "stderr",
     "output_type": "stream",
     "text": [
      " 22%|██▏       | 439/2000 [42:33<2:28:15,  5.70s/it]"
     ]
    },
    {
     "name": "stdout",
     "output_type": "stream",
     "text": [
      "20 : Not Found\n",
      "1 : Not Found\n",
      "2 : Not Found\n",
      "3 : Not Found\n",
      "4 : Not Found\n"
     ]
    },
    {
     "name": "stderr",
     "output_type": "stream",
     "text": [
      " 22%|██▏       | 440/2000 [42:38<2:21:22,  5.44s/it]"
     ]
    },
    {
     "name": "stdout",
     "output_type": "stream",
     "text": [
      "1 : Not Found\n",
      "2 : Not Found\n",
      "3 : Not Found\n",
      "4 : Not Found\n",
      "5 : Not Found\n"
     ]
    },
    {
     "name": "stderr",
     "output_type": "stream",
     "text": [
      " 22%|██▏       | 441/2000 [42:44<2:23:09,  5.51s/it]"
     ]
    },
    {
     "name": "stdout",
     "output_type": "stream",
     "text": [
      "20 : Not Found\n",
      "1 : Not Found\n",
      "2 : Not Found\n",
      "3 : Not Found\n",
      "4 : Not Found\n"
     ]
    },
    {
     "name": "stderr",
     "output_type": "stream",
     "text": [
      " 22%|██▏       | 442/2000 [42:49<2:22:02,  5.47s/it]"
     ]
    },
    {
     "name": "stdout",
     "output_type": "stream",
     "text": [
      "1 : Not Found\n",
      "2 : Not Found\n",
      "3 : Not Found\n",
      "4 : Not Found\n"
     ]
    },
    {
     "name": "stderr",
     "output_type": "stream",
     "text": [
      " 22%|██▏       | 443/2000 [42:54<2:20:28,  5.41s/it]"
     ]
    },
    {
     "name": "stdout",
     "output_type": "stream",
     "text": [
      "1 : Not Found\n",
      "2 : Not Found\n",
      "3 : Not Found\n"
     ]
    },
    {
     "name": "stderr",
     "output_type": "stream",
     "text": [
      " 22%|██▏       | 444/2000 [43:00<2:17:45,  5.31s/it]"
     ]
    },
    {
     "name": "stdout",
     "output_type": "stream",
     "text": [
      "1 : Not Found\n",
      "2 : Not Found\n",
      "3 : Not Found\n",
      "4 : Not Found\n"
     ]
    },
    {
     "name": "stderr",
     "output_type": "stream",
     "text": [
      " 22%|██▏       | 445/2000 [43:05<2:16:05,  5.25s/it]"
     ]
    },
    {
     "name": "stdout",
     "output_type": "stream",
     "text": [
      "1 : Not Found\n",
      "2 : Not Found\n",
      "3 : Not Found\n"
     ]
    },
    {
     "name": "stderr",
     "output_type": "stream",
     "text": [
      " 22%|██▏       | 446/2000 [43:10<2:13:50,  5.17s/it]"
     ]
    },
    {
     "name": "stdout",
     "output_type": "stream",
     "text": [
      "1 : Not Found\n",
      "2 : Not Found\n",
      "3 : Not Found\n",
      "4 : Not Found\n"
     ]
    },
    {
     "name": "stderr",
     "output_type": "stream",
     "text": [
      " 22%|██▏       | 447/2000 [43:15<2:15:10,  5.22s/it]"
     ]
    },
    {
     "name": "stdout",
     "output_type": "stream",
     "text": [
      "1 : Not Found\n",
      "2 : Not Found\n",
      "3 : Not Found\n",
      "4 : Not Found\n"
     ]
    },
    {
     "name": "stderr",
     "output_type": "stream",
     "text": [
      " 22%|██▏       | 448/2000 [43:20<2:14:53,  5.21s/it]"
     ]
    },
    {
     "name": "stdout",
     "output_type": "stream",
     "text": [
      "1 : Not Found\n",
      "2 : Not Found\n",
      "3 : Not Found\n",
      "4 : Not Found\n"
     ]
    },
    {
     "name": "stderr",
     "output_type": "stream",
     "text": [
      " 22%|██▏       | 449/2000 [43:25<2:15:06,  5.23s/it]"
     ]
    },
    {
     "name": "stdout",
     "output_type": "stream",
     "text": [
      "1 : Not Found\n",
      "2 : Not Found\n",
      "3 : Not Found\n",
      "4 : Not Found\n",
      "7 : Not Found\n"
     ]
    },
    {
     "name": "stderr",
     "output_type": "stream",
     "text": [
      " 22%|██▎       | 450/2000 [43:31<2:19:39,  5.41s/it]"
     ]
    },
    {
     "name": "stdout",
     "output_type": "stream",
     "text": [
      "1 : Not Found\n",
      "2 : Not Found\n",
      "3 : Not Found\n",
      "4 : Not Found\n"
     ]
    },
    {
     "name": "stderr",
     "output_type": "stream",
     "text": [
      " 23%|██▎       | 451/2000 [43:36<2:17:31,  5.33s/it]"
     ]
    },
    {
     "name": "stdout",
     "output_type": "stream",
     "text": [
      "1 : Not Found\n",
      "2 : Not Found\n",
      "3 : Not Found\n",
      "4 : Not Found\n"
     ]
    },
    {
     "name": "stderr",
     "output_type": "stream",
     "text": [
      " 23%|██▎       | 452/2000 [43:42<2:17:22,  5.32s/it]"
     ]
    },
    {
     "name": "stdout",
     "output_type": "stream",
     "text": [
      "1 : Not Found\n",
      "2 : Not Found\n",
      "3 : Not Found\n",
      "4 : Not Found\n"
     ]
    },
    {
     "name": "stderr",
     "output_type": "stream",
     "text": [
      " 23%|██▎       | 453/2000 [43:47<2:18:01,  5.35s/it]"
     ]
    },
    {
     "name": "stdout",
     "output_type": "stream",
     "text": [
      "1 : Not Found\n",
      "2 : Not Found\n",
      "3 : Not Found\n",
      "4 : Not Found\n",
      "5 : Not Found\n",
      "8 : Not Found\n",
      "10 : Not Found\n"
     ]
    },
    {
     "name": "stderr",
     "output_type": "stream",
     "text": [
      " 23%|██▎       | 454/2000 [43:54<2:28:51,  5.78s/it]"
     ]
    },
    {
     "name": "stdout",
     "output_type": "stream",
     "text": [
      "1 : Not Found\n",
      "2 : Not Found\n",
      "3 : Not Found\n",
      "7 : Not Found\n",
      "15 : Not Found\n",
      "17 : Not Found\n"
     ]
    },
    {
     "name": "stderr",
     "output_type": "stream",
     "text": [
      " 23%|██▎       | 455/2000 [44:00<2:33:01,  5.94s/it]"
     ]
    },
    {
     "name": "stdout",
     "output_type": "stream",
     "text": [
      "1 : Not Found\n",
      "2 : Not Found\n",
      "3 : Not Found\n",
      "4 : Not Found\n",
      "10 : Not Found\n",
      "13 : Not Found\n",
      "14 : Not Found\n",
      "15 : Not Found\n",
      "16 : Not Found\n"
     ]
    },
    {
     "name": "stderr",
     "output_type": "stream",
     "text": [
      " 23%|██▎       | 456/2000 [44:07<2:39:43,  6.21s/it]"
     ]
    },
    {
     "name": "stdout",
     "output_type": "stream",
     "text": [
      "1 : Not Found\n",
      "2 : Not Found\n",
      "3 : Not Found\n",
      "4 : Not Found\n",
      "5 : Not Found\n",
      "7 : Not Found\n",
      "8 : Not Found\n",
      "12 : Not Found\n"
     ]
    },
    {
     "name": "stderr",
     "output_type": "stream",
     "text": [
      " 23%|██▎       | 457/2000 [44:14<2:45:00,  6.42s/it]"
     ]
    },
    {
     "name": "stdout",
     "output_type": "stream",
     "text": [
      "1 : Not Found\n",
      "2 : Not Found\n",
      "3 : Not Found\n",
      "4 : Not Found\n",
      "8 : Not Found\n",
      "9 : Not Found\n",
      "12 : Not Found\n",
      "13 : Not Found\n"
     ]
    },
    {
     "name": "stderr",
     "output_type": "stream",
     "text": [
      " 23%|██▎       | 458/2000 [44:21<2:49:43,  6.60s/it]"
     ]
    },
    {
     "name": "stdout",
     "output_type": "stream",
     "text": [
      "1 : Not Found\n",
      "2 : Not Found\n",
      "3 : Not Found\n",
      "4 : Not Found\n"
     ]
    },
    {
     "name": "stderr",
     "output_type": "stream",
     "text": [
      " 23%|██▎       | 459/2000 [44:26<2:37:38,  6.14s/it]"
     ]
    },
    {
     "name": "stdout",
     "output_type": "stream",
     "text": [
      "1 : Not Found\n",
      "2 : Not Found\n",
      "3 : Not Found\n",
      "4 : Not Found\n"
     ]
    },
    {
     "name": "stderr",
     "output_type": "stream",
     "text": [
      " 23%|██▎       | 460/2000 [44:31<2:28:58,  5.80s/it]"
     ]
    },
    {
     "name": "stdout",
     "output_type": "stream",
     "text": [
      "1 : Not Found\n",
      "2 : Not Found\n",
      "3 : Not Found\n",
      "4 : Not Found\n"
     ]
    },
    {
     "name": "stderr",
     "output_type": "stream",
     "text": [
      " 23%|██▎       | 461/2000 [44:36<2:23:58,  5.61s/it]"
     ]
    },
    {
     "name": "stdout",
     "output_type": "stream",
     "text": [
      "1 : Not Found\n",
      "2 : Not Found\n",
      "3 : Not Found\n",
      "4 : Not Found\n",
      "10 : Not Found\n",
      "12 : Not Found\n"
     ]
    },
    {
     "name": "stderr",
     "output_type": "stream",
     "text": [
      " 23%|██▎       | 462/2000 [44:42<2:28:12,  5.78s/it]"
     ]
    },
    {
     "name": "stdout",
     "output_type": "stream",
     "text": [
      "1 : Not Found\n",
      "2 : Not Found\n",
      "3 : Not Found\n",
      "4 : Not Found\n",
      "6 : Not Found\n",
      "7 : Not Found\n",
      "14 : Not Found\n",
      "16 : Not Found\n",
      "17 : Not Found\n"
     ]
    },
    {
     "name": "stderr",
     "output_type": "stream",
     "text": [
      " 23%|██▎       | 463/2000 [44:50<2:41:02,  6.29s/it]"
     ]
    },
    {
     "name": "stdout",
     "output_type": "stream",
     "text": [
      "1 : Not Found\n",
      "2 : Not Found\n",
      "3 : Not Found\n",
      "4 : Not Found\n",
      "9 : Not Found\n",
      "10 : Not Found\n",
      "11 : Not Found\n",
      "12 : Not Found\n",
      "17 : Not Found\n"
     ]
    },
    {
     "name": "stderr",
     "output_type": "stream",
     "text": [
      " 23%|██▎       | 464/2000 [44:57<2:49:29,  6.62s/it]"
     ]
    },
    {
     "name": "stdout",
     "output_type": "stream",
     "text": [
      "1 : Not Found\n",
      "2 : Not Found\n",
      "3 : Not Found\n",
      "4 : Not Found\n"
     ]
    },
    {
     "name": "stderr",
     "output_type": "stream",
     "text": [
      " 23%|██▎       | 465/2000 [45:03<2:39:44,  6.24s/it]"
     ]
    },
    {
     "name": "stdout",
     "output_type": "stream",
     "text": [
      "1 : Not Found\n",
      "2 : Not Found\n",
      "3 : Not Found\n",
      "4 : Not Found\n"
     ]
    },
    {
     "name": "stderr",
     "output_type": "stream",
     "text": [
      " 23%|██▎       | 466/2000 [45:08<2:30:29,  5.89s/it]"
     ]
    },
    {
     "name": "stdout",
     "output_type": "stream",
     "text": [
      "1 : Not Found\n",
      "2 : Not Found\n",
      "3 : Not Found\n",
      "4 : Not Found\n"
     ]
    },
    {
     "name": "stderr",
     "output_type": "stream",
     "text": [
      " 23%|██▎       | 467/2000 [45:13<2:25:58,  5.71s/it]"
     ]
    },
    {
     "name": "stdout",
     "output_type": "stream",
     "text": [
      "1 : Not Found\n",
      "2 : Not Found\n",
      "3 : Not Found\n",
      "4 : Not Found\n"
     ]
    },
    {
     "name": "stderr",
     "output_type": "stream",
     "text": [
      " 23%|██▎       | 468/2000 [45:18<2:22:55,  5.60s/it]"
     ]
    },
    {
     "name": "stdout",
     "output_type": "stream",
     "text": [
      "1 : Not Found\n",
      "2 : Not Found\n",
      "3 : Not Found\n",
      "4 : Not Found\n",
      "15 : Not Found\n"
     ]
    },
    {
     "name": "stderr",
     "output_type": "stream",
     "text": [
      " 23%|██▎       | 469/2000 [45:24<2:24:14,  5.65s/it]"
     ]
    },
    {
     "name": "stdout",
     "output_type": "stream",
     "text": [
      "1 : Not Found\n",
      "2 : Not Found\n",
      "3 : Not Found\n",
      "4 : Not Found\n"
     ]
    },
    {
     "name": "stderr",
     "output_type": "stream",
     "text": [
      " 24%|██▎       | 470/2000 [45:29<2:19:08,  5.46s/it]"
     ]
    },
    {
     "name": "stdout",
     "output_type": "stream",
     "text": [
      "1 : Not Found\n",
      "2 : Not Found\n",
      "3 : Not Found\n",
      "4 : Not Found\n",
      "8 : Not Found\n",
      "17 : Not Found\n",
      "18 : Not Found\n",
      "19 : Not Found\n"
     ]
    },
    {
     "name": "stderr",
     "output_type": "stream",
     "text": [
      " 24%|██▎       | 471/2000 [45:36<2:32:23,  5.98s/it]"
     ]
    },
    {
     "name": "stdout",
     "output_type": "stream",
     "text": [
      "1 : Not Found\n",
      "2 : Not Found\n",
      "3 : Not Found\n",
      "4 : Not Found\n",
      "12 : Not Found\n",
      "13 : Not Found\n",
      "19 : Not Found\n"
     ]
    },
    {
     "name": "stderr",
     "output_type": "stream",
     "text": [
      " 24%|██▎       | 472/2000 [45:43<2:40:36,  6.31s/it]"
     ]
    },
    {
     "name": "stdout",
     "output_type": "stream",
     "text": [
      "20 : Not Found\n",
      "1 : Not Found\n",
      "2 : Not Found\n",
      "3 : Not Found\n",
      "4 : Not Found\n",
      "12 : Not Found\n",
      "14 : Not Found\n",
      "16 : Not Found\n",
      "19 : Not Found\n"
     ]
    },
    {
     "name": "stderr",
     "output_type": "stream",
     "text": [
      " 24%|██▎       | 473/2000 [45:51<2:49:27,  6.66s/it]"
     ]
    },
    {
     "name": "stdout",
     "output_type": "stream",
     "text": [
      "1 : Not Found\n",
      "2 : Not Found\n",
      "3 : Not Found\n",
      "4 : Not Found\n"
     ]
    },
    {
     "name": "stderr",
     "output_type": "stream",
     "text": [
      " 24%|██▎       | 474/2000 [45:56<2:40:12,  6.30s/it]"
     ]
    },
    {
     "name": "stdout",
     "output_type": "stream",
     "text": [
      "1 : Not Found\n",
      "2 : Not Found\n",
      "3 : Not Found\n",
      "4 : Not Found\n",
      "12 : Not Found\n",
      "13 : Not Found\n",
      "14 : Not Found\n",
      "15 : Not Found\n",
      "16 : Not Found\n",
      "17 : Not Found\n",
      "18 : Not Found\n"
     ]
    },
    {
     "name": "stderr",
     "output_type": "stream",
     "text": [
      " 24%|██▍       | 475/2000 [46:05<2:57:12,  6.97s/it]"
     ]
    },
    {
     "name": "stdout",
     "output_type": "stream",
     "text": [
      "19 : Not Found\n",
      "1 : Not Found\n",
      "2 : Not Found\n",
      "3 : Not Found\n",
      "4 : Not Found\n",
      "5 : Not Found\n"
     ]
    },
    {
     "name": "stderr",
     "output_type": "stream",
     "text": [
      " 24%|██▍       | 476/2000 [46:10<2:44:24,  6.47s/it]"
     ]
    },
    {
     "name": "stdout",
     "output_type": "stream",
     "text": [
      "1 : Not Found\n",
      "2 : Not Found\n",
      "3 : Not Found\n",
      "4 : Not Found\n",
      "5 : Not Found\n"
     ]
    },
    {
     "name": "stderr",
     "output_type": "stream",
     "text": [
      " 24%|██▍       | 477/2000 [46:16<2:40:45,  6.33s/it]"
     ]
    },
    {
     "name": "stdout",
     "output_type": "stream",
     "text": [
      "20 : Not Found\n",
      "1 : Not Found\n",
      "2 : Not Found\n",
      "3 : Not Found\n",
      "4 : Not Found\n"
     ]
    },
    {
     "name": "stderr",
     "output_type": "stream",
     "text": [
      " 24%|██▍       | 478/2000 [46:22<2:35:04,  6.11s/it]"
     ]
    },
    {
     "name": "stdout",
     "output_type": "stream",
     "text": [
      "1 : Not Found\n",
      "2 : Not Found\n",
      "3 : Not Found\n",
      "12 : Not Found\n"
     ]
    },
    {
     "name": "stderr",
     "output_type": "stream",
     "text": [
      " 24%|██▍       | 479/2000 [46:27<2:29:16,  5.89s/it]"
     ]
    },
    {
     "name": "stdout",
     "output_type": "stream",
     "text": [
      "1 : Not Found\n",
      "2 : Not Found\n",
      "3 : Not Found\n",
      "4 : Not Found\n"
     ]
    },
    {
     "name": "stderr",
     "output_type": "stream",
     "text": [
      " 24%|██▍       | 480/2000 [46:33<2:25:33,  5.75s/it]"
     ]
    },
    {
     "name": "stdout",
     "output_type": "stream",
     "text": [
      "1 : Not Found\n",
      "2 : Not Found\n",
      "3 : Not Found\n",
      "4 : Not Found\n"
     ]
    },
    {
     "name": "stderr",
     "output_type": "stream",
     "text": [
      " 24%|██▍       | 481/2000 [46:38<2:22:55,  5.65s/it]"
     ]
    },
    {
     "name": "stdout",
     "output_type": "stream",
     "text": [
      "1 : Not Found\n",
      "2 : Not Found\n",
      "3 : Not Found\n",
      "4 : Not Found\n",
      "5 : Not Found\n"
     ]
    },
    {
     "name": "stderr",
     "output_type": "stream",
     "text": [
      " 24%|██▍       | 482/2000 [46:43<2:21:36,  5.60s/it]"
     ]
    },
    {
     "name": "stdout",
     "output_type": "stream",
     "text": [
      "1 : Not Found\n",
      "2 : Not Found\n",
      "3 : Not Found\n",
      "4 : Not Found\n",
      "7 : Not Found\n",
      "8 : Not Found\n",
      "9 : Not Found\n"
     ]
    },
    {
     "name": "stderr",
     "output_type": "stream",
     "text": [
      " 24%|██▍       | 483/2000 [46:50<2:28:10,  5.86s/it]"
     ]
    },
    {
     "name": "stdout",
     "output_type": "stream",
     "text": [
      "1 : Not Found\n",
      "2 : Not Found\n",
      "3 : Not Found\n",
      "4 : Not Found\n"
     ]
    },
    {
     "name": "stderr",
     "output_type": "stream",
     "text": [
      " 24%|██▍       | 484/2000 [46:55<2:25:36,  5.76s/it]"
     ]
    },
    {
     "name": "stdout",
     "output_type": "stream",
     "text": [
      "1 : Not Found\n",
      "2 : Not Found\n",
      "3 : Not Found\n",
      "4 : Not Found\n",
      "10 : Not Found\n",
      "11 : Not Found\n",
      "16 : Not Found\n",
      "17 : Not Found\n",
      "18 : Not Found\n",
      "19 : Not Found\n"
     ]
    },
    {
     "name": "stderr",
     "output_type": "stream",
     "text": [
      " 24%|██▍       | 485/2000 [47:04<2:43:46,  6.49s/it]"
     ]
    },
    {
     "name": "stdout",
     "output_type": "stream",
     "text": [
      "20 : Not Found\n",
      "1 : Not Found\n",
      "2 : Not Found\n",
      "3 : Not Found\n",
      "4 : Not Found\n"
     ]
    },
    {
     "name": "stderr",
     "output_type": "stream",
     "text": [
      " 24%|██▍       | 486/2000 [47:09<2:33:13,  6.07s/it]"
     ]
    },
    {
     "name": "stdout",
     "output_type": "stream",
     "text": [
      "1 : Not Found\n",
      "2 : Not Found\n",
      "3 : Not Found\n",
      "4 : Not Found\n",
      "6 : Not Found\n",
      "7 : Not Found\n",
      "8 : Not Found\n",
      "10 : Not Found\n",
      "13 : Not Found\n",
      "17 : Not Found\n"
     ]
    },
    {
     "name": "stderr",
     "output_type": "stream",
     "text": [
      " 24%|██▍       | 487/2000 [47:17<2:50:00,  6.74s/it]"
     ]
    },
    {
     "name": "stdout",
     "output_type": "stream",
     "text": [
      "20 : Not Found\n",
      "1 : Not Found\n",
      "2 : Not Found\n",
      "3 : Not Found\n",
      "4 : Not Found\n",
      "5 : Not Found\n"
     ]
    },
    {
     "name": "stderr",
     "output_type": "stream",
     "text": [
      " 24%|██▍       | 488/2000 [47:23<2:43:54,  6.50s/it]"
     ]
    },
    {
     "name": "stdout",
     "output_type": "stream",
     "text": [
      "1 : Not Found\n",
      "2 : Not Found\n",
      "3 : Not Found\n",
      "4 : Not Found\n"
     ]
    },
    {
     "name": "stderr",
     "output_type": "stream",
     "text": [
      " 24%|██▍       | 489/2000 [47:28<2:35:35,  6.18s/it]"
     ]
    },
    {
     "name": "stdout",
     "output_type": "stream",
     "text": [
      "20 : Not Found\n",
      "1 : Not Found\n",
      "2 : Not Found\n",
      "3 : Not Found\n",
      "4 : Not Found\n"
     ]
    },
    {
     "name": "stderr",
     "output_type": "stream",
     "text": [
      " 24%|██▍       | 490/2000 [47:34<2:27:49,  5.87s/it]"
     ]
    },
    {
     "name": "stdout",
     "output_type": "stream",
     "text": [
      "1 : Not Found\n",
      "2 : Not Found\n",
      "3 : Not Found\n",
      "4 : Not Found\n"
     ]
    },
    {
     "name": "stderr",
     "output_type": "stream",
     "text": [
      " 25%|██▍       | 491/2000 [47:39<2:22:08,  5.65s/it]"
     ]
    },
    {
     "name": "stdout",
     "output_type": "stream",
     "text": [
      "1 : Not Found\n",
      "2 : Not Found\n",
      "3 : Not Found\n",
      "4 : Not Found\n"
     ]
    },
    {
     "name": "stderr",
     "output_type": "stream",
     "text": [
      " 25%|██▍       | 492/2000 [47:44<2:20:45,  5.60s/it]"
     ]
    },
    {
     "name": "stdout",
     "output_type": "stream",
     "text": [
      "1 : Not Found\n",
      "2 : Not Found\n",
      "3 : Not Found\n",
      "4 : Not Found\n"
     ]
    },
    {
     "name": "stderr",
     "output_type": "stream",
     "text": [
      " 25%|██▍       | 493/2000 [47:50<2:19:50,  5.57s/it]"
     ]
    },
    {
     "name": "stdout",
     "output_type": "stream",
     "text": [
      "1 : Not Found\n",
      "2 : Not Found\n",
      "3 : Not Found\n",
      "4 : Not Found\n"
     ]
    },
    {
     "name": "stderr",
     "output_type": "stream",
     "text": [
      " 25%|██▍       | 494/2000 [47:55<2:17:09,  5.46s/it]"
     ]
    },
    {
     "name": "stdout",
     "output_type": "stream",
     "text": [
      "1 : Not Found\n",
      "2 : Not Found\n",
      "3 : Not Found\n",
      "4 : Not Found\n",
      "14 : Not Found\n"
     ]
    },
    {
     "name": "stderr",
     "output_type": "stream",
     "text": [
      " 25%|██▍       | 495/2000 [48:01<2:18:35,  5.53s/it]"
     ]
    },
    {
     "name": "stdout",
     "output_type": "stream",
     "text": [
      "1 : Not Found\n",
      "2 : Not Found\n",
      "3 : Not Found\n",
      "4 : Not Found\n"
     ]
    },
    {
     "name": "stderr",
     "output_type": "stream",
     "text": [
      " 25%|██▍       | 496/2000 [48:06<2:18:42,  5.53s/it]"
     ]
    },
    {
     "name": "stdout",
     "output_type": "stream",
     "text": [
      "1 : Not Found\n",
      "2 : Not Found\n",
      "3 : Not Found\n",
      "4 : Not Found\n"
     ]
    },
    {
     "name": "stderr",
     "output_type": "stream",
     "text": [
      " 25%|██▍       | 497/2000 [48:12<2:18:21,  5.52s/it]"
     ]
    },
    {
     "name": "stdout",
     "output_type": "stream",
     "text": [
      "1 : Not Found\n",
      "2 : Not Found\n",
      "3 : Not Found\n",
      "4 : Not Found\n"
     ]
    },
    {
     "name": "stderr",
     "output_type": "stream",
     "text": [
      " 25%|██▍       | 498/2000 [48:17<2:16:03,  5.44s/it]"
     ]
    },
    {
     "name": "stdout",
     "output_type": "stream",
     "text": [
      "1 : Not Found\n",
      "2 : Not Found\n",
      "3 : Not Found\n",
      "4 : Not Found\n",
      "6 : Not Found\n",
      "7 : Not Found\n",
      "9 : Not Found\n",
      "11 : Not Found\n"
     ]
    },
    {
     "name": "stderr",
     "output_type": "stream",
     "text": [
      " 25%|██▍       | 499/2000 [48:24<2:28:08,  5.92s/it]"
     ]
    },
    {
     "name": "stdout",
     "output_type": "stream",
     "text": [
      "1 : Not Found\n",
      "2 : Not Found\n",
      "3 : Not Found\n",
      "4 : Not Found\n"
     ]
    },
    {
     "name": "stderr",
     "output_type": "stream",
     "text": [
      " 25%|██▌       | 500/2000 [48:29<2:23:25,  5.74s/it]"
     ]
    },
    {
     "name": "stdout",
     "output_type": "stream",
     "text": [
      "1 : Not Found\n",
      "2 : Not Found\n",
      "3 : Not Found\n",
      "4 : Not Found\n"
     ]
    },
    {
     "name": "stderr",
     "output_type": "stream",
     "text": [
      " 25%|██▌       | 501/2000 [48:34<2:19:25,  5.58s/it]"
     ]
    },
    {
     "name": "stdout",
     "output_type": "stream",
     "text": [
      "1 : Not Found\n",
      "2 : Not Found\n",
      "3 : Not Found\n",
      "4 : Not Found\n"
     ]
    },
    {
     "name": "stderr",
     "output_type": "stream",
     "text": [
      " 25%|██▌       | 502/2000 [48:40<2:18:57,  5.57s/it]"
     ]
    },
    {
     "name": "stdout",
     "output_type": "stream",
     "text": [
      "1 : Not Found\n",
      "2 : Not Found\n",
      "3 : Not Found\n",
      "4 : Not Found\n"
     ]
    },
    {
     "name": "stderr",
     "output_type": "stream",
     "text": [
      " 25%|██▌       | 503/2000 [48:45<2:16:56,  5.49s/it]"
     ]
    },
    {
     "name": "stdout",
     "output_type": "stream",
     "text": [
      "1 : Not Found\n",
      "2 : Not Found\n",
      "3 : Not Found\n"
     ]
    },
    {
     "name": "stderr",
     "output_type": "stream",
     "text": [
      " 25%|██▌       | 504/2000 [48:50<2:13:49,  5.37s/it]"
     ]
    },
    {
     "name": "stdout",
     "output_type": "stream",
     "text": [
      "1 : Not Found\n",
      "2 : Not Found\n",
      "3 : Not Found\n",
      "4 : Not Found\n"
     ]
    },
    {
     "name": "stderr",
     "output_type": "stream",
     "text": [
      " 25%|██▌       | 505/2000 [48:56<2:15:13,  5.43s/it]"
     ]
    },
    {
     "name": "stdout",
     "output_type": "stream",
     "text": [
      "1 : Not Found\n",
      "2 : Not Found\n",
      "3 : Not Found\n",
      "4 : Not Found\n",
      "12 : Not Found\n",
      "13 : Not Found\n",
      "14 : Not Found\n",
      "15 : Not Found\n",
      "16 : Not Found\n",
      "17 : Not Found\n",
      "18 : Not Found\n",
      "19 : Not Found\n"
     ]
    },
    {
     "name": "stderr",
     "output_type": "stream",
     "text": [
      " 25%|██▌       | 506/2000 [49:05<2:43:08,  6.55s/it]"
     ]
    },
    {
     "name": "stdout",
     "output_type": "stream",
     "text": [
      "20 : Not Found\n",
      "1 : Not Found\n",
      "2 : Not Found\n",
      "3 : Not Found\n",
      "4 : Not Found\n",
      "17 : Not Found\n"
     ]
    },
    {
     "name": "stderr",
     "output_type": "stream",
     "text": [
      " 25%|██▌       | 507/2000 [49:11<2:40:41,  6.46s/it]"
     ]
    },
    {
     "name": "stdout",
     "output_type": "stream",
     "text": [
      "20 : Not Found\n",
      "1 : Not Found\n",
      "2 : Not Found\n",
      "3 : Not Found\n",
      "4 : Not Found\n",
      "6 : Not Found\n",
      "10 : Not Found\n",
      "11 : Not Found\n",
      "15 : Not Found\n"
     ]
    },
    {
     "name": "stderr",
     "output_type": "stream",
     "text": [
      " 25%|██▌       | 508/2000 [49:19<2:46:31,  6.70s/it]"
     ]
    },
    {
     "name": "stdout",
     "output_type": "stream",
     "text": [
      "1 : Not Found\n",
      "2 : Not Found\n",
      "3 : Not Found\n",
      "4 : Not Found\n",
      "11 : Not Found\n",
      "12 : Not Found\n",
      "15 : Not Found\n",
      "16 : Not Found\n",
      "17 : Not Found\n",
      "18 : Not Found\n",
      "19 : Not Found\n"
     ]
    },
    {
     "name": "stderr",
     "output_type": "stream",
     "text": [
      " 25%|██▌       | 509/2000 [49:27<2:59:21,  7.22s/it]"
     ]
    },
    {
     "name": "stdout",
     "output_type": "stream",
     "text": [
      "20 : Not Found\n",
      "1 : Not Found\n",
      "2 : Not Found\n",
      "3 : Not Found\n",
      "4 : Not Found\n",
      "7 : Not Found\n"
     ]
    },
    {
     "name": "stderr",
     "output_type": "stream",
     "text": [
      " 26%|██▌       | 510/2000 [49:33<2:50:50,  6.88s/it]"
     ]
    },
    {
     "name": "stdout",
     "output_type": "stream",
     "text": [
      "1 : Not Found\n",
      "2 : Not Found\n",
      "3 : Not Found\n",
      "4 : Not Found\n"
     ]
    },
    {
     "name": "stderr",
     "output_type": "stream",
     "text": [
      " 26%|██▌       | 511/2000 [49:38<2:39:28,  6.43s/it]"
     ]
    },
    {
     "name": "stdout",
     "output_type": "stream",
     "text": [
      "1 : Not Found\n",
      "2 : Not Found\n",
      "3 : Not Found\n",
      "4 : Not Found\n",
      "9 : Not Found\n"
     ]
    },
    {
     "name": "stderr",
     "output_type": "stream",
     "text": [
      " 26%|██▌       | 512/2000 [49:45<2:36:56,  6.33s/it]"
     ]
    },
    {
     "name": "stdout",
     "output_type": "stream",
     "text": [
      "20 : Not Found\n",
      "1 : Not Found\n",
      "2 : Not Found\n",
      "3 : Not Found\n",
      "4 : Not Found\n",
      "5 : Not Found\n"
     ]
    },
    {
     "name": "stderr",
     "output_type": "stream",
     "text": [
      " 26%|██▌       | 513/2000 [49:50<2:30:32,  6.07s/it]"
     ]
    },
    {
     "name": "stdout",
     "output_type": "stream",
     "text": [
      "1 : Not Found\n",
      "2 : Not Found\n",
      "3 : Not Found\n",
      "4 : Not Found\n",
      "17 : Not Found\n",
      "19 : Not Found\n"
     ]
    },
    {
     "name": "stderr",
     "output_type": "stream",
     "text": [
      " 26%|██▌       | 514/2000 [49:57<2:33:26,  6.20s/it]"
     ]
    },
    {
     "name": "stdout",
     "output_type": "stream",
     "text": [
      "1 : Not Found\n",
      "2 : Not Found\n",
      "3 : Not Found\n",
      "4 : Not Found\n"
     ]
    },
    {
     "name": "stderr",
     "output_type": "stream",
     "text": [
      " 26%|██▌       | 515/2000 [50:02<2:24:19,  5.83s/it]"
     ]
    },
    {
     "name": "stdout",
     "output_type": "stream",
     "text": [
      "1 : Not Found\n",
      "2 : Not Found\n",
      "3 : Not Found\n",
      "4 : Not Found\n"
     ]
    },
    {
     "name": "stderr",
     "output_type": "stream",
     "text": [
      " 26%|██▌       | 516/2000 [50:06<2:17:48,  5.57s/it]"
     ]
    },
    {
     "name": "stdout",
     "output_type": "stream",
     "text": [
      "1 : Not Found\n",
      "2 : Not Found\n",
      "3 : Not Found\n",
      "4 : Not Found\n"
     ]
    },
    {
     "name": "stderr",
     "output_type": "stream",
     "text": [
      " 26%|██▌       | 517/2000 [50:12<2:17:20,  5.56s/it]"
     ]
    },
    {
     "name": "stdout",
     "output_type": "stream",
     "text": [
      "1 : Not Found\n",
      "2 : Not Found\n",
      "3 : Not Found\n",
      "4 : Not Found\n"
     ]
    },
    {
     "name": "stderr",
     "output_type": "stream",
     "text": [
      " 26%|██▌       | 518/2000 [50:17<2:13:42,  5.41s/it]"
     ]
    },
    {
     "name": "stdout",
     "output_type": "stream",
     "text": [
      "1 : Not Found\n",
      "2 : Not Found\n",
      "3 : Not Found\n",
      "4 : Not Found\n",
      "10 : Not Found\n",
      "13 : Not Found\n",
      "15 : Not Found\n",
      "18 : Not Found\n"
     ]
    },
    {
     "name": "stderr",
     "output_type": "stream",
     "text": [
      " 26%|██▌       | 519/2000 [50:24<2:24:41,  5.86s/it]"
     ]
    },
    {
     "name": "stdout",
     "output_type": "stream",
     "text": [
      "1 : Not Found\n",
      "2 : Not Found\n",
      "3 : Not Found\n",
      "4 : Not Found\n"
     ]
    },
    {
     "name": "stderr",
     "output_type": "stream",
     "text": [
      " 26%|██▌       | 520/2000 [50:29<2:20:53,  5.71s/it]"
     ]
    },
    {
     "name": "stdout",
     "output_type": "stream",
     "text": [
      "1 : Not Found\n",
      "2 : Not Found\n",
      "3 : Not Found\n",
      "4 : Not Found\n",
      "13 : Not Found\n"
     ]
    },
    {
     "name": "stderr",
     "output_type": "stream",
     "text": [
      " 26%|██▌       | 521/2000 [50:35<2:20:10,  5.69s/it]"
     ]
    },
    {
     "name": "stdout",
     "output_type": "stream",
     "text": [
      "1 : Not Found\n",
      "2 : Not Found\n",
      "3 : Not Found\n",
      "4 : Not Found\n",
      "5 : Not Found\n",
      "6 : Not Found\n",
      "7 : Not Found\n",
      "11 : Not Found\n",
      "12 : Not Found\n",
      "13 : Not Found\n"
     ]
    },
    {
     "name": "stderr",
     "output_type": "stream",
     "text": [
      " 26%|██▌       | 522/2000 [50:43<2:36:20,  6.35s/it]"
     ]
    },
    {
     "name": "stdout",
     "output_type": "stream",
     "text": [
      "1 : Not Found\n",
      "2 : Not Found\n",
      "3 : Not Found\n",
      "4 : Not Found\n"
     ]
    },
    {
     "name": "stderr",
     "output_type": "stream",
     "text": [
      " 26%|██▌       | 523/2000 [50:48<2:30:14,  6.10s/it]"
     ]
    },
    {
     "name": "stdout",
     "output_type": "stream",
     "text": [
      "1 : Not Found\n",
      "2 : Not Found\n",
      "3 : Not Found\n",
      "4 : Not Found\n",
      "9 : Not Found\n"
     ]
    },
    {
     "name": "stderr",
     "output_type": "stream",
     "text": [
      " 26%|██▌       | 524/2000 [50:54<2:28:03,  6.02s/it]"
     ]
    },
    {
     "name": "stdout",
     "output_type": "stream",
     "text": [
      "1 : Not Found\n",
      "2 : Not Found\n",
      "3 : Not Found\n",
      "4 : Not Found\n"
     ]
    },
    {
     "name": "stderr",
     "output_type": "stream",
     "text": [
      " 26%|██▋       | 525/2000 [51:00<2:23:10,  5.82s/it]"
     ]
    },
    {
     "name": "stdout",
     "output_type": "stream",
     "text": [
      "1 : Not Found\n",
      "2 : Not Found\n",
      "3 : Not Found\n",
      "4 : Not Found\n",
      "5 : Not Found\n",
      "9 : Not Found\n"
     ]
    },
    {
     "name": "stderr",
     "output_type": "stream",
     "text": [
      " 26%|██▋       | 526/2000 [51:06<2:25:41,  5.93s/it]"
     ]
    },
    {
     "name": "stdout",
     "output_type": "stream",
     "text": [
      "1 : Not Found\n",
      "2 : Not Found\n",
      "3 : Not Found\n",
      "4 : Not Found\n",
      "7 : Not Found\n",
      "8 : Not Found\n",
      "13 : Not Found\n",
      "19 : Not Found\n"
     ]
    },
    {
     "name": "stderr",
     "output_type": "stream",
     "text": [
      " 26%|██▋       | 527/2000 [51:13<2:37:12,  6.40s/it]"
     ]
    },
    {
     "name": "stdout",
     "output_type": "stream",
     "text": [
      "20 : Not Found\n",
      "1 : Not Found\n",
      "2 : Not Found\n",
      "3 : Not Found\n",
      "4 : Not Found\n"
     ]
    },
    {
     "name": "stderr",
     "output_type": "stream",
     "text": [
      " 26%|██▋       | 528/2000 [51:19<2:31:45,  6.19s/it]"
     ]
    },
    {
     "name": "stdout",
     "output_type": "stream",
     "text": [
      "1 : Not Found\n",
      "2 : Not Found\n",
      "3 : Not Found\n",
      "4 : Not Found\n",
      "5 : Not Found\n"
     ]
    },
    {
     "name": "stderr",
     "output_type": "stream",
     "text": [
      " 26%|██▋       | 529/2000 [51:24<2:25:43,  5.94s/it]"
     ]
    },
    {
     "name": "stdout",
     "output_type": "stream",
     "text": [
      "1 : Not Found\n",
      "2 : Not Found\n",
      "3 : Not Found\n"
     ]
    },
    {
     "name": "stderr",
     "output_type": "stream",
     "text": [
      " 26%|██▋       | 530/2000 [51:29<2:18:29,  5.65s/it]"
     ]
    },
    {
     "name": "stdout",
     "output_type": "stream",
     "text": [
      "1 : Not Found\n",
      "2 : Not Found\n",
      "3 : Not Found\n",
      "4 : Not Found\n",
      "11 : Not Found\n",
      "18 : Not Found\n",
      "19 : Not Found\n"
     ]
    },
    {
     "name": "stderr",
     "output_type": "stream",
     "text": [
      " 27%|██▋       | 531/2000 [51:36<2:27:14,  6.01s/it]"
     ]
    },
    {
     "name": "stdout",
     "output_type": "stream",
     "text": [
      "1 : Not Found\n",
      "2 : Not Found\n",
      "3 : Not Found\n",
      "4 : Not Found\n",
      "5 : Not Found\n",
      "17 : Not Found\n"
     ]
    },
    {
     "name": "stderr",
     "output_type": "stream",
     "text": [
      " 27%|██▋       | 532/2000 [51:43<2:29:27,  6.11s/it]"
     ]
    },
    {
     "name": "stdout",
     "output_type": "stream",
     "text": [
      "20 : Not Found\n",
      "1 : Not Found\n",
      "2 : Not Found\n",
      "3 : Not Found\n",
      "4 : Not Found\n",
      "15 : Not Found\n"
     ]
    },
    {
     "name": "stderr",
     "output_type": "stream",
     "text": [
      " 27%|██▋       | 533/2000 [51:48<2:27:55,  6.05s/it]"
     ]
    },
    {
     "name": "stdout",
     "output_type": "stream",
     "text": [
      "1 : Not Found\n",
      "2 : Not Found\n",
      "3 : Not Found\n",
      "4 : Not Found\n"
     ]
    },
    {
     "name": "stderr",
     "output_type": "stream",
     "text": [
      " 27%|██▋       | 534/2000 [51:54<2:25:03,  5.94s/it]"
     ]
    },
    {
     "name": "stdout",
     "output_type": "stream",
     "text": [
      "20 : Not Found\n",
      "1 : Not Found\n",
      "2 : Not Found\n",
      "3 : Not Found\n",
      "4 : Not Found\n",
      "8 : Not Found\n"
     ]
    },
    {
     "name": "stderr",
     "output_type": "stream",
     "text": [
      " 27%|██▋       | 535/2000 [52:00<2:24:20,  5.91s/it]"
     ]
    },
    {
     "name": "stdout",
     "output_type": "stream",
     "text": [
      "1 : Not Found\n",
      "2 : Not Found\n",
      "3 : Not Found\n",
      "4 : Not Found\n"
     ]
    },
    {
     "name": "stderr",
     "output_type": "stream",
     "text": [
      " 27%|██▋       | 536/2000 [52:05<2:19:34,  5.72s/it]"
     ]
    },
    {
     "name": "stdout",
     "output_type": "stream",
     "text": [
      "1 : Not Found\n",
      "2 : Not Found\n",
      "3 : Not Found\n",
      "4 : Not Found\n"
     ]
    },
    {
     "name": "stderr",
     "output_type": "stream",
     "text": [
      " 27%|██▋       | 537/2000 [52:11<2:16:42,  5.61s/it]"
     ]
    },
    {
     "name": "stdout",
     "output_type": "stream",
     "text": [
      "1 : Not Found\n",
      "2 : Not Found\n",
      "3 : Not Found\n",
      "4 : Not Found\n"
     ]
    },
    {
     "name": "stderr",
     "output_type": "stream",
     "text": [
      " 27%|██▋       | 538/2000 [52:16<2:13:04,  5.46s/it]"
     ]
    },
    {
     "name": "stdout",
     "output_type": "stream",
     "text": [
      "1 : Not Found\n",
      "2 : Not Found\n",
      "3 : Not Found\n",
      "4 : Not Found\n",
      "8 : Not Found\n"
     ]
    },
    {
     "name": "stderr",
     "output_type": "stream",
     "text": [
      " 27%|██▋       | 539/2000 [52:22<2:15:45,  5.58s/it]"
     ]
    },
    {
     "name": "stdout",
     "output_type": "stream",
     "text": [
      "1 : Not Found\n",
      "2 : Not Found\n",
      "3 : Not Found\n",
      "4 : Not Found\n",
      "6 : Not Found\n",
      "7 : Not Found\n",
      "8 : Not Found\n",
      "11 : Not Found\n",
      "16 : Not Found\n",
      "17 : Not Found\n",
      "18 : Not Found\n"
     ]
    },
    {
     "name": "stderr",
     "output_type": "stream",
     "text": [
      " 27%|██▋       | 540/2000 [52:30<2:39:26,  6.55s/it]"
     ]
    },
    {
     "name": "stdout",
     "output_type": "stream",
     "text": [
      "19 : Not Found\n",
      "1 : Not Found\n",
      "2 : Not Found\n",
      "3 : Not Found\n",
      "4 : Not Found\n",
      "13 : Not Found\n",
      "15 : Not Found\n",
      "16 : Not Found\n",
      "17 : Not Found\n",
      "19 : Not Found\n"
     ]
    },
    {
     "name": "stderr",
     "output_type": "stream",
     "text": [
      " 27%|██▋       | 541/2000 [52:38<2:45:24,  6.80s/it]"
     ]
    },
    {
     "name": "stdout",
     "output_type": "stream",
     "text": [
      "1 : Not Found\n",
      "2 : Not Found\n",
      "3 : Not Found\n",
      "4 : Not Found\n"
     ]
    },
    {
     "name": "stderr",
     "output_type": "stream",
     "text": [
      " 27%|██▋       | 542/2000 [52:43<2:36:29,  6.44s/it]"
     ]
    },
    {
     "name": "stdout",
     "output_type": "stream",
     "text": [
      "1 : Not Found\n",
      "2 : Not Found\n",
      "3 : Not Found\n",
      "4 : Not Found\n",
      "5 : Not Found\n"
     ]
    },
    {
     "name": "stderr",
     "output_type": "stream",
     "text": [
      " 27%|██▋       | 543/2000 [52:49<2:30:51,  6.21s/it]"
     ]
    },
    {
     "name": "stdout",
     "output_type": "stream",
     "text": [
      "1 : Not Found\n",
      "2 : Not Found\n",
      "3 : Not Found\n",
      "4 : Not Found\n"
     ]
    },
    {
     "name": "stderr",
     "output_type": "stream",
     "text": [
      " 27%|██▋       | 544/2000 [52:54<2:24:41,  5.96s/it]"
     ]
    },
    {
     "name": "stdout",
     "output_type": "stream",
     "text": [
      "1 : Not Found\n",
      "2 : Not Found\n",
      "3 : Not Found\n",
      "4 : Not Found\n",
      "5 : Not Found\n",
      "6 : Not Found\n",
      "7 : Not Found\n",
      "8 : Not Found\n",
      "15 : Not Found\n",
      "18 : Not Found\n",
      "19 : Not Found\n"
     ]
    },
    {
     "name": "stderr",
     "output_type": "stream",
     "text": [
      " 27%|██▋       | 545/2000 [53:03<2:43:35,  6.75s/it]"
     ]
    },
    {
     "name": "stdout",
     "output_type": "stream",
     "text": [
      "1 : Not Found\n",
      "2 : Not Found\n",
      "3 : Not Found\n",
      "4 : Not Found\n",
      "5 : Not Found\n",
      "7 : Not Found\n",
      "10 : Not Found\n",
      "13 : Not Found\n",
      "17 : Not Found\n"
     ]
    },
    {
     "name": "stderr",
     "output_type": "stream",
     "text": [
      " 27%|██▋       | 546/2000 [53:11<2:50:29,  7.04s/it]"
     ]
    },
    {
     "name": "stdout",
     "output_type": "stream",
     "text": [
      "20 : Not Found\n",
      "1 : Not Found\n",
      "2 : Not Found\n",
      "3 : Not Found\n",
      "4 : Not Found\n",
      "14 : Not Found\n"
     ]
    },
    {
     "name": "stderr",
     "output_type": "stream",
     "text": [
      " 27%|██▋       | 547/2000 [53:16<2:41:11,  6.66s/it]"
     ]
    },
    {
     "name": "stdout",
     "output_type": "stream",
     "text": [
      "1 : Not Found\n",
      "2 : Not Found\n",
      "3 : Not Found\n",
      "4 : Not Found\n"
     ]
    },
    {
     "name": "stderr",
     "output_type": "stream",
     "text": [
      " 27%|██▋       | 548/2000 [53:22<2:31:03,  6.24s/it]"
     ]
    },
    {
     "name": "stdout",
     "output_type": "stream",
     "text": [
      "1 : Not Found\n",
      "2 : Not Found\n",
      "3 : Not Found\n",
      "4 : Not Found\n"
     ]
    },
    {
     "name": "stderr",
     "output_type": "stream",
     "text": [
      " 27%|██▋       | 549/2000 [53:27<2:26:44,  6.07s/it]"
     ]
    },
    {
     "name": "stdout",
     "output_type": "stream",
     "text": [
      "20 : Not Found\n",
      "1 : Not Found\n",
      "2 : Not Found\n",
      "3 : Not Found\n",
      "4 : Not Found\n",
      "5 : Not Found\n",
      "6 : Not Found\n",
      "7 : Not Found\n",
      "8 : Not Found\n",
      "9 : Not Found\n",
      "10 : Not Found\n",
      "11 : Not Found\n",
      "12 : Not Found\n"
     ]
    },
    {
     "name": "stderr",
     "output_type": "stream",
     "text": [
      " 28%|██▊       | 550/2000 [53:36<2:42:57,  6.74s/it]"
     ]
    },
    {
     "name": "stdout",
     "output_type": "stream",
     "text": [
      "1 : Not Found\n",
      "2 : Not Found\n",
      "3 : Not Found\n",
      "4 : Not Found\n"
     ]
    },
    {
     "name": "stderr",
     "output_type": "stream",
     "text": [
      " 28%|██▊       | 551/2000 [53:41<2:33:12,  6.34s/it]"
     ]
    },
    {
     "name": "stdout",
     "output_type": "stream",
     "text": [
      "1 : Not Found\n",
      "2 : Not Found\n",
      "3 : Not Found\n",
      "4 : Not Found\n"
     ]
    },
    {
     "name": "stderr",
     "output_type": "stream",
     "text": [
      " 28%|██▊       | 552/2000 [53:47<2:27:32,  6.11s/it]"
     ]
    },
    {
     "name": "stdout",
     "output_type": "stream",
     "text": [
      "1 : Not Found\n",
      "2 : Not Found\n",
      "3 : Not Found\n",
      "4 : Not Found\n"
     ]
    },
    {
     "name": "stderr",
     "output_type": "stream",
     "text": [
      " 28%|██▊       | 553/2000 [53:52<2:23:44,  5.96s/it]"
     ]
    },
    {
     "name": "stdout",
     "output_type": "stream",
     "text": [
      "1 : Not Found\n",
      "2 : Not Found\n",
      "3 : Not Found\n",
      "4 : Not Found\n",
      "6 : Not Found\n",
      "7 : Not Found\n"
     ]
    },
    {
     "name": "stderr",
     "output_type": "stream",
     "text": [
      " 28%|██▊       | 554/2000 [53:59<2:28:53,  6.18s/it]"
     ]
    },
    {
     "name": "stdout",
     "output_type": "stream",
     "text": [
      "20 : Not Found\n",
      "1 : Not Found\n",
      "2 : Not Found\n",
      "3 : Not Found\n",
      "4 : Not Found\n",
      "13 : Not Found\n"
     ]
    },
    {
     "name": "stderr",
     "output_type": "stream",
     "text": [
      " 28%|██▊       | 555/2000 [54:05<2:27:29,  6.12s/it]"
     ]
    },
    {
     "name": "stdout",
     "output_type": "stream",
     "text": [
      "1 : Not Found\n",
      "2 : Not Found\n",
      "3 : Not Found\n",
      "4 : Not Found\n",
      "19 : Not Found\n"
     ]
    },
    {
     "name": "stderr",
     "output_type": "stream",
     "text": [
      " 28%|██▊       | 556/2000 [54:11<2:28:11,  6.16s/it]"
     ]
    },
    {
     "name": "stdout",
     "output_type": "stream",
     "text": [
      "20 : Not Found\n",
      "1 : Not Found\n",
      "2 : Not Found\n",
      "3 : Not Found\n",
      "4 : Not Found\n",
      "15 : Not Found\n",
      "16 : Not Found\n"
     ]
    },
    {
     "name": "stderr",
     "output_type": "stream",
     "text": [
      " 28%|██▊       | 557/2000 [54:17<2:27:12,  6.12s/it]"
     ]
    },
    {
     "name": "stdout",
     "output_type": "stream",
     "text": [
      "1 : Not Found\n",
      "2 : Not Found\n",
      "3 : Not Found\n",
      "4 : Not Found\n"
     ]
    },
    {
     "name": "stderr",
     "output_type": "stream",
     "text": [
      " 28%|██▊       | 558/2000 [54:23<2:25:24,  6.05s/it]"
     ]
    },
    {
     "name": "stdout",
     "output_type": "stream",
     "text": [
      "20 : Not Found\n",
      "1 : Not Found\n",
      "2 : Not Found\n",
      "3 : Not Found\n",
      "4 : Not Found\n",
      "15 : Not Found\n",
      "16 : Not Found\n",
      "17 : Not Found\n"
     ]
    },
    {
     "name": "stderr",
     "output_type": "stream",
     "text": [
      " 28%|██▊       | 559/2000 [54:30<2:29:30,  6.23s/it]"
     ]
    },
    {
     "name": "stdout",
     "output_type": "stream",
     "text": [
      "1 : Not Found\n",
      "2 : Not Found\n",
      "3 : Not Found\n",
      "4 : Not Found\n",
      "5 : Not Found\n"
     ]
    },
    {
     "name": "stderr",
     "output_type": "stream",
     "text": [
      " 28%|██▊       | 560/2000 [54:36<2:26:48,  6.12s/it]"
     ]
    },
    {
     "name": "stdout",
     "output_type": "stream",
     "text": [
      "1 : Not Found\n",
      "2 : Not Found\n",
      "3 : Not Found\n",
      "4 : Not Found\n",
      "5 : Not Found\n"
     ]
    },
    {
     "name": "stderr",
     "output_type": "stream",
     "text": [
      " 28%|██▊       | 561/2000 [54:41<2:24:36,  6.03s/it]"
     ]
    },
    {
     "name": "stdout",
     "output_type": "stream",
     "text": [
      "1 : Not Found\n",
      "2 : Not Found\n",
      "3 : Not Found\n",
      "4 : Not Found\n"
     ]
    },
    {
     "name": "stderr",
     "output_type": "stream",
     "text": [
      " 28%|██▊       | 562/2000 [54:47<2:19:14,  5.81s/it]"
     ]
    },
    {
     "name": "stdout",
     "output_type": "stream",
     "text": [
      "1 : Not Found\n",
      "2 : Not Found\n",
      "3 : Not Found\n",
      "4 : Not Found\n",
      "7 : Not Found\n",
      "10 : Not Found\n"
     ]
    },
    {
     "name": "stderr",
     "output_type": "stream",
     "text": [
      " 28%|██▊       | 563/2000 [54:53<2:23:33,  5.99s/it]"
     ]
    },
    {
     "name": "stdout",
     "output_type": "stream",
     "text": [
      "1 : Not Found\n",
      "2 : Not Found\n",
      "3 : Not Found\n",
      "4 : Not Found\n"
     ]
    },
    {
     "name": "stderr",
     "output_type": "stream",
     "text": [
      " 28%|██▊       | 564/2000 [54:58<2:17:36,  5.75s/it]"
     ]
    },
    {
     "name": "stdout",
     "output_type": "stream",
     "text": [
      "1 : Not Found\n",
      "2 : Not Found\n",
      "3 : Not Found\n",
      "4 : Not Found\n",
      "8 : Not Found\n",
      "17 : Not Found\n"
     ]
    },
    {
     "name": "stderr",
     "output_type": "stream",
     "text": [
      " 28%|██▊       | 565/2000 [55:05<2:23:02,  5.98s/it]"
     ]
    },
    {
     "name": "stdout",
     "output_type": "stream",
     "text": [
      "1 : Not Found\n",
      "2 : Not Found\n",
      "3 : Not Found\n",
      "4 : Not Found\n"
     ]
    },
    {
     "name": "stderr",
     "output_type": "stream",
     "text": [
      " 28%|██▊       | 566/2000 [55:10<2:20:12,  5.87s/it]"
     ]
    },
    {
     "name": "stdout",
     "output_type": "stream",
     "text": [
      "20 : Not Found\n",
      "1 : Not Found\n",
      "2 : Not Found\n",
      "3 : Not Found\n",
      "4 : Not Found\n",
      "5 : Not Found\n"
     ]
    },
    {
     "name": "stderr",
     "output_type": "stream",
     "text": [
      " 28%|██▊       | 567/2000 [55:16<2:18:21,  5.79s/it]"
     ]
    },
    {
     "name": "stdout",
     "output_type": "stream",
     "text": [
      "1 : Not Found\n",
      "2 : Not Found\n",
      "3 : Not Found\n",
      "4 : Not Found\n",
      "15 : Not Found\n"
     ]
    },
    {
     "name": "stderr",
     "output_type": "stream",
     "text": [
      " 28%|██▊       | 568/2000 [55:22<2:18:39,  5.81s/it]"
     ]
    },
    {
     "name": "stdout",
     "output_type": "stream",
     "text": [
      "1 : Not Found\n",
      "2 : Not Found\n",
      "3 : Not Found\n",
      "4 : Not Found\n",
      "10 : Not Found\n",
      "12 : Not Found\n",
      "13 : Not Found\n",
      "14 : Not Found\n",
      "17 : Not Found\n",
      "19 : Not Found\n"
     ]
    },
    {
     "name": "stderr",
     "output_type": "stream",
     "text": [
      " 28%|██▊       | 569/2000 [55:30<2:35:47,  6.53s/it]"
     ]
    },
    {
     "name": "stdout",
     "output_type": "stream",
     "text": [
      "1 : Not Found\n",
      "2 : Not Found\n",
      "3 : Not Found\n",
      "4 : Not Found\n",
      "15 : Not Found\n",
      "18 : Not Found\n"
     ]
    },
    {
     "name": "stderr",
     "output_type": "stream",
     "text": [
      " 28%|██▊       | 570/2000 [55:36<2:32:22,  6.39s/it]"
     ]
    },
    {
     "name": "stdout",
     "output_type": "stream",
     "text": [
      "1 : Not Found\n",
      "2 : Not Found\n",
      "3 : Not Found\n",
      "4 : Not Found\n",
      "12 : Not Found\n"
     ]
    },
    {
     "name": "stderr",
     "output_type": "stream",
     "text": [
      " 29%|██▊       | 571/2000 [55:42<2:24:30,  6.07s/it]"
     ]
    },
    {
     "name": "stdout",
     "output_type": "stream",
     "text": [
      "1 : Not Found\n",
      "2 : Not Found\n",
      "3 : Not Found\n",
      "4 : Not Found\n",
      "5 : Not Found\n"
     ]
    },
    {
     "name": "stderr",
     "output_type": "stream",
     "text": [
      " 29%|██▊       | 572/2000 [55:47<2:21:40,  5.95s/it]"
     ]
    },
    {
     "name": "stdout",
     "output_type": "stream",
     "text": [
      "1 : Not Found\n",
      "2 : Not Found\n",
      "3 : Not Found\n",
      "4 : Not Found\n",
      "5 : Not Found\n",
      "6 : Not Found\n",
      "9 : Not Found\n"
     ]
    },
    {
     "name": "stderr",
     "output_type": "stream",
     "text": [
      " 29%|██▊       | 573/2000 [55:54<2:27:35,  6.21s/it]"
     ]
    },
    {
     "name": "stdout",
     "output_type": "stream",
     "text": [
      "1 : Not Found\n",
      "2 : Not Found\n",
      "3 : Not Found\n",
      "4 : Not Found\n",
      "6 : Not Found\n",
      "13 : Not Found\n",
      "14 : Not Found\n",
      "16 : Not Found\n",
      "17 : Not Found\n"
     ]
    },
    {
     "name": "stderr",
     "output_type": "stream",
     "text": [
      " 29%|██▊       | 574/2000 [56:02<2:38:28,  6.67s/it]"
     ]
    },
    {
     "name": "stdout",
     "output_type": "stream",
     "text": [
      "1 : Not Found\n",
      "2 : Not Found\n",
      "3 : Not Found\n",
      "4 : Not Found\n"
     ]
    },
    {
     "name": "stderr",
     "output_type": "stream",
     "text": [
      " 29%|██▉       | 575/2000 [56:07<2:30:59,  6.36s/it]"
     ]
    },
    {
     "name": "stdout",
     "output_type": "stream",
     "text": [
      "1 : Not Found\n",
      "2 : Not Found\n",
      "3 : Not Found\n",
      "4 : Not Found\n"
     ]
    },
    {
     "name": "stderr",
     "output_type": "stream",
     "text": [
      " 29%|██▉       | 576/2000 [56:12<2:21:23,  5.96s/it]"
     ]
    },
    {
     "name": "stdout",
     "output_type": "stream",
     "text": [
      "1 : Not Found\n",
      "2 : Not Found\n",
      "3 : Not Found\n",
      "4 : Not Found\n",
      "6 : Not Found\n",
      "7 : Not Found\n",
      "19 : Not Found\n"
     ]
    },
    {
     "name": "stderr",
     "output_type": "stream",
     "text": [
      " 29%|██▉       | 577/2000 [56:19<2:28:41,  6.27s/it]"
     ]
    },
    {
     "name": "stdout",
     "output_type": "stream",
     "text": [
      "20 : Not Found\n",
      "1 : Not Found\n",
      "2 : Not Found\n",
      "3 : Not Found\n",
      "4 : Not Found\n",
      "5 : Not Found\n"
     ]
    },
    {
     "name": "stderr",
     "output_type": "stream",
     "text": [
      " 29%|██▉       | 578/2000 [56:25<2:23:09,  6.04s/it]"
     ]
    },
    {
     "name": "stdout",
     "output_type": "stream",
     "text": [
      "1 : Not Found\n",
      "2 : Not Found\n",
      "3 : Not Found\n",
      "4 : Not Found\n",
      "5 : Not Found\n",
      "12 : Not Found\n"
     ]
    },
    {
     "name": "stderr",
     "output_type": "stream",
     "text": [
      " 29%|██▉       | 579/2000 [56:31<2:24:18,  6.09s/it]"
     ]
    },
    {
     "name": "stdout",
     "output_type": "stream",
     "text": [
      "1 : Not Found\n",
      "2 : Not Found\n",
      "3 : Not Found\n",
      "4 : Not Found\n",
      "11 : Not Found\n",
      "16 : Not Found\n"
     ]
    },
    {
     "name": "stderr",
     "output_type": "stream",
     "text": [
      " 29%|██▉       | 580/2000 [56:37<2:23:06,  6.05s/it]"
     ]
    },
    {
     "name": "stdout",
     "output_type": "stream",
     "text": [
      "1 : Not Found\n",
      "2 : Not Found\n",
      "3 : Not Found\n",
      "4 : Not Found\n"
     ]
    },
    {
     "name": "stderr",
     "output_type": "stream",
     "text": [
      " 29%|██▉       | 581/2000 [56:43<2:18:58,  5.88s/it]"
     ]
    },
    {
     "name": "stdout",
     "output_type": "stream",
     "text": [
      "1 : Not Found\n",
      "2 : Not Found\n",
      "3 : Not Found\n",
      "4 : Not Found\n"
     ]
    },
    {
     "name": "stderr",
     "output_type": "stream",
     "text": [
      " 29%|██▉       | 582/2000 [56:48<2:17:50,  5.83s/it]"
     ]
    },
    {
     "name": "stdout",
     "output_type": "stream",
     "text": [
      "1 : Not Found\n",
      "2 : Not Found\n",
      "3 : Not Found\n",
      "4 : Not Found\n"
     ]
    },
    {
     "name": "stderr",
     "output_type": "stream",
     "text": [
      " 29%|██▉       | 583/2000 [56:54<2:16:30,  5.78s/it]"
     ]
    },
    {
     "name": "stdout",
     "output_type": "stream",
     "text": [
      "1 : Not Found\n",
      "2 : Not Found\n",
      "3 : Not Found\n",
      "4 : Not Found\n"
     ]
    },
    {
     "name": "stderr",
     "output_type": "stream",
     "text": [
      " 29%|██▉       | 584/2000 [56:59<2:12:53,  5.63s/it]"
     ]
    },
    {
     "name": "stdout",
     "output_type": "stream",
     "text": [
      "1 : Not Found\n",
      "2 : Not Found\n",
      "3 : Not Found\n",
      "4 : Not Found\n"
     ]
    },
    {
     "name": "stderr",
     "output_type": "stream",
     "text": [
      " 29%|██▉       | 585/2000 [57:05<2:10:44,  5.54s/it]"
     ]
    },
    {
     "name": "stdout",
     "output_type": "stream",
     "text": [
      "1 : Not Found\n",
      "2 : Not Found\n",
      "3 : Not Found\n",
      "4 : Not Found\n"
     ]
    },
    {
     "name": "stderr",
     "output_type": "stream",
     "text": [
      " 29%|██▉       | 586/2000 [57:10<2:08:37,  5.46s/it]"
     ]
    },
    {
     "name": "stdout",
     "output_type": "stream",
     "text": [
      "1 : Not Found\n",
      "2 : Not Found\n",
      "3 : Not Found\n",
      "4 : Not Found\n",
      "5 : Not Found\n",
      "6 : Not Found\n",
      "7 : Not Found\n",
      "8 : Not Found\n",
      "13 : Not Found\n",
      "18 : Not Found\n"
     ]
    },
    {
     "name": "stderr",
     "output_type": "stream",
     "text": [
      " 29%|██▉       | 587/2000 [57:18<2:28:23,  6.30s/it]"
     ]
    },
    {
     "name": "stdout",
     "output_type": "stream",
     "text": [
      "1 : Not Found\n",
      "2 : Not Found\n",
      "3 : Not Found\n",
      "4 : Not Found\n",
      "5 : Not Found\n",
      "6 : Not Found\n",
      "7 : Not Found\n",
      "8 : Not Found\n",
      "13 : Not Found\n",
      "14 : Not Found\n",
      "15 : Not Found\n",
      "16 : Not Found\n",
      "17 : Not Found\n"
     ]
    },
    {
     "name": "stderr",
     "output_type": "stream",
     "text": [
      " 29%|██▉       | 588/2000 [57:28<2:52:14,  7.32s/it]"
     ]
    },
    {
     "name": "stdout",
     "output_type": "stream",
     "text": [
      "20 : Not Found\n",
      "1 : Not Found\n",
      "2 : Not Found\n",
      "3 : Not Found\n",
      "4 : Not Found\n",
      "5 : Not Found\n"
     ]
    },
    {
     "name": "stderr",
     "output_type": "stream",
     "text": [
      " 29%|██▉       | 589/2000 [57:33<2:39:58,  6.80s/it]"
     ]
    },
    {
     "name": "stdout",
     "output_type": "stream",
     "text": [
      "1 : Not Found\n",
      "2 : Not Found\n",
      "3 : Not Found\n",
      "4 : Not Found\n",
      "5 : Not Found\n"
     ]
    },
    {
     "name": "stderr",
     "output_type": "stream",
     "text": [
      " 30%|██▉       | 590/2000 [57:39<2:31:58,  6.47s/it]"
     ]
    },
    {
     "name": "stdout",
     "output_type": "stream",
     "text": [
      "1 : Not Found\n",
      "2 : Not Found\n",
      "3 : Not Found\n",
      "4 : Not Found\n",
      "6 : Not Found\n",
      "7 : Not Found\n",
      "8 : Not Found\n",
      "11 : Not Found\n",
      "19 : Not Found\n"
     ]
    },
    {
     "name": "stderr",
     "output_type": "stream",
     "text": [
      " 30%|██▉       | 591/2000 [57:47<2:40:13,  6.82s/it]"
     ]
    },
    {
     "name": "stdout",
     "output_type": "stream",
     "text": [
      "1 : Not Found\n",
      "2 : Not Found\n",
      "3 : Not Found\n",
      "4 : Not Found\n",
      "7 : Not Found\n",
      "9 : Not Found\n",
      "15 : Not Found\n",
      "16 : Not Found\n"
     ]
    },
    {
     "name": "stderr",
     "output_type": "stream",
     "text": [
      " 30%|██▉       | 592/2000 [57:54<2:41:39,  6.89s/it]"
     ]
    },
    {
     "name": "stdout",
     "output_type": "stream",
     "text": [
      "1 : Not Found\n",
      "2 : Not Found\n",
      "3 : Not Found\n",
      "4 : Not Found\n",
      "16 : Not Found\n"
     ]
    },
    {
     "name": "stderr",
     "output_type": "stream",
     "text": [
      " 30%|██▉       | 593/2000 [58:00<2:33:46,  6.56s/it]"
     ]
    },
    {
     "name": "stdout",
     "output_type": "stream",
     "text": [
      "1 : Not Found\n",
      "2 : Not Found\n",
      "3 : Not Found\n",
      "4 : Not Found\n"
     ]
    },
    {
     "name": "stderr",
     "output_type": "stream",
     "text": [
      " 30%|██▉       | 594/2000 [58:05<2:26:34,  6.25s/it]"
     ]
    },
    {
     "name": "stdout",
     "output_type": "stream",
     "text": [
      "1 : Not Found\n",
      "2 : Not Found\n",
      "3 : Not Found\n",
      "4 : Not Found\n"
     ]
    },
    {
     "name": "stderr",
     "output_type": "stream",
     "text": [
      " 30%|██▉       | 595/2000 [58:11<2:20:37,  6.01s/it]"
     ]
    },
    {
     "name": "stdout",
     "output_type": "stream",
     "text": [
      "1 : Not Found\n",
      "2 : Not Found\n",
      "3 : Not Found\n",
      "4 : Not Found\n",
      "6 : Not Found\n"
     ]
    },
    {
     "name": "stderr",
     "output_type": "stream",
     "text": [
      " 30%|██▉       | 596/2000 [58:17<2:24:41,  6.18s/it]"
     ]
    },
    {
     "name": "stdout",
     "output_type": "stream",
     "text": [
      "19 : Not Found\n",
      "1 : Not Found\n",
      "2 : Not Found\n",
      "3 : Not Found\n",
      "4 : Not Found\n"
     ]
    },
    {
     "name": "stderr",
     "output_type": "stream",
     "text": [
      " 30%|██▉       | 597/2000 [58:23<2:18:49,  5.94s/it]"
     ]
    },
    {
     "name": "stdout",
     "output_type": "stream",
     "text": [
      "1 : Not Found\n",
      "2 : Not Found\n",
      "3 : Not Found\n",
      "4 : Not Found\n"
     ]
    },
    {
     "name": "stderr",
     "output_type": "stream",
     "text": [
      " 30%|██▉       | 598/2000 [58:28<2:14:17,  5.75s/it]"
     ]
    },
    {
     "name": "stdout",
     "output_type": "stream",
     "text": [
      "1 : Not Found\n",
      "2 : Not Found\n",
      "3 : Not Found\n",
      "4 : Not Found\n",
      "6 : Not Found\n"
     ]
    },
    {
     "name": "stderr",
     "output_type": "stream",
     "text": [
      " 30%|██▉       | 599/2000 [58:34<2:15:01,  5.78s/it]"
     ]
    },
    {
     "name": "stdout",
     "output_type": "stream",
     "text": [
      "1 : Not Found\n",
      "2 : Not Found\n",
      "3 : Not Found\n",
      "4 : Not Found\n"
     ]
    },
    {
     "name": "stderr",
     "output_type": "stream",
     "text": [
      " 30%|███       | 600/2000 [58:39<2:13:09,  5.71s/it]"
     ]
    },
    {
     "name": "stdout",
     "output_type": "stream",
     "text": [
      "1 : Not Found\n",
      "2 : Not Found\n",
      "3 : Not Found\n",
      "4 : Not Found\n"
     ]
    },
    {
     "name": "stderr",
     "output_type": "stream",
     "text": [
      " 30%|███       | 601/2000 [58:45<2:10:30,  5.60s/it]"
     ]
    },
    {
     "name": "stdout",
     "output_type": "stream",
     "text": [
      "1 : Not Found\n",
      "2 : Not Found\n",
      "3 : Not Found\n",
      "4 : Not Found\n"
     ]
    },
    {
     "name": "stderr",
     "output_type": "stream",
     "text": [
      " 30%|███       | 602/2000 [58:50<2:09:37,  5.56s/it]"
     ]
    },
    {
     "name": "stdout",
     "output_type": "stream",
     "text": [
      "1 : Not Found\n",
      "2 : Not Found\n",
      "3 : Not Found\n",
      "4 : Not Found\n",
      "5 : Not Found\n",
      "7 : Not Found\n",
      "8 : Not Found\n",
      "9 : Not Found\n",
      "10 : Not Found\n",
      "14 : Not Found\n"
     ]
    },
    {
     "name": "stderr",
     "output_type": "stream",
     "text": [
      " 30%|███       | 603/2000 [58:58<2:25:56,  6.27s/it]"
     ]
    },
    {
     "name": "stdout",
     "output_type": "stream",
     "text": [
      "1 : Not Found\n",
      "2 : Not Found\n",
      "3 : Not Found\n",
      "4 : Not Found\n"
     ]
    },
    {
     "name": "stderr",
     "output_type": "stream",
     "text": [
      " 30%|███       | 604/2000 [59:04<2:21:09,  6.07s/it]"
     ]
    },
    {
     "name": "stdout",
     "output_type": "stream",
     "text": [
      "1 : Not Found\n",
      "2 : Not Found\n",
      "3 : Not Found\n",
      "4 : Not Found\n",
      "6 : Not Found\n",
      "7 : Not Found\n"
     ]
    },
    {
     "name": "stderr",
     "output_type": "stream",
     "text": [
      " 30%|███       | 605/2000 [59:10<2:23:28,  6.17s/it]"
     ]
    },
    {
     "name": "stdout",
     "output_type": "stream",
     "text": [
      "19 : Not Found\n",
      "1 : Not Found\n",
      "2 : Not Found\n",
      "3 : Not Found\n",
      "4 : Not Found\n"
     ]
    },
    {
     "name": "stderr",
     "output_type": "stream",
     "text": [
      " 30%|███       | 606/2000 [59:15<2:18:44,  5.97s/it]"
     ]
    },
    {
     "name": "stdout",
     "output_type": "stream",
     "text": [
      "1 : Not Found\n",
      "2 : Not Found\n",
      "3 : Not Found\n",
      "4 : Not Found\n"
     ]
    },
    {
     "name": "stderr",
     "output_type": "stream",
     "text": [
      " 30%|███       | 607/2000 [59:21<2:14:52,  5.81s/it]"
     ]
    },
    {
     "name": "stdout",
     "output_type": "stream",
     "text": [
      "1 : Not Found\n",
      "2 : Not Found\n",
      "3 : Not Found\n",
      "4 : Not Found\n"
     ]
    },
    {
     "name": "stderr",
     "output_type": "stream",
     "text": [
      " 30%|███       | 608/2000 [59:26<2:11:22,  5.66s/it]"
     ]
    },
    {
     "name": "stdout",
     "output_type": "stream",
     "text": [
      "1 : Not Found\n",
      "2 : Not Found\n",
      "3 : Not Found\n",
      "4 : Not Found\n",
      "5 : Not Found\n",
      "6 : Not Found\n",
      "7 : Not Found\n"
     ]
    },
    {
     "name": "stderr",
     "output_type": "stream",
     "text": [
      " 30%|███       | 609/2000 [59:33<2:16:57,  5.91s/it]"
     ]
    },
    {
     "name": "stdout",
     "output_type": "stream",
     "text": [
      "1 : Not Found\n",
      "2 : Not Found\n",
      "3 : Not Found\n",
      "4 : Not Found\n"
     ]
    },
    {
     "name": "stderr",
     "output_type": "stream",
     "text": [
      " 30%|███       | 610/2000 [59:38<2:14:20,  5.80s/it]"
     ]
    },
    {
     "name": "stdout",
     "output_type": "stream",
     "text": [
      "19 : Not Found\n",
      "1 : Not Found\n",
      "2 : Not Found\n",
      "3 : Not Found\n",
      "4 : Not Found\n"
     ]
    },
    {
     "name": "stderr",
     "output_type": "stream",
     "text": [
      " 31%|███       | 611/2000 [59:44<2:14:18,  5.80s/it]"
     ]
    },
    {
     "name": "stdout",
     "output_type": "stream",
     "text": [
      "1 : Not Found\n",
      "2 : Not Found\n",
      "3 : Not Found\n",
      "4 : Not Found\n"
     ]
    },
    {
     "name": "stderr",
     "output_type": "stream",
     "text": [
      " 31%|███       | 612/2000 [59:50<2:12:56,  5.75s/it]"
     ]
    },
    {
     "name": "stdout",
     "output_type": "stream",
     "text": [
      "1 : Not Found\n",
      "2 : Not Found\n",
      "3 : Not Found\n",
      "4 : Not Found\n"
     ]
    },
    {
     "name": "stderr",
     "output_type": "stream",
     "text": [
      " 31%|███       | 613/2000 [59:55<2:09:05,  5.58s/it]"
     ]
    },
    {
     "name": "stdout",
     "output_type": "stream",
     "text": [
      "1 : Not Found\n",
      "2 : Not Found\n",
      "3 : Not Found\n",
      "4 : Not Found\n"
     ]
    },
    {
     "name": "stderr",
     "output_type": "stream",
     "text": [
      " 31%|███       | 614/2000 [1:00:00<2:07:47,  5.53s/it]"
     ]
    },
    {
     "name": "stdout",
     "output_type": "stream",
     "text": [
      "1 : Not Found\n",
      "2 : Not Found\n",
      "3 : Not Found\n",
      "4 : Not Found\n"
     ]
    },
    {
     "name": "stderr",
     "output_type": "stream",
     "text": [
      " 31%|███       | 615/2000 [1:00:06<2:06:28,  5.48s/it]"
     ]
    },
    {
     "name": "stdout",
     "output_type": "stream",
     "text": [
      "1 : Not Found\n",
      "2 : Not Found\n",
      "3 : Not Found\n",
      "4 : Not Found\n",
      "5 : Not Found\n"
     ]
    },
    {
     "name": "stderr",
     "output_type": "stream",
     "text": [
      " 31%|███       | 616/2000 [1:00:11<2:06:02,  5.46s/it]"
     ]
    },
    {
     "name": "stdout",
     "output_type": "stream",
     "text": [
      "1 : Not Found\n",
      "2 : Not Found\n",
      "3 : Not Found\n",
      "4 : Not Found\n",
      "6 : Not Found\n"
     ]
    },
    {
     "name": "stderr",
     "output_type": "stream",
     "text": [
      " 31%|███       | 617/2000 [1:00:17<2:09:48,  5.63s/it]"
     ]
    },
    {
     "name": "stdout",
     "output_type": "stream",
     "text": [
      "1 : Not Found\n",
      "2 : Not Found\n",
      "3 : Not Found\n",
      "4 : Not Found\n",
      "5 : Not Found\n"
     ]
    },
    {
     "name": "stderr",
     "output_type": "stream",
     "text": [
      " 31%|███       | 618/2000 [1:00:23<2:10:23,  5.66s/it]"
     ]
    },
    {
     "name": "stdout",
     "output_type": "stream",
     "text": [
      "1 : Not Found\n",
      "2 : Not Found\n",
      "3 : Not Found\n",
      "4 : Not Found\n",
      "5 : Not Found\n"
     ]
    },
    {
     "name": "stderr",
     "output_type": "stream",
     "text": [
      " 31%|███       | 619/2000 [1:00:29<2:12:36,  5.76s/it]"
     ]
    },
    {
     "name": "stdout",
     "output_type": "stream",
     "text": [
      "1 : Not Found\n",
      "2 : Not Found\n",
      "3 : Not Found\n",
      "4 : Not Found\n",
      "8 : Not Found\n",
      "10 : Not Found\n",
      "19 : Not Found\n"
     ]
    },
    {
     "name": "stderr",
     "output_type": "stream",
     "text": [
      " 31%|███       | 620/2000 [1:00:36<2:20:04,  6.09s/it]"
     ]
    },
    {
     "name": "stdout",
     "output_type": "stream",
     "text": [
      "1 : Not Found\n",
      "2 : Not Found\n",
      "3 : Not Found\n",
      "4 : Not Found\n"
     ]
    },
    {
     "name": "stderr",
     "output_type": "stream",
     "text": [
      " 31%|███       | 621/2000 [1:00:41<2:15:31,  5.90s/it]"
     ]
    },
    {
     "name": "stdout",
     "output_type": "stream",
     "text": [
      "1 : Not Found\n",
      "2 : Not Found\n",
      "3 : Not Found\n",
      "4 : Not Found\n",
      "19 : Not Found\n"
     ]
    },
    {
     "name": "stderr",
     "output_type": "stream",
     "text": [
      " 31%|███       | 622/2000 [1:00:47<2:16:30,  5.94s/it]"
     ]
    },
    {
     "name": "stdout",
     "output_type": "stream",
     "text": [
      "1 : Not Found\n",
      "2 : Not Found\n",
      "3 : Not Found\n",
      "4 : Not Found\n"
     ]
    },
    {
     "name": "stderr",
     "output_type": "stream",
     "text": [
      " 31%|███       | 623/2000 [1:00:53<2:13:28,  5.82s/it]"
     ]
    },
    {
     "name": "stdout",
     "output_type": "stream",
     "text": [
      "1 : Not Found\n",
      "2 : Not Found\n",
      "3 : Not Found\n",
      "4 : Not Found\n"
     ]
    },
    {
     "name": "stderr",
     "output_type": "stream",
     "text": [
      " 31%|███       | 624/2000 [1:00:58<2:08:53,  5.62s/it]"
     ]
    },
    {
     "name": "stdout",
     "output_type": "stream",
     "text": [
      "1 : Not Found\n",
      "2 : Not Found\n",
      "3 : Not Found\n",
      "4 : Not Found\n",
      "5 : Not Found\n",
      "6 : Not Found\n",
      "7 : Not Found\n",
      "8 : Not Found\n",
      "9 : Not Found\n",
      "10 : Not Found\n",
      "11 : Not Found\n"
     ]
    },
    {
     "name": "stderr",
     "output_type": "stream",
     "text": [
      " 31%|███▏      | 625/2000 [1:01:06<2:24:30,  6.31s/it]"
     ]
    },
    {
     "name": "stdout",
     "output_type": "stream",
     "text": [
      "1 : Not Found\n",
      "2 : Not Found\n",
      "3 : Not Found\n",
      "4 : Not Found\n"
     ]
    },
    {
     "name": "stderr",
     "output_type": "stream",
     "text": [
      " 31%|███▏      | 626/2000 [1:01:11<2:17:13,  5.99s/it]"
     ]
    },
    {
     "name": "stdout",
     "output_type": "stream",
     "text": [
      "1 : Not Found\n",
      "2 : Not Found\n",
      "3 : Not Found\n",
      "4 : Not Found\n"
     ]
    },
    {
     "name": "stderr",
     "output_type": "stream",
     "text": [
      " 31%|███▏      | 627/2000 [1:01:17<2:14:11,  5.86s/it]"
     ]
    },
    {
     "name": "stdout",
     "output_type": "stream",
     "text": [
      "1 : Not Found\n",
      "2 : Not Found\n",
      "3 : Not Found\n",
      "4 : Not Found\n"
     ]
    },
    {
     "name": "stderr",
     "output_type": "stream",
     "text": [
      " 31%|███▏      | 628/2000 [1:01:22<2:10:32,  5.71s/it]"
     ]
    },
    {
     "name": "stdout",
     "output_type": "stream",
     "text": [
      "1 : Not Found\n",
      "2 : Not Found\n",
      "3 : Not Found\n",
      "4 : Not Found\n"
     ]
    },
    {
     "name": "stderr",
     "output_type": "stream",
     "text": [
      " 31%|███▏      | 629/2000 [1:01:27<2:08:31,  5.62s/it]"
     ]
    },
    {
     "name": "stdout",
     "output_type": "stream",
     "text": [
      "1 : Not Found\n",
      "2 : Not Found\n",
      "3 : Not Found\n",
      "4 : Not Found\n",
      "10 : Not Found\n"
     ]
    },
    {
     "name": "stderr",
     "output_type": "stream",
     "text": [
      " 32%|███▏      | 630/2000 [1:01:33<2:10:39,  5.72s/it]"
     ]
    },
    {
     "name": "stdout",
     "output_type": "stream",
     "text": [
      "1 : Not Found\n",
      "2 : Not Found\n",
      "3 : Not Found\n",
      "4 : Not Found\n",
      "5 : Not Found\n",
      "7 : Not Found\n",
      "10 : Not Found\n",
      "15 : Not Found\n"
     ]
    },
    {
     "name": "stderr",
     "output_type": "stream",
     "text": [
      " 32%|███▏      | 631/2000 [1:01:41<2:24:53,  6.35s/it]"
     ]
    },
    {
     "name": "stdout",
     "output_type": "stream",
     "text": [
      "20 : Not Found\n",
      "1 : Not Found\n",
      "2 : Not Found\n",
      "3 : Not Found\n",
      "4 : Not Found\n"
     ]
    },
    {
     "name": "stderr",
     "output_type": "stream",
     "text": [
      " 32%|███▏      | 632/2000 [1:01:47<2:20:02,  6.14s/it]"
     ]
    },
    {
     "name": "stdout",
     "output_type": "stream",
     "text": [
      "1 : Not Found\n",
      "2 : Not Found\n",
      "3 : Not Found\n"
     ]
    },
    {
     "name": "stderr",
     "output_type": "stream",
     "text": [
      " 32%|███▏      | 633/2000 [1:01:52<2:14:31,  5.90s/it]"
     ]
    },
    {
     "name": "stdout",
     "output_type": "stream",
     "text": [
      "1 : Not Found\n",
      "2 : Not Found\n",
      "3 : Not Found\n",
      "4 : Not Found\n",
      "5 : Not Found\n",
      "6 : Not Found\n",
      "7 : Not Found\n",
      "8 : Not Found\n",
      "9 : Not Found\n",
      "10 : Not Found\n",
      "11 : Not Found\n",
      "12 : Not Found\n",
      "13 : Not Found\n",
      "14 : Not Found\n",
      "15 : Not Found\n",
      "16 : Not Found\n",
      "17 : Not Found\n",
      "18 : Not Found\n",
      "19 : Not Found\n"
     ]
    },
    {
     "name": "stderr",
     "output_type": "stream",
     "text": [
      " 32%|███▏      | 634/2000 [1:02:04<2:54:54,  7.68s/it]"
     ]
    },
    {
     "name": "stdout",
     "output_type": "stream",
     "text": [
      "20 : Not Found\n",
      "1 : Not Found\n",
      "2 : Not Found\n",
      "3 : Not Found\n",
      "4 : Not Found\n"
     ]
    },
    {
     "name": "stderr",
     "output_type": "stream",
     "text": [
      " 32%|███▏      | 635/2000 [1:02:09<2:39:08,  7.00s/it]"
     ]
    },
    {
     "name": "stdout",
     "output_type": "stream",
     "text": [
      "1 : Not Found\n",
      "2 : Not Found\n",
      "3 : Not Found\n",
      "4 : Not Found\n",
      "13 : Not Found\n",
      "14 : Not Found\n"
     ]
    },
    {
     "name": "stderr",
     "output_type": "stream",
     "text": [
      " 32%|███▏      | 636/2000 [1:02:16<2:35:24,  6.84s/it]"
     ]
    },
    {
     "name": "stdout",
     "output_type": "stream",
     "text": [
      "1 : Not Found\n",
      "2 : Not Found\n",
      "3 : Not Found\n",
      "4 : Not Found\n",
      "11 : Not Found\n",
      "12 : Not Found\n"
     ]
    },
    {
     "name": "stderr",
     "output_type": "stream",
     "text": [
      " 32%|███▏      | 637/2000 [1:02:22<2:33:59,  6.78s/it]"
     ]
    },
    {
     "name": "stdout",
     "output_type": "stream",
     "text": [
      "20 : Not Found\n",
      "1 : Not Found\n",
      "2 : Not Found\n",
      "3 : Not Found\n",
      "4 : Not Found\n",
      "8 : Not Found\n",
      "9 : Not Found\n",
      "12 : Not Found\n",
      "14 : Not Found\n",
      "16 : Not Found\n"
     ]
    },
    {
     "name": "stderr",
     "output_type": "stream",
     "text": [
      " 32%|███▏      | 638/2000 [1:02:31<2:42:59,  7.18s/it]"
     ]
    },
    {
     "name": "stdout",
     "output_type": "stream",
     "text": [
      "1 : Not Found\n",
      "2 : Not Found\n",
      "3 : Not Found\n",
      "4 : Not Found\n",
      "5 : Not Found\n",
      "8 : Not Found\n"
     ]
    },
    {
     "name": "stderr",
     "output_type": "stream",
     "text": [
      " 32%|███▏      | 639/2000 [1:02:37<2:35:55,  6.87s/it]"
     ]
    },
    {
     "name": "stdout",
     "output_type": "stream",
     "text": [
      "1 : Not Found\n",
      "2 : Not Found\n",
      "3 : Not Found\n",
      "4 : Not Found\n",
      "17 : Not Found\n"
     ]
    },
    {
     "name": "stderr",
     "output_type": "stream",
     "text": [
      " 32%|███▏      | 640/2000 [1:02:43<2:30:51,  6.66s/it]"
     ]
    },
    {
     "name": "stdout",
     "output_type": "stream",
     "text": [
      "1 : Not Found\n",
      "2 : Not Found\n",
      "3 : Not Found\n",
      "12 : Not Found\n"
     ]
    },
    {
     "name": "stderr",
     "output_type": "stream",
     "text": [
      " 32%|███▏      | 641/2000 [1:02:49<2:25:22,  6.42s/it]"
     ]
    },
    {
     "name": "stdout",
     "output_type": "stream",
     "text": [
      "1 : Not Found\n",
      "2 : Not Found\n",
      "3 : Not Found\n",
      "4 : Not Found\n",
      "10 : Not Found\n",
      "11 : Not Found\n",
      "12 : Not Found\n",
      "13 : Not Found\n",
      "16 : Not Found\n"
     ]
    },
    {
     "name": "stderr",
     "output_type": "stream",
     "text": [
      " 32%|███▏      | 642/2000 [1:02:56<2:33:11,  6.77s/it]"
     ]
    },
    {
     "name": "stdout",
     "output_type": "stream",
     "text": [
      "1 : Not Found\n",
      "2 : Not Found\n",
      "3 : Not Found\n",
      "4 : Not Found\n",
      "5 : Not Found\n",
      "19 : Not Found\n"
     ]
    },
    {
     "name": "stderr",
     "output_type": "stream",
     "text": [
      " 32%|███▏      | 643/2000 [1:03:03<2:31:44,  6.71s/it]"
     ]
    },
    {
     "name": "stdout",
     "output_type": "stream",
     "text": [
      "1 : Not Found\n",
      "2 : Not Found\n",
      "3 : Not Found\n",
      "4 : Not Found\n"
     ]
    },
    {
     "name": "stderr",
     "output_type": "stream",
     "text": [
      " 32%|███▏      | 644/2000 [1:03:09<2:25:24,  6.43s/it]"
     ]
    },
    {
     "name": "stdout",
     "output_type": "stream",
     "text": [
      "1 : Not Found\n",
      "2 : Not Found\n",
      "3 : Not Found\n",
      "4 : Not Found\n",
      "5 : Not Found\n",
      "6 : Not Found\n",
      "16 : Not Found\n",
      "17 : Not Found\n",
      "18 : Not Found\n"
     ]
    },
    {
     "name": "stderr",
     "output_type": "stream",
     "text": [
      " 32%|███▏      | 645/2000 [1:03:16<2:33:07,  6.78s/it]"
     ]
    },
    {
     "name": "stdout",
     "output_type": "stream",
     "text": [
      "19 : Not Found\n",
      "1 : Not Found\n",
      "2 : Not Found\n",
      "3 : Not Found\n",
      "4 : Not Found\n",
      "5 : Not Found\n",
      "6 : Not Found\n",
      "7 : Not Found\n",
      "10 : Not Found\n",
      "14 : Not Found\n",
      "15 : Not Found\n",
      "16 : Not Found\n",
      "17 : Not Found\n"
     ]
    },
    {
     "name": "stderr",
     "output_type": "stream",
     "text": [
      " 32%|███▏      | 646/2000 [1:03:25<2:44:47,  7.30s/it]"
     ]
    },
    {
     "name": "stdout",
     "output_type": "stream",
     "text": [
      "1 : Not Found\n",
      "2 : Not Found\n",
      "3 : Not Found\n",
      "4 : Not Found\n"
     ]
    },
    {
     "name": "stderr",
     "output_type": "stream",
     "text": [
      " 32%|███▏      | 647/2000 [1:03:30<2:32:57,  6.78s/it]"
     ]
    },
    {
     "name": "stdout",
     "output_type": "stream",
     "text": [
      "1 : Not Found\n",
      "2 : Not Found\n",
      "3 : Not Found\n",
      "4 : Not Found\n"
     ]
    },
    {
     "name": "stderr",
     "output_type": "stream",
     "text": [
      " 32%|███▏      | 648/2000 [1:03:36<2:22:52,  6.34s/it]"
     ]
    },
    {
     "name": "stdout",
     "output_type": "stream",
     "text": [
      "1 : Not Found\n",
      "2 : Not Found\n",
      "3 : Not Found\n",
      "4 : Not Found\n",
      "6 : Not Found\n",
      "9 : Not Found\n"
     ]
    },
    {
     "name": "stderr",
     "output_type": "stream",
     "text": [
      " 32%|███▏      | 649/2000 [1:03:42<2:23:59,  6.40s/it]"
     ]
    },
    {
     "name": "stdout",
     "output_type": "stream",
     "text": [
      "1 : Not Found\n",
      "2 : Not Found\n",
      "3 : Not Found\n",
      "4 : Not Found\n"
     ]
    },
    {
     "name": "stderr",
     "output_type": "stream",
     "text": [
      " 32%|███▎      | 650/2000 [1:03:48<2:19:21,  6.19s/it]"
     ]
    },
    {
     "name": "stdout",
     "output_type": "stream",
     "text": [
      "1 : Not Found\n",
      "2 : Not Found\n",
      "3 : Not Found\n",
      "4 : Not Found\n"
     ]
    },
    {
     "name": "stderr",
     "output_type": "stream",
     "text": [
      " 33%|███▎      | 651/2000 [1:03:54<2:18:12,  6.15s/it]"
     ]
    },
    {
     "name": "stdout",
     "output_type": "stream",
     "text": [
      "20 : Not Found\n",
      "1 : Not Found\n",
      "2 : Not Found\n",
      "3 : Not Found\n",
      "4 : Not Found\n",
      "5 : Not Found\n",
      "8 : Not Found\n",
      "9 : Not Found\n",
      "10 : Not Found\n",
      "11 : Not Found\n",
      "12 : Not Found\n",
      "13 : Not Found\n",
      "14 : Not Found\n",
      "15 : Not Found\n",
      "16 : Not Found\n",
      "17 : Not Found\n",
      "18 : Not Found\n",
      "19 : Not Found\n"
     ]
    },
    {
     "name": "stderr",
     "output_type": "stream",
     "text": [
      " 33%|███▎      | 652/2000 [1:04:05<2:54:14,  7.76s/it]"
     ]
    },
    {
     "name": "stdout",
     "output_type": "stream",
     "text": [
      "20 : Not Found\n",
      "1 : Not Found\n",
      "2 : Not Found\n",
      "3 : Not Found\n",
      "4 : Not Found\n"
     ]
    },
    {
     "name": "stderr",
     "output_type": "stream",
     "text": [
      " 33%|███▎      | 653/2000 [1:04:11<2:41:27,  7.19s/it]"
     ]
    },
    {
     "name": "stdout",
     "output_type": "stream",
     "text": [
      "1 : Not Found\n",
      "2 : Not Found\n",
      "3 : Not Found\n",
      "4 : Not Found\n",
      "8 : Not Found\n",
      "10 : Not Found\n",
      "11 : Not Found\n",
      "12 : Not Found\n",
      "13 : Not Found\n",
      "14 : Not Found\n",
      "16 : Not Found\n",
      "17 : Not Found\n",
      "18 : Not Found\n",
      "19 : Not Found\n"
     ]
    },
    {
     "name": "stderr",
     "output_type": "stream",
     "text": [
      " 33%|███▎      | 654/2000 [1:04:21<2:59:08,  7.99s/it]"
     ]
    },
    {
     "name": "stdout",
     "output_type": "stream",
     "text": [
      "20 : Not Found\n",
      "1 : Not Found\n",
      "2 : Not Found\n",
      "3 : Not Found\n",
      "4 : Not Found\n",
      "16 : Not Found\n"
     ]
    },
    {
     "name": "stderr",
     "output_type": "stream",
     "text": [
      " 33%|███▎      | 655/2000 [1:04:28<2:48:24,  7.51s/it]"
     ]
    },
    {
     "name": "stdout",
     "output_type": "stream",
     "text": [
      "20 : Not Found\n",
      "1 : Not Found\n",
      "2 : Not Found\n",
      "3 : Not Found\n",
      "4 : Not Found\n"
     ]
    },
    {
     "name": "stderr",
     "output_type": "stream",
     "text": [
      " 33%|███▎      | 656/2000 [1:04:33<2:35:37,  6.95s/it]"
     ]
    },
    {
     "name": "stdout",
     "output_type": "stream",
     "text": [
      "1 : Not Found\n",
      "2 : Not Found\n",
      "3 : Not Found\n",
      "4 : Not Found\n"
     ]
    },
    {
     "name": "stderr",
     "output_type": "stream",
     "text": [
      " 33%|███▎      | 657/2000 [1:04:39<2:25:48,  6.51s/it]"
     ]
    },
    {
     "name": "stdout",
     "output_type": "stream",
     "text": [
      "1 : Not Found\n",
      "2 : Not Found\n",
      "3 : Not Found\n",
      "4 : Not Found\n"
     ]
    },
    {
     "name": "stderr",
     "output_type": "stream",
     "text": [
      " 33%|███▎      | 658/2000 [1:04:44<2:19:24,  6.23s/it]"
     ]
    },
    {
     "name": "stdout",
     "output_type": "stream",
     "text": [
      "1 : Not Found\n",
      "2 : Not Found\n",
      "3 : Not Found\n",
      "4 : Not Found\n"
     ]
    },
    {
     "name": "stderr",
     "output_type": "stream",
     "text": [
      " 33%|███▎      | 659/2000 [1:04:50<2:14:23,  6.01s/it]"
     ]
    },
    {
     "name": "stdout",
     "output_type": "stream",
     "text": [
      "1 : Not Found\n",
      "2 : Not Found\n",
      "3 : Not Found\n",
      "4 : Not Found\n",
      "6 : Not Found\n",
      "7 : Not Found\n",
      "8 : Not Found\n"
     ]
    },
    {
     "name": "stderr",
     "output_type": "stream",
     "text": [
      " 33%|███▎      | 660/2000 [1:04:57<2:19:53,  6.26s/it]"
     ]
    },
    {
     "name": "stdout",
     "output_type": "stream",
     "text": [
      "1 : Not Found\n",
      "2 : Not Found\n",
      "3 : Not Found\n",
      "4 : Not Found\n",
      "5 : Not Found\n"
     ]
    },
    {
     "name": "stderr",
     "output_type": "stream",
     "text": [
      " 33%|███▎      | 661/2000 [1:05:02<2:16:40,  6.12s/it]"
     ]
    },
    {
     "name": "stdout",
     "output_type": "stream",
     "text": [
      "1 : Not Found\n",
      "2 : Not Found\n",
      "3 : Not Found\n",
      "4 : Not Found\n"
     ]
    },
    {
     "name": "stderr",
     "output_type": "stream",
     "text": [
      " 33%|███▎      | 662/2000 [1:05:08<2:12:13,  5.93s/it]"
     ]
    },
    {
     "name": "stdout",
     "output_type": "stream",
     "text": [
      "1 : Not Found\n",
      "2 : Not Found\n",
      "3 : Not Found\n",
      "4 : Not Found\n",
      "6 : Not Found\n",
      "8 : Not Found\n",
      "11 : Not Found\n",
      "15 : Not Found\n"
     ]
    },
    {
     "name": "stderr",
     "output_type": "stream",
     "text": [
      " 33%|███▎      | 663/2000 [1:05:16<2:25:23,  6.52s/it]"
     ]
    },
    {
     "name": "stdout",
     "output_type": "stream",
     "text": [
      "20 : Not Found\n",
      "1 : Not Found\n",
      "2 : Not Found\n",
      "3 : Not Found\n",
      "4 : Not Found\n"
     ]
    },
    {
     "name": "stderr",
     "output_type": "stream",
     "text": [
      " 33%|███▎      | 664/2000 [1:05:22<2:20:00,  6.29s/it]"
     ]
    },
    {
     "name": "stdout",
     "output_type": "stream",
     "text": [
      "1 : Not Found\n",
      "2 : Not Found\n",
      "3 : Not Found\n",
      "4 : Not Found\n"
     ]
    },
    {
     "name": "stderr",
     "output_type": "stream",
     "text": [
      " 33%|███▎      | 665/2000 [1:05:27<2:15:41,  6.10s/it]"
     ]
    },
    {
     "name": "stdout",
     "output_type": "stream",
     "text": [
      "1 : Not Found\n",
      "2 : Not Found\n",
      "3 : Not Found\n",
      "4 : Not Found\n"
     ]
    },
    {
     "name": "stderr",
     "output_type": "stream",
     "text": [
      " 33%|███▎      | 666/2000 [1:05:33<2:11:07,  5.90s/it]"
     ]
    },
    {
     "name": "stdout",
     "output_type": "stream",
     "text": [
      "1 : Not Found\n",
      "2 : Not Found\n",
      "3 : Not Found\n",
      "4 : Not Found\n",
      "11 : Not Found\n"
     ]
    },
    {
     "name": "stderr",
     "output_type": "stream",
     "text": [
      " 33%|███▎      | 667/2000 [1:05:39<2:12:39,  5.97s/it]"
     ]
    },
    {
     "name": "stdout",
     "output_type": "stream",
     "text": [
      "1 : Not Found\n",
      "2 : Not Found\n",
      "3 : Not Found\n",
      "4 : Not Found\n",
      "5 : Not Found\n",
      "11 : Not Found\n"
     ]
    },
    {
     "name": "stderr",
     "output_type": "stream",
     "text": [
      " 33%|███▎      | 668/2000 [1:05:45<2:12:00,  5.95s/it]"
     ]
    },
    {
     "name": "stdout",
     "output_type": "stream",
     "text": [
      "1 : Not Found\n",
      "2 : Not Found\n",
      "3 : Not Found\n",
      "4 : Not Found\n"
     ]
    },
    {
     "name": "stderr",
     "output_type": "stream",
     "text": [
      " 33%|███▎      | 669/2000 [1:05:50<2:10:27,  5.88s/it]"
     ]
    },
    {
     "name": "stdout",
     "output_type": "stream",
     "text": [
      "1 : Not Found\n",
      "2 : Not Found\n",
      "3 : Not Found\n",
      "4 : Not Found\n"
     ]
    },
    {
     "name": "stderr",
     "output_type": "stream",
     "text": [
      " 34%|███▎      | 670/2000 [1:05:56<2:10:04,  5.87s/it]"
     ]
    },
    {
     "name": "stdout",
     "output_type": "stream",
     "text": [
      "1 : Not Found\n",
      "2 : Not Found\n",
      "3 : Not Found\n",
      "4 : Not Found\n"
     ]
    },
    {
     "name": "stderr",
     "output_type": "stream",
     "text": [
      " 34%|███▎      | 671/2000 [1:06:02<2:07:45,  5.77s/it]"
     ]
    },
    {
     "name": "stdout",
     "output_type": "stream",
     "text": [
      "1 : Not Found\n",
      "2 : Not Found\n",
      "3 : Not Found\n",
      "4 : Not Found\n",
      "18 : Not Found\n"
     ]
    },
    {
     "name": "stderr",
     "output_type": "stream",
     "text": [
      " 34%|███▎      | 672/2000 [1:06:08<2:07:24,  5.76s/it]"
     ]
    },
    {
     "name": "stdout",
     "output_type": "stream",
     "text": [
      "1 : Not Found\n",
      "2 : Not Found\n",
      "3 : Not Found\n",
      "4 : Not Found\n",
      "10 : Not Found\n",
      "13 : Not Found\n",
      "15 : Not Found\n",
      "16 : Not Found\n",
      "17 : Not Found\n",
      "19 : Not Found\n"
     ]
    },
    {
     "name": "stderr",
     "output_type": "stream",
     "text": [
      " 34%|███▎      | 673/2000 [1:06:16<2:26:21,  6.62s/it]"
     ]
    },
    {
     "name": "stdout",
     "output_type": "stream",
     "text": [
      "20 : Not Found\n",
      "1 : Not Found\n",
      "2 : Not Found\n",
      "3 : Not Found\n",
      "4 : Not Found\n",
      "11 : Not Found\n"
     ]
    },
    {
     "name": "stderr",
     "output_type": "stream",
     "text": [
      " 34%|███▎      | 674/2000 [1:06:22<2:23:21,  6.49s/it]"
     ]
    },
    {
     "name": "stdout",
     "output_type": "stream",
     "text": [
      "1 : Not Found\n",
      "2 : Not Found\n",
      "3 : Not Found\n",
      "4 : Not Found\n"
     ]
    },
    {
     "name": "stderr",
     "output_type": "stream",
     "text": [
      " 34%|███▍      | 675/2000 [1:06:28<2:17:15,  6.22s/it]"
     ]
    },
    {
     "name": "stdout",
     "output_type": "stream",
     "text": [
      "1 : Not Found\n",
      "2 : Not Found\n",
      "3 : Not Found\n",
      "4 : Not Found\n"
     ]
    },
    {
     "name": "stderr",
     "output_type": "stream",
     "text": [
      " 34%|███▍      | 676/2000 [1:06:33<2:12:55,  6.02s/it]"
     ]
    },
    {
     "name": "stdout",
     "output_type": "stream",
     "text": [
      "1 : Not Found\n",
      "2 : Not Found\n",
      "3 : Not Found\n",
      "4 : Not Found\n",
      "11 : Not Found\n",
      "12 : Not Found\n",
      "13 : Not Found\n",
      "16 : Not Found\n",
      "17 : Not Found\n"
     ]
    },
    {
     "name": "stderr",
     "output_type": "stream",
     "text": [
      " 34%|███▍      | 677/2000 [1:06:41<2:24:31,  6.55s/it]"
     ]
    },
    {
     "name": "stdout",
     "output_type": "stream",
     "text": [
      "1 : Not Found\n",
      "2 : Not Found\n",
      "3 : Not Found\n",
      "4 : Not Found\n",
      "10 : Not Found\n"
     ]
    },
    {
     "name": "stderr",
     "output_type": "stream",
     "text": [
      " 34%|███▍      | 678/2000 [1:06:47<2:21:33,  6.42s/it]"
     ]
    },
    {
     "name": "stdout",
     "output_type": "stream",
     "text": [
      "1 : Not Found\n",
      "2 : Not Found\n",
      "3 : Not Found\n",
      "4 : Not Found\n",
      "18 : Not Found\n"
     ]
    },
    {
     "name": "stderr",
     "output_type": "stream",
     "text": [
      " 34%|███▍      | 679/2000 [1:06:53<2:18:16,  6.28s/it]"
     ]
    },
    {
     "name": "stdout",
     "output_type": "stream",
     "text": [
      "1 : Not Found\n",
      "2 : Not Found\n",
      "3 : Not Found\n",
      "4 : Not Found\n"
     ]
    },
    {
     "name": "stderr",
     "output_type": "stream",
     "text": [
      " 34%|███▍      | 680/2000 [1:06:59<2:14:10,  6.10s/it]"
     ]
    },
    {
     "name": "stdout",
     "output_type": "stream",
     "text": [
      "1 : Not Found\n",
      "2 : Not Found\n",
      "3 : Not Found\n",
      "5 : Not Found\n"
     ]
    },
    {
     "name": "stderr",
     "output_type": "stream",
     "text": [
      " 34%|███▍      | 681/2000 [1:07:05<2:10:35,  5.94s/it]"
     ]
    },
    {
     "name": "stdout",
     "output_type": "stream",
     "text": [
      "1 : Not Found\n",
      "2 : Not Found\n",
      "3 : Not Found\n",
      "4 : Not Found\n"
     ]
    },
    {
     "name": "stderr",
     "output_type": "stream",
     "text": [
      " 34%|███▍      | 682/2000 [1:07:11<2:10:43,  5.95s/it]"
     ]
    },
    {
     "name": "stdout",
     "output_type": "stream",
     "text": [
      "20 : Not Found\n",
      "1 : Not Found\n",
      "2 : Not Found\n",
      "3 : Not Found\n",
      "4 : Not Found\n",
      "6 : Not Found\n",
      "8 : Not Found\n",
      "10 : Not Found\n",
      "13 : Not Found\n",
      "16 : Not Found\n"
     ]
    },
    {
     "name": "stderr",
     "output_type": "stream",
     "text": [
      " 34%|███▍      | 683/2000 [1:07:18<2:23:08,  6.52s/it]"
     ]
    },
    {
     "name": "stdout",
     "output_type": "stream",
     "text": [
      "1 : Not Found\n",
      "2 : Not Found\n",
      "3 : Not Found\n",
      "4 : Not Found\n",
      "9 : Not Found\n",
      "16 : Not Found\n"
     ]
    },
    {
     "name": "stderr",
     "output_type": "stream",
     "text": [
      " 34%|███▍      | 684/2000 [1:07:25<2:23:01,  6.52s/it]"
     ]
    },
    {
     "name": "stdout",
     "output_type": "stream",
     "text": [
      "1 : Not Found\n",
      "2 : Not Found\n",
      "3 : Not Found\n",
      "4 : Not Found\n",
      "11 : Not Found\n"
     ]
    },
    {
     "name": "stderr",
     "output_type": "stream",
     "text": [
      " 34%|███▍      | 685/2000 [1:07:31<2:19:52,  6.38s/it]"
     ]
    },
    {
     "name": "stdout",
     "output_type": "stream",
     "text": [
      "1 : Not Found\n",
      "2 : Not Found\n",
      "3 : Not Found\n",
      "4 : Not Found\n",
      "16 : Not Found\n"
     ]
    },
    {
     "name": "stderr",
     "output_type": "stream",
     "text": [
      " 34%|███▍      | 686/2000 [1:07:38<2:20:36,  6.42s/it]"
     ]
    },
    {
     "name": "stdout",
     "output_type": "stream",
     "text": [
      "1 : Not Found\n",
      "2 : Not Found\n",
      "3 : Not Found\n",
      "4 : Not Found\n",
      "5 : Not Found\n",
      "6 : Not Found\n",
      "7 : Not Found\n",
      "8 : Not Found\n",
      "9 : Not Found\n",
      "10 : Not Found\n",
      "11 : Not Found\n",
      "12 : Not Found\n",
      "13 : Not Found\n",
      "14 : Not Found\n"
     ]
    },
    {
     "name": "stderr",
     "output_type": "stream",
     "text": [
      " 34%|███▍      | 687/2000 [1:07:47<2:42:24,  7.42s/it]"
     ]
    },
    {
     "name": "stdout",
     "output_type": "stream",
     "text": [
      "1 : Not Found\n",
      "2 : Not Found\n",
      "3 : Not Found\n",
      "4 : Not Found\n",
      "10 : Not Found\n"
     ]
    },
    {
     "name": "stderr",
     "output_type": "stream",
     "text": [
      " 34%|███▍      | 688/2000 [1:07:53<2:32:00,  6.95s/it]"
     ]
    },
    {
     "name": "stdout",
     "output_type": "stream",
     "text": [
      "1 : Not Found\n",
      "2 : Not Found\n",
      "3 : Not Found\n",
      "4 : Not Found\n",
      "5 : Not Found\n",
      "6 : Not Found\n",
      "7 : Not Found\n",
      "8 : Not Found\n",
      "9 : Not Found\n",
      "10 : Not Found\n"
     ]
    },
    {
     "name": "stderr",
     "output_type": "stream",
     "text": [
      " 34%|███▍      | 689/2000 [1:08:01<2:38:07,  7.24s/it]"
     ]
    },
    {
     "name": "stdout",
     "output_type": "stream",
     "text": [
      "1 : Not Found\n",
      "2 : Not Found\n",
      "3 : Not Found\n",
      "4 : Not Found\n",
      "11 : Not Found\n"
     ]
    },
    {
     "name": "stderr",
     "output_type": "stream",
     "text": [
      " 34%|███▍      | 690/2000 [1:08:07<2:30:16,  6.88s/it]"
     ]
    },
    {
     "name": "stdout",
     "output_type": "stream",
     "text": [
      "1 : Not Found\n",
      "2 : Not Found\n",
      "3 : Not Found\n",
      "4 : Not Found\n",
      "8 : Not Found\n",
      "10 : Not Found\n",
      "18 : Not Found\n"
     ]
    },
    {
     "name": "stderr",
     "output_type": "stream",
     "text": [
      " 35%|███▍      | 691/2000 [1:08:14<2:30:35,  6.90s/it]"
     ]
    },
    {
     "name": "stdout",
     "output_type": "stream",
     "text": [
      "1 : Not Found\n",
      "2 : Not Found\n",
      "3 : Not Found\n",
      "4 : Not Found\n",
      "14 : Not Found\n"
     ]
    },
    {
     "name": "stderr",
     "output_type": "stream",
     "text": [
      " 35%|███▍      | 692/2000 [1:08:20<2:23:54,  6.60s/it]"
     ]
    },
    {
     "name": "stdout",
     "output_type": "stream",
     "text": [
      "1 : Not Found\n",
      "2 : Not Found\n",
      "3 : Not Found\n",
      "4 : Not Found\n"
     ]
    },
    {
     "name": "stderr",
     "output_type": "stream",
     "text": [
      " 35%|███▍      | 693/2000 [1:08:26<2:17:27,  6.31s/it]"
     ]
    },
    {
     "name": "stdout",
     "output_type": "stream",
     "text": [
      "1 : Not Found\n",
      "2 : Not Found\n",
      "3 : Not Found\n",
      "4 : Not Found\n",
      "6 : Not Found\n",
      "7 : Not Found\n",
      "9 : Not Found\n",
      "11 : Not Found\n",
      "14 : Not Found\n",
      "19 : Not Found\n"
     ]
    },
    {
     "name": "stderr",
     "output_type": "stream",
     "text": [
      " 35%|███▍      | 694/2000 [1:08:34<2:29:10,  6.85s/it]"
     ]
    },
    {
     "name": "stdout",
     "output_type": "stream",
     "text": [
      "1 : Not Found\n",
      "2 : Not Found\n",
      "3 : Not Found\n",
      "4 : Not Found\n",
      "13 : Not Found\n"
     ]
    },
    {
     "name": "stderr",
     "output_type": "stream",
     "text": [
      " 35%|███▍      | 695/2000 [1:08:40<2:23:37,  6.60s/it]"
     ]
    },
    {
     "name": "stdout",
     "output_type": "stream",
     "text": [
      "1 : Not Found\n",
      "2 : Not Found\n",
      "3 : Not Found\n",
      "4 : Not Found\n",
      "8 : Not Found\n",
      "10 : Not Found\n",
      "11 : Not Found\n",
      "12 : Not Found\n",
      "13 : Not Found\n"
     ]
    },
    {
     "name": "stderr",
     "output_type": "stream",
     "text": [
      " 35%|███▍      | 696/2000 [1:08:48<2:33:45,  7.07s/it]"
     ]
    },
    {
     "name": "stdout",
     "output_type": "stream",
     "text": [
      "20 : Not Found\n",
      "1 : Not Found\n",
      "2 : Not Found\n",
      "3 : Not Found\n",
      "4 : Not Found\n",
      "7 : Not Found\n",
      "12 : Not Found\n",
      "14 : Not Found\n"
     ]
    },
    {
     "name": "stderr",
     "output_type": "stream",
     "text": [
      " 35%|███▍      | 697/2000 [1:08:55<2:32:25,  7.02s/it]"
     ]
    },
    {
     "name": "stdout",
     "output_type": "stream",
     "text": [
      "1 : Not Found\n",
      "2 : Not Found\n",
      "3 : Not Found\n",
      "4 : Not Found\n",
      "6 : Not Found\n",
      "8 : Not Found\n",
      "17 : Not Found\n"
     ]
    },
    {
     "name": "stderr",
     "output_type": "stream",
     "text": [
      " 35%|███▍      | 698/2000 [1:09:02<2:35:59,  7.19s/it]"
     ]
    },
    {
     "name": "stdout",
     "output_type": "stream",
     "text": [
      "19 : Not Found\n",
      "1 : Not Found\n",
      "2 : Not Found\n",
      "3 : Not Found\n",
      "4 : Not Found\n"
     ]
    },
    {
     "name": "stderr",
     "output_type": "stream",
     "text": [
      " 35%|███▍      | 699/2000 [1:09:08<2:27:12,  6.79s/it]"
     ]
    },
    {
     "name": "stdout",
     "output_type": "stream",
     "text": [
      "1 : Not Found\n",
      "2 : Not Found\n",
      "3 : Not Found\n",
      "4 : Not Found\n",
      "5 : Not Found\n"
     ]
    },
    {
     "name": "stderr",
     "output_type": "stream",
     "text": [
      " 35%|███▌      | 700/2000 [1:09:14<2:19:09,  6.42s/it]"
     ]
    },
    {
     "name": "stdout",
     "output_type": "stream",
     "text": [
      "1 : Not Found\n",
      "2 : Not Found\n",
      "3 : Not Found\n",
      "4 : Not Found\n"
     ]
    },
    {
     "name": "stderr",
     "output_type": "stream",
     "text": [
      " 35%|███▌      | 701/2000 [1:09:19<2:13:56,  6.19s/it]"
     ]
    },
    {
     "name": "stdout",
     "output_type": "stream",
     "text": [
      "1 : Not Found\n",
      "2 : Not Found\n",
      "3 : Not Found\n",
      "4 : Not Found\n"
     ]
    },
    {
     "name": "stderr",
     "output_type": "stream",
     "text": [
      " 35%|███▌      | 702/2000 [1:09:25<2:11:08,  6.06s/it]"
     ]
    },
    {
     "name": "stdout",
     "output_type": "stream",
     "text": [
      "1 : Not Found\n",
      "2 : Not Found\n",
      "3 : Not Found\n",
      "4 : Not Found\n"
     ]
    },
    {
     "name": "stderr",
     "output_type": "stream",
     "text": [
      " 35%|███▌      | 703/2000 [1:09:31<2:07:23,  5.89s/it]"
     ]
    },
    {
     "name": "stdout",
     "output_type": "stream",
     "text": [
      "1 : Not Found\n",
      "2 : Not Found\n",
      "3 : Not Found\n",
      "4 : Not Found\n"
     ]
    },
    {
     "name": "stderr",
     "output_type": "stream",
     "text": [
      " 35%|███▌      | 704/2000 [1:09:36<2:04:05,  5.74s/it]"
     ]
    },
    {
     "name": "stdout",
     "output_type": "stream",
     "text": [
      "1 : Not Found\n",
      "2 : Not Found\n",
      "3 : Not Found\n",
      "4 : Not Found\n",
      "8 : Not Found\n",
      "10 : Not Found\n",
      "13 : Not Found\n"
     ]
    },
    {
     "name": "stderr",
     "output_type": "stream",
     "text": [
      " 35%|███▌      | 705/2000 [1:09:43<2:09:45,  6.01s/it]"
     ]
    },
    {
     "name": "stdout",
     "output_type": "stream",
     "text": [
      "1 : Not Found\n",
      "2 : Not Found\n",
      "3 : Not Found\n",
      "4 : Not Found\n",
      "14 : Not Found\n",
      "15 : Not Found\n"
     ]
    },
    {
     "name": "stderr",
     "output_type": "stream",
     "text": [
      " 35%|███▌      | 706/2000 [1:09:49<2:14:11,  6.22s/it]"
     ]
    },
    {
     "name": "stdout",
     "output_type": "stream",
     "text": [
      "19 : Not Found\n",
      "1 : Not Found\n",
      "2 : Not Found\n",
      "3 : Not Found\n",
      "4 : Not Found\n"
     ]
    },
    {
     "name": "stderr",
     "output_type": "stream",
     "text": [
      " 35%|███▌      | 707/2000 [1:09:55<2:10:40,  6.06s/it]"
     ]
    },
    {
     "name": "stdout",
     "output_type": "stream",
     "text": [
      "1 : Not Found\n",
      "2 : Not Found\n",
      "3 : Not Found\n",
      "4 : Not Found\n"
     ]
    },
    {
     "name": "stderr",
     "output_type": "stream",
     "text": [
      " 35%|███▌      | 708/2000 [1:10:01<2:06:40,  5.88s/it]"
     ]
    },
    {
     "name": "stdout",
     "output_type": "stream",
     "text": [
      "1 : Not Found\n",
      "2 : Not Found\n",
      "3 : Not Found\n",
      "4 : Not Found\n",
      "18 : Not Found\n"
     ]
    },
    {
     "name": "stderr",
     "output_type": "stream",
     "text": [
      " 35%|███▌      | 709/2000 [1:10:07<2:08:47,  5.99s/it]"
     ]
    },
    {
     "name": "stdout",
     "output_type": "stream",
     "text": [
      "1 : Not Found\n",
      "2 : Not Found\n",
      "3 : Not Found\n",
      "4 : Not Found\n",
      "18 : Not Found\n",
      "19 : Not Found\n"
     ]
    },
    {
     "name": "stderr",
     "output_type": "stream",
     "text": [
      " 36%|███▌      | 710/2000 [1:10:13<2:12:50,  6.18s/it]"
     ]
    },
    {
     "name": "stdout",
     "output_type": "stream",
     "text": [
      "20 : Not Found\n",
      "1 : Not Found\n",
      "2 : Not Found\n",
      "3 : Not Found\n",
      "4 : Not Found\n",
      "5 : Not Found\n"
     ]
    },
    {
     "name": "stderr",
     "output_type": "stream",
     "text": [
      " 36%|███▌      | 711/2000 [1:10:19<2:10:41,  6.08s/it]"
     ]
    },
    {
     "name": "stdout",
     "output_type": "stream",
     "text": [
      "1 : Not Found\n",
      "2 : Not Found\n",
      "3 : Not Found\n",
      "4 : Not Found\n"
     ]
    },
    {
     "name": "stderr",
     "output_type": "stream",
     "text": [
      " 36%|███▌      | 712/2000 [1:10:25<2:09:14,  6.02s/it]"
     ]
    },
    {
     "name": "stdout",
     "output_type": "stream",
     "text": [
      "20 : Not Found\n",
      "1 : Not Found\n",
      "2 : Not Found\n",
      "3 : Not Found\n",
      "4 : Not Found\n"
     ]
    },
    {
     "name": "stderr",
     "output_type": "stream",
     "text": [
      " 36%|███▌      | 713/2000 [1:10:31<2:08:30,  5.99s/it]"
     ]
    },
    {
     "name": "stdout",
     "output_type": "stream",
     "text": [
      "1 : Not Found\n",
      "2 : Not Found\n",
      "3 : Not Found\n",
      "4 : Not Found\n",
      "5 : Not Found\n",
      "6 : Not Found\n",
      "7 : Not Found\n",
      "19 : Not Found\n"
     ]
    },
    {
     "name": "stderr",
     "output_type": "stream",
     "text": [
      " 36%|███▌      | 714/2000 [1:10:39<2:18:28,  6.46s/it]"
     ]
    },
    {
     "name": "stdout",
     "output_type": "stream",
     "text": [
      "20 : Not Found\n",
      "1 : Not Found\n",
      "2 : Not Found\n",
      "3 : Not Found\n",
      "4 : Not Found\n"
     ]
    },
    {
     "name": "stderr",
     "output_type": "stream",
     "text": [
      " 36%|███▌      | 715/2000 [1:10:44<2:13:56,  6.25s/it]"
     ]
    },
    {
     "name": "stdout",
     "output_type": "stream",
     "text": [
      "1 : Not Found\n",
      "2 : Not Found\n",
      "3 : Not Found\n",
      "4 : Not Found\n"
     ]
    },
    {
     "name": "stderr",
     "output_type": "stream",
     "text": [
      " 36%|███▌      | 716/2000 [1:10:50<2:10:51,  6.11s/it]"
     ]
    },
    {
     "name": "stdout",
     "output_type": "stream",
     "text": [
      "1 : Not Found\n",
      "2 : Not Found\n",
      "3 : Not Found\n",
      "4 : Not Found\n",
      "5 : Not Found\n",
      "6 : Not Found\n",
      "7 : Not Found\n",
      "8 : Not Found\n",
      "9 : Not Found\n",
      "10 : Not Found\n",
      "11 : Not Found\n",
      "12 : Not Found\n",
      "13 : Not Found\n",
      "14 : Not Found\n",
      "15 : Not Found\n",
      "16 : Not Found\n",
      "17 : Not Found\n",
      "18 : Not Found\n",
      "19 : Not Found\n"
     ]
    },
    {
     "name": "stderr",
     "output_type": "stream",
     "text": [
      " 36%|███▌      | 717/2000 [1:11:02<2:46:49,  7.80s/it]"
     ]
    },
    {
     "name": "stdout",
     "output_type": "stream",
     "text": [
      "20 : Not Found\n",
      "1 : Not Found\n",
      "2 : Not Found\n",
      "3 : Not Found\n",
      "4 : Not Found\n"
     ]
    },
    {
     "name": "stderr",
     "output_type": "stream",
     "text": [
      " 36%|███▌      | 718/2000 [1:11:07<2:31:48,  7.11s/it]"
     ]
    },
    {
     "name": "stdout",
     "output_type": "stream",
     "text": [
      "1 : Not Found\n",
      "2 : Not Found\n",
      "3 : Not Found\n",
      "4 : Not Found\n"
     ]
    },
    {
     "name": "stderr",
     "output_type": "stream",
     "text": [
      " 36%|███▌      | 719/2000 [1:11:13<2:23:32,  6.72s/it]"
     ]
    },
    {
     "name": "stdout",
     "output_type": "stream",
     "text": [
      "1 : Not Found\n",
      "2 : Not Found\n",
      "3 : Not Found\n",
      "4 : Not Found\n"
     ]
    },
    {
     "name": "stderr",
     "output_type": "stream",
     "text": [
      " 36%|███▌      | 720/2000 [1:11:19<2:17:14,  6.43s/it]"
     ]
    },
    {
     "name": "stdout",
     "output_type": "stream",
     "text": [
      "1 : Not Found\n",
      "2 : Not Found\n",
      "3 : Not Found\n",
      "4 : Not Found\n"
     ]
    },
    {
     "name": "stderr",
     "output_type": "stream",
     "text": [
      " 36%|███▌      | 721/2000 [1:11:25<2:11:35,  6.17s/it]"
     ]
    },
    {
     "name": "stdout",
     "output_type": "stream",
     "text": [
      "1 : Not Found\n",
      "2 : Not Found\n",
      "3 : Not Found\n",
      "4 : Not Found\n",
      "5 : Not Found\n",
      "6 : Not Found\n",
      "7 : Not Found\n",
      "8 : Not Found\n",
      "9 : Not Found\n",
      "10 : Not Found\n",
      "11 : Not Found\n",
      "12 : Not Found\n",
      "13 : Not Found\n",
      "15 : Not Found\n"
     ]
    },
    {
     "name": "stderr",
     "output_type": "stream",
     "text": [
      " 36%|███▌      | 722/2000 [1:11:34<2:34:52,  7.27s/it]"
     ]
    },
    {
     "name": "stdout",
     "output_type": "stream",
     "text": [
      "20 : Not Found\n",
      "1 : Not Found\n",
      "2 : Not Found\n",
      "3 : Not Found\n",
      "4 : Not Found\n",
      "5 : Not Found\n",
      "6 : Not Found\n",
      "7 : Not Found\n",
      "10 : Not Found\n",
      "11 : Not Found\n",
      "14 : Not Found\n",
      "17 : Not Found\n",
      "19 : Not Found\n"
     ]
    },
    {
     "name": "stderr",
     "output_type": "stream",
     "text": [
      " 36%|███▌      | 723/2000 [1:11:43<2:43:22,  7.68s/it]"
     ]
    },
    {
     "name": "stdout",
     "output_type": "stream",
     "text": [
      "1 : Not Found\n",
      "2 : Not Found\n",
      "3 : Not Found\n",
      "4 : Not Found\n",
      "8 : Not Found\n",
      "11 : Not Found\n"
     ]
    },
    {
     "name": "stderr",
     "output_type": "stream",
     "text": [
      " 36%|███▌      | 724/2000 [1:11:50<2:36:15,  7.35s/it]"
     ]
    },
    {
     "name": "stdout",
     "output_type": "stream",
     "text": [
      "1 : Not Found\n",
      "2 : Not Found\n",
      "3 : Not Found\n",
      "4 : Not Found\n"
     ]
    },
    {
     "name": "stderr",
     "output_type": "stream",
     "text": [
      " 36%|███▋      | 725/2000 [1:11:55<2:24:45,  6.81s/it]"
     ]
    },
    {
     "name": "stdout",
     "output_type": "stream",
     "text": [
      "1 : Not Found\n",
      "2 : Not Found\n",
      "3 : Not Found\n",
      "4 : Not Found\n",
      "5 : Not Found\n",
      "6 : Not Found\n",
      "7 : Not Found\n",
      "9 : Not Found\n",
      "12 : Not Found\n",
      "13 : Not Found\n"
     ]
    },
    {
     "name": "stderr",
     "output_type": "stream",
     "text": [
      " 36%|███▋      | 726/2000 [1:12:03<2:28:49,  7.01s/it]"
     ]
    },
    {
     "name": "stdout",
     "output_type": "stream",
     "text": [
      "1 : Not Found\n",
      "2 : Not Found\n",
      "3 : Not Found\n",
      "4 : Not Found\n"
     ]
    },
    {
     "name": "stderr",
     "output_type": "stream",
     "text": [
      " 36%|███▋      | 727/2000 [1:12:08<2:21:15,  6.66s/it]"
     ]
    },
    {
     "name": "stdout",
     "output_type": "stream",
     "text": [
      "1 : Not Found\n",
      "2 : Not Found\n",
      "3 : Not Found\n",
      "4 : Not Found\n",
      "8 : Not Found\n"
     ]
    },
    {
     "name": "stderr",
     "output_type": "stream",
     "text": [
      " 36%|███▋      | 728/2000 [1:12:15<2:20:02,  6.61s/it]"
     ]
    },
    {
     "name": "stdout",
     "output_type": "stream",
     "text": [
      "20 : Not Found\n",
      "1 : Not Found\n",
      "2 : Not Found\n",
      "3 : Not Found\n",
      "4 : Not Found\n",
      "10 : Not Found\n",
      "11 : Not Found\n",
      "13 : Not Found\n",
      "16 : Not Found\n",
      "18 : Not Found\n"
     ]
    },
    {
     "name": "stderr",
     "output_type": "stream",
     "text": [
      " 36%|███▋      | 729/2000 [1:12:23<2:29:48,  7.07s/it]"
     ]
    },
    {
     "name": "stdout",
     "output_type": "stream",
     "text": [
      "1 : Not Found\n",
      "2 : Not Found\n",
      "3 : Not Found\n",
      "4 : Not Found\n"
     ]
    },
    {
     "name": "stderr",
     "output_type": "stream",
     "text": [
      " 36%|███▋      | 730/2000 [1:12:29<2:22:44,  6.74s/it]"
     ]
    },
    {
     "name": "stdout",
     "output_type": "stream",
     "text": [
      "1 : Not Found\n",
      "2 : Not Found\n",
      "3 : Not Found\n",
      "4 : Not Found\n"
     ]
    },
    {
     "name": "stderr",
     "output_type": "stream",
     "text": [
      " 37%|███▋      | 731/2000 [1:12:35<2:14:31,  6.36s/it]"
     ]
    },
    {
     "name": "stdout",
     "output_type": "stream",
     "text": [
      "1 : Not Found\n",
      "2 : Not Found\n",
      "3 : Not Found\n",
      "4 : Not Found\n",
      "14 : Not Found\n",
      "17 : Not Found\n",
      "19 : Not Found\n"
     ]
    },
    {
     "name": "stderr",
     "output_type": "stream",
     "text": [
      " 37%|███▋      | 732/2000 [1:12:42<2:20:40,  6.66s/it]"
     ]
    },
    {
     "name": "stdout",
     "output_type": "stream",
     "text": [
      "20 : Not Found\n",
      "1 : Not Found\n",
      "2 : Not Found\n",
      "3 : Not Found\n",
      "4 : Not Found\n"
     ]
    },
    {
     "name": "stderr",
     "output_type": "stream",
     "text": [
      " 37%|███▋      | 733/2000 [1:12:48<2:15:10,  6.40s/it]"
     ]
    },
    {
     "name": "stdout",
     "output_type": "stream",
     "text": [
      "1 : Not Found\n",
      "2 : Not Found\n",
      "3 : Not Found\n",
      "4 : Not Found\n"
     ]
    },
    {
     "name": "stderr",
     "output_type": "stream",
     "text": [
      " 37%|███▋      | 734/2000 [1:12:53<2:09:12,  6.12s/it]"
     ]
    },
    {
     "name": "stdout",
     "output_type": "stream",
     "text": [
      "1 : Not Found\n",
      "2 : Not Found\n",
      "3 : Not Found\n",
      "4 : Not Found\n"
     ]
    },
    {
     "name": "stderr",
     "output_type": "stream",
     "text": [
      " 37%|███▋      | 735/2000 [1:12:59<2:07:14,  6.04s/it]"
     ]
    },
    {
     "name": "stdout",
     "output_type": "stream",
     "text": [
      "1 : Not Found\n",
      "2 : Not Found\n",
      "3 : Not Found\n",
      "4 : Not Found\n",
      "7 : Not Found\n",
      "16 : Not Found\n"
     ]
    },
    {
     "name": "stderr",
     "output_type": "stream",
     "text": [
      " 37%|███▋      | 736/2000 [1:13:05<2:08:58,  6.12s/it]"
     ]
    },
    {
     "name": "stdout",
     "output_type": "stream",
     "text": [
      "1 : Not Found\n",
      "2 : Not Found\n",
      "3 : Not Found\n",
      "4 : Not Found\n",
      "7 : Not Found\n"
     ]
    },
    {
     "name": "stderr",
     "output_type": "stream",
     "text": [
      " 37%|███▋      | 737/2000 [1:13:12<2:09:49,  6.17s/it]"
     ]
    },
    {
     "name": "stdout",
     "output_type": "stream",
     "text": [
      "1 : Not Found\n",
      "2 : Not Found\n",
      "3 : Not Found\n",
      "4 : Not Found\n"
     ]
    },
    {
     "name": "stderr",
     "output_type": "stream",
     "text": [
      " 37%|███▋      | 738/2000 [1:13:17<2:04:43,  5.93s/it]"
     ]
    },
    {
     "name": "stdout",
     "output_type": "stream",
     "text": [
      "1 : Not Found\n",
      "2 : Not Found\n",
      "3 : Not Found\n",
      "4 : Not Found\n",
      "12 : Not Found\n",
      "17 : Not Found\n",
      "18 : Not Found\n"
     ]
    },
    {
     "name": "stderr",
     "output_type": "stream",
     "text": [
      " 37%|███▋      | 739/2000 [1:13:24<2:08:28,  6.11s/it]"
     ]
    },
    {
     "name": "stdout",
     "output_type": "stream",
     "text": [
      "1 : Not Found\n",
      "2 : Not Found\n",
      "3 : Not Found\n",
      "4 : Not Found\n",
      "12 : Not Found\n",
      "18 : Not Found\n"
     ]
    },
    {
     "name": "stderr",
     "output_type": "stream",
     "text": [
      " 37%|███▋      | 740/2000 [1:13:30<2:12:53,  6.33s/it]"
     ]
    },
    {
     "name": "stdout",
     "output_type": "stream",
     "text": [
      "1 : Not Found\n",
      "2 : Not Found\n",
      "3 : Not Found\n",
      "4 : Not Found\n",
      "11 : Not Found\n",
      "13 : Not Found\n",
      "19 : Not Found\n"
     ]
    },
    {
     "name": "stderr",
     "output_type": "stream",
     "text": [
      " 37%|███▋      | 741/2000 [1:13:38<2:19:11,  6.63s/it]"
     ]
    },
    {
     "name": "stdout",
     "output_type": "stream",
     "text": [
      "20 : Not Found\n",
      "1 : Not Found\n",
      "2 : Not Found\n",
      "3 : Not Found\n",
      "4 : Not Found\n",
      "10 : Not Found\n",
      "11 : Not Found\n"
     ]
    },
    {
     "name": "stderr",
     "output_type": "stream",
     "text": [
      " 37%|███▋      | 742/2000 [1:13:44<2:19:03,  6.63s/it]"
     ]
    },
    {
     "name": "stdout",
     "output_type": "stream",
     "text": [
      "1 : Not Found\n",
      "2 : Not Found\n",
      "3 : Not Found\n",
      "4 : Not Found\n"
     ]
    },
    {
     "name": "stderr",
     "output_type": "stream",
     "text": [
      " 37%|███▋      | 743/2000 [1:13:50<2:13:37,  6.38s/it]"
     ]
    },
    {
     "name": "stdout",
     "output_type": "stream",
     "text": [
      "1 : Not Found\n",
      "2 : Not Found\n",
      "3 : Not Found\n",
      "4 : Not Found\n"
     ]
    },
    {
     "name": "stderr",
     "output_type": "stream",
     "text": [
      " 37%|███▋      | 744/2000 [1:13:56<2:09:00,  6.16s/it]"
     ]
    },
    {
     "name": "stdout",
     "output_type": "stream",
     "text": [
      "1 : Not Found\n",
      "2 : Not Found\n",
      "3 : Not Found\n",
      "4 : Not Found\n",
      "12 : Not Found\n",
      "13 : Not Found\n",
      "17 : Not Found\n"
     ]
    },
    {
     "name": "stderr",
     "output_type": "stream",
     "text": [
      " 37%|███▋      | 745/2000 [1:14:03<2:12:57,  6.36s/it]"
     ]
    },
    {
     "name": "stdout",
     "output_type": "stream",
     "text": [
      "1 : Not Found\n",
      "2 : Not Found\n",
      "3 : Not Found\n",
      "4 : Not Found\n"
     ]
    },
    {
     "name": "stderr",
     "output_type": "stream",
     "text": [
      " 37%|███▋      | 746/2000 [1:14:08<2:07:29,  6.10s/it]"
     ]
    },
    {
     "name": "stdout",
     "output_type": "stream",
     "text": [
      "1 : Not Found\n",
      "2 : Not Found\n",
      "3 : Not Found\n",
      "4 : Not Found\n",
      "9 : Not Found\n",
      "10 : Not Found\n"
     ]
    },
    {
     "name": "stderr",
     "output_type": "stream",
     "text": [
      " 37%|███▋      | 747/2000 [1:14:15<2:10:49,  6.26s/it]"
     ]
    },
    {
     "name": "stdout",
     "output_type": "stream",
     "text": [
      "1 : Not Found\n",
      "2 : Not Found\n",
      "3 : Not Found\n",
      "4 : Not Found\n"
     ]
    },
    {
     "name": "stderr",
     "output_type": "stream",
     "text": [
      " 37%|███▋      | 748/2000 [1:14:20<2:05:31,  6.02s/it]"
     ]
    },
    {
     "name": "stdout",
     "output_type": "stream",
     "text": [
      "1 : Not Found\n",
      "2 : Not Found\n",
      "3 : Not Found\n",
      "4 : Not Found\n"
     ]
    },
    {
     "name": "stderr",
     "output_type": "stream",
     "text": [
      " 37%|███▋      | 749/2000 [1:14:26<2:02:26,  5.87s/it]"
     ]
    },
    {
     "name": "stdout",
     "output_type": "stream",
     "text": [
      "1 : Not Found\n",
      "2 : Not Found\n",
      "3 : Not Found\n",
      "4 : Not Found\n",
      "6 : Not Found\n"
     ]
    },
    {
     "name": "stderr",
     "output_type": "stream",
     "text": [
      " 38%|███▊      | 750/2000 [1:14:32<2:04:50,  5.99s/it]"
     ]
    },
    {
     "name": "stdout",
     "output_type": "stream",
     "text": [
      "1 : Not Found\n",
      "2 : Not Found\n",
      "3 : Not Found\n",
      "4 : Not Found\n"
     ]
    },
    {
     "name": "stderr",
     "output_type": "stream",
     "text": [
      " 38%|███▊      | 751/2000 [1:14:38<2:02:33,  5.89s/it]"
     ]
    },
    {
     "name": "stdout",
     "output_type": "stream",
     "text": [
      "1 : Not Found\n",
      "2 : Not Found\n",
      "3 : Not Found\n",
      "4 : Not Found\n"
     ]
    },
    {
     "name": "stderr",
     "output_type": "stream",
     "text": [
      " 38%|███▊      | 752/2000 [1:14:44<2:02:21,  5.88s/it]"
     ]
    },
    {
     "name": "stdout",
     "output_type": "stream",
     "text": [
      "1 : Not Found\n",
      "2 : Not Found\n",
      "3 : Not Found\n",
      "4 : Not Found\n"
     ]
    },
    {
     "name": "stderr",
     "output_type": "stream",
     "text": [
      " 38%|███▊      | 753/2000 [1:14:49<2:00:36,  5.80s/it]"
     ]
    },
    {
     "name": "stdout",
     "output_type": "stream",
     "text": [
      "1 : Not Found\n",
      "2 : Not Found\n",
      "3 : Not Found\n",
      "4 : Not Found\n",
      "5 : Not Found\n",
      "6 : Not Found\n",
      "7 : Not Found\n",
      "8 : Not Found\n",
      "9 : Not Found\n",
      "10 : Not Found\n",
      "11 : Not Found\n",
      "12 : Not Found\n",
      "13 : Not Found\n",
      "14 : Not Found\n",
      "15 : Not Found\n",
      "16 : Not Found\n",
      "17 : Not Found\n",
      "18 : Not Found\n",
      "19 : Not Found\n"
     ]
    },
    {
     "name": "stderr",
     "output_type": "stream",
     "text": [
      " 38%|███▊      | 754/2000 [1:15:01<2:39:42,  7.69s/it]"
     ]
    },
    {
     "name": "stdout",
     "output_type": "stream",
     "text": [
      "20 : Not Found\n",
      "1 : Not Found\n",
      "2 : Not Found\n",
      "3 : Not Found\n",
      "15 : Not Found\n"
     ]
    },
    {
     "name": "stderr",
     "output_type": "stream",
     "text": [
      " 38%|███▊      | 755/2000 [1:15:07<2:29:22,  7.20s/it]"
     ]
    },
    {
     "name": "stdout",
     "output_type": "stream",
     "text": [
      "1 : Not Found\n",
      "2 : Not Found\n",
      "3 : Not Found\n",
      "4 : Not Found\n",
      "5 : Not Found\n",
      "6 : Not Found\n",
      "7 : Not Found\n",
      "8 : Not Found\n",
      "9 : Not Found\n",
      "10 : Not Found\n",
      "11 : Not Found\n",
      "12 : Not Found\n",
      "13 : Not Found\n",
      "14 : Not Found\n",
      "15 : Not Found\n",
      "16 : Not Found\n",
      "17 : Not Found\n",
      "18 : Not Found\n",
      "19 : Not Found\n"
     ]
    },
    {
     "name": "stderr",
     "output_type": "stream",
     "text": [
      " 38%|███▊      | 756/2000 [1:15:19<3:00:23,  8.70s/it]"
     ]
    },
    {
     "name": "stdout",
     "output_type": "stream",
     "text": [
      "20 : Not Found\n",
      "1 : Not Found\n",
      "2 : Not Found\n",
      "3 : Not Found\n",
      "4 : Not Found\n",
      "11 : Not Found\n",
      "12 : Not Found\n",
      "13 : Not Found\n",
      "14 : Not Found\n",
      "15 : Not Found\n",
      "16 : Not Found\n",
      "17 : Not Found\n",
      "18 : Not Found\n",
      "19 : Not Found\n"
     ]
    },
    {
     "name": "stderr",
     "output_type": "stream",
     "text": [
      " 38%|███▊      | 757/2000 [1:15:29<3:07:05,  9.03s/it]"
     ]
    },
    {
     "name": "stdout",
     "output_type": "stream",
     "text": [
      "20 : Not Found\n",
      "1 : Not Found\n",
      "2 : Not Found\n",
      "3 : Not Found\n",
      "4 : Not Found\n",
      "5 : Not Found\n",
      "6 : Not Found\n",
      "7 : Not Found\n",
      "8 : Not Found\n",
      "9 : Not Found\n",
      "10 : Not Found\n",
      "11 : Not Found\n",
      "12 : Not Found\n",
      "13 : Not Found\n",
      "14 : Not Found\n",
      "15 : Not Found\n",
      "16 : Not Found\n",
      "17 : Not Found\n",
      "18 : Not Found\n",
      "19 : Not Found\n"
     ]
    },
    {
     "name": "stderr",
     "output_type": "stream",
     "text": [
      " 38%|███▊      | 758/2000 [1:15:41<3:26:00,  9.95s/it]"
     ]
    },
    {
     "name": "stdout",
     "output_type": "stream",
     "text": [
      "20 : Not Found\n",
      "1 : Not Found\n",
      "2 : Not Found\n",
      "3 : Not Found\n",
      "4 : Not Found\n",
      "8 : Not Found\n",
      "10 : Not Found\n"
     ]
    },
    {
     "name": "stderr",
     "output_type": "stream",
     "text": [
      " 38%|███▊      | 759/2000 [1:15:48<3:06:37,  9.02s/it]"
     ]
    },
    {
     "name": "stdout",
     "output_type": "stream",
     "text": [
      "1 : Not Found\n",
      "2 : Not Found\n",
      "3 : Not Found\n",
      "4 : Not Found\n"
     ]
    },
    {
     "name": "stderr",
     "output_type": "stream",
     "text": [
      " 38%|███▊      | 760/2000 [1:15:53<2:42:57,  7.89s/it]"
     ]
    },
    {
     "name": "stdout",
     "output_type": "stream",
     "text": [
      "1 : Not Found\n",
      "2 : Not Found\n",
      "3 : Not Found\n",
      "4 : Not Found\n",
      "5 : Not Found\n",
      "6 : Not Found\n",
      "7 : Not Found\n",
      "8 : Not Found\n",
      "9 : Not Found\n",
      "10 : Not Found\n",
      "11 : Not Found\n",
      "12 : Not Found\n",
      "13 : Not Found\n",
      "14 : Not Found\n",
      "15 : Not Found\n",
      "16 : Not Found\n",
      "17 : Not Found\n",
      "18 : Not Found\n",
      "19 : Not Found\n"
     ]
    },
    {
     "name": "stderr",
     "output_type": "stream",
     "text": [
      " 38%|███▊      | 761/2000 [1:16:05<3:06:20,  9.02s/it]"
     ]
    },
    {
     "name": "stdout",
     "output_type": "stream",
     "text": [
      "20 : Not Found\n",
      "1 : Not Found\n",
      "2 : Not Found\n",
      "3 : Not Found\n",
      "4 : Not Found\n",
      "19 : Not Found\n"
     ]
    },
    {
     "name": "stderr",
     "output_type": "stream",
     "text": [
      " 38%|███▊      | 762/2000 [1:16:12<2:51:51,  8.33s/it]"
     ]
    },
    {
     "name": "stdout",
     "output_type": "stream",
     "text": [
      "1 : Not Found\n",
      "2 : Not Found\n",
      "3 : Not Found\n",
      "4 : Not Found\n",
      "9 : Not Found\n",
      "12 : Not Found\n"
     ]
    },
    {
     "name": "stderr",
     "output_type": "stream",
     "text": [
      " 38%|███▊      | 763/2000 [1:16:18<2:40:14,  7.77s/it]"
     ]
    },
    {
     "name": "stdout",
     "output_type": "stream",
     "text": [
      "1 : Not Found\n",
      "2 : Not Found\n",
      "3 : Not Found\n",
      "4 : Not Found\n",
      "5 : Not Found\n"
     ]
    },
    {
     "name": "stderr",
     "output_type": "stream",
     "text": [
      " 38%|███▊      | 764/2000 [1:16:25<2:31:09,  7.34s/it]"
     ]
    },
    {
     "name": "stdout",
     "output_type": "stream",
     "text": [
      "20 : Not Found\n",
      "1 : Not Found\n",
      "2 : Not Found\n",
      "3 : Not Found\n",
      "4 : Not Found\n",
      "5 : Not Found\n",
      "8 : Not Found\n",
      "11 : Not Found\n"
     ]
    },
    {
     "name": "stderr",
     "output_type": "stream",
     "text": [
      " 38%|███▊      | 765/2000 [1:16:32<2:29:47,  7.28s/it]"
     ]
    },
    {
     "name": "stdout",
     "output_type": "stream",
     "text": [
      "1 : Not Found\n",
      "2 : Not Found\n",
      "3 : Not Found\n",
      "4 : Not Found\n",
      "15 : Not Found\n"
     ]
    },
    {
     "name": "stderr",
     "output_type": "stream",
     "text": [
      " 38%|███▊      | 766/2000 [1:16:38<2:21:31,  6.88s/it]"
     ]
    },
    {
     "name": "stdout",
     "output_type": "stream",
     "text": [
      "1 : Not Found\n",
      "2 : Not Found\n",
      "3 : Not Found\n",
      "4 : Not Found\n",
      "5 : Not Found\n",
      "6 : Not Found\n",
      "7 : Not Found\n",
      "8 : Not Found\n",
      "9 : Not Found\n",
      "10 : Not Found\n",
      "11 : Not Found\n",
      "12 : Not Found\n",
      "13 : Not Found\n",
      "14 : Not Found\n",
      "15 : Not Found\n",
      "16 : Not Found\n",
      "17 : Not Found\n",
      "18 : Not Found\n",
      "19 : Not Found\n"
     ]
    },
    {
     "name": "stderr",
     "output_type": "stream",
     "text": [
      " 38%|███▊      | 767/2000 [1:16:50<2:52:50,  8.41s/it]"
     ]
    },
    {
     "name": "stdout",
     "output_type": "stream",
     "text": [
      "20 : Not Found\n",
      "1 : Not Found\n",
      "2 : Not Found\n",
      "3 : Not Found\n",
      "4 : Not Found\n",
      "11 : Not Found\n"
     ]
    },
    {
     "name": "stderr",
     "output_type": "stream",
     "text": [
      " 38%|███▊      | 768/2000 [1:16:56<2:40:50,  7.83s/it]"
     ]
    },
    {
     "name": "stdout",
     "output_type": "stream",
     "text": [
      "1 : Not Found\n",
      "2 : Not Found\n",
      "3 : Not Found\n",
      "4 : Not Found\n"
     ]
    },
    {
     "name": "stderr",
     "output_type": "stream",
     "text": [
      " 38%|███▊      | 769/2000 [1:17:02<2:29:48,  7.30s/it]"
     ]
    },
    {
     "name": "stdout",
     "output_type": "stream",
     "text": [
      "1 : Not Found\n",
      "2 : Not Found\n",
      "3 : Not Found\n",
      "4 : Not Found\n",
      "10 : Not Found\n",
      "19 : Not Found\n"
     ]
    },
    {
     "name": "stderr",
     "output_type": "stream",
     "text": [
      " 38%|███▊      | 770/2000 [1:17:09<2:26:49,  7.16s/it]"
     ]
    },
    {
     "name": "stdout",
     "output_type": "stream",
     "text": [
      "20 : Not Found\n",
      "1 : Not Found\n",
      "2 : Not Found\n",
      "3 : Not Found\n",
      "4 : Not Found\n",
      "10 : Not Found\n",
      "16 : Not Found\n"
     ]
    },
    {
     "name": "stderr",
     "output_type": "stream",
     "text": [
      " 39%|███▊      | 771/2000 [1:17:17<2:28:46,  7.26s/it]"
     ]
    },
    {
     "name": "stdout",
     "output_type": "stream",
     "text": [
      "20 : Not Found\n",
      "1 : Not Found\n",
      "2 : Not Found\n",
      "3 : Not Found\n",
      "4 : Not Found\n",
      "16 : Not Found\n"
     ]
    },
    {
     "name": "stderr",
     "output_type": "stream",
     "text": [
      " 39%|███▊      | 772/2000 [1:17:23<2:24:24,  7.06s/it]"
     ]
    },
    {
     "name": "stdout",
     "output_type": "stream",
     "text": [
      "1 : Not Found\n",
      "2 : Not Found\n",
      "3 : Not Found\n",
      "4 : Not Found\n"
     ]
    },
    {
     "name": "stderr",
     "output_type": "stream",
     "text": [
      " 39%|███▊      | 773/2000 [1:17:29<2:14:23,  6.57s/it]"
     ]
    },
    {
     "name": "stdout",
     "output_type": "stream",
     "text": [
      "1 : Not Found\n",
      "2 : Not Found\n",
      "3 : Not Found\n",
      "4 : Not Found\n",
      "5 : Not Found\n",
      "6 : Not Found\n",
      "7 : Not Found\n",
      "8 : Not Found\n",
      "9 : Not Found\n",
      "10 : Not Found\n",
      "11 : Not Found\n",
      "12 : Not Found\n",
      "13 : Not Found\n",
      "14 : Not Found\n",
      "15 : Not Found\n",
      "16 : Not Found\n",
      "17 : Not Found\n",
      "18 : Not Found\n",
      "19 : Not Found\n"
     ]
    },
    {
     "name": "stderr",
     "output_type": "stream",
     "text": [
      " 39%|███▊      | 774/2000 [1:17:41<2:48:07,  8.23s/it]"
     ]
    },
    {
     "name": "stdout",
     "output_type": "stream",
     "text": [
      "20 : Not Found\n",
      "1 : Not Found\n",
      "2 : Not Found\n",
      "3 : Not Found\n",
      "4 : Not Found\n",
      "18 : Not Found\n"
     ]
    },
    {
     "name": "stderr",
     "output_type": "stream",
     "text": [
      " 39%|███▉      | 775/2000 [1:17:47<2:37:37,  7.72s/it]"
     ]
    },
    {
     "name": "stdout",
     "output_type": "stream",
     "text": [
      "1 : Not Found\n",
      "2 : Not Found\n",
      "3 : Not Found\n",
      "4 : Not Found\n"
     ]
    },
    {
     "name": "stderr",
     "output_type": "stream",
     "text": [
      " 39%|███▉      | 776/2000 [1:17:53<2:24:29,  7.08s/it]"
     ]
    },
    {
     "name": "stdout",
     "output_type": "stream",
     "text": [
      "1 : Not Found\n",
      "2 : Not Found\n",
      "3 : Not Found\n",
      "4 : Not Found\n",
      "17 : Not Found\n"
     ]
    },
    {
     "name": "stderr",
     "output_type": "stream",
     "text": [
      " 39%|███▉      | 777/2000 [1:17:59<2:19:51,  6.86s/it]"
     ]
    },
    {
     "name": "stdout",
     "output_type": "stream",
     "text": [
      "1 : Not Found\n",
      "2 : Not Found\n",
      "3 : Not Found\n",
      "4 : Not Found\n",
      "7 : Not Found\n",
      "8 : Not Found\n",
      "9 : Not Found\n"
     ]
    },
    {
     "name": "stderr",
     "output_type": "stream",
     "text": [
      " 39%|███▉      | 778/2000 [1:18:07<2:22:41,  7.01s/it]"
     ]
    },
    {
     "name": "stdout",
     "output_type": "stream",
     "text": [
      "1 : Not Found\n",
      "2 : Not Found\n",
      "3 : Not Found\n",
      "4 : Not Found\n",
      "9 : Not Found\n",
      "10 : Not Found\n",
      "12 : Not Found\n",
      "13 : Not Found\n"
     ]
    },
    {
     "name": "stderr",
     "output_type": "stream",
     "text": [
      " 39%|███▉      | 779/2000 [1:18:14<2:24:37,  7.11s/it]"
     ]
    },
    {
     "name": "stdout",
     "output_type": "stream",
     "text": [
      "1 : Not Found\n",
      "2 : Not Found\n",
      "3 : Not Found\n",
      "4 : Not Found\n",
      "13 : Not Found\n",
      "14 : Not Found\n"
     ]
    },
    {
     "name": "stderr",
     "output_type": "stream",
     "text": [
      " 39%|███▉      | 780/2000 [1:18:21<2:22:30,  7.01s/it]"
     ]
    },
    {
     "name": "stdout",
     "output_type": "stream",
     "text": [
      "1 : Not Found\n",
      "2 : Not Found\n",
      "3 : Not Found\n",
      "4 : Not Found\n",
      "6 : Not Found\n",
      "7 : Not Found\n",
      "8 : Not Found\n",
      "9 : Not Found\n",
      "14 : Not Found\n",
      "19 : Not Found\n"
     ]
    },
    {
     "name": "stderr",
     "output_type": "stream",
     "text": [
      " 39%|███▉      | 781/2000 [1:18:29<2:32:47,  7.52s/it]"
     ]
    },
    {
     "name": "stdout",
     "output_type": "stream",
     "text": [
      "1 : Not Found\n",
      "2 : Not Found\n",
      "3 : Not Found\n",
      "4 : Not Found\n",
      "11 : Not Found\n",
      "12 : Not Found\n",
      "13 : Not Found\n"
     ]
    },
    {
     "name": "stderr",
     "output_type": "stream",
     "text": [
      " 39%|███▉      | 782/2000 [1:18:38<2:36:47,  7.72s/it]"
     ]
    },
    {
     "name": "stdout",
     "output_type": "stream",
     "text": [
      "20 : Not Found\n",
      "1 : Not Found\n",
      "2 : Not Found\n",
      "3 : Not Found\n",
      "4 : Not Found\n"
     ]
    },
    {
     "name": "stderr",
     "output_type": "stream",
     "text": [
      " 39%|███▉      | 783/2000 [1:18:43<2:24:02,  7.10s/it]"
     ]
    },
    {
     "name": "stdout",
     "output_type": "stream",
     "text": [
      "1 : Not Found\n",
      "2 : Not Found\n",
      "3 : Not Found\n",
      "4 : Not Found\n",
      "6 : Not Found\n",
      "12 : Not Found\n"
     ]
    },
    {
     "name": "stderr",
     "output_type": "stream",
     "text": [
      " 39%|███▉      | 784/2000 [1:18:50<2:22:45,  7.04s/it]"
     ]
    },
    {
     "name": "stdout",
     "output_type": "stream",
     "text": [
      "1 : Not Found\n",
      "2 : Not Found\n",
      "3 : Not Found\n",
      "4 : Not Found\n"
     ]
    },
    {
     "name": "stderr",
     "output_type": "stream",
     "text": [
      " 39%|███▉      | 785/2000 [1:18:56<2:15:22,  6.68s/it]"
     ]
    },
    {
     "name": "stdout",
     "output_type": "stream",
     "text": [
      "1 : Not Found\n",
      "2 : Not Found\n",
      "3 : Not Found\n",
      "4 : Not Found\n",
      "5 : Not Found\n",
      "6 : Not Found\n",
      "7 : Not Found\n",
      "8 : Not Found\n",
      "9 : Not Found\n",
      "10 : Not Found\n",
      "11 : Not Found\n",
      "12 : Not Found\n",
      "13 : Not Found\n",
      "14 : Not Found\n",
      "15 : Not Found\n",
      "16 : Not Found\n",
      "17 : Not Found\n",
      "18 : Not Found\n",
      "19 : Not Found\n"
     ]
    },
    {
     "name": "stderr",
     "output_type": "stream",
     "text": [
      " 39%|███▉      | 786/2000 [1:19:08<2:48:16,  8.32s/it]"
     ]
    },
    {
     "name": "stdout",
     "output_type": "stream",
     "text": [
      "20 : Not Found\n",
      "1 : Not Found\n",
      "2 : Not Found\n",
      "3 : Not Found\n",
      "4 : Not Found\n"
     ]
    },
    {
     "name": "stderr",
     "output_type": "stream",
     "text": [
      " 39%|███▉      | 787/2000 [1:19:14<2:35:34,  7.70s/it]"
     ]
    },
    {
     "name": "stdout",
     "output_type": "stream",
     "text": [
      "1 : Not Found\n",
      "2 : Not Found\n",
      "3 : Not Found\n",
      "4 : Not Found\n"
     ]
    },
    {
     "name": "stderr",
     "output_type": "stream",
     "text": [
      " 39%|███▉      | 788/2000 [1:19:21<2:27:37,  7.31s/it]"
     ]
    },
    {
     "name": "stdout",
     "output_type": "stream",
     "text": [
      "1 : Not Found\n",
      "2 : Not Found\n",
      "3 : Not Found\n",
      "4 : Not Found\n"
     ]
    },
    {
     "name": "stderr",
     "output_type": "stream",
     "text": [
      " 39%|███▉      | 789/2000 [1:19:27<2:21:19,  7.00s/it]"
     ]
    },
    {
     "name": "stdout",
     "output_type": "stream",
     "text": [
      "1 : Not Found\n",
      "2 : Not Found\n",
      "3 : Not Found\n",
      "4 : Not Found\n",
      "14 : Not Found\n"
     ]
    },
    {
     "name": "stderr",
     "output_type": "stream",
     "text": [
      " 40%|███▉      | 790/2000 [1:19:34<2:20:06,  6.95s/it]"
     ]
    },
    {
     "name": "stdout",
     "output_type": "stream",
     "text": [
      "1 : Not Found\n",
      "2 : Not Found\n",
      "3 : Not Found\n",
      "4 : Not Found\n"
     ]
    },
    {
     "name": "stderr",
     "output_type": "stream",
     "text": [
      " 40%|███▉      | 791/2000 [1:19:40<2:18:02,  6.85s/it]"
     ]
    },
    {
     "name": "stdout",
     "output_type": "stream",
     "text": [
      "1 : Not Found\n",
      "2 : Not Found\n",
      "3 : Not Found\n",
      "4 : Not Found\n",
      "11 : Not Found\n",
      "12 : Not Found\n",
      "13 : Not Found\n",
      "14 : Not Found\n",
      "15 : Not Found\n",
      "16 : Not Found\n"
     ]
    },
    {
     "name": "stderr",
     "output_type": "stream",
     "text": [
      " 40%|███▉      | 792/2000 [1:19:49<2:26:59,  7.30s/it]"
     ]
    },
    {
     "name": "stdout",
     "output_type": "stream",
     "text": [
      "1 : Not Found\n",
      "2 : Not Found\n",
      "3 : Not Found\n",
      "4 : Not Found\n"
     ]
    },
    {
     "name": "stderr",
     "output_type": "stream",
     "text": [
      " 40%|███▉      | 793/2000 [1:19:54<2:16:52,  6.80s/it]"
     ]
    },
    {
     "name": "stdout",
     "output_type": "stream",
     "text": [
      "1 : Not Found\n",
      "2 : Not Found\n",
      "3 : Not Found\n",
      "4 : Not Found\n",
      "14 : Not Found\n",
      "15 : Not Found\n",
      "16 : Not Found\n",
      "17 : Not Found\n",
      "18 : Not Found\n"
     ]
    },
    {
     "name": "stderr",
     "output_type": "stream",
     "text": [
      " 40%|███▉      | 794/2000 [1:20:02<2:23:19,  7.13s/it]"
     ]
    },
    {
     "name": "stdout",
     "output_type": "stream",
     "text": [
      "1 : Not Found\n",
      "2 : Not Found\n",
      "3 : Not Found\n",
      "4 : Not Found\n"
     ]
    },
    {
     "name": "stderr",
     "output_type": "stream",
     "text": [
      " 40%|███▉      | 795/2000 [1:20:08<2:15:50,  6.76s/it]"
     ]
    },
    {
     "name": "stdout",
     "output_type": "stream",
     "text": [
      "1 : Not Found\n",
      "2 : Not Found\n",
      "3 : Not Found\n",
      "4 : Not Found\n"
     ]
    },
    {
     "name": "stderr",
     "output_type": "stream",
     "text": [
      " 40%|███▉      | 796/2000 [1:20:15<2:13:56,  6.67s/it]"
     ]
    },
    {
     "name": "stdout",
     "output_type": "stream",
     "text": [
      "1 : Not Found\n",
      "2 : Not Found\n",
      "3 : Not Found\n",
      "4 : Not Found\n"
     ]
    },
    {
     "name": "stderr",
     "output_type": "stream",
     "text": [
      " 40%|███▉      | 797/2000 [1:20:21<2:11:21,  6.55s/it]"
     ]
    },
    {
     "name": "stdout",
     "output_type": "stream",
     "text": [
      "1 : Not Found\n",
      "2 : Not Found\n",
      "3 : Not Found\n",
      "4 : Not Found\n"
     ]
    },
    {
     "name": "stderr",
     "output_type": "stream",
     "text": [
      " 40%|███▉      | 798/2000 [1:20:27<2:09:09,  6.45s/it]"
     ]
    },
    {
     "name": "stdout",
     "output_type": "stream",
     "text": [
      "1 : Not Found\n",
      "2 : Not Found\n",
      "3 : Not Found\n",
      "4 : Not Found\n"
     ]
    },
    {
     "name": "stderr",
     "output_type": "stream",
     "text": [
      " 40%|███▉      | 799/2000 [1:20:33<2:04:21,  6.21s/it]"
     ]
    },
    {
     "name": "stdout",
     "output_type": "stream",
     "text": [
      "1 : Not Found\n",
      "2 : Not Found\n",
      "3 : Not Found\n",
      "4 : Not Found\n",
      "5 : Not Found\n",
      "12 : Not Found\n",
      "13 : Not Found\n",
      "14 : Not Found\n",
      "16 : Not Found\n",
      "17 : Not Found\n",
      "18 : Not Found\n"
     ]
    },
    {
     "name": "stderr",
     "output_type": "stream",
     "text": [
      " 40%|████      | 800/2000 [1:20:43<2:26:05,  7.30s/it]"
     ]
    },
    {
     "name": "stdout",
     "output_type": "stream",
     "text": [
      "19 : Not Found\n",
      "1 : Not Found\n",
      "2 : Not Found\n",
      "3 : Not Found\n",
      "4 : Not Found\n",
      "5 : Not Found\n",
      "6 : Not Found\n",
      "7 : Not Found\n",
      "8 : Not Found\n",
      "9 : Not Found\n",
      "10 : Not Found\n",
      "11 : Not Found\n",
      "14 : Not Found\n",
      "15 : Not Found\n",
      "18 : Not Found\n"
     ]
    },
    {
     "name": "stderr",
     "output_type": "stream",
     "text": [
      " 40%|████      | 801/2000 [1:20:53<2:43:37,  8.19s/it]"
     ]
    },
    {
     "name": "stdout",
     "output_type": "stream",
     "text": [
      "20 : Not Found\n",
      "1 : Not Found\n",
      "2 : Not Found\n",
      "3 : Not Found\n",
      "4 : Not Found\n"
     ]
    },
    {
     "name": "stderr",
     "output_type": "stream",
     "text": [
      " 40%|████      | 802/2000 [1:20:59<2:31:22,  7.58s/it]"
     ]
    },
    {
     "name": "stdout",
     "output_type": "stream",
     "text": [
      "1 : Not Found\n",
      "2 : Not Found\n",
      "3 : Not Found\n",
      "4 : Not Found\n",
      "16 : Not Found\n"
     ]
    },
    {
     "name": "stderr",
     "output_type": "stream",
     "text": [
      " 40%|████      | 803/2000 [1:21:06<2:25:06,  7.27s/it]"
     ]
    },
    {
     "name": "stdout",
     "output_type": "stream",
     "text": [
      "1 : Not Found\n",
      "2 : Not Found\n",
      "3 : Not Found\n",
      "4 : Not Found\n",
      "16 : Not Found\n"
     ]
    },
    {
     "name": "stderr",
     "output_type": "stream",
     "text": [
      " 40%|████      | 804/2000 [1:21:13<2:23:20,  7.19s/it]"
     ]
    },
    {
     "name": "stdout",
     "output_type": "stream",
     "text": [
      "1 : Not Found\n",
      "2 : Not Found\n",
      "3 : Not Found\n",
      "4 : Not Found\n",
      "5 : Not Found\n",
      "6 : Not Found\n",
      "7 : Not Found\n",
      "8 : Not Found\n",
      "9 : Not Found\n",
      "10 : Not Found\n",
      "11 : Not Found\n",
      "12 : Not Found\n",
      "13 : Not Found\n",
      "14 : Not Found\n",
      "15 : Not Found\n",
      "16 : Not Found\n",
      "17 : Not Found\n",
      "18 : Not Found\n",
      "19 : Not Found\n"
     ]
    },
    {
     "name": "stderr",
     "output_type": "stream",
     "text": [
      " 40%|████      | 805/2000 [1:21:25<2:52:52,  8.68s/it]"
     ]
    },
    {
     "name": "stdout",
     "output_type": "stream",
     "text": [
      "20 : Not Found\n",
      "1 : Not Found\n",
      "2 : Not Found\n",
      "3 : Not Found\n",
      "4 : Not Found\n"
     ]
    },
    {
     "name": "stderr",
     "output_type": "stream",
     "text": [
      " 40%|████      | 806/2000 [1:21:31<2:35:05,  7.79s/it]"
     ]
    },
    {
     "name": "stdout",
     "output_type": "stream",
     "text": [
      "1 : Not Found\n",
      "2 : Not Found\n",
      "3 : Not Found\n",
      "4 : Not Found\n",
      "17 : Not Found\n"
     ]
    },
    {
     "name": "stderr",
     "output_type": "stream",
     "text": [
      " 40%|████      | 807/2000 [1:21:38<2:29:41,  7.53s/it]"
     ]
    },
    {
     "name": "stdout",
     "output_type": "stream",
     "text": [
      "1 : Not Found\n",
      "2 : Not Found\n",
      "3 : Not Found\n",
      "4 : Not Found\n"
     ]
    },
    {
     "name": "stderr",
     "output_type": "stream",
     "text": [
      " 40%|████      | 808/2000 [1:21:43<2:18:04,  6.95s/it]"
     ]
    },
    {
     "name": "stdout",
     "output_type": "stream",
     "text": [
      "1 : Not Found\n",
      "2 : Not Found\n",
      "3 : Not Found\n",
      "4 : Not Found\n"
     ]
    },
    {
     "name": "stderr",
     "output_type": "stream",
     "text": [
      " 40%|████      | 809/2000 [1:21:49<2:14:32,  6.78s/it]"
     ]
    },
    {
     "name": "stdout",
     "output_type": "stream",
     "text": [
      "1 : Not Found\n",
      "2 : Not Found\n",
      "3 : Not Found\n",
      "4 : Not Found\n",
      "9 : Not Found\n",
      "10 : Not Found\n",
      "12 : Not Found\n",
      "15 : Not Found\n",
      "18 : Not Found\n"
     ]
    },
    {
     "name": "stderr",
     "output_type": "stream",
     "text": [
      " 40%|████      | 810/2000 [1:21:58<2:27:33,  7.44s/it]"
     ]
    },
    {
     "name": "stdout",
     "output_type": "stream",
     "text": [
      "19 : Not Found\n",
      "1 : Not Found\n",
      "2 : Not Found\n",
      "3 : Not Found\n",
      "4 : Not Found\n"
     ]
    },
    {
     "name": "stderr",
     "output_type": "stream",
     "text": [
      " 41%|████      | 811/2000 [1:22:04<2:17:24,  6.93s/it]"
     ]
    },
    {
     "name": "stdout",
     "output_type": "stream",
     "text": [
      "1 : Not Found\n",
      "2 : Not Found\n",
      "3 : Not Found\n",
      "4 : Not Found\n"
     ]
    },
    {
     "name": "stderr",
     "output_type": "stream",
     "text": [
      " 41%|████      | 812/2000 [1:22:11<2:14:45,  6.81s/it]"
     ]
    },
    {
     "name": "stdout",
     "output_type": "stream",
     "text": [
      "1 : Not Found\n",
      "2 : Not Found\n",
      "3 : Not Found\n",
      "4 : Not Found\n",
      "5 : Not Found\n"
     ]
    },
    {
     "name": "stderr",
     "output_type": "stream",
     "text": [
      " 41%|████      | 813/2000 [1:22:17<2:12:19,  6.69s/it]"
     ]
    },
    {
     "name": "stdout",
     "output_type": "stream",
     "text": [
      "1 : Not Found\n",
      "2 : Not Found\n",
      "3 : Not Found\n",
      "4 : Not Found\n",
      "8 : Not Found\n"
     ]
    },
    {
     "name": "stderr",
     "output_type": "stream",
     "text": [
      " 41%|████      | 814/2000 [1:22:24<2:15:47,  6.87s/it]"
     ]
    },
    {
     "name": "stdout",
     "output_type": "stream",
     "text": [
      "1 : Not Found\n",
      "2 : Not Found\n",
      "3 : Not Found\n",
      "4 : Not Found\n",
      "5 : Not Found\n",
      "6 : Not Found\n",
      "7 : Not Found\n",
      "8 : Not Found\n",
      "9 : Not Found\n",
      "10 : Not Found\n",
      "11 : Not Found\n",
      "12 : Not Found\n",
      "13 : Not Found\n",
      "14 : Not Found\n"
     ]
    },
    {
     "name": "stderr",
     "output_type": "stream",
     "text": [
      " 41%|████      | 815/2000 [1:22:34<2:31:31,  7.67s/it]"
     ]
    },
    {
     "name": "stdout",
     "output_type": "stream",
     "text": [
      "1 : Not Found\n",
      "2 : Not Found\n",
      "3 : Not Found\n",
      "4 : Not Found\n",
      "5 : Not Found\n",
      "6 : Not Found\n",
      "7 : Not Found\n",
      "8 : Not Found\n",
      "9 : Not Found\n",
      "10 : Not Found\n",
      "11 : Not Found\n",
      "12 : Not Found\n",
      "13 : Not Found\n",
      "14 : Not Found\n",
      "15 : Not Found\n",
      "16 : Not Found\n",
      "17 : Not Found\n"
     ]
    },
    {
     "name": "stderr",
     "output_type": "stream",
     "text": [
      " 41%|████      | 816/2000 [1:22:45<2:49:31,  8.59s/it]"
     ]
    },
    {
     "name": "stdout",
     "output_type": "stream",
     "text": [
      "1 : Not Found\n",
      "2 : Not Found\n",
      "3 : Not Found\n",
      "4 : Not Found\n",
      "5 : Not Found\n",
      "6 : Not Found\n",
      "7 : Not Found\n",
      "8 : Not Found\n",
      "9 : Not Found\n",
      "10 : Not Found\n",
      "11 : Not Found\n",
      "12 : Not Found\n",
      "13 : Not Found\n",
      "14 : Not Found\n"
     ]
    },
    {
     "name": "stderr",
     "output_type": "stream",
     "text": [
      " 41%|████      | 817/2000 [1:22:55<3:00:48,  9.17s/it]"
     ]
    },
    {
     "name": "stdout",
     "output_type": "stream",
     "text": [
      "19 : Not Found\n",
      "1 : Not Found\n",
      "2 : Not Found\n",
      "3 : Not Found\n"
     ]
    },
    {
     "name": "stderr",
     "output_type": "stream",
     "text": [
      " 41%|████      | 818/2000 [1:23:02<2:45:16,  8.39s/it]"
     ]
    },
    {
     "name": "stdout",
     "output_type": "stream",
     "text": [
      "1 : Not Found\n",
      "2 : Not Found\n",
      "3 : Not Found\n",
      "4 : Not Found\n"
     ]
    },
    {
     "name": "stderr",
     "output_type": "stream",
     "text": [
      " 41%|████      | 819/2000 [1:23:09<2:40:13,  8.14s/it]"
     ]
    },
    {
     "name": "stdout",
     "output_type": "stream",
     "text": [
      "1 : Not Found\n",
      "2 : Not Found\n",
      "3 : Not Found\n",
      "4 : Not Found\n",
      "8 : Not Found\n"
     ]
    },
    {
     "name": "stderr",
     "output_type": "stream",
     "text": [
      " 41%|████      | 820/2000 [1:23:16<2:32:29,  7.75s/it]"
     ]
    },
    {
     "name": "stdout",
     "output_type": "stream",
     "text": [
      "1 : Not Found\n",
      "2 : Not Found\n",
      "3 : Not Found\n",
      "4 : Not Found\n"
     ]
    },
    {
     "name": "stderr",
     "output_type": "stream",
     "text": [
      " 41%|████      | 821/2000 [1:23:23<2:26:43,  7.47s/it]"
     ]
    },
    {
     "name": "stdout",
     "output_type": "stream",
     "text": [
      "1 : Not Found\n",
      "2 : Not Found\n",
      "3 : Not Found\n"
     ]
    },
    {
     "name": "stderr",
     "output_type": "stream",
     "text": [
      " 41%|████      | 821/2000 [1:23:26<1:59:49,  6.10s/it]"
     ]
    },
    {
     "name": "stdout",
     "output_type": "stream",
     "text": [
      "4 : Not Found\n"
     ]
    },
    {
     "name": "stderr",
     "output_type": "stream",
     "text": [
      "\n"
     ]
    },
    {
     "ename": "KeyboardInterrupt",
     "evalue": "",
     "output_type": "error",
     "traceback": [
      "\u001B[0;31m---------------------------------------------------------------------------\u001B[0m",
      "\u001B[0;31mKeyboardInterrupt\u001B[0m                         Traceback (most recent call last)",
      "Cell \u001B[0;32mIn[15], line 12\u001B[0m\n\u001B[1;32m      9\u001B[0m \u001B[38;5;28;01mfor\u001B[39;00m i \u001B[38;5;129;01min\u001B[39;00m \u001B[38;5;28mrange\u001B[39m(\u001B[38;5;241m1\u001B[39m, \u001B[38;5;241m21\u001B[39m):  \u001B[38;5;66;03m# 20 jobs details on every page\u001B[39;00m\n\u001B[1;32m     10\u001B[0m     \u001B[38;5;28;01mtry\u001B[39;00m:\n\u001B[1;32m     11\u001B[0m         \u001B[38;5;66;03m# extracting job title using xpath\u001B[39;00m\n\u001B[0;32m---> 12\u001B[0m         post \u001B[38;5;241m=\u001B[39m \u001B[43mdriver\u001B[49m\u001B[38;5;241;43m.\u001B[39;49m\u001B[43mfind_element\u001B[49m\u001B[43m(\u001B[49m\u001B[43mBy\u001B[49m\u001B[38;5;241;43m.\u001B[39;49m\u001B[43mXPATH\u001B[49m\u001B[43m,\u001B[49m\n\u001B[1;32m     13\u001B[0m \u001B[43m                                   \u001B[49m\u001B[38;5;124;43m'\u001B[39;49m\u001B[38;5;124;43m/html/body/div[1]/div[4]/div[1]/div/section[2]/div[2]/article[\u001B[39;49m\u001B[38;5;132;43;01m{}\u001B[39;49;00m\u001B[38;5;124;43m]/div[1]/div[1]/a\u001B[39;49m\u001B[38;5;124;43m'\u001B[39;49m\u001B[38;5;241;43m.\u001B[39;49m\u001B[43mformat\u001B[49m\u001B[43m(\u001B[49m\n\u001B[1;32m     14\u001B[0m \u001B[43m                                       \u001B[49m\u001B[43mi\u001B[49m\u001B[43m)\u001B[49m\u001B[43m)\u001B[49m\u001B[38;5;241m.\u001B[39mtext\n\u001B[1;32m     15\u001B[0m         \u001B[38;5;66;03m# print('post')\u001B[39;00m\n\u001B[1;32m     16\u001B[0m         \u001B[38;5;66;03m# extracting company name using xpath\u001B[39;00m\n\u001B[1;32m     17\u001B[0m         firm \u001B[38;5;241m=\u001B[39m driver\u001B[38;5;241m.\u001B[39mfind_element(By\u001B[38;5;241m.\u001B[39mXPATH,\n\u001B[1;32m     18\u001B[0m                                    \u001B[38;5;124m'\u001B[39m\u001B[38;5;124m/html/body/div[1]/div[4]/div[1]/div/section[2]/div[2]/article[\u001B[39m\u001B[38;5;132;01m{}\u001B[39;00m\u001B[38;5;124m]/div[1]/div[1]/div/a[1]\u001B[39m\u001B[38;5;124m'\u001B[39m\u001B[38;5;241m.\u001B[39mformat(\n\u001B[1;32m     19\u001B[0m                                        i))\u001B[38;5;241m.\u001B[39mtext\n",
      "File \u001B[0;32m~/PycharmProjects/Naukri-Jobs-data-Scraping/ven/lib/python3.10/site-packages/selenium/webdriver/remote/webdriver.py:1251\u001B[0m, in \u001B[0;36mWebDriver.find_element\u001B[0;34m(self, by, value)\u001B[0m\n\u001B[1;32m   1248\u001B[0m     by \u001B[38;5;241m=\u001B[39m By\u001B[38;5;241m.\u001B[39mCSS_SELECTOR\n\u001B[1;32m   1249\u001B[0m     value \u001B[38;5;241m=\u001B[39m \u001B[38;5;124m'\u001B[39m\u001B[38;5;124m[name=\u001B[39m\u001B[38;5;124m\"\u001B[39m\u001B[38;5;132;01m%s\u001B[39;00m\u001B[38;5;124m\"\u001B[39m\u001B[38;5;124m]\u001B[39m\u001B[38;5;124m'\u001B[39m \u001B[38;5;241m%\u001B[39m value\n\u001B[0;32m-> 1251\u001B[0m \u001B[38;5;28;01mreturn\u001B[39;00m \u001B[38;5;28;43mself\u001B[39;49m\u001B[38;5;241;43m.\u001B[39;49m\u001B[43mexecute\u001B[49m\u001B[43m(\u001B[49m\u001B[43mCommand\u001B[49m\u001B[38;5;241;43m.\u001B[39;49m\u001B[43mFIND_ELEMENT\u001B[49m\u001B[43m,\u001B[49m\u001B[43m \u001B[49m\u001B[43m{\u001B[49m\n\u001B[1;32m   1252\u001B[0m \u001B[43m    \u001B[49m\u001B[38;5;124;43m'\u001B[39;49m\u001B[38;5;124;43musing\u001B[39;49m\u001B[38;5;124;43m'\u001B[39;49m\u001B[43m:\u001B[49m\u001B[43m \u001B[49m\u001B[43mby\u001B[49m\u001B[43m,\u001B[49m\n\u001B[1;32m   1253\u001B[0m \u001B[43m    \u001B[49m\u001B[38;5;124;43m'\u001B[39;49m\u001B[38;5;124;43mvalue\u001B[39;49m\u001B[38;5;124;43m'\u001B[39;49m\u001B[43m:\u001B[49m\u001B[43m \u001B[49m\u001B[43mvalue\u001B[49m\u001B[43m}\u001B[49m\u001B[43m)\u001B[49m[\u001B[38;5;124m'\u001B[39m\u001B[38;5;124mvalue\u001B[39m\u001B[38;5;124m'\u001B[39m]\n",
      "File \u001B[0;32m~/PycharmProjects/Naukri-Jobs-data-Scraping/ven/lib/python3.10/site-packages/selenium/webdriver/remote/webdriver.py:428\u001B[0m, in \u001B[0;36mWebDriver.execute\u001B[0;34m(self, driver_command, params)\u001B[0m\n\u001B[1;32m    425\u001B[0m         params[\u001B[38;5;124m'\u001B[39m\u001B[38;5;124msessionId\u001B[39m\u001B[38;5;124m'\u001B[39m] \u001B[38;5;241m=\u001B[39m \u001B[38;5;28mself\u001B[39m\u001B[38;5;241m.\u001B[39msession_id\n\u001B[1;32m    427\u001B[0m params \u001B[38;5;241m=\u001B[39m \u001B[38;5;28mself\u001B[39m\u001B[38;5;241m.\u001B[39m_wrap_value(params)\n\u001B[0;32m--> 428\u001B[0m response \u001B[38;5;241m=\u001B[39m \u001B[38;5;28;43mself\u001B[39;49m\u001B[38;5;241;43m.\u001B[39;49m\u001B[43mcommand_executor\u001B[49m\u001B[38;5;241;43m.\u001B[39;49m\u001B[43mexecute\u001B[49m\u001B[43m(\u001B[49m\u001B[43mdriver_command\u001B[49m\u001B[43m,\u001B[49m\u001B[43m \u001B[49m\u001B[43mparams\u001B[49m\u001B[43m)\u001B[49m\n\u001B[1;32m    429\u001B[0m \u001B[38;5;28;01mif\u001B[39;00m response:\n\u001B[1;32m    430\u001B[0m     \u001B[38;5;28mself\u001B[39m\u001B[38;5;241m.\u001B[39merror_handler\u001B[38;5;241m.\u001B[39mcheck_response(response)\n",
      "File \u001B[0;32m~/PycharmProjects/Naukri-Jobs-data-Scraping/ven/lib/python3.10/site-packages/selenium/webdriver/remote/remote_connection.py:347\u001B[0m, in \u001B[0;36mRemoteConnection.execute\u001B[0;34m(self, command, params)\u001B[0m\n\u001B[1;32m    345\u001B[0m data \u001B[38;5;241m=\u001B[39m utils\u001B[38;5;241m.\u001B[39mdump_json(params)\n\u001B[1;32m    346\u001B[0m url \u001B[38;5;241m=\u001B[39m \u001B[38;5;124mf\u001B[39m\u001B[38;5;124m\"\u001B[39m\u001B[38;5;132;01m{\u001B[39;00m\u001B[38;5;28mself\u001B[39m\u001B[38;5;241m.\u001B[39m_url\u001B[38;5;132;01m}\u001B[39;00m\u001B[38;5;132;01m{\u001B[39;00mpath\u001B[38;5;132;01m}\u001B[39;00m\u001B[38;5;124m\"\u001B[39m\n\u001B[0;32m--> 347\u001B[0m \u001B[38;5;28;01mreturn\u001B[39;00m \u001B[38;5;28;43mself\u001B[39;49m\u001B[38;5;241;43m.\u001B[39;49m\u001B[43m_request\u001B[49m\u001B[43m(\u001B[49m\u001B[43mcommand_info\u001B[49m\u001B[43m[\u001B[49m\u001B[38;5;241;43m0\u001B[39;49m\u001B[43m]\u001B[49m\u001B[43m,\u001B[49m\u001B[43m \u001B[49m\u001B[43murl\u001B[49m\u001B[43m,\u001B[49m\u001B[43m \u001B[49m\u001B[43mbody\u001B[49m\u001B[38;5;241;43m=\u001B[39;49m\u001B[43mdata\u001B[49m\u001B[43m)\u001B[49m\n",
      "File \u001B[0;32m~/PycharmProjects/Naukri-Jobs-data-Scraping/ven/lib/python3.10/site-packages/selenium/webdriver/remote/remote_connection.py:369\u001B[0m, in \u001B[0;36mRemoteConnection._request\u001B[0;34m(self, method, url, body)\u001B[0m\n\u001B[1;32m    366\u001B[0m     body \u001B[38;5;241m=\u001B[39m \u001B[38;5;28;01mNone\u001B[39;00m\n\u001B[1;32m    368\u001B[0m \u001B[38;5;28;01mif\u001B[39;00m \u001B[38;5;28mself\u001B[39m\u001B[38;5;241m.\u001B[39mkeep_alive:\n\u001B[0;32m--> 369\u001B[0m     response \u001B[38;5;241m=\u001B[39m \u001B[38;5;28;43mself\u001B[39;49m\u001B[38;5;241;43m.\u001B[39;49m\u001B[43m_conn\u001B[49m\u001B[38;5;241;43m.\u001B[39;49m\u001B[43mrequest\u001B[49m\u001B[43m(\u001B[49m\u001B[43mmethod\u001B[49m\u001B[43m,\u001B[49m\u001B[43m \u001B[49m\u001B[43murl\u001B[49m\u001B[43m,\u001B[49m\u001B[43m \u001B[49m\u001B[43mbody\u001B[49m\u001B[38;5;241;43m=\u001B[39;49m\u001B[43mbody\u001B[49m\u001B[43m,\u001B[49m\u001B[43m \u001B[49m\u001B[43mheaders\u001B[49m\u001B[38;5;241;43m=\u001B[39;49m\u001B[43mheaders\u001B[49m\u001B[43m)\u001B[49m\n\u001B[1;32m    370\u001B[0m     statuscode \u001B[38;5;241m=\u001B[39m response\u001B[38;5;241m.\u001B[39mstatus\n\u001B[1;32m    371\u001B[0m \u001B[38;5;28;01melse\u001B[39;00m:\n",
      "File \u001B[0;32m~/PycharmProjects/Naukri-Jobs-data-Scraping/ven/lib/python3.10/site-packages/urllib3/request.py:78\u001B[0m, in \u001B[0;36mRequestMethods.request\u001B[0;34m(self, method, url, fields, headers, **urlopen_kw)\u001B[0m\n\u001B[1;32m     74\u001B[0m     \u001B[38;5;28;01mreturn\u001B[39;00m \u001B[38;5;28mself\u001B[39m\u001B[38;5;241m.\u001B[39mrequest_encode_url(\n\u001B[1;32m     75\u001B[0m         method, url, fields\u001B[38;5;241m=\u001B[39mfields, headers\u001B[38;5;241m=\u001B[39mheaders, \u001B[38;5;241m*\u001B[39m\u001B[38;5;241m*\u001B[39murlopen_kw\n\u001B[1;32m     76\u001B[0m     )\n\u001B[1;32m     77\u001B[0m \u001B[38;5;28;01melse\u001B[39;00m:\n\u001B[0;32m---> 78\u001B[0m     \u001B[38;5;28;01mreturn\u001B[39;00m \u001B[38;5;28;43mself\u001B[39;49m\u001B[38;5;241;43m.\u001B[39;49m\u001B[43mrequest_encode_body\u001B[49m\u001B[43m(\u001B[49m\n\u001B[1;32m     79\u001B[0m \u001B[43m        \u001B[49m\u001B[43mmethod\u001B[49m\u001B[43m,\u001B[49m\u001B[43m \u001B[49m\u001B[43murl\u001B[49m\u001B[43m,\u001B[49m\u001B[43m \u001B[49m\u001B[43mfields\u001B[49m\u001B[38;5;241;43m=\u001B[39;49m\u001B[43mfields\u001B[49m\u001B[43m,\u001B[49m\u001B[43m \u001B[49m\u001B[43mheaders\u001B[49m\u001B[38;5;241;43m=\u001B[39;49m\u001B[43mheaders\u001B[49m\u001B[43m,\u001B[49m\u001B[43m \u001B[49m\u001B[38;5;241;43m*\u001B[39;49m\u001B[38;5;241;43m*\u001B[39;49m\u001B[43murlopen_kw\u001B[49m\n\u001B[1;32m     80\u001B[0m \u001B[43m    \u001B[49m\u001B[43m)\u001B[49m\n",
      "File \u001B[0;32m~/PycharmProjects/Naukri-Jobs-data-Scraping/ven/lib/python3.10/site-packages/urllib3/request.py:170\u001B[0m, in \u001B[0;36mRequestMethods.request_encode_body\u001B[0;34m(self, method, url, fields, headers, encode_multipart, multipart_boundary, **urlopen_kw)\u001B[0m\n\u001B[1;32m    167\u001B[0m extra_kw[\u001B[38;5;124m\"\u001B[39m\u001B[38;5;124mheaders\u001B[39m\u001B[38;5;124m\"\u001B[39m]\u001B[38;5;241m.\u001B[39mupdate(headers)\n\u001B[1;32m    168\u001B[0m extra_kw\u001B[38;5;241m.\u001B[39mupdate(urlopen_kw)\n\u001B[0;32m--> 170\u001B[0m \u001B[38;5;28;01mreturn\u001B[39;00m \u001B[38;5;28;43mself\u001B[39;49m\u001B[38;5;241;43m.\u001B[39;49m\u001B[43murlopen\u001B[49m\u001B[43m(\u001B[49m\u001B[43mmethod\u001B[49m\u001B[43m,\u001B[49m\u001B[43m \u001B[49m\u001B[43murl\u001B[49m\u001B[43m,\u001B[49m\u001B[43m \u001B[49m\u001B[38;5;241;43m*\u001B[39;49m\u001B[38;5;241;43m*\u001B[39;49m\u001B[43mextra_kw\u001B[49m\u001B[43m)\u001B[49m\n",
      "File \u001B[0;32m~/PycharmProjects/Naukri-Jobs-data-Scraping/ven/lib/python3.10/site-packages/urllib3/poolmanager.py:376\u001B[0m, in \u001B[0;36mPoolManager.urlopen\u001B[0;34m(self, method, url, redirect, **kw)\u001B[0m\n\u001B[1;32m    374\u001B[0m     response \u001B[38;5;241m=\u001B[39m conn\u001B[38;5;241m.\u001B[39murlopen(method, url, \u001B[38;5;241m*\u001B[39m\u001B[38;5;241m*\u001B[39mkw)\n\u001B[1;32m    375\u001B[0m \u001B[38;5;28;01melse\u001B[39;00m:\n\u001B[0;32m--> 376\u001B[0m     response \u001B[38;5;241m=\u001B[39m \u001B[43mconn\u001B[49m\u001B[38;5;241;43m.\u001B[39;49m\u001B[43murlopen\u001B[49m\u001B[43m(\u001B[49m\u001B[43mmethod\u001B[49m\u001B[43m,\u001B[49m\u001B[43m \u001B[49m\u001B[43mu\u001B[49m\u001B[38;5;241;43m.\u001B[39;49m\u001B[43mrequest_uri\u001B[49m\u001B[43m,\u001B[49m\u001B[43m \u001B[49m\u001B[38;5;241;43m*\u001B[39;49m\u001B[38;5;241;43m*\u001B[39;49m\u001B[43mkw\u001B[49m\u001B[43m)\u001B[49m\n\u001B[1;32m    378\u001B[0m redirect_location \u001B[38;5;241m=\u001B[39m redirect \u001B[38;5;129;01mand\u001B[39;00m response\u001B[38;5;241m.\u001B[39mget_redirect_location()\n\u001B[1;32m    379\u001B[0m \u001B[38;5;28;01mif\u001B[39;00m \u001B[38;5;129;01mnot\u001B[39;00m redirect_location:\n",
      "File \u001B[0;32m~/PycharmProjects/Naukri-Jobs-data-Scraping/ven/lib/python3.10/site-packages/urllib3/connectionpool.py:703\u001B[0m, in \u001B[0;36mHTTPConnectionPool.urlopen\u001B[0;34m(self, method, url, body, headers, retries, redirect, assert_same_host, timeout, pool_timeout, release_conn, chunked, body_pos, **response_kw)\u001B[0m\n\u001B[1;32m    700\u001B[0m     \u001B[38;5;28mself\u001B[39m\u001B[38;5;241m.\u001B[39m_prepare_proxy(conn)\n\u001B[1;32m    702\u001B[0m \u001B[38;5;66;03m# Make the request on the httplib connection object.\u001B[39;00m\n\u001B[0;32m--> 703\u001B[0m httplib_response \u001B[38;5;241m=\u001B[39m \u001B[38;5;28;43mself\u001B[39;49m\u001B[38;5;241;43m.\u001B[39;49m\u001B[43m_make_request\u001B[49m\u001B[43m(\u001B[49m\n\u001B[1;32m    704\u001B[0m \u001B[43m    \u001B[49m\u001B[43mconn\u001B[49m\u001B[43m,\u001B[49m\n\u001B[1;32m    705\u001B[0m \u001B[43m    \u001B[49m\u001B[43mmethod\u001B[49m\u001B[43m,\u001B[49m\n\u001B[1;32m    706\u001B[0m \u001B[43m    \u001B[49m\u001B[43murl\u001B[49m\u001B[43m,\u001B[49m\n\u001B[1;32m    707\u001B[0m \u001B[43m    \u001B[49m\u001B[43mtimeout\u001B[49m\u001B[38;5;241;43m=\u001B[39;49m\u001B[43mtimeout_obj\u001B[49m\u001B[43m,\u001B[49m\n\u001B[1;32m    708\u001B[0m \u001B[43m    \u001B[49m\u001B[43mbody\u001B[49m\u001B[38;5;241;43m=\u001B[39;49m\u001B[43mbody\u001B[49m\u001B[43m,\u001B[49m\n\u001B[1;32m    709\u001B[0m \u001B[43m    \u001B[49m\u001B[43mheaders\u001B[49m\u001B[38;5;241;43m=\u001B[39;49m\u001B[43mheaders\u001B[49m\u001B[43m,\u001B[49m\n\u001B[1;32m    710\u001B[0m \u001B[43m    \u001B[49m\u001B[43mchunked\u001B[49m\u001B[38;5;241;43m=\u001B[39;49m\u001B[43mchunked\u001B[49m\u001B[43m,\u001B[49m\n\u001B[1;32m    711\u001B[0m \u001B[43m\u001B[49m\u001B[43m)\u001B[49m\n\u001B[1;32m    713\u001B[0m \u001B[38;5;66;03m# If we're going to release the connection in ``finally:``, then\u001B[39;00m\n\u001B[1;32m    714\u001B[0m \u001B[38;5;66;03m# the response doesn't need to know about the connection. Otherwise\u001B[39;00m\n\u001B[1;32m    715\u001B[0m \u001B[38;5;66;03m# it will also try to release it and we'll have a double-release\u001B[39;00m\n\u001B[1;32m    716\u001B[0m \u001B[38;5;66;03m# mess.\u001B[39;00m\n\u001B[1;32m    717\u001B[0m response_conn \u001B[38;5;241m=\u001B[39m conn \u001B[38;5;28;01mif\u001B[39;00m \u001B[38;5;129;01mnot\u001B[39;00m release_conn \u001B[38;5;28;01melse\u001B[39;00m \u001B[38;5;28;01mNone\u001B[39;00m\n",
      "File \u001B[0;32m~/PycharmProjects/Naukri-Jobs-data-Scraping/ven/lib/python3.10/site-packages/urllib3/connectionpool.py:449\u001B[0m, in \u001B[0;36mHTTPConnectionPool._make_request\u001B[0;34m(self, conn, method, url, timeout, chunked, **httplib_request_kw)\u001B[0m\n\u001B[1;32m    444\u001B[0m             httplib_response \u001B[38;5;241m=\u001B[39m conn\u001B[38;5;241m.\u001B[39mgetresponse()\n\u001B[1;32m    445\u001B[0m         \u001B[38;5;28;01mexcept\u001B[39;00m \u001B[38;5;167;01mBaseException\u001B[39;00m \u001B[38;5;28;01mas\u001B[39;00m e:\n\u001B[1;32m    446\u001B[0m             \u001B[38;5;66;03m# Remove the TypeError from the exception chain in\u001B[39;00m\n\u001B[1;32m    447\u001B[0m             \u001B[38;5;66;03m# Python 3 (including for exceptions like SystemExit).\u001B[39;00m\n\u001B[1;32m    448\u001B[0m             \u001B[38;5;66;03m# Otherwise it looks like a bug in the code.\u001B[39;00m\n\u001B[0;32m--> 449\u001B[0m             \u001B[43msix\u001B[49m\u001B[38;5;241;43m.\u001B[39;49m\u001B[43mraise_from\u001B[49m\u001B[43m(\u001B[49m\u001B[43me\u001B[49m\u001B[43m,\u001B[49m\u001B[43m \u001B[49m\u001B[38;5;28;43;01mNone\u001B[39;49;00m\u001B[43m)\u001B[49m\n\u001B[1;32m    450\u001B[0m \u001B[38;5;28;01mexcept\u001B[39;00m (SocketTimeout, BaseSSLError, SocketError) \u001B[38;5;28;01mas\u001B[39;00m e:\n\u001B[1;32m    451\u001B[0m     \u001B[38;5;28mself\u001B[39m\u001B[38;5;241m.\u001B[39m_raise_timeout(err\u001B[38;5;241m=\u001B[39me, url\u001B[38;5;241m=\u001B[39murl, timeout_value\u001B[38;5;241m=\u001B[39mread_timeout)\n",
      "File \u001B[0;32m<string>:3\u001B[0m, in \u001B[0;36mraise_from\u001B[0;34m(value, from_value)\u001B[0m\n",
      "File \u001B[0;32m~/PycharmProjects/Naukri-Jobs-data-Scraping/ven/lib/python3.10/site-packages/urllib3/connectionpool.py:444\u001B[0m, in \u001B[0;36mHTTPConnectionPool._make_request\u001B[0;34m(self, conn, method, url, timeout, chunked, **httplib_request_kw)\u001B[0m\n\u001B[1;32m    441\u001B[0m \u001B[38;5;28;01mexcept\u001B[39;00m \u001B[38;5;167;01mTypeError\u001B[39;00m:\n\u001B[1;32m    442\u001B[0m     \u001B[38;5;66;03m# Python 3\u001B[39;00m\n\u001B[1;32m    443\u001B[0m     \u001B[38;5;28;01mtry\u001B[39;00m:\n\u001B[0;32m--> 444\u001B[0m         httplib_response \u001B[38;5;241m=\u001B[39m \u001B[43mconn\u001B[49m\u001B[38;5;241;43m.\u001B[39;49m\u001B[43mgetresponse\u001B[49m\u001B[43m(\u001B[49m\u001B[43m)\u001B[49m\n\u001B[1;32m    445\u001B[0m     \u001B[38;5;28;01mexcept\u001B[39;00m \u001B[38;5;167;01mBaseException\u001B[39;00m \u001B[38;5;28;01mas\u001B[39;00m e:\n\u001B[1;32m    446\u001B[0m         \u001B[38;5;66;03m# Remove the TypeError from the exception chain in\u001B[39;00m\n\u001B[1;32m    447\u001B[0m         \u001B[38;5;66;03m# Python 3 (including for exceptions like SystemExit).\u001B[39;00m\n\u001B[1;32m    448\u001B[0m         \u001B[38;5;66;03m# Otherwise it looks like a bug in the code.\u001B[39;00m\n\u001B[1;32m    449\u001B[0m         six\u001B[38;5;241m.\u001B[39mraise_from(e, \u001B[38;5;28;01mNone\u001B[39;00m)\n",
      "File \u001B[0;32m/usr/lib/python3.10/http/client.py:1374\u001B[0m, in \u001B[0;36mHTTPConnection.getresponse\u001B[0;34m(self)\u001B[0m\n\u001B[1;32m   1372\u001B[0m \u001B[38;5;28;01mtry\u001B[39;00m:\n\u001B[1;32m   1373\u001B[0m     \u001B[38;5;28;01mtry\u001B[39;00m:\n\u001B[0;32m-> 1374\u001B[0m         \u001B[43mresponse\u001B[49m\u001B[38;5;241;43m.\u001B[39;49m\u001B[43mbegin\u001B[49m\u001B[43m(\u001B[49m\u001B[43m)\u001B[49m\n\u001B[1;32m   1375\u001B[0m     \u001B[38;5;28;01mexcept\u001B[39;00m \u001B[38;5;167;01mConnectionError\u001B[39;00m:\n\u001B[1;32m   1376\u001B[0m         \u001B[38;5;28mself\u001B[39m\u001B[38;5;241m.\u001B[39mclose()\n",
      "File \u001B[0;32m/usr/lib/python3.10/http/client.py:318\u001B[0m, in \u001B[0;36mHTTPResponse.begin\u001B[0;34m(self)\u001B[0m\n\u001B[1;32m    316\u001B[0m \u001B[38;5;66;03m# read until we get a non-100 response\u001B[39;00m\n\u001B[1;32m    317\u001B[0m \u001B[38;5;28;01mwhile\u001B[39;00m \u001B[38;5;28;01mTrue\u001B[39;00m:\n\u001B[0;32m--> 318\u001B[0m     version, status, reason \u001B[38;5;241m=\u001B[39m \u001B[38;5;28;43mself\u001B[39;49m\u001B[38;5;241;43m.\u001B[39;49m\u001B[43m_read_status\u001B[49m\u001B[43m(\u001B[49m\u001B[43m)\u001B[49m\n\u001B[1;32m    319\u001B[0m     \u001B[38;5;28;01mif\u001B[39;00m status \u001B[38;5;241m!=\u001B[39m CONTINUE:\n\u001B[1;32m    320\u001B[0m         \u001B[38;5;28;01mbreak\u001B[39;00m\n",
      "File \u001B[0;32m/usr/lib/python3.10/http/client.py:279\u001B[0m, in \u001B[0;36mHTTPResponse._read_status\u001B[0;34m(self)\u001B[0m\n\u001B[1;32m    278\u001B[0m \u001B[38;5;28;01mdef\u001B[39;00m \u001B[38;5;21m_read_status\u001B[39m(\u001B[38;5;28mself\u001B[39m):\n\u001B[0;32m--> 279\u001B[0m     line \u001B[38;5;241m=\u001B[39m \u001B[38;5;28mstr\u001B[39m(\u001B[38;5;28;43mself\u001B[39;49m\u001B[38;5;241;43m.\u001B[39;49m\u001B[43mfp\u001B[49m\u001B[38;5;241;43m.\u001B[39;49m\u001B[43mreadline\u001B[49m\u001B[43m(\u001B[49m\u001B[43m_MAXLINE\u001B[49m\u001B[43m \u001B[49m\u001B[38;5;241;43m+\u001B[39;49m\u001B[43m \u001B[49m\u001B[38;5;241;43m1\u001B[39;49m\u001B[43m)\u001B[49m, \u001B[38;5;124m\"\u001B[39m\u001B[38;5;124miso-8859-1\u001B[39m\u001B[38;5;124m\"\u001B[39m)\n\u001B[1;32m    280\u001B[0m     \u001B[38;5;28;01mif\u001B[39;00m \u001B[38;5;28mlen\u001B[39m(line) \u001B[38;5;241m>\u001B[39m _MAXLINE:\n\u001B[1;32m    281\u001B[0m         \u001B[38;5;28;01mraise\u001B[39;00m LineTooLong(\u001B[38;5;124m\"\u001B[39m\u001B[38;5;124mstatus line\u001B[39m\u001B[38;5;124m\"\u001B[39m)\n",
      "File \u001B[0;32m/usr/lib/python3.10/socket.py:705\u001B[0m, in \u001B[0;36mSocketIO.readinto\u001B[0;34m(self, b)\u001B[0m\n\u001B[1;32m    703\u001B[0m \u001B[38;5;28;01mwhile\u001B[39;00m \u001B[38;5;28;01mTrue\u001B[39;00m:\n\u001B[1;32m    704\u001B[0m     \u001B[38;5;28;01mtry\u001B[39;00m:\n\u001B[0;32m--> 705\u001B[0m         \u001B[38;5;28;01mreturn\u001B[39;00m \u001B[38;5;28;43mself\u001B[39;49m\u001B[38;5;241;43m.\u001B[39;49m\u001B[43m_sock\u001B[49m\u001B[38;5;241;43m.\u001B[39;49m\u001B[43mrecv_into\u001B[49m\u001B[43m(\u001B[49m\u001B[43mb\u001B[49m\u001B[43m)\u001B[49m\n\u001B[1;32m    706\u001B[0m     \u001B[38;5;28;01mexcept\u001B[39;00m timeout:\n\u001B[1;32m    707\u001B[0m         \u001B[38;5;28mself\u001B[39m\u001B[38;5;241m.\u001B[39m_timeout_occurred \u001B[38;5;241m=\u001B[39m \u001B[38;5;28;01mTrue\u001B[39;00m\n",
      "\u001B[0;31mKeyboardInterrupt\u001B[0m: "
     ]
    }
   ],
   "source": [
    "from selenium.webdriver.common.by import By\n",
    "import pandas as pd  # for dataset creation\n",
    "from tqdm import tqdm  # tracing for loop\n",
    "\n",
    "df = pd.read_csv('../dataset/Naukri_jobs.csv')  # open an empty csv file to avoid data loss\n",
    "\n",
    "for page in tqdm(range(1, 2001)):  # total more then 1400 pages\n",
    "    driver.get(f'https://www.naukri.com/jobs-in-all-{page}')\n",
    "    for i in range(1, 21):  # 20 jobs details on every page\n",
    "        try:\n",
    "            # extracting job title using xpath\n",
    "            post = driver.find_element(By.XPATH,\n",
    "                                       '/html/body/div[1]/div[4]/div[1]/div/section[2]/div[2]/article[{}]/div[1]/div[1]/a'.format(\n",
    "                                           i)).text\n",
    "            # print('post')\n",
    "            # extracting company name using xpath\n",
    "            firm = driver.find_element(By.XPATH,\n",
    "                                       '/html/body/div[1]/div[4]/div[1]/div/section[2]/div[2]/article[{}]/div[1]/div[1]/div/a[1]'.format(\n",
    "                                           i)).text\n",
    "            # print('firm')\n",
    "            # extracting company ratings on naukri portal using xpath\n",
    "            firm_rating = driver.find_element(By.XPATH,\n",
    "                                              '/html/body/div[1]/div[4]/div[1]/div/section[2]/div[2]/article[{}]/div[1]/div[1]/div/span'.format(\n",
    "                                                  i)).text\n",
    "            # print('firm_rating')\n",
    "            # extracting company reviews on naukri portal using xpath\n",
    "            firm_review = driver.find_element(By.XPATH,\n",
    "                                              '/html/body/div[1]/div[4]/div[1]/div/section[2]/div[2]/article[{}]/div[1]/div[1]/div/a[2]'.format(\n",
    "                                                  i)).text\n",
    "            # print('firm_review')\n",
    "            # extracting required experience using xpath\n",
    "            required_exp = driver.find_element(By.XPATH,\n",
    "                                               '/html/body/div[1]/div[4]/div[1]/div/section[2]/div[2]/article[{}]/div[1]/ul/li[1]/span[1]'.format(\n",
    "                                                   i)).text\n",
    "            # print('required_exp')\n",
    "            # extracting salary offered using xpath\n",
    "            salary_offered = driver.find_element(By.XPATH,\n",
    "                                                 '/html/body/div[1]/div[4]/div[1]/div/section[2]/div[2]/article[{}]/div[1]/ul/li[2]/span[1]'.format(\n",
    "                                                     i)).text\n",
    "            # print('salary_offered')\n",
    "            # extracting job location using xpath\n",
    "            job_location = driver.find_element(By.XPATH,\n",
    "                                               '/html/body/div[1]/div[4]/div[1]/div/section[2]/div[2]/article[{}]/div[1]/ul/li[3]/span'.format(\n",
    "                                                   i)).text\n",
    "            # print('job_location')\n",
    "            # extracting job description using xpath\n",
    "            job_desc = driver.find_element(By.XPATH,\n",
    "                                           '/html/body/div[1]/div[4]/div[1]/div/section[2]/div[2]/article[{}]/div[2]'.format(\n",
    "                                               i)).text\n",
    "            # print('job_desc')\n",
    "            # extracting skills required using xpath\n",
    "            skills = driver.find_element(By.XPATH,\n",
    "                                         '/html/body/div[1]/div[4]/div[1]/div/section[2]/div[2]/article[{}]/ul'.format(\n",
    "                                             i)).text\n",
    "            # print('skills')\n",
    "            # extracting when job posted using xpath, this data available in two diffrent format for some companies\n",
    "            posted_on = None\n",
    "            posted_on1 = driver.find_element(By.XPATH,\n",
    "                                             '/html/body/div[1]/div[4]/div[1]/div/section[2]/div[2]/article[{}]/div[3]/div[1]/div/span'.format(\n",
    "                                                 i)).text\n",
    "            # posted_on2 = driver.find_element(By.XPATH,'/html/body/div[1]/div[3]/div[2]/section[2]/div[2]/article[{}]/div[3]/div[2]/span'.format(i)).text\n",
    "            posted_on = posted_on1\n",
    "            # print('posted_on')\n",
    "            # for i in [posted_on1,posted_on2]:\n",
    "            #     if 'DAY' in i:\n",
    "            #         posted_on = i\n",
    "\n",
    "            # appending all data in data file\n",
    "            df = df.append(\n",
    "                {'job_post': post, 'company': firm, 'company_rating': firm_rating, 'company_review': firm_review,\n",
    "                 'exp_required': required_exp,\n",
    "                 'salary_offered': salary_offered, 'job_location': job_location, 'job_description': job_desc,\n",
    "                 'required_skills': skills, 'Posted_on': posted_on}, ignore_index=True)\n",
    "            # saving as csv file\n",
    "            df.to_csv('./Naukri_jobs.csv')\n",
    "        except NoSuchElementException:\n",
    "            print(i, \": Not Found\")\n",
    "            pass"
   ]
  },
  {
   "cell_type": "code",
   "execution_count": null,
   "outputs": [],
   "source": [],
   "metadata": {
    "collapsed": false
   }
  }
 ],
 "metadata": {
  "kernelspec": {
   "name": "naukari-jobs-data-scraping-3.10",
   "language": "python",
   "display_name": "Naukari-Jobs-data-scraping-3.10"
  },
  "language_info": {
   "codemirror_mode": {
    "name": "ipython",
    "version": 3
   },
   "file_extension": ".py",
   "mimetype": "text/x-python",
   "name": "python",
   "nbconvert_exporter": "python",
   "pygments_lexer": "ipython3",
   "version": "3.9.7"
  }
 },
 "nbformat": 4,
 "nbformat_minor": 5
}
