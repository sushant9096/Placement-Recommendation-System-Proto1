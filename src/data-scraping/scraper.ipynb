{
 "cells": [
  {
   "cell_type": "code",
   "execution_count": 68,
   "id": "239e88de",
   "metadata": {
    "ExecuteTime": {
     "end_time": "2024-02-11T11:02:22.587869800Z",
     "start_time": "2024-02-11T11:02:22.578863400Z"
    }
   },
   "outputs": [],
   "source": [
    "# !pip install selenium pandas"
   ]
  },
  {
   "cell_type": "code",
   "execution_count": 69,
   "id": "5a5c5360",
   "metadata": {
    "ExecuteTime": {
     "end_time": "2024-02-11T11:02:22.617869800Z",
     "start_time": "2024-02-11T11:02:22.590865800Z"
    }
   },
   "outputs": [],
   "source": [
    "import pandas as pd\n",
    "from selenium import webdriver\n",
    "from selenium.common.exceptions import NoSuchElementException\n",
    "import re\n",
    "\n",
    "import warnings\n",
    "\n",
    "warnings.filterwarnings('ignore')"
   ]
  },
  {
   "cell_type": "code",
   "execution_count": 70,
   "id": "04486d36",
   "metadata": {
    "ExecuteTime": {
     "end_time": "2024-02-11T11:02:30.269421300Z",
     "start_time": "2024-02-11T11:02:22.604866700Z"
    }
   },
   "outputs": [],
   "source": [
    "driver = webdriver.Firefox()"
   ]
  },
  {
   "cell_type": "code",
   "execution_count": 71,
   "id": "c8f8e401",
   "metadata": {
    "ExecuteTime": {
     "end_time": "2024-02-11T11:02:30.284425800Z",
     "start_time": "2024-02-11T11:02:30.272425400Z"
    }
   },
   "outputs": [],
   "source": [
    "driver.implicitly_wait(0.5)"
   ]
  },
  {
   "cell_type": "code",
   "execution_count": 72,
   "id": "6cf56e7c",
   "metadata": {
    "ExecuteTime": {
     "end_time": "2024-02-11T11:02:30.302422800Z",
     "start_time": "2024-02-11T11:02:30.286422200Z"
    }
   },
   "outputs": [],
   "source": [
    "# driver.get('https://www.naukri.com/jobs-in-all')"
   ]
  },
  {
   "cell_type": "code",
   "execution_count": 73,
   "id": "271a463f",
   "metadata": {
    "ExecuteTime": {
     "end_time": "2024-02-11T11:02:30.316422200Z",
     "start_time": "2024-02-11T11:02:30.301421600Z"
    }
   },
   "outputs": [],
   "source": [
    "# # enter job role - data scientist\n",
    "# role=driver.find_element(By.XPATH,'/html/body/div/div[2]/div[3]/div/div/div[1]/div/div/div/input')\n",
    "# role.send_keys('data scientist')\n",
    "\n",
    "# # location - India\n",
    "# location=driver.find_element(By.XPATH,'/html/body/div/div[2]/div[3]/div/div/div[3]/div/div/div/input')\n",
    "# location.send_keys('india')\n",
    "\n",
    "# # click search\n",
    "# driver.find_element_by_class_name('qsbSubmit').click()"
   ]
  },
  {
   "cell_type": "code",
   "execution_count": 74,
   "id": "9ceef764",
   "metadata": {
    "ExecuteTime": {
     "end_time": "2024-02-11T11:02:42.305421800Z",
     "start_time": "2024-02-11T11:02:30.316422200Z"
    }
   },
   "outputs": [
    {
     "name": "stderr",
     "output_type": "stream",
     "text": [
      "  0%|          | 0/1 [00:00<?, ?it/s]"
     ]
    },
    {
     "name": "stdout",
     "output_type": "stream",
     "text": [
      "1 : Not Found\n",
      "2 : Not Found\n",
      "3 : Not Found\n",
      "4 : Not Found\n",
      "5 : Not Found\n",
      "6 : Not Found\n",
      "post Senior ML Engineer\n",
      "firm Ford\n",
      "7 : Not Found\n",
      "post SAP SD specialist (S4 HANA) with MM\n",
      "firm Ford\n",
      "8 : Not Found\n",
      "9 : Not Found\n",
      "post Product Designer - Supply Chain Digitization\n",
      "firm Ford\n",
      "10 : Not Found\n",
      "post JAVA Technical Lead\n",
      "firm Ford\n",
      "11 : Not Found\n",
      "post FCSD Tech - Full Stack Qlik Sense Software Engineer\n",
      "firm Ford\n",
      "12 : Not Found\n",
      "13 : Not Found\n",
      "post Microsoft Dynamics Ax Technical Consultant\n",
      "firm Wipro\n",
      "14 : Not Found\n",
      "post Centre Manager\n",
      "firm Global Talent Track\n",
      "15 : Not Found\n",
      "post MES Techno Functional Consultant\n",
      "firm Tata Consultancy Services (TCS)\n",
      "16 : Not Found\n",
      "post GN - Industry - MC - Energy Upstream - Consultant\n",
      "firm Accenture\n",
      "17 : Not Found\n",
      "post Field Specialist III - SVS - CC\n",
      "firm Baker Hughes\n",
      "18 : Not Found\n",
      "post Digital Implementation, Specialist II\n",
      "firm CWT\n",
      "19 : Not Found\n",
      "post Abinitio Developer\n",
      "firm Capgemini\n"
     ]
    },
    {
     "name": "stderr",
     "output_type": "stream",
     "text": [
      "100%|██████████| 1/1 [00:11<00:00, 11.96s/it]"
     ]
    },
    {
     "name": "stdout",
     "output_type": "stream",
     "text": [
      "20 : Not Found\n"
     ]
    },
    {
     "name": "stderr",
     "output_type": "stream",
     "text": [
      "\n"
     ]
    }
   ],
   "source": [
    "from selenium.webdriver.common.by import By\n",
    "import pandas as pd  # for dataset creation\n",
    "from tqdm import tqdm  # tracing for loop\n",
    "\n",
    "df = pd.read_csv('./Naukri_jobs.csv')  # open an empty csv file to avoid data loss\n",
    "\n",
    "for page in tqdm(range(1, 2)):  # total more then 1400 pages\n",
    "    driver.get(f'https://www.naukri.com/jobs-in-all-{page}')\n",
    "    for i in range(1, 21):  # 20 jobs details on every page\n",
    "        try:\n",
    "            # extracting job title using xpath\n",
    "            post = driver.find_element(By.XPATH,\n",
    "                                       '/html/body/div/div/main/div[1]/div[2]/div[2]/div/div[{}]/div/div[1]/a'.format(\n",
    "                                           i)).text\n",
    "            print('post', post)\n",
    "            # extracting company name using xpath\n",
    "            firm = driver.find_element(By.XPATH,\n",
    "                                       '/html/body/div/div/main/div[1]/div[2]/div[2]/div/div[{}]/div/div[2]/span/a[1]'.format(\n",
    "                                           i)).text\n",
    "            print('firm', firm)\n",
    "            # extracting company ratings on naukri portal using xpath\n",
    "            firm_rating = driver.find_element(By.XPATH,\n",
    "                                              '/html/body/div[1]/div[4]/div[1]/div/section[2]/div[2]/article[{}]/div[1]/div[1]/div/span'.format(\n",
    "                                                  i)).text\n",
    "            # print('firm_rating')\n",
    "            # extracting company reviews on naukri portal using xpath\n",
    "            firm_review = driver.find_element(By.XPATH,\n",
    "                                              '/html/body/div[1]/div[4]/div[1]/div/section[2]/div[2]/article[{}]/div[1]/div[1]/div/a[2]'.format(\n",
    "                                                  i)).text\n",
    "            # print('firm_review')\n",
    "            # extracting required experience using xpath\n",
    "            required_exp = driver.find_element(By.XPATH,\n",
    "                                               '/html/body/div[1]/div[4]/div[1]/div/section[2]/div[2]/article[{}]/div[1]/ul/li[1]/span[1]'.format(\n",
    "                                                   i)).text\n",
    "            # print('required_exp')\n",
    "            # extracting salary offered using xpath\n",
    "            salary_offered = driver.find_element(By.XPATH,\n",
    "                                                 '/html/body/div[1]/div[4]/div[1]/div/section[2]/div[2]/article[{}]/div[1]/ul/li[2]/span[1]'.format(\n",
    "                                                     i)).text\n",
    "            # print('salary_offered')\n",
    "            # extracting job location using xpath\n",
    "            job_location = driver.find_element(By.XPATH,\n",
    "                                               '/html/body/div[1]/div[4]/div[1]/div/section[2]/div[2]/article[{}]/div[1]/ul/li[3]/span'.format(\n",
    "                                                   i)).text\n",
    "            # print('job_location')\n",
    "            # extracting job description using xpath\n",
    "            job_desc = driver.find_element(By.XPATH,\n",
    "                                           '/html/body/div[1]/div[4]/div[1]/div/section[2]/div[2]/article[{}]/div[2]'.format(\n",
    "                                               i)).text\n",
    "            # print('job_desc')\n",
    "            # extracting skills required using xpath\n",
    "            skills = driver.find_element(By.XPATH,\n",
    "                                         '/html/body/div[1]/div[4]/div[1]/div/section[2]/div[2]/article[{}]/ul'.format(\n",
    "                                             i)).text\n",
    "            # print('skills')\n",
    "            # extracting when job posted using xpath, this data available in two diffrent format for some companies\n",
    "            posted_on = None\n",
    "            posted_on1 = driver.find_element(By.XPATH,\n",
    "                                             '/html/body/div[1]/div[4]/div[1]/div/section[2]/div[2]/article[{}]/div[3]/div[1]/div/span'.format(\n",
    "                                                 i)).text\n",
    "            # posted_on2 = driver.find_element(By.XPATH,'/html/body/div[1]/div[3]/div[2]/section[2]/div[2]/article[{}]/div[3]/div[2]/span'.format(i)).text\n",
    "            posted_on = posted_on1\n",
    "            # print('posted_on')\n",
    "            # for i in [posted_on1,posted_on2]:\n",
    "            #     if 'DAY' in i:\n",
    "            #         posted_on = i\n",
    "\n",
    "            # appending all data in data file\n",
    "            df = df.append(\n",
    "                {'job_post': post, 'company': firm, 'company_rating': firm_rating, 'company_review': firm_review,\n",
    "                 'exp_required': required_exp,\n",
    "                 'salary_offered': salary_offered, 'job_location': job_location, 'job_description': job_desc,\n",
    "                 'required_skills': skills, 'Posted_on': posted_on}, ignore_index=True)\n",
    "            # saving as csv file\n",
    "            df.to_csv('./Naukri_jobs.csv')\n",
    "        except NoSuchElementException:\n",
    "            print(i, \": Not Found\")\n",
    "            pass"
   ]
  },
  {
   "cell_type": "code",
   "execution_count": 75,
   "outputs": [],
   "source": [
    "df = df.drop_duplicates()\n",
    "df.to_csv('./Naukri_jobs.csv')"
   ],
   "metadata": {
    "collapsed": false,
    "ExecuteTime": {
     "end_time": "2024-02-11T11:02:42.336418200Z",
     "start_time": "2024-02-11T11:02:42.307420300Z"
    }
   },
   "id": "58ed2fc2dd51884d"
  }
 ],
 "metadata": {
  "kernelspec": {
   "name": "python3",
   "language": "python",
   "display_name": "Python 3 (ipykernel)"
  },
  "language_info": {
   "codemirror_mode": {
    "name": "ipython",
    "version": 3
   },
   "file_extension": ".py",
   "mimetype": "text/x-python",
   "name": "python",
   "nbconvert_exporter": "python",
   "pygments_lexer": "ipython3",
   "version": "3.9.7"
  }
 },
 "nbformat": 4,
 "nbformat_minor": 5
}
