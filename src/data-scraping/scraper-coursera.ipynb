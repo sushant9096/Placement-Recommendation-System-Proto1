{
 "cells": [
  {
   "cell_type": "code",
   "execution_count": null,
   "id": "239e88de",
   "metadata": {},
   "outputs": [],
   "source": [
    "# !pip install selenium pandas"
   ]
  },
  {
   "cell_type": "code",
   "execution_count": null,
   "id": "5a5c5360",
   "metadata": {},
   "outputs": [],
   "source": [
    "import pandas as pd\n",
    "from selenium import webdriver\n",
    "from selenium.common.exceptions import NoSuchElementException\n",
    "import re\n",
    "\n",
    "import warnings\n",
    "\n",
    "warnings.filterwarnings('ignore')"
   ]
  },
  {
   "cell_type": "code",
   "execution_count": null,
   "id": "04486d36",
   "metadata": {},
   "outputs": [],
   "source": [
    "driver = webdriver.Firefox()"
   ]
  },
  {
   "cell_type": "code",
   "execution_count": null,
   "id": "c8f8e401",
   "metadata": {},
   "outputs": [],
   "source": [
    "driver.implicitly_wait(1.0)"
   ]
  },
  {
   "cell_type": "code",
   "execution_count": null,
   "id": "6cf56e7c",
   "metadata": {},
   "outputs": [],
   "source": [
    "# driver.get('https://www.naukri.com/jobs-in-all')"
   ]
  },
  {
   "cell_type": "code",
   "execution_count": null,
   "id": "271a463f",
   "metadata": {},
   "outputs": [],
   "source": [
    "# df = pd.read_csv('./Coursera_courses.csv')"
   ]
  },
  {
   "cell_type": "code",
   "execution_count": null,
   "id": "9ceef764",
   "metadata": {},
   "outputs": [],
   "source": [
    "from selenium.webdriver.common.by import By\n",
    "import pandas as pd  # for dataset creation\n",
    "from tqdm import tqdm  # tracing for loop\n",
    "\n",
    "df = pd.read_csv('./Coursera_courses.csv')  # open an empty csv file to avoid data loss\n",
    "for page in tqdm(range(1, 2)):\n",
    "    driver.get(f'https://www.coursera.org/courses?page={page}')\n",
    "    for i in range(1, 13):  # 12 courses details on every page\n",
    "        try:\n",
    "            # extracting job title using xpath\n",
    "            course_name = driver.find_element(By.XPATH,\n",
    "                                              '/html/body/div[2]/div/div/main/div[2]/div/div/div/div/div[2]/ul/li[{}]/div/div/div/div/div/div[2]/div[1]/div[2]'.format(\n",
    "                                                  i)).text\n",
    "            print(course_name)\n",
    "\n",
    "            course_rating = driver.find_element(By.XPATH,\n",
    "                                                '/html/body/div[2]/div/div/main/div[2]/div/div/div/div/div[2]/ul/li[{}]/div/div/div/div/div/div[2]/div[3]/div[2]/div/div/p[1]'.format(\n",
    "                                                    i)).text\n",
    "\n",
    "            print(course_rating)\n",
    "\n",
    "            earn_skills = driver.find_element(By.XPATH,\n",
    "                                              '/html/body/div[2]/div/div/main/div[2]/div/div/div/div/div[2]/ul/li[{}]/div/div/div/div/div/div[2]/div[2]/div/p'.format(\n",
    "                                                  i)).text.replace(\"Skills you'll gain:\", \"\")\n",
    "\n",
    "            print(earn_skills)\n",
    "\n",
    "            course_link = driver.find_element(By.XPATH,\n",
    "                                              '/html/body/div[2]/div/div/main/div[2]/div/div/div/div/div[2]/ul/li[{}]/div/div/div/div/div/div[2]/div[1]/div[2]/a'.format(\n",
    "                                                  i)).get_attribute('href')\n",
    "            print(course_link)\n",
    "\n",
    "            institution = driver.find_element(By.XPATH,\n",
    "                                              '/html/body/div[2]/div/div/main/div[2]/div/div/div/div/div[2]/ul/li[{}]/div/div/div/div/div/div[2]/div[1]/div[1]/div/div/p'.format(\n",
    "                                                  i)).text\n",
    "            \n",
    "            print(institution)\n",
    "            \n",
    "            metadata = driver.find_element(By.XPATH,\n",
    "                                              '/html/body/div[2]/div/div/main/div[2]/div/div/div/div/div[2]/ul/li[{}]/div/div/div/div/div/div[2]/div[3]/div[4]/p'.format(\n",
    "                                                  i)).text\n",
    "\n",
    "            print('metadata:',metadata.replace(' · ', ' '))\n",
    "\n",
    "            # appending all data in data file\n",
    "            df = df.append(\n",
    "                {\n",
    "                    'course_name': course_name,\n",
    "                    'course_rating': course_rating,\n",
    "                    'earn_skills': earn_skills,\n",
    "                    'course_link': course_link,\n",
    "                    'institution': institution,\n",
    "                    # 'metadata': metadata,\n",
    "                }, ignore_index=True\n",
    "            )\n",
    "            # saving as csv file\n",
    "            df.to_csv('./Coursera_courses.csv')\n",
    "        except NoSuchElementException:\n",
    "            print(i, \": Not Found\")\n",
    "            pass"
   ]
  },
  {
   "cell_type": "code",
   "outputs": [],
   "source": [
    "df.shape"
   ],
   "metadata": {
    "collapsed": false
   },
   "id": "9457b93507af0208",
   "execution_count": null
  },
  {
   "cell_type": "code",
   "outputs": [],
   "source": [
    "df = df.drop_duplicates()"
   ],
   "metadata": {
    "collapsed": false
   },
   "id": "58ed2fc2dd51884d",
   "execution_count": null
  },
  {
   "cell_type": "code",
   "outputs": [],
   "source": [
    "df.shape"
   ],
   "metadata": {
    "collapsed": false
   },
   "id": "d37fc94a66b665f9",
   "execution_count": null
  },
  {
   "cell_type": "code",
   "outputs": [],
   "source": [
    "df.to_csv('./Coursera_courses.csv')"
   ],
   "metadata": {
    "collapsed": false
   },
   "id": "8198ed43dab7c959"
  }
 ],
 "metadata": {
  "kernelspec": {
   "name": "python3",
   "language": "python",
   "display_name": "Python 3 (ipykernel)"
  },
  "language_info": {
   "codemirror_mode": {
    "name": "ipython",
    "version": 3
   },
   "file_extension": ".py",
   "mimetype": "text/x-python",
   "name": "python",
   "nbconvert_exporter": "python",
   "pygments_lexer": "ipython3",
   "version": "3.9.7"
  }
 },
 "nbformat": 4,
 "nbformat_minor": 5
}
