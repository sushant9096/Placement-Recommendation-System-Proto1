{
 "cells": [
  {
   "cell_type": "code",
   "execution_count": 10,
   "id": "239e88de",
   "metadata": {
    "ExecuteTime": {
     "end_time": "2024-02-11T19:40:35.390726500Z",
     "start_time": "2024-02-11T19:40:35.362694Z"
    }
   },
   "outputs": [],
   "source": [
    "# !pip install selenium pandas"
   ]
  },
  {
   "cell_type": "code",
   "execution_count": 11,
   "id": "5a5c5360",
   "metadata": {
    "ExecuteTime": {
     "end_time": "2024-02-11T19:40:36.073901300Z",
     "start_time": "2024-02-11T19:40:36.027869500Z"
    }
   },
   "outputs": [],
   "source": [
    "import pandas as pd\n",
    "from selenium import webdriver\n",
    "from selenium.common.exceptions import NoSuchElementException\n",
    "import re\n",
    "\n",
    "import warnings\n",
    "\n",
    "warnings.filterwarnings('ignore')"
   ]
  },
  {
   "cell_type": "code",
   "execution_count": 12,
   "id": "04486d36",
   "metadata": {
    "ExecuteTime": {
     "end_time": "2024-02-11T19:40:50.179855300Z",
     "start_time": "2024-02-11T19:40:36.923430800Z"
    }
   },
   "outputs": [],
   "source": [
    "driver = webdriver.Firefox()"
   ]
  },
  {
   "cell_type": "code",
   "execution_count": 13,
   "id": "c8f8e401",
   "metadata": {
    "ExecuteTime": {
     "end_time": "2024-02-11T19:40:50.215849200Z",
     "start_time": "2024-02-11T19:40:50.183853200Z"
    }
   },
   "outputs": [],
   "source": [
    "driver.implicitly_wait(0.5)"
   ]
  },
  {
   "cell_type": "code",
   "execution_count": 14,
   "id": "6cf56e7c",
   "metadata": {
    "ExecuteTime": {
     "end_time": "2024-02-11T19:40:50.247866100Z",
     "start_time": "2024-02-11T19:40:50.212842600Z"
    }
   },
   "outputs": [],
   "source": [
    "# driver.get('https://www.naukri.com/jobs-in-all')"
   ]
  },
  {
   "cell_type": "code",
   "execution_count": 15,
   "id": "271a463f",
   "metadata": {
    "ExecuteTime": {
     "end_time": "2024-02-11T19:40:50.268187500Z",
     "start_time": "2024-02-11T19:40:50.230845900Z"
    }
   },
   "outputs": [],
   "source": [
    "# df = pd.read_csv('./Coursera_courses.csv')"
   ]
  },
  {
   "cell_type": "code",
   "execution_count": 36,
   "id": "9ceef764",
   "metadata": {
    "ExecuteTime": {
     "end_time": "2024-02-11T20:57:44.667672800Z",
     "start_time": "2024-02-11T20:45:19.330658400Z"
    }
   },
   "outputs": [
    {
     "name": "stderr",
     "output_type": "stream",
     "text": [
      " 14%|█▍        | 12/84 [01:46<09:51,  8.22s/it]"
     ]
    },
    {
     "name": "stdout",
     "output_type": "stream",
     "text": [
      "3 : Not Found\n"
     ]
    },
    {
     "name": "stderr",
     "output_type": "stream",
     "text": [
      " 17%|█▋        | 14/84 [02:03<09:34,  8.21s/it]"
     ]
    },
    {
     "name": "stdout",
     "output_type": "stream",
     "text": [
      "6 : Not Found\n"
     ]
    },
    {
     "name": "stderr",
     "output_type": "stream",
     "text": [
      " 19%|█▉        | 16/84 [02:21<09:46,  8.63s/it]"
     ]
    },
    {
     "name": "stdout",
     "output_type": "stream",
     "text": [
      "8 : Not Found\n"
     ]
    },
    {
     "name": "stderr",
     "output_type": "stream",
     "text": [
      " 23%|██▎       | 19/84 [02:44<08:33,  7.90s/it]"
     ]
    },
    {
     "name": "stdout",
     "output_type": "stream",
     "text": [
      "2 : Not Found\n"
     ]
    },
    {
     "name": "stderr",
     "output_type": "stream",
     "text": [
      " 24%|██▍       | 20/84 [02:54<09:01,  8.45s/it]"
     ]
    },
    {
     "name": "stdout",
     "output_type": "stream",
     "text": [
      "7 : Not Found\n"
     ]
    },
    {
     "name": "stderr",
     "output_type": "stream",
     "text": [
      " 27%|██▋       | 23/84 [03:18<08:18,  8.17s/it]"
     ]
    },
    {
     "name": "stdout",
     "output_type": "stream",
     "text": [
      "5 : Not Found\n"
     ]
    },
    {
     "name": "stderr",
     "output_type": "stream",
     "text": [
      " 30%|██▉       | 25/84 [03:32<07:18,  7.43s/it]"
     ]
    },
    {
     "name": "stdout",
     "output_type": "stream",
     "text": [
      "3 : Not Found\n"
     ]
    },
    {
     "name": "stderr",
     "output_type": "stream",
     "text": [
      " 31%|███       | 26/84 [03:41<07:33,  7.83s/it]"
     ]
    },
    {
     "name": "stdout",
     "output_type": "stream",
     "text": [
      "1 : Not Found\n",
      "10 : Not Found\n"
     ]
    },
    {
     "name": "stderr",
     "output_type": "stream",
     "text": [
      " 32%|███▏      | 27/84 [03:48<07:25,  7.81s/it]"
     ]
    },
    {
     "name": "stdout",
     "output_type": "stream",
     "text": [
      "1 : Not Found\n",
      "4 : Not Found\n"
     ]
    },
    {
     "name": "stderr",
     "output_type": "stream",
     "text": [
      " 33%|███▎      | 28/84 [04:00<08:24,  9.01s/it]"
     ]
    },
    {
     "name": "stdout",
     "output_type": "stream",
     "text": [
      "11 : Not Found\n"
     ]
    },
    {
     "name": "stderr",
     "output_type": "stream",
     "text": [
      " 35%|███▍      | 29/84 [04:08<07:56,  8.66s/it]"
     ]
    },
    {
     "name": "stdout",
     "output_type": "stream",
     "text": [
      "12 : Not Found\n",
      "1 : Not Found\n"
     ]
    },
    {
     "name": "stderr",
     "output_type": "stream",
     "text": [
      " 37%|███▋      | 31/84 [04:25<07:26,  8.42s/it]"
     ]
    },
    {
     "name": "stdout",
     "output_type": "stream",
     "text": [
      "2 : Not Found\n",
      "8 : Not Found\n"
     ]
    },
    {
     "name": "stderr",
     "output_type": "stream",
     "text": [
      " 39%|███▉      | 33/84 [04:41<06:57,  8.19s/it]"
     ]
    },
    {
     "name": "stdout",
     "output_type": "stream",
     "text": [
      "11 : Not Found\n"
     ]
    },
    {
     "name": "stderr",
     "output_type": "stream",
     "text": [
      " 40%|████      | 34/84 [04:51<07:18,  8.77s/it]"
     ]
    },
    {
     "name": "stdout",
     "output_type": "stream",
     "text": [
      "2 : Not Found\n",
      "9 : Not Found\n"
     ]
    },
    {
     "name": "stderr",
     "output_type": "stream",
     "text": [
      " 42%|████▏     | 35/84 [05:01<07:32,  9.23s/it]"
     ]
    },
    {
     "name": "stdout",
     "output_type": "stream",
     "text": [
      "12 : Not Found\n"
     ]
    },
    {
     "name": "stderr",
     "output_type": "stream",
     "text": [
      " 43%|████▎     | 36/84 [05:25<10:54, 13.64s/it]"
     ]
    },
    {
     "name": "stdout",
     "output_type": "stream",
     "text": [
      "1 : Not Found\n",
      "7 : Not Found\n"
     ]
    },
    {
     "name": "stderr",
     "output_type": "stream",
     "text": [
      " 44%|████▍     | 37/84 [05:33<09:17, 11.86s/it]"
     ]
    },
    {
     "name": "stdout",
     "output_type": "stream",
     "text": [
      "5 : Not Found\n"
     ]
    },
    {
     "name": "stderr",
     "output_type": "stream",
     "text": [
      " 48%|████▊     | 40/84 [05:55<06:29,  8.85s/it]"
     ]
    },
    {
     "name": "stdout",
     "output_type": "stream",
     "text": [
      "7 : Not Found\n",
      "11 : Not Found\n"
     ]
    },
    {
     "name": "stderr",
     "output_type": "stream",
     "text": [
      " 49%|████▉     | 41/84 [06:04<06:29,  9.06s/it]"
     ]
    },
    {
     "name": "stdout",
     "output_type": "stream",
     "text": [
      "12 : Not Found\n",
      "2 : Not Found\n"
     ]
    },
    {
     "name": "stderr",
     "output_type": "stream",
     "text": [
      " 51%|█████     | 43/84 [06:19<05:40,  8.31s/it]"
     ]
    },
    {
     "name": "stdout",
     "output_type": "stream",
     "text": [
      "4 : Not Found\n",
      "10 : Not Found\n"
     ]
    },
    {
     "name": "stderr",
     "output_type": "stream",
     "text": [
      " 54%|█████▎    | 45/84 [06:39<05:51,  9.02s/it]"
     ]
    },
    {
     "name": "stdout",
     "output_type": "stream",
     "text": [
      "1 : Not Found\n",
      "2 : Not Found\n",
      "3 : Not Found\n"
     ]
    },
    {
     "name": "stderr",
     "output_type": "stream",
     "text": [
      " 55%|█████▍    | 46/84 [06:46<05:27,  8.61s/it]"
     ]
    },
    {
     "name": "stdout",
     "output_type": "stream",
     "text": [
      "1 : Not Found\n"
     ]
    },
    {
     "name": "stderr",
     "output_type": "stream",
     "text": [
      " 56%|█████▌    | 47/84 [06:54<05:01,  8.16s/it]"
     ]
    },
    {
     "name": "stdout",
     "output_type": "stream",
     "text": [
      "2 : Not Found\n",
      "5 : Not Found\n",
      "6 : Not Found\n"
     ]
    },
    {
     "name": "stderr",
     "output_type": "stream",
     "text": [
      " 57%|█████▋    | 48/84 [07:04<05:14,  8.74s/it]"
     ]
    },
    {
     "name": "stdout",
     "output_type": "stream",
     "text": [
      "4 : Not Found\n",
      "5 : Not Found\n",
      "7 : Not Found\n"
     ]
    },
    {
     "name": "stderr",
     "output_type": "stream",
     "text": [
      " 58%|█████▊    | 49/84 [07:13<05:08,  8.82s/it]"
     ]
    },
    {
     "name": "stdout",
     "output_type": "stream",
     "text": [
      "12 : Not Found\n",
      "7 : Not Found\n"
     ]
    },
    {
     "name": "stderr",
     "output_type": "stream",
     "text": [
      " 60%|█████▉    | 50/84 [07:22<05:00,  8.84s/it]"
     ]
    },
    {
     "name": "stdout",
     "output_type": "stream",
     "text": [
      "5 : Not Found\n",
      "9 : Not Found\n"
     ]
    },
    {
     "name": "stderr",
     "output_type": "stream",
     "text": [
      " 61%|██████    | 51/84 [07:31<04:52,  8.88s/it]"
     ]
    },
    {
     "name": "stdout",
     "output_type": "stream",
     "text": [
      "2 : Not Found\n",
      "5 : Not Found\n",
      "10 : Not Found\n"
     ]
    },
    {
     "name": "stderr",
     "output_type": "stream",
     "text": [
      " 62%|██████▏   | 52/84 [07:45<05:38, 10.58s/it]"
     ]
    },
    {
     "name": "stdout",
     "output_type": "stream",
     "text": [
      "9 : Not Found\n"
     ]
    },
    {
     "name": "stderr",
     "output_type": "stream",
     "text": [
      " 64%|██████▍   | 54/84 [08:10<05:44, 11.48s/it]"
     ]
    },
    {
     "name": "stdout",
     "output_type": "stream",
     "text": [
      "1 : Not Found\n",
      "6 : Not Found\n",
      "8 : Not Found\n",
      "10 : Not Found\n"
     ]
    },
    {
     "name": "stderr",
     "output_type": "stream",
     "text": [
      " 65%|██████▌   | 55/84 [08:19<05:12, 10.77s/it]"
     ]
    },
    {
     "name": "stdout",
     "output_type": "stream",
     "text": [
      "11 : Not Found\n",
      "3 : Not Found\n",
      "5 : Not Found\n"
     ]
    },
    {
     "name": "stderr",
     "output_type": "stream",
     "text": [
      " 67%|██████▋   | 56/84 [08:28<04:43, 10.12s/it]"
     ]
    },
    {
     "name": "stdout",
     "output_type": "stream",
     "text": [
      "1 : Not Found\n",
      "3 : Not Found\n",
      "9 : Not Found\n"
     ]
    },
    {
     "name": "stderr",
     "output_type": "stream",
     "text": [
      " 68%|██████▊   | 57/84 [08:37<04:23,  9.77s/it]"
     ]
    },
    {
     "name": "stdout",
     "output_type": "stream",
     "text": [
      "5 : Not Found\n",
      "10 : Not Found\n"
     ]
    },
    {
     "name": "stderr",
     "output_type": "stream",
     "text": [
      " 69%|██████▉   | 58/84 [08:46<04:09,  9.59s/it]"
     ]
    },
    {
     "name": "stdout",
     "output_type": "stream",
     "text": [
      "8 : Not Found\n"
     ]
    },
    {
     "name": "stderr",
     "output_type": "stream",
     "text": [
      " 71%|███████▏  | 60/84 [09:01<03:24,  8.53s/it]"
     ]
    },
    {
     "name": "stdout",
     "output_type": "stream",
     "text": [
      "1 : Not Found\n",
      "4 : Not Found\n"
     ]
    },
    {
     "name": "stderr",
     "output_type": "stream",
     "text": [
      " 73%|███████▎  | 61/84 [09:12<03:28,  9.05s/it]"
     ]
    },
    {
     "name": "stdout",
     "output_type": "stream",
     "text": [
      "12 : Not Found\n",
      "2 : Not Found\n"
     ]
    },
    {
     "name": "stderr",
     "output_type": "stream",
     "text": [
      " 75%|███████▌  | 63/84 [09:30<03:12,  9.15s/it]"
     ]
    },
    {
     "name": "stdout",
     "output_type": "stream",
     "text": [
      "3 : Not Found\n",
      "9 : Not Found\n"
     ]
    },
    {
     "name": "stderr",
     "output_type": "stream",
     "text": [
      " 76%|███████▌  | 64/84 [09:39<03:01,  9.10s/it]"
     ]
    },
    {
     "name": "stdout",
     "output_type": "stream",
     "text": [
      "3 : Not Found\n",
      "7 : Not Found\n"
     ]
    },
    {
     "name": "stderr",
     "output_type": "stream",
     "text": [
      " 77%|███████▋  | 65/84 [09:47<02:49,  8.93s/it]"
     ]
    },
    {
     "name": "stdout",
     "output_type": "stream",
     "text": [
      "1 : Not Found\n",
      "7 : Not Found\n"
     ]
    },
    {
     "name": "stderr",
     "output_type": "stream",
     "text": [
      " 79%|███████▊  | 66/84 [09:58<02:48,  9.39s/it]"
     ]
    },
    {
     "name": "stdout",
     "output_type": "stream",
     "text": [
      "3 : Not Found\n"
     ]
    },
    {
     "name": "stderr",
     "output_type": "stream",
     "text": [
      " 80%|███████▉  | 67/84 [10:06<02:33,  9.04s/it]"
     ]
    },
    {
     "name": "stdout",
     "output_type": "stream",
     "text": [
      "10 : Not Found\n",
      "4 : Not Found\n"
     ]
    },
    {
     "name": "stderr",
     "output_type": "stream",
     "text": [
      " 81%|████████  | 68/84 [10:13<02:15,  8.45s/it]"
     ]
    },
    {
     "name": "stdout",
     "output_type": "stream",
     "text": [
      "3 : Not Found\n",
      "8 : Not Found\n",
      "9 : Not Found\n"
     ]
    },
    {
     "name": "stderr",
     "output_type": "stream",
     "text": [
      " 82%|████████▏ | 69/84 [10:21<02:03,  8.22s/it]"
     ]
    },
    {
     "name": "stdout",
     "output_type": "stream",
     "text": [
      "2 : Not Found\n"
     ]
    },
    {
     "name": "stderr",
     "output_type": "stream",
     "text": [
      " 83%|████████▎ | 70/84 [10:27<01:48,  7.77s/it]"
     ]
    },
    {
     "name": "stdout",
     "output_type": "stream",
     "text": [
      "1 : Not Found\n",
      "5 : Not Found\n",
      "6 : Not Found\n"
     ]
    },
    {
     "name": "stderr",
     "output_type": "stream",
     "text": [
      " 85%|████████▍ | 71/84 [10:36<01:45,  8.10s/it]"
     ]
    },
    {
     "name": "stdout",
     "output_type": "stream",
     "text": [
      "7 : Not Found\n"
     ]
    },
    {
     "name": "stderr",
     "output_type": "stream",
     "text": [
      " 86%|████████▌ | 72/84 [10:43<01:33,  7.79s/it]"
     ]
    },
    {
     "name": "stdout",
     "output_type": "stream",
     "text": [
      "8 : Not Found\n"
     ]
    },
    {
     "name": "stderr",
     "output_type": "stream",
     "text": [
      " 87%|████████▋ | 73/84 [10:50<01:23,  7.63s/it]"
     ]
    },
    {
     "name": "stdout",
     "output_type": "stream",
     "text": [
      "1 : Not Found\n",
      "4 : Not Found\n",
      "7 : Not Found\n",
      "10 : Not Found\n"
     ]
    },
    {
     "name": "stderr",
     "output_type": "stream",
     "text": [
      " 88%|████████▊ | 74/84 [10:59<01:20,  8.03s/it]"
     ]
    },
    {
     "name": "stdout",
     "output_type": "stream",
     "text": [
      "1 : Not Found\n",
      "8 : Not Found\n",
      "9 : Not Found\n",
      "11 : Not Found\n"
     ]
    },
    {
     "name": "stderr",
     "output_type": "stream",
     "text": [
      " 89%|████████▉ | 75/84 [11:09<01:16,  8.46s/it]"
     ]
    },
    {
     "name": "stdout",
     "output_type": "stream",
     "text": [
      "12 : Not Found\n",
      "6 : Not Found\n",
      "8 : Not Found\n"
     ]
    },
    {
     "name": "stderr",
     "output_type": "stream",
     "text": [
      " 90%|█████████ | 76/84 [11:19<01:11,  8.89s/it]"
     ]
    },
    {
     "name": "stdout",
     "output_type": "stream",
     "text": [
      "7 : Not Found\n"
     ]
    },
    {
     "name": "stderr",
     "output_type": "stream",
     "text": [
      " 92%|█████████▏| 77/84 [11:29<01:05,  9.40s/it]"
     ]
    },
    {
     "name": "stdout",
     "output_type": "stream",
     "text": [
      "11 : Not Found\n"
     ]
    },
    {
     "name": "stderr",
     "output_type": "stream",
     "text": [
      " 93%|█████████▎| 78/84 [11:37<00:52,  8.78s/it]"
     ]
    },
    {
     "name": "stdout",
     "output_type": "stream",
     "text": [
      "2 : Not Found\n"
     ]
    },
    {
     "name": "stderr",
     "output_type": "stream",
     "text": [
      " 94%|█████████▍| 79/84 [11:44<00:41,  8.36s/it]"
     ]
    },
    {
     "name": "stdout",
     "output_type": "stream",
     "text": [
      "12 : Not Found\n",
      "2 : Not Found\n",
      "4 : Not Found\n"
     ]
    },
    {
     "name": "stderr",
     "output_type": "stream",
     "text": [
      " 95%|█████████▌| 80/84 [11:51<00:31,  7.99s/it]"
     ]
    },
    {
     "name": "stdout",
     "output_type": "stream",
     "text": [
      "1 : Not Found\n"
     ]
    },
    {
     "name": "stderr",
     "output_type": "stream",
     "text": [
      " 96%|█████████▋| 81/84 [11:58<00:23,  7.72s/it]"
     ]
    },
    {
     "name": "stdout",
     "output_type": "stream",
     "text": [
      "3 : Not Found\n"
     ]
    },
    {
     "name": "stderr",
     "output_type": "stream",
     "text": [
      " 98%|█████████▊| 82/84 [12:07<00:16,  8.01s/it]"
     ]
    },
    {
     "name": "stdout",
     "output_type": "stream",
     "text": [
      "12 : Not Found\n",
      "1 : Not Found\n",
      "5 : Not Found\n"
     ]
    },
    {
     "name": "stderr",
     "output_type": "stream",
     "text": [
      " 99%|█████████▉| 83/84 [12:14<00:07,  7.84s/it]"
     ]
    },
    {
     "name": "stdout",
     "output_type": "stream",
     "text": [
      "2 : Not Found\n",
      "3 : Not Found\n",
      "5 : Not Found\n",
      "6 : Not Found\n",
      "7 : Not Found\n",
      "8 : Not Found\n",
      "9 : Not Found\n",
      "10 : Not Found\n",
      "11 : Not Found\n"
     ]
    },
    {
     "name": "stderr",
     "output_type": "stream",
     "text": [
      "100%|██████████| 84/84 [12:25<00:00,  8.87s/it]"
     ]
    },
    {
     "name": "stdout",
     "output_type": "stream",
     "text": [
      "12 : Not Found\n"
     ]
    },
    {
     "name": "stderr",
     "output_type": "stream",
     "text": [
      "\n"
     ]
    }
   ],
   "source": [
    "from selenium.webdriver.common.by import By\n",
    "import pandas as pd  # for dataset creation\n",
    "from tqdm import tqdm  # tracing for loop\n",
    "\n",
    "df = pd.read_csv('./Coursera_courses.csv')  # open an empty csv file to avoid data loss\n",
    "for page in tqdm(range(1, 85)):\n",
    "    driver.get(f'https://www.coursera.org/courses?page={page}')\n",
    "    for i in range(1, 13):  # 12 courses details on every page\n",
    "        try:\n",
    "            # extracting job title using xpath\n",
    "            course_name = driver.find_element(By.XPATH,\n",
    "                                              '/html/body/div[2]/div/div/main/div[1]/div/div/div/div/div[2]/ul/li[{}]/div/div/div/div/div/div[2]/div[1]/div[2]'.format(\n",
    "                                                  i)).text\n",
    "            #print(course_name)\n",
    "\n",
    "            course_rating = driver.find_element(By.XPATH,\n",
    "                                                '/html/body/div[2]/div/div/main/div[1]/div/div/div/div/div[2]/ul/li[{}]/div/div/div/div/div/div[2]/div[3]/div[2]/div/div/p[1]'.format(\n",
    "                                                    i)).text\n",
    "\n",
    "            #print(course_rating)\n",
    "\n",
    "            earn_skills = driver.find_element(By.XPATH,\n",
    "                                              '/html/body/div[2]/div/div/main/div[1]/div/div/div/div/div[2]/ul/li[{}]/div/div/div/div/div/div[2]/div[2]/div/p'.format(\n",
    "                                                  i)).text.replace(\"Skills you'll gain:\", \"\")\n",
    "\n",
    "            #print(earn_skills)\n",
    "\n",
    "            course_link = driver.find_element(By.XPATH,\n",
    "                                              '/html/body/div[2]/div/div/main/div[1]/div/div/div/div/div[2]/ul/li[{}]/div/div/div/div/div/div[2]/div[1]/div[2]/a'.format(\n",
    "                                                  i)).get_attribute('href')\n",
    "            #print(course_link)\n",
    "\n",
    "            institution = driver.find_element(By.XPATH,\n",
    "                                              '/html/body/div[2]/div/div/main/div[1]/div/div/div/div/div[2]/ul/li[{}]/div/div/div/div/div/div[2]/div[1]/div[1]/div/div/p'.format(\n",
    "                                                  i)).text\n",
    "\n",
    "            #print(institution)\n",
    "\n",
    "            # appending all data in data file\n",
    "            df = df.append(\n",
    "                {\n",
    "                    'course_name': course_name,\n",
    "                    'course_rating': course_rating,\n",
    "                    'earn_skills': earn_skills,\n",
    "                    'course_link': course_link,\n",
    "                    'institution': institution\n",
    "                }, ignore_index=True\n",
    "            )\n",
    "            # saving as csv file\n",
    "            df.to_csv('./Coursera_courses.csv')\n",
    "        except NoSuchElementException:\n",
    "            print(i, \": Not Found\")\n",
    "            pass"
   ]
  },
  {
   "cell_type": "code",
   "outputs": [
    {
     "data": {
      "text/plain": "(894, 5)"
     },
     "execution_count": 38,
     "metadata": {},
     "output_type": "execute_result"
    }
   ],
   "source": [
    "df.shape"
   ],
   "metadata": {
    "collapsed": false,
    "ExecuteTime": {
     "end_time": "2024-02-11T21:01:48.229919700Z",
     "start_time": "2024-02-11T21:01:48.190375400Z"
    }
   },
   "id": "9457b93507af0208",
   "execution_count": 38
  },
  {
   "cell_type": "code",
   "outputs": [],
   "source": [
    "df = df.drop_duplicates()"
   ],
   "metadata": {
    "collapsed": false,
    "ExecuteTime": {
     "end_time": "2024-02-11T21:01:49.581921900Z",
     "start_time": "2024-02-11T21:01:49.559946500Z"
    }
   },
   "id": "58ed2fc2dd51884d",
   "execution_count": 39
  },
  {
   "cell_type": "code",
   "outputs": [
    {
     "data": {
      "text/plain": "(894, 5)"
     },
     "execution_count": 40,
     "metadata": {},
     "output_type": "execute_result"
    }
   ],
   "source": [
    "df.shape"
   ],
   "metadata": {
    "collapsed": false,
    "ExecuteTime": {
     "end_time": "2024-02-11T21:01:50.588327800Z",
     "start_time": "2024-02-11T21:01:50.563327300Z"
    }
   },
   "id": "d37fc94a66b665f9",
   "execution_count": 40
  },
  {
   "cell_type": "code",
   "outputs": [],
   "source": [
    "df.to_csv('./Coursera_courses.csv')"
   ],
   "metadata": {
    "collapsed": false
   },
   "id": "8198ed43dab7c959"
  }
 ],
 "metadata": {
  "kernelspec": {
   "name": "python3",
   "language": "python",
   "display_name": "Python 3 (ipykernel)"
  },
  "language_info": {
   "codemirror_mode": {
    "name": "ipython",
    "version": 3
   },
   "file_extension": ".py",
   "mimetype": "text/x-python",
   "name": "python",
   "nbconvert_exporter": "python",
   "pygments_lexer": "ipython3",
   "version": "3.9.7"
  }
 },
 "nbformat": 4,
 "nbformat_minor": 5
}
