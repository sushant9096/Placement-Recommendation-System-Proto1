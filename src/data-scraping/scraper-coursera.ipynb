{
 "cells": [
  {
   "cell_type": "code",
   "execution_count": 16,
   "id": "239e88de",
   "metadata": {
    "ExecuteTime": {
     "end_time": "2024-02-16T14:00:50.365362700Z",
     "start_time": "2024-02-16T14:00:50.310736800Z"
    }
   },
   "outputs": [],
   "source": [
    "# !pip install selenium pandas"
   ]
  },
  {
   "cell_type": "code",
   "execution_count": 17,
   "id": "5a5c5360",
   "metadata": {
    "ExecuteTime": {
     "end_time": "2024-02-16T14:00:50.394361500Z",
     "start_time": "2024-02-16T14:00:50.376364Z"
    }
   },
   "outputs": [],
   "source": [
    "import pandas as pd\n",
    "from selenium import webdriver\n",
    "from selenium.common.exceptions import NoSuchElementException\n",
    "import re\n",
    "\n",
    "import warnings\n",
    "\n",
    "warnings.filterwarnings('ignore')"
   ]
  },
  {
   "cell_type": "code",
   "execution_count": 18,
   "id": "04486d36",
   "metadata": {
    "ExecuteTime": {
     "end_time": "2024-02-16T14:00:58.130827500Z",
     "start_time": "2024-02-16T14:00:50.403366700Z"
    }
   },
   "outputs": [],
   "source": [
    "driver = webdriver.Firefox()"
   ]
  },
  {
   "cell_type": "code",
   "execution_count": 19,
   "id": "c8f8e401",
   "metadata": {
    "ExecuteTime": {
     "end_time": "2024-02-16T14:00:58.151386300Z",
     "start_time": "2024-02-16T14:00:58.136823300Z"
    }
   },
   "outputs": [],
   "source": [
    "driver.implicitly_wait(0.5)"
   ]
  },
  {
   "cell_type": "code",
   "execution_count": 20,
   "id": "6cf56e7c",
   "metadata": {
    "ExecuteTime": {
     "end_time": "2024-02-16T14:00:58.182382900Z",
     "start_time": "2024-02-16T14:00:58.150384100Z"
    }
   },
   "outputs": [],
   "source": [
    "# driver.get('https://www.naukri.com/jobs-in-all')"
   ]
  },
  {
   "cell_type": "code",
   "execution_count": 21,
   "id": "271a463f",
   "metadata": {
    "ExecuteTime": {
     "end_time": "2024-02-16T14:00:58.183381700Z",
     "start_time": "2024-02-16T14:00:58.167384Z"
    }
   },
   "outputs": [],
   "source": [
    "# df = pd.read_csv('./Coursera_courses.csv')"
   ]
  },
  {
   "cell_type": "code",
   "outputs": [
    {
     "name": "stdout",
     "output_type": "stream",
     "text": [
      "Decentralized Finance (DeFi) Infrastructure\n",
      "Duke University\n",
      "Skills you'll gain: BlockChain, Cryptography, FinTech, Finance, Algorithms, Banking, Payments, Data Mining, Innovation, Regulations and Compliance\n",
      "Decentralized Finance (DeFi) Infrastructure\n",
      "4.8\n",
      "Beginner Course 1 - 4 Weeks\n"
     ]
    }
   ],
   "source": [
    "from selenium.webdriver.common.by import By\n",
    "\n",
    "driver.get(f'https://www.coursera.org/courses?productTypeDescription=Courses&page={84}')\n",
    "card = driver.find_element(By.XPATH,\n",
    "                           f'/html/body/div[2]/div/div/main/div[1]/div/div/div/div/div[2]/ul/li[1]/div/div/div')\n",
    "\n",
    "course_name = card.find_element(By.CLASS_NAME, 'cds-CommonCard-title').text\n",
    "institution = card.find_element(By.CLASS_NAME, 'cds-ProductCard-partnerNames').text\n",
    "earn_skills = card.find_element(By.CLASS_NAME, 'cds-CommonCard-bodyContent').text\n",
    "course_link = card.find_element(By.CLASS_NAME, 'cds-CommonCard-titleLink').text\n",
    "course_rating = card.find_element(By.XPATH, \"//p[contains(@class, 'cds-119 css-11uuo4b cds-121')]\").text\n",
    "metadata = card.find_element(By.CLASS_NAME, \"cds-CommonCard-metadata\").text.replace(' · ', ' ')\n",
    "\n",
    "print(course_name)\n",
    "print(institution)\n",
    "print(earn_skills)\n",
    "print(course_link)\n",
    "print(course_rating)\n",
    "print(metadata)"
   ],
   "metadata": {
    "collapsed": false,
    "ExecuteTime": {
     "end_time": "2024-02-16T15:16:12.004947100Z",
     "start_time": "2024-02-16T15:16:08.525385400Z"
    }
   },
   "id": "58be75711a4bb75c",
   "execution_count": 44
  },
  {
   "cell_type": "code",
   "execution_count": 45,
   "id": "9ceef764",
   "metadata": {
    "ExecuteTime": {
     "end_time": "2024-02-16T15:20:35.273418700Z",
     "start_time": "2024-02-16T15:20:30.139662500Z"
    }
   },
   "outputs": [
    {
     "name": "stderr",
     "output_type": "stream",
     "text": [
      "  0%|          | 0/1 [00:00<?, ?it/s]"
     ]
    },
    {
     "name": "stdout",
     "output_type": "stream",
     "text": [
      "Generative AI with Large Language Models\n",
      "DeepLearning.AI\n",
      "Skills you'll gain: Machine Learning, Natural Language Processing, Python Programming\n",
      "Generative AI with Large Language Models\n",
      "4.8\n",
      "Intermediate Course 1 - 4 Weeks\n",
      "Foundations of Project Management\n",
      "Google\n",
      "Skills you'll gain: Project Management, Strategy and Operations, Business Communication, Change Management, Organizational Development, Communication, Culture, Emotional Intelligence, Influencing, Leadership and Management, People Management, Planning\n",
      "Foundations of Project Management\n",
      "4.8\n",
      "Beginner Course 1 - 4 Weeks\n",
      "Foundations of Cybersecurity\n",
      "Google\n",
      "Skills you'll gain: Linux, Computer Programming, Leadership and Management, SQL\n",
      "Foundations of Cybersecurity\n",
      "4.8\n",
      "Beginner Course 1 - 4 Weeks\n",
      "Supervised Machine Learning: Regression and Classification\n",
      "DeepLearning.AI\n",
      "Skills you'll gain: Machine Learning, Machine Learning Algorithms, Regression, Applied Machine Learning, Algorithms, Statistical Machine Learning, Mathematics, Critical Thinking, Machine Learning Software, Python Programming\n",
      "Supervised Machine Learning: Regression and Classification\n",
      "4.8\n",
      "Beginner Course 1 - 4 Weeks\n",
      "Foundations: Data, Data, Everywhere\n",
      "Google\n",
      "Skills you'll gain: Data Analysis, SQL, Data Visualization, Business Analysis, Spreadsheet Software, Data Science, Databases, Microsoft Excel\n",
      "Foundations: Data, Data, Everywhere\n",
      "4.8\n",
      "Beginner Course 1 - 3 Months\n",
      "AI For Everyone\n",
      "DeepLearning.AI\n",
      "Skills you'll gain: Data Science, Deep Learning, Machine Learning, Artificial Neural Networks, Business Transformation, Human Learning, Planning, Project Management\n",
      "AI For Everyone\n",
      "4.8\n",
      "Beginner Course 1 - 4 Weeks\n",
      "Generative AI for Everyone\n",
      "DeepLearning.AI\n",
      "Skills you'll gain: Strategy, Writing\n",
      "Generative AI for Everyone\n",
      "4.8\n",
      "Beginner Course 1 - 4 Weeks\n",
      "Technical Support Fundamentals\n",
      "Google\n",
      "Skills you'll gain: Communication, Computer Architecture, Computer Networking, Customer Support, Networking Hardware\n",
      "Technical Support Fundamentals\n",
      "4.8\n",
      "Beginner Course 1 - 3 Months\n",
      "Foundations of Digital Marketing and E-commerce\n",
      "Google\n",
      "Skills you'll gain: Digital Marketing, Marketing, E-Commerce, Strategy, Data Analysis, Social Media\n",
      "Foundations of Digital Marketing and E-commerce\n",
      "4.8\n",
      "Beginner Course 1 - 4 Weeks\n",
      "Foundations of User Experience (UX) Design\n",
      "Google\n",
      "Skills you'll gain: User Experience, User Experience Design, User Research, Product Development\n",
      "Foundations of User Experience (UX) Design\n",
      "4.8\n",
      "Beginner Course 1 - 4 Weeks\n",
      "Play It Safe: Manage Security Risks\n",
      "Google\n",
      "Skills you'll gain: Computer Security Incident Management, Leadership and Management, Risk Management\n",
      "Play It Safe: Manage Security Risks\n",
      "4.8\n",
      "Beginner Course 1 - 4 Weeks\n",
      "Prompt Engineering for ChatGPT\n",
      "Vanderbilt University\n",
      "Skills you'll gain: Creativity, Problem Solving, Writing\n",
      "Prompt Engineering for ChatGPT\n",
      "4.8\n",
      "Beginner Course 1 - 3 Months\n"
     ]
    },
    {
     "name": "stderr",
     "output_type": "stream",
     "text": [
      "100%|██████████| 1/1 [00:05<00:00,  5.11s/it]\n"
     ]
    }
   ],
   "source": [
    "from selenium.webdriver.common.by import By\n",
    "import pandas as pd  # for dataset creation\n",
    "from tqdm import tqdm  # tracing for loop\n",
    "\n",
    "df = pd.read_csv('./Coursera_courses.csv')  # open an empty csv file to avoid data loss\n",
    "for page in tqdm(range(1, 2)):\n",
    "    driver.get(f'https://www.coursera.org/courses?productTypeDescription=Courses&page={page}')\n",
    "    for i in range(1, 13):  # 12 courses details on every page\n",
    "        try:\n",
    "            card = driver.find_element(By.XPATH,\n",
    "                           f'/html/body/div[2]/div/div/main/div[1]/div/div/div/div/div[2]/ul/li[{i}]/div/div/div')\n",
    "\n",
    "            course_name = card.find_element(By.CLASS_NAME, 'cds-CommonCard-title').text\n",
    "            institution = card.find_element(By.CLASS_NAME, 'cds-ProductCard-partnerNames').text\n",
    "            earn_skills = card.find_element(By.CLASS_NAME, 'cds-CommonCard-bodyContent').text\n",
    "            course_link = card.find_element(By.CLASS_NAME, 'cds-CommonCard-titleLink').text\n",
    "            course_rating = card.find_element(By.XPATH, \"//p[contains(@class, 'cds-119 css-11uuo4b cds-121')]\").text\n",
    "            metadata = card.find_element(By.CLASS_NAME, \"cds-CommonCard-metadata\").text.replace(' · ', ' ')\n",
    "            \n",
    "            print(course_name)\n",
    "            print(institution)\n",
    "            print(earn_skills)\n",
    "            print(course_link)\n",
    "            print(course_rating)\n",
    "            print(metadata)\n",
    "\n",
    "            # appending all data in data file\n",
    "            df = df.append(\n",
    "                {\n",
    "                    'course_name': course_name,\n",
    "                    'course_rating': course_rating,\n",
    "                    'earn_skills': earn_skills,\n",
    "                    'course_link': course_link,\n",
    "                    'institution': institution,\n",
    "                    'metadata': metadata,\n",
    "                }, ignore_index=True\n",
    "            )\n",
    "            # saving as csv file\n",
    "            df.to_csv('./Coursera_courses.csv')\n",
    "        except NoSuchElementException:\n",
    "            print(i, \": Not Found\")\n",
    "            pass"
   ]
  },
  {
   "cell_type": "code",
   "outputs": [
    {
     "data": {
      "text/plain": "(785, 6)"
     },
     "execution_count": 27,
     "metadata": {},
     "output_type": "execute_result"
    }
   ],
   "source": [
    "df.shape"
   ],
   "metadata": {
    "collapsed": false,
    "ExecuteTime": {
     "end_time": "2024-02-16T14:28:05.523297200Z",
     "start_time": "2024-02-16T14:28:05.488299600Z"
    }
   },
   "id": "9457b93507af0208",
   "execution_count": 27
  },
  {
   "cell_type": "code",
   "outputs": [],
   "source": [
    "df = df.drop_duplicates()"
   ],
   "metadata": {
    "collapsed": false,
    "ExecuteTime": {
     "end_time": "2024-02-16T14:28:06.527859100Z",
     "start_time": "2024-02-16T14:28:06.509859600Z"
    }
   },
   "id": "58ed2fc2dd51884d",
   "execution_count": 28
  },
  {
   "cell_type": "code",
   "outputs": [
    {
     "data": {
      "text/plain": "(785, 6)"
     },
     "execution_count": 29,
     "metadata": {},
     "output_type": "execute_result"
    }
   ],
   "source": [
    "df.shape"
   ],
   "metadata": {
    "collapsed": false,
    "ExecuteTime": {
     "end_time": "2024-02-16T14:28:07.898352100Z",
     "start_time": "2024-02-16T14:28:07.873795100Z"
    }
   },
   "id": "d37fc94a66b665f9",
   "execution_count": 29
  },
  {
   "cell_type": "code",
   "outputs": [],
   "source": [
    "df.to_csv('./Coursera_courses.csv')"
   ],
   "metadata": {
    "collapsed": false,
    "ExecuteTime": {
     "start_time": "2024-02-16T14:01:16.279743Z"
    }
   },
   "id": "8198ed43dab7c959",
   "execution_count": null
  }
 ],
 "metadata": {
  "kernelspec": {
   "name": "python3",
   "language": "python",
   "display_name": "Python 3 (ipykernel)"
  },
  "language_info": {
   "codemirror_mode": {
    "name": "ipython",
    "version": 3
   },
   "file_extension": ".py",
   "mimetype": "text/x-python",
   "name": "python",
   "nbconvert_exporter": "python",
   "pygments_lexer": "ipython3",
   "version": "3.9.7"
  }
 },
 "nbformat": 4,
 "nbformat_minor": 5
}
