{
 "cells": [
  {
   "cell_type": "code",
   "execution_count": 1,
   "outputs": [],
   "source": [
    "# Importing Dependencies"
   ],
   "metadata": {
    "collapsed": false
   },
   "id": "64bda0e1a541e2ad"
  },
  {
   "cell_type": "code",
   "execution_count": 2,
   "id": "f75344c5",
   "metadata": {
    "execution": {
     "iopub.execute_input": "2022-01-26T14:19:43.344315Z",
     "iopub.status.busy": "2022-01-26T14:19:43.343625Z",
     "iopub.status.idle": "2022-01-26T14:19:44.396797Z",
     "shell.execute_reply": "2022-01-26T14:19:44.396055Z",
     "shell.execute_reply.started": "2022-01-26T12:46:03.692767Z"
    },
    "papermill": {
     "duration": 1.112674,
     "end_time": "2022-01-26T14:19:44.396964",
     "exception": false,
     "start_time": "2022-01-26T14:19:43.284290",
     "status": "completed"
    },
    "tags": []
   },
   "outputs": [
    {
     "name": "stdout",
     "output_type": "stream",
     "text": [
      "Dependencies Imported\n"
     ]
    }
   ],
   "source": [
    "import os\n",
    "import numpy as np\n",
    "import pandas as pd\n",
    "import matplotlib.pyplot as plt\n",
    "# import seaborn as sns\n",
    "print('Dependencies Imported')"
   ]
  },
  {
   "cell_type": "code",
   "execution_count": 3,
   "id": "e3536ee1",
   "metadata": {
    "execution": {
     "iopub.execute_input": "2022-01-26T14:19:44.502712Z",
     "iopub.status.busy": "2022-01-26T14:19:44.501653Z",
     "iopub.status.idle": "2022-01-26T14:19:44.700849Z",
     "shell.execute_reply": "2022-01-26T14:19:44.701361Z",
     "shell.execute_reply.started": "2022-01-26T12:46:47.573105Z"
    },
    "papermill": {
     "duration": 0.253163,
     "end_time": "2022-01-26T14:19:44.701566",
     "exception": false,
     "start_time": "2022-01-26T14:19:44.448403",
     "status": "completed"
    },
    "tags": []
   },
   "outputs": [],
   "source": [
    "data = pd.read_csv(\"./dataset/Naukri_jobs.csv\")\n",
    "data.head(5)\n",
    "data.drop_duplicates(inplace=True, ignore_index=True)"
   ]
  },
  {
   "cell_type": "code",
   "execution_count": 4,
   "outputs": [
    {
     "data": {
      "text/plain": "203"
     },
     "execution_count": 4,
     "metadata": {},
     "output_type": "execute_result"
    }
   ],
   "source": [
    "data.duplicated(subset=['job_post', 'company', 'company_rating', 'company_review', 'exp_required', 'salary_offered', 'job_location', 'posted_on']).sum()"
   ],
   "metadata": {
    "collapsed": false
   },
   "id": "491e767d65698b87"
  },
  {
   "cell_type": "markdown",
   "source": [
    "# Basic Data Analysis"
   ],
   "metadata": {
    "collapsed": false
   },
   "id": "61b6ec6b8c7283e6"
  },
  {
   "cell_type": "code",
   "execution_count": 5,
   "outputs": [
    {
     "data": {
      "text/plain": "(5796, 11)"
     },
     "execution_count": 5,
     "metadata": {},
     "output_type": "execute_result"
    }
   ],
   "source": [
    "data.shape #37556 jobs and 12 columns with different attributes"
   ],
   "metadata": {
    "collapsed": false
   },
   "id": "456599efd8ccc7c1"
  },
  {
   "cell_type": "code",
   "execution_count": 6,
   "outputs": [
    {
     "name": "stdout",
     "output_type": "stream",
     "text": [
      "                                               job_post  \\\n",
      "0                                     AWS Glue Engineer   \n",
      "1          CN - Comms & Media - Salesforce - Consultant   \n",
      "2                             Technical Program Manager   \n",
      "3     Python developer working on Astronomer Airflow...   \n",
      "4     Urgently looking For Immediate Joiner -Windows...   \n",
      "...                                                 ...   \n",
      "5791                                Scheduling Engineer   \n",
      "5792                                 Reservoir Engineer   \n",
      "5793                  Reliability Lead: Instrumentation   \n",
      "5794        Reliability Lead Engineer : Instrumentation   \n",
      "5795     Reciprocating Compressor Auxiliary Design Lead   \n",
      "\n",
      "                                                company company_rating  \\\n",
      "0                                             Cognizant            3.9   \n",
      "1                                             Accenture            4.1   \n",
      "2                                                 Paytm            3.6   \n",
      "3                                 Hexaware Technologies            3.7   \n",
      "4                                 Hexaware Technologies            3.7   \n",
      "...                                                 ...            ...   \n",
      "5791  Quality Engineering Software Technologies Pvt....            3.7   \n",
      "5792  Quality Engineering Software Technologies Pvt....            3.7   \n",
      "5793  Quality Engineering Software Technologies Pvt....            3.7   \n",
      "5794  Quality Engineering Software Technologies Pvt....            3.7   \n",
      "5795  Quality Engineering Software Technologies Pvt....            3.7   \n",
      "\n",
      "     company_review exp_required salary_offered  \\\n",
      "0     31515 Reviews      3-8 Yrs  Not disclosed   \n",
      "1     34572 Reviews      6-9 Yrs  Not disclosed   \n",
      "2      4059 Reviews      6-9 Yrs  Not disclosed   \n",
      "3      3371 Reviews      4-9 Yrs  Not disclosed   \n",
      "4      3371 Reviews      4-9 Yrs  Not disclosed   \n",
      "...             ...          ...            ...   \n",
      "5791   1036 Reviews      3-6 Yrs  Not disclosed   \n",
      "5792   1036 Reviews      1-5 Yrs  Not disclosed   \n",
      "5793   1036 Reviews     7-11 Yrs  Not disclosed   \n",
      "5794   1036 Reviews     6-10 Yrs  Not disclosed   \n",
      "5795   1036 Reviews      6-8 Yrs  Not disclosed   \n",
      "\n",
      "                                           job_location  \\\n",
      "0     Hybrid - Mumbai (All Areas), Kolkata, Hyderaba...   \n",
      "1     Mumbai, Hyderabad/Secunderabad, Pune, Gurgaon/...   \n",
      "2     Hybrid - Mumbai (All Areas), Noida, Pune, Gurg...   \n",
      "3     Hybrid - Mumbai (All Areas), Pune, Chennai, Ba...   \n",
      "4     Temp. WFH - Mumbai (All Areas), Navi Mumbai, P...   \n",
      "...                                                 ...   \n",
      "5791                                Bangalore/Bengaluru   \n",
      "5792                                Bangalore/Bengaluru   \n",
      "5793                                Bangalore/Bengaluru   \n",
      "5794                                Bangalore/Bengaluru   \n",
      "5795                                Bangalore/Bengaluru   \n",
      "\n",
      "                                        job_description  \\\n",
      "0     Responsibilities As a Data Engineer - Data Gov...   \n",
      "1     Then, Accenture Strategy and Consulting is the...   \n",
      "2     Program definition and scoping, owning the pro...   \n",
      "3     Scripting experience for data transformation a...   \n",
      "4     Roles and Responsibilities Prioritize, align a...   \n",
      "...                                                 ...   \n",
      "5791  . Be the Technical person, by understanding th...   \n",
      "5792  Able to work in shift hours Required Skills (T...   \n",
      "5793  Instrumentation /Process Engineering, Reviewin...   \n",
      "5794  Instrumentation /Process Engineering, Reviewin...   \n",
      "5795  Mechanical Engineer with 8 years of experience...   \n",
      "\n",
      "                                        required_skills     posted_on  \\\n",
      "0                          aws glue\\npyspark\\naws\\nglue    2 Days Ago   \n",
      "1     Business intelligence\\nVisual Force\\nAgile\\nAu...    2 Days Ago   \n",
      "2     Program Management\\nJIRA\\ntechnical\\nprogram\\n...    2 Days Ago   \n",
      "3     Airflow\\nAws Cloud\\nPython Development\\ndevelo...    2 Days Ago   \n",
      "4     Powershell\\nvmware\\nTroubleshooting\\nprism\\nui...    2 Days Ago   \n",
      "...                                                 ...           ...   \n",
      "5791  scheduling\\nprocurement\\nheat exchangers\\nmoni...  30+ Days Ago   \n",
      "5792  eclipse\\nmonitoring\\nanalysis\\nengineering ser...  30+ Days Ago   \n",
      "5793  valves\\nbreakdown maintenance\\npredictive\\nins...  30+ Days Ago   \n",
      "5794  breakdown\\nengineering\\ninstrumentation\\nproce...  30+ Days Ago   \n",
      "5795  management\\nmodeling\\nreciprocating\\nengineeri...  30+ Days Ago   \n",
      "\n",
      "     Unnamed: 10  \n",
      "0            NaN  \n",
      "1            NaN  \n",
      "2            NaN  \n",
      "3            NaN  \n",
      "4            NaN  \n",
      "...          ...  \n",
      "5791         NaN  \n",
      "5792         NaN  \n",
      "5793         NaN  \n",
      "5794         NaN  \n",
      "5795         NaN  \n",
      "\n",
      "[5796 rows x 11 columns]\n"
     ]
    }
   ],
   "source": [
    "print(data)"
   ],
   "metadata": {
    "collapsed": false
   },
   "id": "c1882e65c210c490"
  },
  {
   "cell_type": "code",
   "execution_count": 7,
   "id": "0993059a",
   "metadata": {
    "execution": {
     "iopub.execute_input": "2022-01-26T14:19:45.041493Z",
     "iopub.status.busy": "2022-01-26T14:19:45.040248Z",
     "iopub.status.idle": "2022-01-26T14:19:45.060303Z",
     "shell.execute_reply": "2022-01-26T14:19:45.061266Z",
     "shell.execute_reply.started": "2022-01-26T12:46:50.515284Z"
    },
    "papermill": {
     "duration": 0.097295,
     "end_time": "2022-01-26T14:19:45.061496",
     "exception": false,
     "start_time": "2022-01-26T14:19:44.964201",
     "status": "completed"
    },
    "tags": []
   },
   "outputs": [
    {
     "name": "stdout",
     "output_type": "stream",
     "text": [
      "<class 'pandas.core.frame.DataFrame'>\n",
      "RangeIndex: 5796 entries, 0 to 5795\n",
      "Data columns (total 11 columns):\n",
      " #   Column           Non-Null Count  Dtype \n",
      "---  ------           --------------  ----- \n",
      " 0   job_post         5796 non-null   object\n",
      " 1   company          5796 non-null   object\n",
      " 2   company_rating   5796 non-null   object\n",
      " 3   company_review   5796 non-null   object\n",
      " 4   exp_required     5796 non-null   object\n",
      " 5   salary_offered   5796 non-null   object\n",
      " 6   job_location     5796 non-null   object\n",
      " 7   job_description  5796 non-null   object\n",
      " 8   required_skills  5796 non-null   object\n",
      " 9   posted_on        5787 non-null   object\n",
      " 10  Unnamed: 10      9 non-null      object\n",
      "dtypes: object(11)\n",
      "memory usage: 498.2+ KB\n"
     ]
    }
   ],
   "source": [
    "data.info()"
   ]
  },
  {
   "cell_type": "code",
   "execution_count": 8,
   "id": "65c2dc88",
   "metadata": {
    "execution": {
     "iopub.execute_input": "2022-01-26T14:19:45.179184Z",
     "iopub.status.busy": "2022-01-26T14:19:45.178159Z",
     "iopub.status.idle": "2022-01-26T14:19:45.189975Z",
     "shell.execute_reply": "2022-01-26T14:19:45.190569Z",
     "shell.execute_reply.started": "2022-01-26T12:46:50.913696Z"
    },
    "papermill": {
     "duration": 0.068015,
     "end_time": "2022-01-26T14:19:45.190768",
     "exception": false,
     "start_time": "2022-01-26T14:19:45.122753",
     "status": "completed"
    },
    "tags": []
   },
   "outputs": [
    {
     "data": {
      "text/plain": "job_post              0\ncompany               0\ncompany_rating        0\ncompany_review        0\nexp_required          0\nsalary_offered        0\njob_location          0\njob_description       0\nrequired_skills       0\nposted_on             9\nUnnamed: 10        5787\ndtype: int64"
     },
     "execution_count": 8,
     "metadata": {},
     "output_type": "execute_result"
    }
   ],
   "source": [
    "data.isnull().sum() #no value is missing"
   ]
  },
  {
   "cell_type": "code",
   "execution_count": 9,
   "id": "1fa17aa6",
   "metadata": {
    "execution": {
     "iopub.execute_input": "2022-01-26T14:19:45.299135Z",
     "iopub.status.busy": "2022-01-26T14:19:45.298106Z",
     "iopub.status.idle": "2022-01-26T14:19:45.306170Z",
     "shell.execute_reply": "2022-01-26T14:19:45.306688Z",
     "shell.execute_reply.started": "2022-01-26T12:46:53.446023Z"
    },
    "papermill": {
     "duration": 0.064492,
     "end_time": "2022-01-26T14:19:45.306882",
     "exception": false,
     "start_time": "2022-01-26T14:19:45.242390",
     "status": "completed"
    },
    "tags": []
   },
   "outputs": [
    {
     "data": {
      "text/plain": "Accenture                 601\nIBM                       395\nPwC                       244\nCapgemini                 182\nInfosys                   161\n                         ... \nPolycab                     1\nIncipientinfo               1\nNextbrain Technologies      1\nBluebear Technology         1\nSpeciality Restaurants      1\nName: company, Length: 734, dtype: int64"
     },
     "execution_count": 9,
     "metadata": {},
     "output_type": "execute_result"
    }
   ],
   "source": [
    "data['company'].value_counts()"
   ]
  },
  {
   "cell_type": "code",
   "execution_count": 10,
   "id": "899491c8",
   "metadata": {
    "execution": {
     "iopub.execute_input": "2022-01-26T14:19:45.415285Z",
     "iopub.status.busy": "2022-01-26T14:19:45.414312Z",
     "iopub.status.idle": "2022-01-26T14:19:45.422096Z",
     "shell.execute_reply": "2022-01-26T14:19:45.422711Z",
     "shell.execute_reply.started": "2022-01-26T12:46:53.943586Z"
    },
    "papermill": {
     "duration": 0.064131,
     "end_time": "2022-01-26T14:19:45.422886",
     "exception": false,
     "start_time": "2022-01-26T14:19:45.358755",
     "status": "completed"
    },
    "tags": []
   },
   "outputs": [
    {
     "data": {
      "text/plain": "4.2                    1380\n4.1                     972\n3.9                     894\n3.7                     600\n3.8                     434\n4                       407\n4.3                     233\n3.6                     214\n4.4                     198\n3.5                      98\n3.4                      91\n3.3                      62\n4.5                      57\n3.1                      30\n3.2                      26\n3                        18\n5                        13\n4.7                      11\n4.6                       7\n2.7                       6\n4.8                       6\n2.3                       5\n1                         4\n BEAUTY PVT. LTD.         4\n1.8                       3\n2.5                       3\n2.4                       3\n2.8                       3\n2.6                       2\n1.9                       2\n2.9                       2\n1.2                       2\n Services Pvt. Ltd.       1\n2.1                       1\n1.7                       1\n1.1                       1\n2.2                       1\n Games                    1\nName: company_rating, dtype: int64"
     },
     "execution_count": 10,
     "metadata": {},
     "output_type": "execute_result"
    }
   ],
   "source": [
    "data['company_rating'].value_counts()"
   ]
  },
  {
   "cell_type": "code",
   "execution_count": 11,
   "id": "dab334a6",
   "metadata": {
    "execution": {
     "iopub.execute_input": "2022-01-26T14:19:45.531483Z",
     "iopub.status.busy": "2022-01-26T14:19:45.530498Z",
     "iopub.status.idle": "2022-01-26T14:19:45.539391Z",
     "shell.execute_reply": "2022-01-26T14:19:45.539891Z",
     "shell.execute_reply.started": "2022-01-26T12:46:54.61919Z"
    },
    "papermill": {
     "duration": 0.064827,
     "end_time": "2022-01-26T14:19:45.540088",
     "exception": false,
     "start_time": "2022-01-26T14:19:45.475261",
     "status": "completed"
    },
    "tags": []
   },
   "outputs": [
    {
     "data": {
      "text/plain": "4-6 Yrs            276\n5-10 Yrs           260\n3-8 Yrs            237\n3-5 Yrs            206\n3-6 Yrs            195\n                  ... \n7-17 Yrs             1\n10-11 Yrs            1\n5-5 Yrs              1\n16-25 Yrs            1\n17 Mar - 25 Mar      1\nName: exp_required, Length: 163, dtype: int64"
     },
     "execution_count": 11,
     "metadata": {},
     "output_type": "execute_result"
    }
   ],
   "source": [
    "data['exp_required'].value_counts()"
   ]
  },
  {
   "cell_type": "code",
   "execution_count": 12,
   "id": "cf4e4a14",
   "metadata": {
    "execution": {
     "iopub.execute_input": "2022-01-26T14:19:45.653057Z",
     "iopub.status.busy": "2022-01-26T14:19:45.651968Z",
     "iopub.status.idle": "2022-01-26T14:19:45.657690Z",
     "shell.execute_reply": "2022-01-26T14:19:45.658305Z",
     "shell.execute_reply.started": "2022-01-26T12:46:56.396485Z"
    },
    "papermill": {
     "duration": 0.064954,
     "end_time": "2022-01-26T14:19:45.658504",
     "exception": false,
     "start_time": "2022-01-26T14:19:45.593550",
     "status": "completed"
    },
    "tags": []
   },
   "outputs": [
    {
     "data": {
      "text/plain": "Not disclosed       5157\n10-20 Lacs PA         24\n50,000-3 Lacs PA      15\n15-25 Lacs PA         15\n5-15 Lacs PA          12\n                    ... \n3.5-4.25 Lacs PA       1\n4.5-9 Lacs PA          1\n60,000-70,000 PA       1\n7-9 Lacs PA            1\n18-20 Lacs PA          1\nName: salary_offered, Length: 258, dtype: int64"
     },
     "execution_count": 12,
     "metadata": {},
     "output_type": "execute_result"
    }
   ],
   "source": [
    "data['salary_offered'].value_counts()"
   ]
  },
  {
   "cell_type": "code",
   "execution_count": 13,
   "outputs": [
    {
     "data": {
      "text/plain": "Bangalore/Bengaluru                                                                                                                                                   2379\nMumbai                                                                                                                                                                 439\nHyderabad/Secunderabad, Bangalore/Bengaluru                                                                                                                            303\nKolkata, Mumbai, New Delhi, Hyderabad/Secunderabad, Pune, Chennai, Bangalore/Bengaluru                                                                                 216\nPune                                                                                                                                                                   114\n                                                                                                                                                                      ... \nHybrid - Mumbai (All Areas), Hyderabad/Secunderabad, Gurgaon/Gurugram, Bangalore/Bengaluru                                                                               1\nBangalore/Bengaluru(Marathahalli)                                                                                                                                        1\nMumbai, Ghaziabad, New Delhi, Hyderabad/Secunderabad, Chennai, Ahmedabad, Bangalore/Bengaluru                                                                            1\nHybrid - Bangalore/Bengaluru(Whitefield)                                                                                                                                 1\nHyderabad/Secunderabad, Chennai, Jaipur, Kochi/Cochin, Bhubaneswar, Kolkata, Mumbai, Chandigarh, Indore, Dehradun, New Delhi, Lucknow, Ranchi, Bangalore/Bengaluru       1\nName: job_location, Length: 809, dtype: int64"
     },
     "execution_count": 13,
     "metadata": {},
     "output_type": "execute_result"
    }
   ],
   "source": [
    "data['job_location'].value_counts()"
   ],
   "metadata": {
    "collapsed": false
   },
   "id": "c88b66aa18558ff3"
  },
  {
   "cell_type": "code",
   "execution_count": 14,
   "outputs": [
    {
     "data": {
      "text/plain": "Mean\\nNode.Js\\nMongoDB\\nExpress.js\\nAngular\\nCSS\\nMean Stack\\nJavascript                                                         3\nsap tm\\nsap\\ntm\\nconsulting                                                                                                      2\nData analysis\\nMachine learning\\nHealthcare\\nSDK\\nAnalytics\\nanalysis\\napplication\\nanalytical                                   2\ncabin crew activities\\nstandard operating procedures\\nservicing\\nmonitoring\\nprocedures\\noperating\\ncabin\\ncatering              2\ncommis\\nquality\\nquality standards\\nappliances\\nsupervision\\nmonitoring\\nsafety training\\nsoftware testing                       2\n                                                                                                                                ..\nsap fiori\\nS4Hana\\nsap bi security\\nsap hana\\ns\\nsecurity\\nsap s hana\\nsap                                                       1\nazure databricks\\npyspark\\nmicrosoft azure\\nazure data factory\\ndata\\nfactory                                                    1\nAutomation\\nSelenium\\nsoftware testing\\nagile\\nranorex\\nautomation testing\\njava\\nautomation tester                              1\nJava Fullstack\\nmysql\\nprogram\\napache\\nfront\\nfull stack\\nmongodb\\ncryptography                                                 1\nmanagement\\nmodeling\\nreciprocating\\nengineering\\ntechnology management\\nengineering services\\ncompressors\\nmechanical design    1\nName: required_skills, Length: 5756, dtype: int64"
     },
     "execution_count": 14,
     "metadata": {},
     "output_type": "execute_result"
    }
   ],
   "source": [
    "data['required_skills'].value_counts()"
   ],
   "metadata": {
    "collapsed": false
   },
   "id": "e57bfcfec202c127"
  },
  {
   "cell_type": "code",
   "execution_count": 15,
   "id": "42f0e96a",
   "metadata": {
    "execution": {
     "iopub.execute_input": "2022-01-26T14:19:45.985862Z",
     "iopub.status.busy": "2022-01-26T14:19:45.984756Z",
     "iopub.status.idle": "2022-01-26T14:19:45.990667Z",
     "shell.execute_reply": "2022-01-26T14:19:45.991205Z",
     "shell.execute_reply.started": "2022-01-26T12:49:25.396394Z"
    },
    "papermill": {
     "duration": 0.064324,
     "end_time": "2022-01-26T14:19:45.991385",
     "exception": false,
     "start_time": "2022-01-26T14:19:45.927061",
     "status": "completed"
    },
    "tags": []
   },
   "outputs": [],
   "source": [
    "data = data[['job_post','company','company_rating','company_review', 'exp_required', 'salary_offered', 'job_location', 'job_description', 'required_skills', 'posted_on']]"
   ]
  },
  {
   "cell_type": "code",
   "execution_count": 16,
   "id": "04cc92ed",
   "metadata": {
    "execution": {
     "iopub.execute_input": "2022-01-26T14:19:46.104150Z",
     "iopub.status.busy": "2022-01-26T14:19:46.103123Z",
     "iopub.status.idle": "2022-01-26T14:19:46.113861Z",
     "shell.execute_reply": "2022-01-26T14:19:46.114401Z",
     "shell.execute_reply.started": "2022-01-26T12:49:30.127057Z"
    },
    "papermill": {
     "duration": 0.067641,
     "end_time": "2022-01-26T14:19:46.114589",
     "exception": false,
     "start_time": "2022-01-26T14:19:46.046948",
     "status": "completed"
    },
    "tags": []
   },
   "outputs": [
    {
     "data": {
      "text/plain": "                                            job_post                company  \\\n0                                  AWS Glue Engineer              Cognizant   \n1       CN - Comms & Media - Salesforce - Consultant              Accenture   \n2                          Technical Program Manager                  Paytm   \n3  Python developer working on Astronomer Airflow...  Hexaware Technologies   \n4  Urgently looking For Immediate Joiner -Windows...  Hexaware Technologies   \n\n  company_rating company_review exp_required salary_offered  \\\n0            3.9  31515 Reviews      3-8 Yrs  Not disclosed   \n1            4.1  34572 Reviews      6-9 Yrs  Not disclosed   \n2            3.6   4059 Reviews      6-9 Yrs  Not disclosed   \n3            3.7   3371 Reviews      4-9 Yrs  Not disclosed   \n4            3.7   3371 Reviews      4-9 Yrs  Not disclosed   \n\n                                        job_location  \\\n0  Hybrid - Mumbai (All Areas), Kolkata, Hyderaba...   \n1  Mumbai, Hyderabad/Secunderabad, Pune, Gurgaon/...   \n2  Hybrid - Mumbai (All Areas), Noida, Pune, Gurg...   \n3  Hybrid - Mumbai (All Areas), Pune, Chennai, Ba...   \n4  Temp. WFH - Mumbai (All Areas), Navi Mumbai, P...   \n\n                                     job_description  \\\n0  Responsibilities As a Data Engineer - Data Gov...   \n1  Then, Accenture Strategy and Consulting is the...   \n2  Program definition and scoping, owning the pro...   \n3  Scripting experience for data transformation a...   \n4  Roles and Responsibilities Prioritize, align a...   \n\n                                     required_skills   posted_on  \n0                       aws glue\\npyspark\\naws\\nglue  2 Days Ago  \n1  Business intelligence\\nVisual Force\\nAgile\\nAu...  2 Days Ago  \n2  Program Management\\nJIRA\\ntechnical\\nprogram\\n...  2 Days Ago  \n3  Airflow\\nAws Cloud\\nPython Development\\ndevelo...  2 Days Ago  \n4  Powershell\\nvmware\\nTroubleshooting\\nprism\\nui...  2 Days Ago  ",
      "text/html": "<div>\n<style scoped>\n    .dataframe tbody tr th:only-of-type {\n        vertical-align: middle;\n    }\n\n    .dataframe tbody tr th {\n        vertical-align: top;\n    }\n\n    .dataframe thead th {\n        text-align: right;\n    }\n</style>\n<table border=\"1\" class=\"dataframe\">\n  <thead>\n    <tr style=\"text-align: right;\">\n      <th></th>\n      <th>job_post</th>\n      <th>company</th>\n      <th>company_rating</th>\n      <th>company_review</th>\n      <th>exp_required</th>\n      <th>salary_offered</th>\n      <th>job_location</th>\n      <th>job_description</th>\n      <th>required_skills</th>\n      <th>posted_on</th>\n    </tr>\n  </thead>\n  <tbody>\n    <tr>\n      <th>0</th>\n      <td>AWS Glue Engineer</td>\n      <td>Cognizant</td>\n      <td>3.9</td>\n      <td>31515 Reviews</td>\n      <td>3-8 Yrs</td>\n      <td>Not disclosed</td>\n      <td>Hybrid - Mumbai (All Areas), Kolkata, Hyderaba...</td>\n      <td>Responsibilities As a Data Engineer - Data Gov...</td>\n      <td>aws glue\\npyspark\\naws\\nglue</td>\n      <td>2 Days Ago</td>\n    </tr>\n    <tr>\n      <th>1</th>\n      <td>CN - Comms &amp; Media - Salesforce - Consultant</td>\n      <td>Accenture</td>\n      <td>4.1</td>\n      <td>34572 Reviews</td>\n      <td>6-9 Yrs</td>\n      <td>Not disclosed</td>\n      <td>Mumbai, Hyderabad/Secunderabad, Pune, Gurgaon/...</td>\n      <td>Then, Accenture Strategy and Consulting is the...</td>\n      <td>Business intelligence\\nVisual Force\\nAgile\\nAu...</td>\n      <td>2 Days Ago</td>\n    </tr>\n    <tr>\n      <th>2</th>\n      <td>Technical Program Manager</td>\n      <td>Paytm</td>\n      <td>3.6</td>\n      <td>4059 Reviews</td>\n      <td>6-9 Yrs</td>\n      <td>Not disclosed</td>\n      <td>Hybrid - Mumbai (All Areas), Noida, Pune, Gurg...</td>\n      <td>Program definition and scoping, owning the pro...</td>\n      <td>Program Management\\nJIRA\\ntechnical\\nprogram\\n...</td>\n      <td>2 Days Ago</td>\n    </tr>\n    <tr>\n      <th>3</th>\n      <td>Python developer working on Astronomer Airflow...</td>\n      <td>Hexaware Technologies</td>\n      <td>3.7</td>\n      <td>3371 Reviews</td>\n      <td>4-9 Yrs</td>\n      <td>Not disclosed</td>\n      <td>Hybrid - Mumbai (All Areas), Pune, Chennai, Ba...</td>\n      <td>Scripting experience for data transformation a...</td>\n      <td>Airflow\\nAws Cloud\\nPython Development\\ndevelo...</td>\n      <td>2 Days Ago</td>\n    </tr>\n    <tr>\n      <th>4</th>\n      <td>Urgently looking For Immediate Joiner -Windows...</td>\n      <td>Hexaware Technologies</td>\n      <td>3.7</td>\n      <td>3371 Reviews</td>\n      <td>4-9 Yrs</td>\n      <td>Not disclosed</td>\n      <td>Temp. WFH - Mumbai (All Areas), Navi Mumbai, P...</td>\n      <td>Roles and Responsibilities Prioritize, align a...</td>\n      <td>Powershell\\nvmware\\nTroubleshooting\\nprism\\nui...</td>\n      <td>2 Days Ago</td>\n    </tr>\n  </tbody>\n</table>\n</div>"
     },
     "execution_count": 16,
     "metadata": {},
     "output_type": "execute_result"
    }
   ],
   "source": [
    "data.head(5)"
   ]
  },
  {
   "cell_type": "markdown",
   "id": "631aeb3b",
   "metadata": {
    "papermill": {
     "duration": 0.052809,
     "end_time": "2022-01-26T14:19:46.221289",
     "exception": false,
     "start_time": "2022-01-26T14:19:46.168480",
     "status": "completed"
    },
    "tags": []
   },
   "source": [
    "# Data Pre-Processing\n",
    "\n",
    "An important part of the process is to pre-process the data into usable format for the recommendation system"
   ]
  },
  {
   "cell_type": "code",
   "execution_count": 17,
   "id": "e0df7188",
   "metadata": {
    "execution": {
     "iopub.execute_input": "2022-01-26T14:19:46.339162Z",
     "iopub.status.busy": "2022-01-26T14:19:46.338482Z",
     "iopub.status.idle": "2022-01-26T14:19:46.453299Z",
     "shell.execute_reply": "2022-01-26T14:19:46.453797Z",
     "shell.execute_reply.started": "2022-01-26T12:53:40.943775Z"
    },
    "papermill": {
     "duration": 0.177814,
     "end_time": "2022-01-26T14:19:46.453980",
     "exception": false,
     "start_time": "2022-01-26T14:19:46.276166",
     "status": "completed"
    },
    "tags": []
   },
   "outputs": [
    {
     "name": "stderr",
     "output_type": "stream",
     "text": [
      "/home/universe/PycharmProjects/Coursera-Course-Recommendation-System/ven/lib/python3.7/site-packages/ipykernel_launcher.py:10: FutureWarning: The default value of regex will change from True to False in a future version. In addition, single character regular expressions will *not* be treated as literal strings when regex=True.\n",
      "  # Remove the CWD from sys.path while we load stuff.\n",
      "/home/universe/PycharmProjects/Coursera-Course-Recommendation-System/ven/lib/python3.7/site-packages/ipykernel_launcher.py:11: FutureWarning: The default value of regex will change from True to False in a future version. In addition, single character regular expressions will *not* be treated as literal strings when regex=True.\n",
      "  # This is added back by InteractiveShellApp.init_path()\n",
      "/home/universe/PycharmProjects/Coursera-Course-Recommendation-System/ven/lib/python3.7/site-packages/ipykernel_launcher.py:13: FutureWarning: The default value of regex will change from True to False in a future version. In addition, single character regular expressions will *not* be treated as literal strings when regex=True.\n",
      "  del sys.path[0]\n",
      "/home/universe/PycharmProjects/Coursera-Course-Recommendation-System/ven/lib/python3.7/site-packages/ipykernel_launcher.py:14: FutureWarning: The default value of regex will change from True to False in a future version. In addition, single character regular expressions will *not* be treated as literal strings when regex=True.\n",
      "  \n",
      "/home/universe/PycharmProjects/Coursera-Course-Recommendation-System/ven/lib/python3.7/site-packages/ipykernel_launcher.py:21: FutureWarning: The default value of regex will change from True to False in a future version. In addition, single character regular expressions will *not* be treated as literal strings when regex=True.\n",
      "/home/universe/PycharmProjects/Coursera-Course-Recommendation-System/ven/lib/python3.7/site-packages/ipykernel_launcher.py:22: FutureWarning: The default value of regex will change from True to False in a future version. In addition, single character regular expressions will *not* be treated as literal strings when regex=True.\n"
     ]
    }
   ],
   "source": [
    "# Removing spaces between the words (Lambda funtions can be used as well)\n",
    "\n",
    "data['job_post'] = data['job_post'].str.replace(' ',',')\n",
    "data['job_post'] = data['job_post'].str.replace(',,',',')\n",
    "data['job_post'] = data['job_post'].str.replace(':','')\n",
    "data['job_description'] = data['job_description'].str.replace(' ',',')\n",
    "data['job_description'] = data['job_description'].str.replace(',,',',')\n",
    "data['job_description'] = data['job_description'].str.replace('_','')\n",
    "data['job_description'] = data['job_description'].str.replace(':','')\n",
    "data['job_description'] = data['job_description'].str.replace('(','')\n",
    "data['job_description'] = data['job_description'].str.replace(')','')\n",
    "\n",
    "data['job_location'] = data['job_location'].str.replace('(','')\n",
    "data['job_location'] = data['job_location'].str.replace(')','')\n",
    "data['job_location'] = data['job_location'].str.replace(',','')\n",
    "data['job_location'] = data['job_location'].str.replace('/',' ')\n",
    "data['job_location'] = data['job_location'].str.replace('  ',' ')\n",
    "data['job_location'] = data['job_location'].str.replace('-','')\n",
    "\n",
    "#removing parenthesis from required_skills columns\n",
    "data['required_skills'] = data['required_skills'].str.replace('(','')\n",
    "data['required_skills'] = data['required_skills'].str.replace(')','')\n",
    "data['required_skills'] = data['required_skills'].str.replace('\\n',' ')"
   ]
  },
  {
   "cell_type": "code",
   "execution_count": 18,
   "id": "624470d3",
   "metadata": {
    "execution": {
     "iopub.execute_input": "2022-01-26T14:19:46.566735Z",
     "iopub.status.busy": "2022-01-26T14:19:46.565969Z",
     "iopub.status.idle": "2022-01-26T14:19:46.576143Z",
     "shell.execute_reply": "2022-01-26T14:19:46.576719Z",
     "shell.execute_reply.started": "2022-01-26T12:53:53.653156Z"
    },
    "papermill": {
     "duration": 0.068556,
     "end_time": "2022-01-26T14:19:46.576919",
     "exception": false,
     "start_time": "2022-01-26T14:19:46.508363",
     "status": "completed"
    },
    "tags": []
   },
   "outputs": [
    {
     "data": {
      "text/plain": "                                            job_post                company  \\\n0                                  AWS,Glue,Engineer              Cognizant   \n1       CN,-,Comms,&,Media,-,Salesforce,-,Consultant              Accenture   \n2                          Technical,Program,Manager                  Paytm   \n3  Python,developer,working,on,Astronomer,Airflow...  Hexaware Technologies   \n4  Urgently,looking,For,Immediate,Joiner,-Windows...  Hexaware Technologies   \n\n  company_rating company_review exp_required salary_offered  \\\n0            3.9  31515 Reviews      3-8 Yrs  Not disclosed   \n1            4.1  34572 Reviews      6-9 Yrs  Not disclosed   \n2            3.6   4059 Reviews      6-9 Yrs  Not disclosed   \n3            3.7   3371 Reviews      4-9 Yrs  Not disclosed   \n4            3.7   3371 Reviews      4-9 Yrs  Not disclosed   \n\n                                        job_location  \\\n0  Hybrid  Mumbai All Areas Kolkata Hyderabad Sec...   \n1  Mumbai Hyderabad Secunderabad Pune Gurgaon Gur...   \n2  Hybrid  Mumbai All Areas Noida Pune Gurgaon Gu...   \n3  Hybrid  Mumbai All Areas Pune Chennai Bangalor...   \n4  Temp. WFH  Mumbai All Areas Navi Mumbai Pune C...   \n\n                                     job_description  \\\n0  Responsibilities,As,a,Data,Engineer,-,Data,Gov...   \n1  Then,Accenture,Strategy,and,Consulting,is,the,...   \n2  Program,definition,and,scoping,owning,the,prog...   \n3  Scripting,experience,for,data,transformation,a...   \n4  Roles,and,Responsibilities,Prioritize,align,an...   \n\n                                     required_skills   posted_on  \n0                          aws glue pyspark aws glue  2 Days Ago  \n1  Business intelligence Visual Force Agile Aura ...  2 Days Ago  \n2  Program Management JIRA technical program tech...  2 Days Ago  \n3  Airflow Aws Cloud Python Development developme...  2 Days Ago  \n4  Powershell vmware Troubleshooting prism uipath...  2 Days Ago  ",
      "text/html": "<div>\n<style scoped>\n    .dataframe tbody tr th:only-of-type {\n        vertical-align: middle;\n    }\n\n    .dataframe tbody tr th {\n        vertical-align: top;\n    }\n\n    .dataframe thead th {\n        text-align: right;\n    }\n</style>\n<table border=\"1\" class=\"dataframe\">\n  <thead>\n    <tr style=\"text-align: right;\">\n      <th></th>\n      <th>job_post</th>\n      <th>company</th>\n      <th>company_rating</th>\n      <th>company_review</th>\n      <th>exp_required</th>\n      <th>salary_offered</th>\n      <th>job_location</th>\n      <th>job_description</th>\n      <th>required_skills</th>\n      <th>posted_on</th>\n    </tr>\n  </thead>\n  <tbody>\n    <tr>\n      <th>0</th>\n      <td>AWS,Glue,Engineer</td>\n      <td>Cognizant</td>\n      <td>3.9</td>\n      <td>31515 Reviews</td>\n      <td>3-8 Yrs</td>\n      <td>Not disclosed</td>\n      <td>Hybrid  Mumbai All Areas Kolkata Hyderabad Sec...</td>\n      <td>Responsibilities,As,a,Data,Engineer,-,Data,Gov...</td>\n      <td>aws glue pyspark aws glue</td>\n      <td>2 Days Ago</td>\n    </tr>\n    <tr>\n      <th>1</th>\n      <td>CN,-,Comms,&amp;,Media,-,Salesforce,-,Consultant</td>\n      <td>Accenture</td>\n      <td>4.1</td>\n      <td>34572 Reviews</td>\n      <td>6-9 Yrs</td>\n      <td>Not disclosed</td>\n      <td>Mumbai Hyderabad Secunderabad Pune Gurgaon Gur...</td>\n      <td>Then,Accenture,Strategy,and,Consulting,is,the,...</td>\n      <td>Business intelligence Visual Force Agile Aura ...</td>\n      <td>2 Days Ago</td>\n    </tr>\n    <tr>\n      <th>2</th>\n      <td>Technical,Program,Manager</td>\n      <td>Paytm</td>\n      <td>3.6</td>\n      <td>4059 Reviews</td>\n      <td>6-9 Yrs</td>\n      <td>Not disclosed</td>\n      <td>Hybrid  Mumbai All Areas Noida Pune Gurgaon Gu...</td>\n      <td>Program,definition,and,scoping,owning,the,prog...</td>\n      <td>Program Management JIRA technical program tech...</td>\n      <td>2 Days Ago</td>\n    </tr>\n    <tr>\n      <th>3</th>\n      <td>Python,developer,working,on,Astronomer,Airflow...</td>\n      <td>Hexaware Technologies</td>\n      <td>3.7</td>\n      <td>3371 Reviews</td>\n      <td>4-9 Yrs</td>\n      <td>Not disclosed</td>\n      <td>Hybrid  Mumbai All Areas Pune Chennai Bangalor...</td>\n      <td>Scripting,experience,for,data,transformation,a...</td>\n      <td>Airflow Aws Cloud Python Development developme...</td>\n      <td>2 Days Ago</td>\n    </tr>\n    <tr>\n      <th>4</th>\n      <td>Urgently,looking,For,Immediate,Joiner,-Windows...</td>\n      <td>Hexaware Technologies</td>\n      <td>3.7</td>\n      <td>3371 Reviews</td>\n      <td>4-9 Yrs</td>\n      <td>Not disclosed</td>\n      <td>Temp. WFH  Mumbai All Areas Navi Mumbai Pune C...</td>\n      <td>Roles,and,Responsibilities,Prioritize,align,an...</td>\n      <td>Powershell vmware Troubleshooting prism uipath...</td>\n      <td>2 Days Ago</td>\n    </tr>\n  </tbody>\n</table>\n</div>"
     },
     "execution_count": 18,
     "metadata": {},
     "output_type": "execute_result"
    }
   ],
   "source": [
    "data.head(5)"
   ]
  },
  {
   "cell_type": "markdown",
   "id": "0f7c8162",
   "metadata": {
    "papermill": {
     "duration": 0.054478,
     "end_time": "2022-01-26T14:19:46.687351",
     "exception": false,
     "start_time": "2022-01-26T14:19:46.632873",
     "status": "completed"
    },
    "tags": []
   },
   "source": [
    "job_post"
   ]
  },
  {
   "cell_type": "code",
   "execution_count": 19,
   "id": "7efa10a9",
   "metadata": {
    "execution": {
     "iopub.execute_input": "2022-01-26T14:19:46.805542Z",
     "iopub.status.busy": "2022-01-26T14:19:46.804854Z",
     "iopub.status.idle": "2022-01-26T14:19:46.823188Z",
     "shell.execute_reply": "2022-01-26T14:19:46.822651Z",
     "shell.execute_reply.started": "2022-01-26T12:55:58.319873Z"
    },
    "papermill": {
     "duration": 0.076499,
     "end_time": "2022-01-26T14:19:46.823340",
     "exception": false,
     "start_time": "2022-01-26T14:19:46.746841",
     "status": "completed"
    },
    "tags": []
   },
   "outputs": [],
   "source": [
    "data['tags'] = data['company'] + data['job_post'] + ',' +data['job_description'] + data['required_skills']"
   ]
  },
  {
   "cell_type": "code",
   "execution_count": 20,
   "id": "eee80759",
   "metadata": {
    "execution": {
     "iopub.execute_input": "2022-01-26T14:19:46.937064Z",
     "iopub.status.busy": "2022-01-26T14:19:46.936365Z",
     "iopub.status.idle": "2022-01-26T14:19:46.948262Z",
     "shell.execute_reply": "2022-01-26T14:19:46.948878Z",
     "shell.execute_reply.started": "2022-01-26T12:56:03.509244Z"
    },
    "papermill": {
     "duration": 0.070316,
     "end_time": "2022-01-26T14:19:46.949049",
     "exception": false,
     "start_time": "2022-01-26T14:19:46.878733",
     "status": "completed"
    },
    "tags": []
   },
   "outputs": [
    {
     "data": {
      "text/plain": "                                            job_post                company  \\\n0                                  AWS,Glue,Engineer              Cognizant   \n1       CN,-,Comms,&,Media,-,Salesforce,-,Consultant              Accenture   \n2                          Technical,Program,Manager                  Paytm   \n3  Python,developer,working,on,Astronomer,Airflow...  Hexaware Technologies   \n4  Urgently,looking,For,Immediate,Joiner,-Windows...  Hexaware Technologies   \n\n  company_rating company_review exp_required salary_offered  \\\n0            3.9  31515 Reviews      3-8 Yrs  Not disclosed   \n1            4.1  34572 Reviews      6-9 Yrs  Not disclosed   \n2            3.6   4059 Reviews      6-9 Yrs  Not disclosed   \n3            3.7   3371 Reviews      4-9 Yrs  Not disclosed   \n4            3.7   3371 Reviews      4-9 Yrs  Not disclosed   \n\n                                        job_location  \\\n0  Hybrid  Mumbai All Areas Kolkata Hyderabad Sec...   \n1  Mumbai Hyderabad Secunderabad Pune Gurgaon Gur...   \n2  Hybrid  Mumbai All Areas Noida Pune Gurgaon Gu...   \n3  Hybrid  Mumbai All Areas Pune Chennai Bangalor...   \n4  Temp. WFH  Mumbai All Areas Navi Mumbai Pune C...   \n\n                                     job_description  \\\n0  Responsibilities,As,a,Data,Engineer,-,Data,Gov...   \n1  Then,Accenture,Strategy,and,Consulting,is,the,...   \n2  Program,definition,and,scoping,owning,the,prog...   \n3  Scripting,experience,for,data,transformation,a...   \n4  Roles,and,Responsibilities,Prioritize,align,an...   \n\n                                     required_skills   posted_on  \\\n0                          aws glue pyspark aws glue  2 Days Ago   \n1  Business intelligence Visual Force Agile Aura ...  2 Days Ago   \n2  Program Management JIRA technical program tech...  2 Days Ago   \n3  Airflow Aws Cloud Python Development developme...  2 Days Ago   \n4  Powershell vmware Troubleshooting prism uipath...  2 Days Ago   \n\n                                                tags  \n0  CognizantAWS,Glue,Engineer,Responsibilities,As...  \n1  AccentureCN,-,Comms,&,Media,-,Salesforce,-,Con...  \n2  PaytmTechnical,Program,Manager,Program,definit...  \n3  Hexaware TechnologiesPython,developer,working,...  \n4  Hexaware TechnologiesUrgently,looking,For,Imme...  ",
      "text/html": "<div>\n<style scoped>\n    .dataframe tbody tr th:only-of-type {\n        vertical-align: middle;\n    }\n\n    .dataframe tbody tr th {\n        vertical-align: top;\n    }\n\n    .dataframe thead th {\n        text-align: right;\n    }\n</style>\n<table border=\"1\" class=\"dataframe\">\n  <thead>\n    <tr style=\"text-align: right;\">\n      <th></th>\n      <th>job_post</th>\n      <th>company</th>\n      <th>company_rating</th>\n      <th>company_review</th>\n      <th>exp_required</th>\n      <th>salary_offered</th>\n      <th>job_location</th>\n      <th>job_description</th>\n      <th>required_skills</th>\n      <th>posted_on</th>\n      <th>tags</th>\n    </tr>\n  </thead>\n  <tbody>\n    <tr>\n      <th>0</th>\n      <td>AWS,Glue,Engineer</td>\n      <td>Cognizant</td>\n      <td>3.9</td>\n      <td>31515 Reviews</td>\n      <td>3-8 Yrs</td>\n      <td>Not disclosed</td>\n      <td>Hybrid  Mumbai All Areas Kolkata Hyderabad Sec...</td>\n      <td>Responsibilities,As,a,Data,Engineer,-,Data,Gov...</td>\n      <td>aws glue pyspark aws glue</td>\n      <td>2 Days Ago</td>\n      <td>CognizantAWS,Glue,Engineer,Responsibilities,As...</td>\n    </tr>\n    <tr>\n      <th>1</th>\n      <td>CN,-,Comms,&amp;,Media,-,Salesforce,-,Consultant</td>\n      <td>Accenture</td>\n      <td>4.1</td>\n      <td>34572 Reviews</td>\n      <td>6-9 Yrs</td>\n      <td>Not disclosed</td>\n      <td>Mumbai Hyderabad Secunderabad Pune Gurgaon Gur...</td>\n      <td>Then,Accenture,Strategy,and,Consulting,is,the,...</td>\n      <td>Business intelligence Visual Force Agile Aura ...</td>\n      <td>2 Days Ago</td>\n      <td>AccentureCN,-,Comms,&amp;,Media,-,Salesforce,-,Con...</td>\n    </tr>\n    <tr>\n      <th>2</th>\n      <td>Technical,Program,Manager</td>\n      <td>Paytm</td>\n      <td>3.6</td>\n      <td>4059 Reviews</td>\n      <td>6-9 Yrs</td>\n      <td>Not disclosed</td>\n      <td>Hybrid  Mumbai All Areas Noida Pune Gurgaon Gu...</td>\n      <td>Program,definition,and,scoping,owning,the,prog...</td>\n      <td>Program Management JIRA technical program tech...</td>\n      <td>2 Days Ago</td>\n      <td>PaytmTechnical,Program,Manager,Program,definit...</td>\n    </tr>\n    <tr>\n      <th>3</th>\n      <td>Python,developer,working,on,Astronomer,Airflow...</td>\n      <td>Hexaware Technologies</td>\n      <td>3.7</td>\n      <td>3371 Reviews</td>\n      <td>4-9 Yrs</td>\n      <td>Not disclosed</td>\n      <td>Hybrid  Mumbai All Areas Pune Chennai Bangalor...</td>\n      <td>Scripting,experience,for,data,transformation,a...</td>\n      <td>Airflow Aws Cloud Python Development developme...</td>\n      <td>2 Days Ago</td>\n      <td>Hexaware TechnologiesPython,developer,working,...</td>\n    </tr>\n    <tr>\n      <th>4</th>\n      <td>Urgently,looking,For,Immediate,Joiner,-Windows...</td>\n      <td>Hexaware Technologies</td>\n      <td>3.7</td>\n      <td>3371 Reviews</td>\n      <td>4-9 Yrs</td>\n      <td>Not disclosed</td>\n      <td>Temp. WFH  Mumbai All Areas Navi Mumbai Pune C...</td>\n      <td>Roles,and,Responsibilities,Prioritize,align,an...</td>\n      <td>Powershell vmware Troubleshooting prism uipath...</td>\n      <td>2 Days Ago</td>\n      <td>Hexaware TechnologiesUrgently,looking,For,Imme...</td>\n    </tr>\n  </tbody>\n</table>\n</div>"
     },
     "execution_count": 20,
     "metadata": {},
     "output_type": "execute_result"
    }
   ],
   "source": [
    "data.head(5)"
   ]
  },
  {
   "cell_type": "code",
   "execution_count": 21,
   "id": "66879f0c",
   "metadata": {
    "execution": {
     "iopub.execute_input": "2022-01-26T14:19:47.064568Z",
     "iopub.status.busy": "2022-01-26T14:19:47.063864Z",
     "iopub.status.idle": "2022-01-26T14:19:47.068955Z",
     "shell.execute_reply": "2022-01-26T14:19:47.069577Z",
     "shell.execute_reply.started": "2022-01-26T12:56:19.913202Z"
    },
    "papermill": {
     "duration": 0.064563,
     "end_time": "2022-01-26T14:19:47.069883",
     "exception": false,
     "start_time": "2022-01-26T14:19:47.005320",
     "status": "completed"
    },
    "tags": []
   },
   "outputs": [
    {
     "data": {
      "text/plain": "'AccentureCN,-,Comms,&,Media,-,Salesforce,-,Consultant,Then,Accenture,Strategy,and,Consulting,is,the,right,place,for,you,to,explore,limitless...Business intelligence Visual Force Agile Aura Salesforce demandware management consulting intelligence'"
     },
     "execution_count": 21,
     "metadata": {},
     "output_type": "execute_result"
    }
   ],
   "source": [
    "data['tags'].iloc[1]"
   ]
  },
  {
   "cell_type": "markdown",
   "id": "40ebb711",
   "metadata": {
    "papermill": {
     "duration": 0.055116,
     "end_time": "2022-01-26T14:19:47.180933",
     "exception": false,
     "start_time": "2022-01-26T14:19:47.125817",
     "status": "completed"
    },
    "tags": []
   },
   "source": [
    "# Dataframe to be used"
   ]
  },
  {
   "cell_type": "code",
   "execution_count": 22,
   "id": "b3807261",
   "metadata": {
    "execution": {
     "iopub.execute_input": "2022-01-26T14:19:47.295634Z",
     "iopub.status.busy": "2022-01-26T14:19:47.294976Z",
     "iopub.status.idle": "2022-01-26T14:19:47.300427Z",
     "shell.execute_reply": "2022-01-26T14:19:47.300988Z",
     "shell.execute_reply.started": "2022-01-26T12:56:47.650782Z"
    },
    "papermill": {
     "duration": 0.064683,
     "end_time": "2022-01-26T14:19:47.301174",
     "exception": false,
     "start_time": "2022-01-26T14:19:47.236491",
     "status": "completed"
    },
    "tags": []
   },
   "outputs": [],
   "source": [
    "new_df = data[['job_post', 'company', 'job_description', 'required_skills', 'posted_on', 'tags']]"
   ]
  },
  {
   "cell_type": "code",
   "execution_count": 23,
   "id": "e4f516b3",
   "metadata": {
    "execution": {
     "iopub.execute_input": "2022-01-26T14:19:47.423897Z",
     "iopub.status.busy": "2022-01-26T14:19:47.423181Z",
     "iopub.status.idle": "2022-01-26T14:19:47.425800Z",
     "shell.execute_reply": "2022-01-26T14:19:47.426278Z",
     "shell.execute_reply.started": "2022-01-26T12:56:53.601235Z"
    },
    "papermill": {
     "duration": 0.069032,
     "end_time": "2022-01-26T14:19:47.426446",
     "exception": false,
     "start_time": "2022-01-26T14:19:47.357414",
     "status": "completed"
    },
    "tags": []
   },
   "outputs": [
    {
     "data": {
      "text/plain": "                                            job_post                company  \\\n0                                  AWS,Glue,Engineer              Cognizant   \n1       CN,-,Comms,&,Media,-,Salesforce,-,Consultant              Accenture   \n2                          Technical,Program,Manager                  Paytm   \n3  Python,developer,working,on,Astronomer,Airflow...  Hexaware Technologies   \n4  Urgently,looking,For,Immediate,Joiner,-Windows...  Hexaware Technologies   \n\n                                     job_description  \\\n0  Responsibilities,As,a,Data,Engineer,-,Data,Gov...   \n1  Then,Accenture,Strategy,and,Consulting,is,the,...   \n2  Program,definition,and,scoping,owning,the,prog...   \n3  Scripting,experience,for,data,transformation,a...   \n4  Roles,and,Responsibilities,Prioritize,align,an...   \n\n                                     required_skills   posted_on  \\\n0                          aws glue pyspark aws glue  2 Days Ago   \n1  Business intelligence Visual Force Agile Aura ...  2 Days Ago   \n2  Program Management JIRA technical program tech...  2 Days Ago   \n3  Airflow Aws Cloud Python Development developme...  2 Days Ago   \n4  Powershell vmware Troubleshooting prism uipath...  2 Days Ago   \n\n                                                tags  \n0  CognizantAWS,Glue,Engineer,Responsibilities,As...  \n1  AccentureCN,-,Comms,&,Media,-,Salesforce,-,Con...  \n2  PaytmTechnical,Program,Manager,Program,definit...  \n3  Hexaware TechnologiesPython,developer,working,...  \n4  Hexaware TechnologiesUrgently,looking,For,Imme...  ",
      "text/html": "<div>\n<style scoped>\n    .dataframe tbody tr th:only-of-type {\n        vertical-align: middle;\n    }\n\n    .dataframe tbody tr th {\n        vertical-align: top;\n    }\n\n    .dataframe thead th {\n        text-align: right;\n    }\n</style>\n<table border=\"1\" class=\"dataframe\">\n  <thead>\n    <tr style=\"text-align: right;\">\n      <th></th>\n      <th>job_post</th>\n      <th>company</th>\n      <th>job_description</th>\n      <th>required_skills</th>\n      <th>posted_on</th>\n      <th>tags</th>\n    </tr>\n  </thead>\n  <tbody>\n    <tr>\n      <th>0</th>\n      <td>AWS,Glue,Engineer</td>\n      <td>Cognizant</td>\n      <td>Responsibilities,As,a,Data,Engineer,-,Data,Gov...</td>\n      <td>aws glue pyspark aws glue</td>\n      <td>2 Days Ago</td>\n      <td>CognizantAWS,Glue,Engineer,Responsibilities,As...</td>\n    </tr>\n    <tr>\n      <th>1</th>\n      <td>CN,-,Comms,&amp;,Media,-,Salesforce,-,Consultant</td>\n      <td>Accenture</td>\n      <td>Then,Accenture,Strategy,and,Consulting,is,the,...</td>\n      <td>Business intelligence Visual Force Agile Aura ...</td>\n      <td>2 Days Ago</td>\n      <td>AccentureCN,-,Comms,&amp;,Media,-,Salesforce,-,Con...</td>\n    </tr>\n    <tr>\n      <th>2</th>\n      <td>Technical,Program,Manager</td>\n      <td>Paytm</td>\n      <td>Program,definition,and,scoping,owning,the,prog...</td>\n      <td>Program Management JIRA technical program tech...</td>\n      <td>2 Days Ago</td>\n      <td>PaytmTechnical,Program,Manager,Program,definit...</td>\n    </tr>\n    <tr>\n      <th>3</th>\n      <td>Python,developer,working,on,Astronomer,Airflow...</td>\n      <td>Hexaware Technologies</td>\n      <td>Scripting,experience,for,data,transformation,a...</td>\n      <td>Airflow Aws Cloud Python Development developme...</td>\n      <td>2 Days Ago</td>\n      <td>Hexaware TechnologiesPython,developer,working,...</td>\n    </tr>\n    <tr>\n      <th>4</th>\n      <td>Urgently,looking,For,Immediate,Joiner,-Windows...</td>\n      <td>Hexaware Technologies</td>\n      <td>Roles,and,Responsibilities,Prioritize,align,an...</td>\n      <td>Powershell vmware Troubleshooting prism uipath...</td>\n      <td>2 Days Ago</td>\n      <td>Hexaware TechnologiesUrgently,looking,For,Imme...</td>\n    </tr>\n  </tbody>\n</table>\n</div>"
     },
     "execution_count": 23,
     "metadata": {},
     "output_type": "execute_result"
    }
   ],
   "source": [
    "new_df.head(5)"
   ]
  },
  {
   "cell_type": "code",
   "execution_count": 24,
   "id": "f716f14c",
   "metadata": {
    "execution": {
     "iopub.execute_input": "2022-01-26T14:19:47.543759Z",
     "iopub.status.busy": "2022-01-26T14:19:47.543010Z",
     "iopub.status.idle": "2022-01-26T14:19:47.568840Z",
     "shell.execute_reply": "2022-01-26T14:19:47.569353Z",
     "shell.execute_reply.started": "2022-01-26T12:57:29.758901Z"
    },
    "papermill": {
     "duration": 0.08545,
     "end_time": "2022-01-26T14:19:47.569554",
     "exception": false,
     "start_time": "2022-01-26T14:19:47.484104",
     "status": "completed"
    },
    "tags": []
   },
   "outputs": [
    {
     "name": "stderr",
     "output_type": "stream",
     "text": [
      "/home/universe/PycharmProjects/Coursera-Course-Recommendation-System/ven/lib/python3.7/site-packages/ipykernel_launcher.py:1: SettingWithCopyWarning: \n",
      "A value is trying to be set on a copy of a slice from a DataFrame.\n",
      "Try using .loc[row_indexer,col_indexer] = value instead\n",
      "\n",
      "See the caveats in the documentation: https://pandas.pydata.org/pandas-docs/stable/user_guide/indexing.html#returning-a-view-versus-a-copy\n",
      "  \"\"\"Entry point for launching an IPython kernel.\n"
     ]
    }
   ],
   "source": [
    "new_df['tags'] = data['tags'].str.replace(',',' ')"
   ]
  },
  {
   "cell_type": "code",
   "execution_count": 25,
   "id": "38d9e830",
   "metadata": {
    "execution": {
     "iopub.execute_input": "2022-01-26T14:19:47.688611Z",
     "iopub.status.busy": "2022-01-26T14:19:47.687894Z",
     "iopub.status.idle": "2022-01-26T14:19:47.695125Z",
     "shell.execute_reply": "2022-01-26T14:19:47.695760Z",
     "shell.execute_reply.started": "2022-01-26T12:58:08.296915Z"
    },
    "papermill": {
     "duration": 0.069347,
     "end_time": "2022-01-26T14:19:47.695936",
     "exception": false,
     "start_time": "2022-01-26T14:19:47.626589",
     "status": "completed"
    },
    "tags": []
   },
   "outputs": [
    {
     "name": "stderr",
     "output_type": "stream",
     "text": [
      "/home/universe/PycharmProjects/Coursera-Course-Recommendation-System/ven/lib/python3.7/site-packages/ipykernel_launcher.py:1: SettingWithCopyWarning: \n",
      "A value is trying to be set on a copy of a slice from a DataFrame.\n",
      "Try using .loc[row_indexer,col_indexer] = value instead\n",
      "\n",
      "See the caveats in the documentation: https://pandas.pydata.org/pandas-docs/stable/user_guide/indexing.html#returning-a-view-versus-a-copy\n",
      "  \"\"\"Entry point for launching an IPython kernel.\n"
     ]
    }
   ],
   "source": [
    "new_df['job_post'] = data['job_post'].str.replace(',',' ')"
   ]
  },
  {
   "cell_type": "code",
   "execution_count": 26,
   "id": "9c65075a",
   "metadata": {
    "execution": {
     "iopub.execute_input": "2022-01-26T14:19:47.949931Z",
     "iopub.status.busy": "2022-01-26T14:19:47.948954Z",
     "iopub.status.idle": "2022-01-26T14:19:47.977325Z",
     "shell.execute_reply": "2022-01-26T14:19:47.977969Z",
     "shell.execute_reply.started": "2022-01-26T12:58:52.731609Z"
    },
    "papermill": {
     "duration": 0.090638,
     "end_time": "2022-01-26T14:19:47.978152",
     "exception": false,
     "start_time": "2022-01-26T14:19:47.887514",
     "status": "completed"
    },
    "tags": []
   },
   "outputs": [
    {
     "name": "stderr",
     "output_type": "stream",
     "text": [
      "/home/universe/PycharmProjects/Coursera-Course-Recommendation-System/ven/lib/python3.7/site-packages/ipykernel_launcher.py:1: SettingWithCopyWarning: \n",
      "A value is trying to be set on a copy of a slice from a DataFrame.\n",
      "Try using .loc[row_indexer,col_indexer] = value instead\n",
      "\n",
      "See the caveats in the documentation: https://pandas.pydata.org/pandas-docs/stable/user_guide/indexing.html#returning-a-view-versus-a-copy\n",
      "  \"\"\"Entry point for launching an IPython kernel.\n"
     ]
    }
   ],
   "source": [
    "new_df['tags'] = new_df['tags'].apply(lambda x:x.lower()) #lower casing the tags column"
   ]
  },
  {
   "cell_type": "code",
   "execution_count": 27,
   "id": "b2bc5584",
   "metadata": {
    "execution": {
     "iopub.execute_input": "2022-01-26T14:19:48.112723Z",
     "iopub.status.busy": "2022-01-26T14:19:48.112045Z",
     "iopub.status.idle": "2022-01-26T14:19:48.121076Z",
     "shell.execute_reply": "2022-01-26T14:19:48.121592Z",
     "shell.execute_reply.started": "2022-01-26T12:58:55.635891Z"
    },
    "papermill": {
     "duration": 0.069732,
     "end_time": "2022-01-26T14:19:48.121783",
     "exception": false,
     "start_time": "2022-01-26T14:19:48.052051",
     "status": "completed"
    },
    "tags": []
   },
   "outputs": [
    {
     "data": {
      "text/plain": "                                            job_post                company  \\\n0                                  AWS Glue Engineer              Cognizant   \n1       CN - Comms & Media - Salesforce - Consultant              Accenture   \n2                          Technical Program Manager                  Paytm   \n3  Python developer working on Astronomer Airflow...  Hexaware Technologies   \n4  Urgently looking For Immediate Joiner -Windows...  Hexaware Technologies   \n\n                                     job_description  \\\n0  Responsibilities,As,a,Data,Engineer,-,Data,Gov...   \n1  Then,Accenture,Strategy,and,Consulting,is,the,...   \n2  Program,definition,and,scoping,owning,the,prog...   \n3  Scripting,experience,for,data,transformation,a...   \n4  Roles,and,Responsibilities,Prioritize,align,an...   \n\n                                     required_skills   posted_on  \\\n0                          aws glue pyspark aws glue  2 Days Ago   \n1  Business intelligence Visual Force Agile Aura ...  2 Days Ago   \n2  Program Management JIRA technical program tech...  2 Days Ago   \n3  Airflow Aws Cloud Python Development developme...  2 Days Ago   \n4  Powershell vmware Troubleshooting prism uipath...  2 Days Ago   \n\n                                                tags  \n0  cognizantaws glue engineer responsibilities as...  \n1  accenturecn - comms & media - salesforce - con...  \n2  paytmtechnical program manager program definit...  \n3  hexaware technologiespython developer working ...  \n4  hexaware technologiesurgently looking for imme...  ",
      "text/html": "<div>\n<style scoped>\n    .dataframe tbody tr th:only-of-type {\n        vertical-align: middle;\n    }\n\n    .dataframe tbody tr th {\n        vertical-align: top;\n    }\n\n    .dataframe thead th {\n        text-align: right;\n    }\n</style>\n<table border=\"1\" class=\"dataframe\">\n  <thead>\n    <tr style=\"text-align: right;\">\n      <th></th>\n      <th>job_post</th>\n      <th>company</th>\n      <th>job_description</th>\n      <th>required_skills</th>\n      <th>posted_on</th>\n      <th>tags</th>\n    </tr>\n  </thead>\n  <tbody>\n    <tr>\n      <th>0</th>\n      <td>AWS Glue Engineer</td>\n      <td>Cognizant</td>\n      <td>Responsibilities,As,a,Data,Engineer,-,Data,Gov...</td>\n      <td>aws glue pyspark aws glue</td>\n      <td>2 Days Ago</td>\n      <td>cognizantaws glue engineer responsibilities as...</td>\n    </tr>\n    <tr>\n      <th>1</th>\n      <td>CN - Comms &amp; Media - Salesforce - Consultant</td>\n      <td>Accenture</td>\n      <td>Then,Accenture,Strategy,and,Consulting,is,the,...</td>\n      <td>Business intelligence Visual Force Agile Aura ...</td>\n      <td>2 Days Ago</td>\n      <td>accenturecn - comms &amp; media - salesforce - con...</td>\n    </tr>\n    <tr>\n      <th>2</th>\n      <td>Technical Program Manager</td>\n      <td>Paytm</td>\n      <td>Program,definition,and,scoping,owning,the,prog...</td>\n      <td>Program Management JIRA technical program tech...</td>\n      <td>2 Days Ago</td>\n      <td>paytmtechnical program manager program definit...</td>\n    </tr>\n    <tr>\n      <th>3</th>\n      <td>Python developer working on Astronomer Airflow...</td>\n      <td>Hexaware Technologies</td>\n      <td>Scripting,experience,for,data,transformation,a...</td>\n      <td>Airflow Aws Cloud Python Development developme...</td>\n      <td>2 Days Ago</td>\n      <td>hexaware technologiespython developer working ...</td>\n    </tr>\n    <tr>\n      <th>4</th>\n      <td>Urgently looking For Immediate Joiner -Windows...</td>\n      <td>Hexaware Technologies</td>\n      <td>Roles,and,Responsibilities,Prioritize,align,an...</td>\n      <td>Powershell vmware Troubleshooting prism uipath...</td>\n      <td>2 Days Ago</td>\n      <td>hexaware technologiesurgently looking for imme...</td>\n    </tr>\n  </tbody>\n</table>\n</div>"
     },
     "execution_count": 27,
     "metadata": {},
     "output_type": "execute_result"
    }
   ],
   "source": [
    "new_df.head(5)"
   ]
  },
  {
   "cell_type": "code",
   "execution_count": 28,
   "id": "66db7225",
   "metadata": {
    "execution": {
     "iopub.execute_input": "2022-01-26T14:19:48.240478Z",
     "iopub.status.busy": "2022-01-26T14:19:48.239827Z",
     "iopub.status.idle": "2022-01-26T14:19:48.244379Z",
     "shell.execute_reply": "2022-01-26T14:19:48.244875Z",
     "shell.execute_reply.started": "2022-01-26T12:59:36.995288Z"
    },
    "papermill": {
     "duration": 0.065828,
     "end_time": "2022-01-26T14:19:48.245060",
     "exception": false,
     "start_time": "2022-01-26T14:19:48.179232",
     "status": "completed"
    },
    "tags": []
   },
   "outputs": [
    {
     "data": {
      "text/plain": "(5796, 6)"
     },
     "execution_count": 28,
     "metadata": {},
     "output_type": "execute_result"
    }
   ],
   "source": [
    "new_df.shape #5796 jobs with tags and 6 columns"
   ]
  },
  {
   "cell_type": "markdown",
   "id": "4a5083c5",
   "metadata": {
    "papermill": {
     "duration": 0.060035,
     "end_time": "2022-01-26T14:19:48.362969",
     "exception": false,
     "start_time": "2022-01-26T14:19:48.302934",
     "status": "completed"
    },
    "tags": []
   },
   "source": [
    "# Text Vectorization"
   ]
  },
  {
   "cell_type": "code",
   "execution_count": 29,
   "outputs": [],
   "source": [
    "from sklearn.feature_extraction.text import CountVectorizer"
   ],
   "metadata": {
    "collapsed": false
   },
   "id": "e8ae56b95c0e1bcd"
  },
  {
   "cell_type": "code",
   "execution_count": 30,
   "id": "e6372627",
   "metadata": {
    "execution": {
     "iopub.execute_input": "2022-01-26T14:19:48.746790Z",
     "iopub.status.busy": "2022-01-26T14:19:48.746084Z",
     "iopub.status.idle": "2022-01-26T14:19:48.748607Z",
     "shell.execute_reply": "2022-01-26T14:19:48.748074Z",
     "shell.execute_reply.started": "2022-01-26T13:00:25.765271Z"
    },
    "papermill": {
     "duration": 0.06615,
     "end_time": "2022-01-26T14:19:48.748745",
     "exception": false,
     "start_time": "2022-01-26T14:19:48.682595",
     "status": "completed"
    },
    "tags": []
   },
   "outputs": [],
   "source": [
    "cv = CountVectorizer(max_features=5000,stop_words='english')"
   ]
  },
  {
   "cell_type": "code",
   "execution_count": 31,
   "id": "7d43550e",
   "metadata": {
    "execution": {
     "iopub.execute_input": "2022-01-26T14:19:48.868706Z",
     "iopub.status.busy": "2022-01-26T14:19:48.868015Z",
     "iopub.status.idle": "2022-01-26T14:19:49.836960Z",
     "shell.execute_reply": "2022-01-26T14:19:49.837458Z",
     "shell.execute_reply.started": "2022-01-26T13:00:30.470945Z"
    },
    "papermill": {
     "duration": 1.030812,
     "end_time": "2022-01-26T14:19:49.837694",
     "exception": false,
     "start_time": "2022-01-26T14:19:48.806882",
     "status": "completed"
    },
    "tags": []
   },
   "outputs": [],
   "source": [
    "vectors = cv.fit_transform(new_df['tags']).toarray()"
   ]
  },
  {
   "cell_type": "markdown",
   "id": "0cfa085e",
   "metadata": {
    "papermill": {
     "duration": 0.059295,
     "end_time": "2022-01-26T14:19:49.956538",
     "exception": false,
     "start_time": "2022-01-26T14:19:49.897243",
     "status": "completed"
    },
    "tags": []
   },
   "source": [
    "# Stemming Process"
   ]
  },
  {
   "cell_type": "code",
   "execution_count": 32,
   "outputs": [],
   "source": [
    "import nltk #for stemming process"
   ],
   "metadata": {
    "collapsed": false
   },
   "id": "a52edca3818cf61"
  },
  {
   "cell_type": "code",
   "execution_count": 33,
   "id": "50725a4b",
   "metadata": {
    "execution": {
     "iopub.execute_input": "2022-01-26T14:19:50.844107Z",
     "iopub.status.busy": "2022-01-26T14:19:50.843400Z",
     "iopub.status.idle": "2022-01-26T14:19:50.847403Z",
     "shell.execute_reply": "2022-01-26T14:19:50.847932Z",
     "shell.execute_reply.started": "2022-01-26T13:00:55.372687Z"
    },
    "papermill": {
     "duration": 0.066187,
     "end_time": "2022-01-26T14:19:50.848117",
     "exception": false,
     "start_time": "2022-01-26T14:19:50.781930",
     "status": "completed"
    },
    "tags": []
   },
   "outputs": [],
   "source": [
    "from nltk.stem.porter import PorterStemmer\n",
    "ps = PorterStemmer()"
   ]
  },
  {
   "cell_type": "code",
   "execution_count": 34,
   "id": "9710abff",
   "metadata": {
    "execution": {
     "iopub.execute_input": "2022-01-26T14:19:50.970441Z",
     "iopub.status.busy": "2022-01-26T14:19:50.969372Z",
     "iopub.status.idle": "2022-01-26T14:19:50.974055Z",
     "shell.execute_reply": "2022-01-26T14:19:50.974518Z",
     "shell.execute_reply.started": "2022-01-26T13:01:26.727138Z"
    },
    "papermill": {
     "duration": 0.067833,
     "end_time": "2022-01-26T14:19:50.974701",
     "exception": false,
     "start_time": "2022-01-26T14:19:50.906868",
     "status": "completed"
    },
    "tags": []
   },
   "outputs": [],
   "source": [
    "#defining the stemming function\n",
    "def stem(text):\n",
    "    y=[]\n",
    "    \n",
    "    for i in text.split():\n",
    "        y.append(ps.stem(i))\n",
    "    \n",
    "    return \" \".join(y)"
   ]
  },
  {
   "cell_type": "code",
   "execution_count": 35,
   "id": "51c560be",
   "metadata": {
    "execution": {
     "iopub.execute_input": "2022-01-26T14:19:51.096458Z",
     "iopub.status.busy": "2022-01-26T14:19:51.095435Z",
     "iopub.status.idle": "2022-01-26T14:20:09.833321Z",
     "shell.execute_reply": "2022-01-26T14:20:09.834233Z",
     "shell.execute_reply.started": "2022-01-26T13:02:02.700396Z"
    },
    "papermill": {
     "duration": 18.800875,
     "end_time": "2022-01-26T14:20:09.834414",
     "exception": false,
     "start_time": "2022-01-26T14:19:51.033539",
     "status": "completed"
    },
    "tags": []
   },
   "outputs": [
    {
     "name": "stderr",
     "output_type": "stream",
     "text": [
      "/home/universe/PycharmProjects/Coursera-Course-Recommendation-System/ven/lib/python3.7/site-packages/ipykernel_launcher.py:1: SettingWithCopyWarning: \n",
      "A value is trying to be set on a copy of a slice from a DataFrame.\n",
      "Try using .loc[row_indexer,col_indexer] = value instead\n",
      "\n",
      "See the caveats in the documentation: https://pandas.pydata.org/pandas-docs/stable/user_guide/indexing.html#returning-a-view-versus-a-copy\n",
      "  \"\"\"Entry point for launching an IPython kernel.\n"
     ]
    }
   ],
   "source": [
    "new_df['tags'] = new_df['tags'].apply(stem) #applying stemming on the tags column"
   ]
  },
  {
   "cell_type": "markdown",
   "id": "e6ee86c9",
   "metadata": {
    "papermill": {
     "duration": 0.059879,
     "end_time": "2022-01-26T14:20:09.952432",
     "exception": false,
     "start_time": "2022-01-26T14:20:09.892553",
     "status": "completed"
    },
    "tags": []
   },
   "source": [
    "# Similarity Measure "
   ]
  },
  {
   "cell_type": "code",
   "execution_count": 36,
   "id": "9b4f80e4",
   "metadata": {
    "execution": {
     "iopub.execute_input": "2022-01-26T14:20:10.075324Z",
     "iopub.status.busy": "2022-01-26T14:20:10.074250Z",
     "iopub.status.idle": "2022-01-26T14:20:10.078349Z",
     "shell.execute_reply": "2022-01-26T14:20:10.078920Z",
     "shell.execute_reply.started": "2022-01-26T13:02:27.946429Z"
    },
    "papermill": {
     "duration": 0.067769,
     "end_time": "2022-01-26T14:20:10.079103",
     "exception": false,
     "start_time": "2022-01-26T14:20:10.011334",
     "status": "completed"
    },
    "tags": []
   },
   "outputs": [],
   "source": [
    "from sklearn.metrics.pairwise import cosine_similarity"
   ]
  },
  {
   "cell_type": "code",
   "execution_count": 37,
   "id": "26fcc651",
   "metadata": {
    "execution": {
     "iopub.execute_input": "2022-01-26T14:20:10.201244Z",
     "iopub.status.busy": "2022-01-26T14:20:10.200570Z",
     "iopub.status.idle": "2022-01-26T14:20:11.472233Z",
     "shell.execute_reply": "2022-01-26T14:20:11.473186Z",
     "shell.execute_reply.started": "2022-01-26T13:02:34.205466Z"
    },
    "papermill": {
     "duration": 1.335405,
     "end_time": "2022-01-26T14:20:11.473497",
     "exception": false,
     "start_time": "2022-01-26T14:20:10.138092",
     "status": "completed"
    },
    "tags": []
   },
   "outputs": [],
   "source": [
    "similarity = cosine_similarity(vectors)"
   ]
  },
  {
   "cell_type": "markdown",
   "id": "100bd489",
   "metadata": {
    "papermill": {
     "duration": 0.059252,
     "end_time": "2022-01-26T14:20:11.619088",
     "exception": false,
     "start_time": "2022-01-26T14:20:11.559836",
     "status": "completed"
    },
    "tags": []
   },
   "source": [
    "# Recommendation Function"
   ]
  },
  {
   "cell_type": "code",
   "execution_count": 38,
   "id": "b0e15b2b",
   "metadata": {
    "execution": {
     "iopub.execute_input": "2022-01-26T14:20:11.745691Z",
     "iopub.status.busy": "2022-01-26T14:20:11.744935Z",
     "iopub.status.idle": "2022-01-26T14:20:11.746394Z",
     "shell.execute_reply": "2022-01-26T14:20:11.746994Z",
     "shell.execute_reply.started": "2022-01-26T13:03:26.756125Z"
    },
    "papermill": {
     "duration": 0.068387,
     "end_time": "2022-01-26T14:20:11.747173",
     "exception": false,
     "start_time": "2022-01-26T14:20:11.678786",
     "status": "completed"
    },
    "tags": []
   },
   "outputs": [],
   "source": [
    "def recommend(job):\n",
    "    print('new_df:\\n', new_df)\n",
    "    job_index = new_df[new_df['job_post'] == job].index[0]\n",
    "    print('job_index: ', job_index)\n",
    "    distances = similarity[job_index]\n",
    "    jobs_list = sorted(list(enumerate(distances)),reverse=True, key=lambda x:x[1])[1:7]\n",
    "    \n",
    "    for i in jobs_list:\n",
    "        print(new_df.iloc[i[0]].job_post)"
   ]
  },
  {
   "cell_type": "code",
   "execution_count": 39,
   "id": "0ba0466e",
   "metadata": {
    "execution": {
     "iopub.execute_input": "2022-01-26T14:20:11.872210Z",
     "iopub.status.busy": "2022-01-26T14:20:11.871269Z",
     "iopub.status.idle": "2022-01-26T14:20:11.884642Z",
     "shell.execute_reply": "2022-01-26T14:20:11.885341Z",
     "shell.execute_reply.started": "2022-01-26T13:03:28.042547Z"
    },
    "papermill": {
     "duration": 0.076619,
     "end_time": "2022-01-26T14:20:11.885608",
     "exception": false,
     "start_time": "2022-01-26T14:20:11.808989",
     "status": "completed"
    },
    "tags": []
   },
   "outputs": [
    {
     "name": "stdout",
     "output_type": "stream",
     "text": [
      "new_df:\n",
      "                                                job_post  \\\n",
      "0                                     AWS Glue Engineer   \n",
      "1          CN - Comms & Media - Salesforce - Consultant   \n",
      "2                             Technical Program Manager   \n",
      "3     Python developer working on Astronomer Airflow...   \n",
      "4     Urgently looking For Immediate Joiner -Windows...   \n",
      "...                                                 ...   \n",
      "5791                                Scheduling Engineer   \n",
      "5792                                 Reservoir Engineer   \n",
      "5793                   Reliability Lead Instrumentation   \n",
      "5794         Reliability Lead Engineer  Instrumentation   \n",
      "5795     Reciprocating Compressor Auxiliary Design Lead   \n",
      "\n",
      "                                                company  \\\n",
      "0                                             Cognizant   \n",
      "1                                             Accenture   \n",
      "2                                                 Paytm   \n",
      "3                                 Hexaware Technologies   \n",
      "4                                 Hexaware Technologies   \n",
      "...                                                 ...   \n",
      "5791  Quality Engineering Software Technologies Pvt....   \n",
      "5792  Quality Engineering Software Technologies Pvt....   \n",
      "5793  Quality Engineering Software Technologies Pvt....   \n",
      "5794  Quality Engineering Software Technologies Pvt....   \n",
      "5795  Quality Engineering Software Technologies Pvt....   \n",
      "\n",
      "                                        job_description  \\\n",
      "0     Responsibilities,As,a,Data,Engineer,-,Data,Gov...   \n",
      "1     Then,Accenture,Strategy,and,Consulting,is,the,...   \n",
      "2     Program,definition,and,scoping,owning,the,prog...   \n",
      "3     Scripting,experience,for,data,transformation,a...   \n",
      "4     Roles,and,Responsibilities,Prioritize,align,an...   \n",
      "...                                                 ...   \n",
      "5791  .,Be,the,Technical,person,by,understanding,the...   \n",
      "5792  Able,to,work,in,shift,hours,Required,Skills,Te...   \n",
      "5793  Instrumentation,/Process,Engineering,Reviewing...   \n",
      "5794  Instrumentation,/Process,Engineering,Reviewing...   \n",
      "5795  Mechanical,Engineer,with,8,years,of,experience...   \n",
      "\n",
      "                                        required_skills     posted_on  \\\n",
      "0                             aws glue pyspark aws glue    2 Days Ago   \n",
      "1     Business intelligence Visual Force Agile Aura ...    2 Days Ago   \n",
      "2     Program Management JIRA technical program tech...    2 Days Ago   \n",
      "3     Airflow Aws Cloud Python Development developme...    2 Days Ago   \n",
      "4     Powershell vmware Troubleshooting prism uipath...    2 Days Ago   \n",
      "...                                                 ...           ...   \n",
      "5791  scheduling procurement heat exchangers monitor...  30+ Days Ago   \n",
      "5792  eclipse monitoring analysis engineering servic...  30+ Days Ago   \n",
      "5793  valves breakdown maintenance predictive instru...  30+ Days Ago   \n",
      "5794  breakdown engineering instrumentation process ...  30+ Days Ago   \n",
      "5795  management modeling reciprocating engineering ...  30+ Days Ago   \n",
      "\n",
      "                                                   tags  \n",
      "0     cognizantaw glue engin respons as a data engin...  \n",
      "1     accenturecn - comm & media - salesforc - consu...  \n",
      "2     paytmtechn program manag program definit and s...  \n",
      "3     hexawar technologiespython develop work on ast...  \n",
      "4     hexawar technologiesurg look for immedi joiner...  \n",
      "...                                                 ...  \n",
      "5791  qualiti engin softwar technolog pvt. ltd.sched...  \n",
      "5792  qualiti engin softwar technolog pvt. ltd.reser...  \n",
      "5793  qualiti engin softwar technolog pvt. ltd.relia...  \n",
      "5794  qualiti engin softwar technolog pvt. ltd.relia...  \n",
      "5795  qualiti engin softwar technolog pvt. ltd.recip...  \n",
      "\n",
      "[5796 rows x 6 columns]\n",
      "job_index:  790\n",
      "Software Cloud Developer\n",
      "Software Developer\n",
      "Software Development Engineer 1\n",
      "Senior Python Developer\n",
      "Software Developer\n",
      "Sr. Solution Architect GCP\n"
     ]
    }
   ],
   "source": [
    "recommend('Software Developer')"
   ]
  },
  {
   "cell_type": "markdown",
   "source": [],
   "metadata": {
    "collapsed": false
   },
   "id": "254e440256a42f74"
  },
  {
   "cell_type": "markdown",
   "id": "973c1cdf",
   "metadata": {
    "papermill": {
     "duration": 0.060412,
     "end_time": "2022-01-26T14:20:12.130219",
     "exception": false,
     "start_time": "2022-01-26T14:20:12.069807",
     "status": "completed"
    },
    "tags": []
   },
   "source": [
    "# Exporting the Model"
   ]
  },
  {
   "cell_type": "code",
   "execution_count": 40,
   "id": "949dc95b",
   "metadata": {
    "execution": {
     "iopub.execute_input": "2022-01-26T14:20:12.253179Z",
     "iopub.status.busy": "2022-01-26T14:20:12.252427Z",
     "iopub.status.idle": "2022-01-26T14:20:12.255671Z",
     "shell.execute_reply": "2022-01-26T14:20:12.256173Z",
     "shell.execute_reply.started": "2022-01-26T13:04:30.184632Z"
    },
    "papermill": {
     "duration": 0.066666,
     "end_time": "2022-01-26T14:20:12.256353",
     "exception": false,
     "start_time": "2022-01-26T14:20:12.189687",
     "status": "completed"
    },
    "tags": []
   },
   "outputs": [
    {
     "name": "stderr",
     "output_type": "stream",
     "text": [
      "/home/universe/PycharmProjects/Coursera-Course-Recommendation-System/ven/lib/python3.7/site-packages/pandas/core/generic.py:2718: PerformanceWarning: \n",
      "your performance may suffer as PyTables will pickle object types that it cannot\n",
      "map directly to c-types [inferred_type->mixed,key->block0_values] [items->Index(['job_post', 'company', 'job_description', 'required_skills',\n",
      "       'posted_on', 'tags'],\n",
      "      dtype='object')]\n",
      "\n",
      "  encoding=encoding,\n"
     ]
    }
   ],
   "source": [
    "import h5py\n",
    "import tables\n",
    "\n",
    "with h5py.File('models/jobs.hdf5', 'w') as f:\n",
    "    dset = f.create_dataset(\"similarity\", data=similarity)\n",
    "    f.close()\n",
    "\n",
    "new_df.to_hdf('models/jobs.hdf5', 'jobs', mode='a')\n",
    "\n",
    "# with h5py.File('models/jobs-list.hdf5', 'w') as f:\n",
    "#     dset2 = f.create_dataset(\"default\", data=new_df.to_dict())\n",
    "\n",
    "# with h5py.File('models/jobs.hdf5', 'w') as f:\n",
    "#     dset3 = f.create_dataset(\"default\", data=new_df)"
   ]
  },
  {
   "cell_type": "code",
   "execution_count": 41,
   "outputs": [],
   "source": [
    "# import pickle"
   ],
   "metadata": {
    "collapsed": false
   },
   "id": "c95c12565c77895a"
  },
  {
   "cell_type": "code",
   "execution_count": 42,
   "id": "6c7ef9d3",
   "metadata": {
    "execution": {
     "iopub.execute_input": "2022-01-26T14:20:12.386331Z",
     "iopub.status.busy": "2022-01-26T14:20:12.385507Z",
     "iopub.status.idle": "2022-01-26T14:20:12.388317Z",
     "shell.execute_reply": "2022-01-26T14:20:12.388854Z",
     "shell.execute_reply.started": "2022-01-26T13:05:01.974915Z"
    },
    "papermill": {
     "duration": 0.068209,
     "end_time": "2022-01-26T14:20:12.389043",
     "exception": false,
     "start_time": "2022-01-26T14:20:12.320834",
     "status": "completed"
    },
    "tags": []
   },
   "outputs": [],
   "source": [
    "# pickle.dump(similarity,open('models/jobs-similarity.pkl','wb'), protocol=4)\n",
    "# pickle.dump(new_df.to_dict(),open('models/jobs-list.pkl','wb'), protocol=4) #contains the dataframe in dict\n",
    "# pickle.dump(new_df,open('models/jobs.pkl','wb'), protocol=4)"
   ]
  }
 ],
 "metadata": {
  "kernelspec": {
   "name": "venvccrs-3.7.16",
   "language": "python",
   "display_name": "venvCCRS-3.7.16"
  },
  "language_info": {
   "codemirror_mode": {
    "name": "ipython",
    "version": 3
   },
   "file_extension": ".py",
   "mimetype": "text/x-python",
   "name": "python",
   "nbconvert_exporter": "python",
   "pygments_lexer": "ipython3",
   "version": "3.7.12"
  },
  "papermill": {
   "default_parameters": {},
   "duration": 40.65955,
   "end_time": "2022-01-26T14:20:13.730648",
   "environment_variables": {},
   "exception": null,
   "input_path": "__notebook__.ipynb",
   "output_path": "__notebook__.ipynb",
   "parameters": {},
   "start_time": "2022-01-26T14:19:33.071098",
   "version": "2.3.3"
  }
 },
 "nbformat": 4,
 "nbformat_minor": 5
}
